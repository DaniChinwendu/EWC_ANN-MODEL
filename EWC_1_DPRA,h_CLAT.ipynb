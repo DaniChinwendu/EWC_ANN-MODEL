{
  "cells": [
    {
      "cell_type": "markdown",
      "metadata": {
        "id": "view-in-github",
        "colab_type": "text"
      },
      "source": [
        "<a href=\"https://colab.research.google.com/github/DaniChinwendu/EWC_ANN-MODEL/blob/main/EWC_1_DPRA%2Ch_CLAT.ipynb\" target=\"_parent\"><img src=\"https://colab.research.google.com/assets/colab-badge.svg\" alt=\"Open In Colab\"/></a>"
      ]
    },
    {
      "cell_type": "code",
      "execution_count": 1,
      "metadata": {
        "colab": {
          "base_uri": "https://localhost:8080/",
          "height": 73
        },
        "id": "sSIDMVauToFI",
        "outputId": "24a2d5b6-f5ec-4c39-ab4c-f0d85c9a9a1e"
      },
      "outputs": [
        {
          "output_type": "display_data",
          "data": {
            "text/plain": [
              "<IPython.core.display.HTML object>"
            ],
            "text/html": [
              "\n",
              "     <input type=\"file\" id=\"files-56bbd25b-fe6a-47b9-a046-0f1b18e85d69\" name=\"files[]\" multiple disabled\n",
              "        style=\"border:none\" />\n",
              "     <output id=\"result-56bbd25b-fe6a-47b9-a046-0f1b18e85d69\">\n",
              "      Upload widget is only available when the cell has been executed in the\n",
              "      current browser session. Please rerun this cell to enable.\n",
              "      </output>\n",
              "      <script>// Copyright 2017 Google LLC\n",
              "//\n",
              "// Licensed under the Apache License, Version 2.0 (the \"License\");\n",
              "// you may not use this file except in compliance with the License.\n",
              "// You may obtain a copy of the License at\n",
              "//\n",
              "//      http://www.apache.org/licenses/LICENSE-2.0\n",
              "//\n",
              "// Unless required by applicable law or agreed to in writing, software\n",
              "// distributed under the License is distributed on an \"AS IS\" BASIS,\n",
              "// WITHOUT WARRANTIES OR CONDITIONS OF ANY KIND, either express or implied.\n",
              "// See the License for the specific language governing permissions and\n",
              "// limitations under the License.\n",
              "\n",
              "/**\n",
              " * @fileoverview Helpers for google.colab Python module.\n",
              " */\n",
              "(function(scope) {\n",
              "function span(text, styleAttributes = {}) {\n",
              "  const element = document.createElement('span');\n",
              "  element.textContent = text;\n",
              "  for (const key of Object.keys(styleAttributes)) {\n",
              "    element.style[key] = styleAttributes[key];\n",
              "  }\n",
              "  return element;\n",
              "}\n",
              "\n",
              "// Max number of bytes which will be uploaded at a time.\n",
              "const MAX_PAYLOAD_SIZE = 100 * 1024;\n",
              "\n",
              "function _uploadFiles(inputId, outputId) {\n",
              "  const steps = uploadFilesStep(inputId, outputId);\n",
              "  const outputElement = document.getElementById(outputId);\n",
              "  // Cache steps on the outputElement to make it available for the next call\n",
              "  // to uploadFilesContinue from Python.\n",
              "  outputElement.steps = steps;\n",
              "\n",
              "  return _uploadFilesContinue(outputId);\n",
              "}\n",
              "\n",
              "// This is roughly an async generator (not supported in the browser yet),\n",
              "// where there are multiple asynchronous steps and the Python side is going\n",
              "// to poll for completion of each step.\n",
              "// This uses a Promise to block the python side on completion of each step,\n",
              "// then passes the result of the previous step as the input to the next step.\n",
              "function _uploadFilesContinue(outputId) {\n",
              "  const outputElement = document.getElementById(outputId);\n",
              "  const steps = outputElement.steps;\n",
              "\n",
              "  const next = steps.next(outputElement.lastPromiseValue);\n",
              "  return Promise.resolve(next.value.promise).then((value) => {\n",
              "    // Cache the last promise value to make it available to the next\n",
              "    // step of the generator.\n",
              "    outputElement.lastPromiseValue = value;\n",
              "    return next.value.response;\n",
              "  });\n",
              "}\n",
              "\n",
              "/**\n",
              " * Generator function which is called between each async step of the upload\n",
              " * process.\n",
              " * @param {string} inputId Element ID of the input file picker element.\n",
              " * @param {string} outputId Element ID of the output display.\n",
              " * @return {!Iterable<!Object>} Iterable of next steps.\n",
              " */\n",
              "function* uploadFilesStep(inputId, outputId) {\n",
              "  const inputElement = document.getElementById(inputId);\n",
              "  inputElement.disabled = false;\n",
              "\n",
              "  const outputElement = document.getElementById(outputId);\n",
              "  outputElement.innerHTML = '';\n",
              "\n",
              "  const pickedPromise = new Promise((resolve) => {\n",
              "    inputElement.addEventListener('change', (e) => {\n",
              "      resolve(e.target.files);\n",
              "    });\n",
              "  });\n",
              "\n",
              "  const cancel = document.createElement('button');\n",
              "  inputElement.parentElement.appendChild(cancel);\n",
              "  cancel.textContent = 'Cancel upload';\n",
              "  const cancelPromise = new Promise((resolve) => {\n",
              "    cancel.onclick = () => {\n",
              "      resolve(null);\n",
              "    };\n",
              "  });\n",
              "\n",
              "  // Wait for the user to pick the files.\n",
              "  const files = yield {\n",
              "    promise: Promise.race([pickedPromise, cancelPromise]),\n",
              "    response: {\n",
              "      action: 'starting',\n",
              "    }\n",
              "  };\n",
              "\n",
              "  cancel.remove();\n",
              "\n",
              "  // Disable the input element since further picks are not allowed.\n",
              "  inputElement.disabled = true;\n",
              "\n",
              "  if (!files) {\n",
              "    return {\n",
              "      response: {\n",
              "        action: 'complete',\n",
              "      }\n",
              "    };\n",
              "  }\n",
              "\n",
              "  for (const file of files) {\n",
              "    const li = document.createElement('li');\n",
              "    li.append(span(file.name, {fontWeight: 'bold'}));\n",
              "    li.append(span(\n",
              "        `(${file.type || 'n/a'}) - ${file.size} bytes, ` +\n",
              "        `last modified: ${\n",
              "            file.lastModifiedDate ? file.lastModifiedDate.toLocaleDateString() :\n",
              "                                    'n/a'} - `));\n",
              "    const percent = span('0% done');\n",
              "    li.appendChild(percent);\n",
              "\n",
              "    outputElement.appendChild(li);\n",
              "\n",
              "    const fileDataPromise = new Promise((resolve) => {\n",
              "      const reader = new FileReader();\n",
              "      reader.onload = (e) => {\n",
              "        resolve(e.target.result);\n",
              "      };\n",
              "      reader.readAsArrayBuffer(file);\n",
              "    });\n",
              "    // Wait for the data to be ready.\n",
              "    let fileData = yield {\n",
              "      promise: fileDataPromise,\n",
              "      response: {\n",
              "        action: 'continue',\n",
              "      }\n",
              "    };\n",
              "\n",
              "    // Use a chunked sending to avoid message size limits. See b/62115660.\n",
              "    let position = 0;\n",
              "    do {\n",
              "      const length = Math.min(fileData.byteLength - position, MAX_PAYLOAD_SIZE);\n",
              "      const chunk = new Uint8Array(fileData, position, length);\n",
              "      position += length;\n",
              "\n",
              "      const base64 = btoa(String.fromCharCode.apply(null, chunk));\n",
              "      yield {\n",
              "        response: {\n",
              "          action: 'append',\n",
              "          file: file.name,\n",
              "          data: base64,\n",
              "        },\n",
              "      };\n",
              "\n",
              "      let percentDone = fileData.byteLength === 0 ?\n",
              "          100 :\n",
              "          Math.round((position / fileData.byteLength) * 100);\n",
              "      percent.textContent = `${percentDone}% done`;\n",
              "\n",
              "    } while (position < fileData.byteLength);\n",
              "  }\n",
              "\n",
              "  // All done.\n",
              "  yield {\n",
              "    response: {\n",
              "      action: 'complete',\n",
              "    }\n",
              "  };\n",
              "}\n",
              "\n",
              "scope.google = scope.google || {};\n",
              "scope.google.colab = scope.google.colab || {};\n",
              "scope.google.colab._files = {\n",
              "  _uploadFiles,\n",
              "  _uploadFilesContinue,\n",
              "};\n",
              "})(self);\n",
              "</script> "
            ]
          },
          "metadata": {}
        },
        {
          "output_type": "stream",
          "name": "stdout",
          "text": [
            "Saving Hirota_2015_Updated_Clean_092515 (2).csv to Hirota_2015_Updated_Clean_092515 (2).csv\n"
          ]
        }
      ],
      "source": [
        "import io\n",
        "from google.colab import files\n",
        "uploaded=files.upload()\n",
        "import pandas as pd"
      ]
    },
    {
      "cell_type": "code",
      "execution_count": 2,
      "metadata": {
        "colab": {
          "base_uri": "https://localhost:8080/",
          "height": 371
        },
        "id": "3DTxkiUiUQpM",
        "outputId": "0b962c8b-76ae-48bf-ea41-785cec6254af"
      },
      "outputs": [
        {
          "output_type": "execute_result",
          "data": {
            "text/plain": [
              "                 CASRN                Chemical LLNAthreshold  \\\n",
              "CASRN                                                          \n",
              "886-38-4      886-38-4  Diphenylcyclopropenone         0.003   \n",
              "15646-46-5  15646-46-5               Oxazolone         0.003   \n",
              "1897-45-6    1897-45-6          Chlorothalonil         0.004   \n",
              "mixture        mixture                  MCI/MI         0.005   \n",
              "106-51-4      106-51-4        1,4-Benzoquinone          0.01   \n",
              "\n",
              "            logLLNAthreshold  logMinhCLAT  logDPRA  logImax  logMAC    EC3  \\\n",
              "CASRN                                                                        \n",
              "886-38-4             -2.5229        0.593   1.7118   1.2281   2.666  0.003   \n",
              "15646-46-5           -2.5229        0.433   1.6390   0.2086   1.765  0.003   \n",
              "1897-45-6            -2.3979       -0.678   1.7071   1.2956   1.702  0.004   \n",
              "mixture              -2.3010        0.344   1.7292   0.4691   1.794  0.005   \n",
              "106-51-4             -2.0044        0.350   1.9680   1.7092   1.614   0.01   \n",
              "\n",
              "           LLNA_Threshold GHS_Category hCLAT_Call DPRA_Call ARE_Call SH_Call  \\\n",
              "CASRN                                                                          \n",
              "886-38-4            0.003           1A          P         P        P       P   \n",
              "15646-46-5          0.003           1A          P         P        P       P   \n",
              "1897-45-6           0.004           1A          P         P        P       P   \n",
              "mixture             0.005           1A          P         P        P       P   \n",
              "106-51-4             0.01           1A          P         P        P       P   \n",
              "\n",
              "            Pred_LLNAthreshold Pred_PotencyCategory LLNA_Category  \n",
              "CASRN                                                              \n",
              "886-38-4                  0.35    Extreme or Strong       Extreme  \n",
              "15646-46-5                0.20    Extreme or Strong       Extreme  \n",
              "1897-45-6                 0.02    Extreme or Strong       Extreme  \n",
              "mixture                   0.13    Extreme or Strong       Extreme  \n",
              "106-51-4                  0.13    Extreme or Strong       Extreme  "
            ],
            "text/html": [
              "\n",
              "  <div id=\"df-4943c35b-13ce-4417-b0f7-36c1ad7d9799\">\n",
              "    <div class=\"colab-df-container\">\n",
              "      <div>\n",
              "<style scoped>\n",
              "    .dataframe tbody tr th:only-of-type {\n",
              "        vertical-align: middle;\n",
              "    }\n",
              "\n",
              "    .dataframe tbody tr th {\n",
              "        vertical-align: top;\n",
              "    }\n",
              "\n",
              "    .dataframe thead th {\n",
              "        text-align: right;\n",
              "    }\n",
              "</style>\n",
              "<table border=\"1\" class=\"dataframe\">\n",
              "  <thead>\n",
              "    <tr style=\"text-align: right;\">\n",
              "      <th></th>\n",
              "      <th>CASRN</th>\n",
              "      <th>Chemical</th>\n",
              "      <th>LLNAthreshold</th>\n",
              "      <th>logLLNAthreshold</th>\n",
              "      <th>logMinhCLAT</th>\n",
              "      <th>logDPRA</th>\n",
              "      <th>logImax</th>\n",
              "      <th>logMAC</th>\n",
              "      <th>EC3</th>\n",
              "      <th>LLNA_Threshold</th>\n",
              "      <th>GHS_Category</th>\n",
              "      <th>hCLAT_Call</th>\n",
              "      <th>DPRA_Call</th>\n",
              "      <th>ARE_Call</th>\n",
              "      <th>SH_Call</th>\n",
              "      <th>Pred_LLNAthreshold</th>\n",
              "      <th>Pred_PotencyCategory</th>\n",
              "      <th>LLNA_Category</th>\n",
              "    </tr>\n",
              "    <tr>\n",
              "      <th>CASRN</th>\n",
              "      <th></th>\n",
              "      <th></th>\n",
              "      <th></th>\n",
              "      <th></th>\n",
              "      <th></th>\n",
              "      <th></th>\n",
              "      <th></th>\n",
              "      <th></th>\n",
              "      <th></th>\n",
              "      <th></th>\n",
              "      <th></th>\n",
              "      <th></th>\n",
              "      <th></th>\n",
              "      <th></th>\n",
              "      <th></th>\n",
              "      <th></th>\n",
              "      <th></th>\n",
              "      <th></th>\n",
              "    </tr>\n",
              "  </thead>\n",
              "  <tbody>\n",
              "    <tr>\n",
              "      <th>886-38-4</th>\n",
              "      <td>886-38-4</td>\n",
              "      <td>Diphenylcyclopropenone</td>\n",
              "      <td>0.003</td>\n",
              "      <td>-2.5229</td>\n",
              "      <td>0.593</td>\n",
              "      <td>1.7118</td>\n",
              "      <td>1.2281</td>\n",
              "      <td>2.666</td>\n",
              "      <td>0.003</td>\n",
              "      <td>0.003</td>\n",
              "      <td>1A</td>\n",
              "      <td>P</td>\n",
              "      <td>P</td>\n",
              "      <td>P</td>\n",
              "      <td>P</td>\n",
              "      <td>0.35</td>\n",
              "      <td>Extreme or Strong</td>\n",
              "      <td>Extreme</td>\n",
              "    </tr>\n",
              "    <tr>\n",
              "      <th>15646-46-5</th>\n",
              "      <td>15646-46-5</td>\n",
              "      <td>Oxazolone</td>\n",
              "      <td>0.003</td>\n",
              "      <td>-2.5229</td>\n",
              "      <td>0.433</td>\n",
              "      <td>1.6390</td>\n",
              "      <td>0.2086</td>\n",
              "      <td>1.765</td>\n",
              "      <td>0.003</td>\n",
              "      <td>0.003</td>\n",
              "      <td>1A</td>\n",
              "      <td>P</td>\n",
              "      <td>P</td>\n",
              "      <td>P</td>\n",
              "      <td>P</td>\n",
              "      <td>0.20</td>\n",
              "      <td>Extreme or Strong</td>\n",
              "      <td>Extreme</td>\n",
              "    </tr>\n",
              "    <tr>\n",
              "      <th>1897-45-6</th>\n",
              "      <td>1897-45-6</td>\n",
              "      <td>Chlorothalonil</td>\n",
              "      <td>0.004</td>\n",
              "      <td>-2.3979</td>\n",
              "      <td>-0.678</td>\n",
              "      <td>1.7071</td>\n",
              "      <td>1.2956</td>\n",
              "      <td>1.702</td>\n",
              "      <td>0.004</td>\n",
              "      <td>0.004</td>\n",
              "      <td>1A</td>\n",
              "      <td>P</td>\n",
              "      <td>P</td>\n",
              "      <td>P</td>\n",
              "      <td>P</td>\n",
              "      <td>0.02</td>\n",
              "      <td>Extreme or Strong</td>\n",
              "      <td>Extreme</td>\n",
              "    </tr>\n",
              "    <tr>\n",
              "      <th>mixture</th>\n",
              "      <td>mixture</td>\n",
              "      <td>MCI/MI</td>\n",
              "      <td>0.005</td>\n",
              "      <td>-2.3010</td>\n",
              "      <td>0.344</td>\n",
              "      <td>1.7292</td>\n",
              "      <td>0.4691</td>\n",
              "      <td>1.794</td>\n",
              "      <td>0.005</td>\n",
              "      <td>0.005</td>\n",
              "      <td>1A</td>\n",
              "      <td>P</td>\n",
              "      <td>P</td>\n",
              "      <td>P</td>\n",
              "      <td>P</td>\n",
              "      <td>0.13</td>\n",
              "      <td>Extreme or Strong</td>\n",
              "      <td>Extreme</td>\n",
              "    </tr>\n",
              "    <tr>\n",
              "      <th>106-51-4</th>\n",
              "      <td>106-51-4</td>\n",
              "      <td>1,4-Benzoquinone</td>\n",
              "      <td>0.01</td>\n",
              "      <td>-2.0044</td>\n",
              "      <td>0.350</td>\n",
              "      <td>1.9680</td>\n",
              "      <td>1.7092</td>\n",
              "      <td>1.614</td>\n",
              "      <td>0.01</td>\n",
              "      <td>0.01</td>\n",
              "      <td>1A</td>\n",
              "      <td>P</td>\n",
              "      <td>P</td>\n",
              "      <td>P</td>\n",
              "      <td>P</td>\n",
              "      <td>0.13</td>\n",
              "      <td>Extreme or Strong</td>\n",
              "      <td>Extreme</td>\n",
              "    </tr>\n",
              "  </tbody>\n",
              "</table>\n",
              "</div>\n",
              "      <button class=\"colab-df-convert\" onclick=\"convertToInteractive('df-4943c35b-13ce-4417-b0f7-36c1ad7d9799')\"\n",
              "              title=\"Convert this dataframe to an interactive table.\"\n",
              "              style=\"display:none;\">\n",
              "        \n",
              "  <svg xmlns=\"http://www.w3.org/2000/svg\" height=\"24px\"viewBox=\"0 0 24 24\"\n",
              "       width=\"24px\">\n",
              "    <path d=\"M0 0h24v24H0V0z\" fill=\"none\"/>\n",
              "    <path d=\"M18.56 5.44l.94 2.06.94-2.06 2.06-.94-2.06-.94-.94-2.06-.94 2.06-2.06.94zm-11 1L8.5 8.5l.94-2.06 2.06-.94-2.06-.94L8.5 2.5l-.94 2.06-2.06.94zm10 10l.94 2.06.94-2.06 2.06-.94-2.06-.94-.94-2.06-.94 2.06-2.06.94z\"/><path d=\"M17.41 7.96l-1.37-1.37c-.4-.4-.92-.59-1.43-.59-.52 0-1.04.2-1.43.59L10.3 9.45l-7.72 7.72c-.78.78-.78 2.05 0 2.83L4 21.41c.39.39.9.59 1.41.59.51 0 1.02-.2 1.41-.59l7.78-7.78 2.81-2.81c.8-.78.8-2.07 0-2.86zM5.41 20L4 18.59l7.72-7.72 1.47 1.35L5.41 20z\"/>\n",
              "  </svg>\n",
              "      </button>\n",
              "      \n",
              "  <style>\n",
              "    .colab-df-container {\n",
              "      display:flex;\n",
              "      flex-wrap:wrap;\n",
              "      gap: 12px;\n",
              "    }\n",
              "\n",
              "    .colab-df-convert {\n",
              "      background-color: #E8F0FE;\n",
              "      border: none;\n",
              "      border-radius: 50%;\n",
              "      cursor: pointer;\n",
              "      display: none;\n",
              "      fill: #1967D2;\n",
              "      height: 32px;\n",
              "      padding: 0 0 0 0;\n",
              "      width: 32px;\n",
              "    }\n",
              "\n",
              "    .colab-df-convert:hover {\n",
              "      background-color: #E2EBFA;\n",
              "      box-shadow: 0px 1px 2px rgba(60, 64, 67, 0.3), 0px 1px 3px 1px rgba(60, 64, 67, 0.15);\n",
              "      fill: #174EA6;\n",
              "    }\n",
              "\n",
              "    [theme=dark] .colab-df-convert {\n",
              "      background-color: #3B4455;\n",
              "      fill: #D2E3FC;\n",
              "    }\n",
              "\n",
              "    [theme=dark] .colab-df-convert:hover {\n",
              "      background-color: #434B5C;\n",
              "      box-shadow: 0px 1px 3px 1px rgba(0, 0, 0, 0.15);\n",
              "      filter: drop-shadow(0px 1px 2px rgba(0, 0, 0, 0.3));\n",
              "      fill: #FFFFFF;\n",
              "    }\n",
              "  </style>\n",
              "\n",
              "      <script>\n",
              "        const buttonEl =\n",
              "          document.querySelector('#df-4943c35b-13ce-4417-b0f7-36c1ad7d9799 button.colab-df-convert');\n",
              "        buttonEl.style.display =\n",
              "          google.colab.kernel.accessAllowed ? 'block' : 'none';\n",
              "\n",
              "        async function convertToInteractive(key) {\n",
              "          const element = document.querySelector('#df-4943c35b-13ce-4417-b0f7-36c1ad7d9799');\n",
              "          const dataTable =\n",
              "            await google.colab.kernel.invokeFunction('convertToInteractive',\n",
              "                                                     [key], {});\n",
              "          if (!dataTable) return;\n",
              "\n",
              "          const docLinkHtml = 'Like what you see? Visit the ' +\n",
              "            '<a target=\"_blank\" href=https://colab.research.google.com/notebooks/data_table.ipynb>data table notebook</a>'\n",
              "            + ' to learn more about interactive tables.';\n",
              "          element.innerHTML = '';\n",
              "          dataTable['output_type'] = 'display_data';\n",
              "          await google.colab.output.renderOutput(dataTable, element);\n",
              "          const docLink = document.createElement('div');\n",
              "          docLink.innerHTML = docLinkHtml;\n",
              "          element.appendChild(docLink);\n",
              "        }\n",
              "      </script>\n",
              "    </div>\n",
              "  </div>\n",
              "  "
            ]
          },
          "metadata": {},
          "execution_count": 2
        }
      ],
      "source": [
        "df=pd.read_csv(io.BytesIO(uploaded['Hirota_2015_Updated_Clean_092515 (2).csv']))\n",
        "df[\"CASRN\"] = df[\"CASRN\"].astype(str)\n",
        "df.index = df[\"CASRN\"]\n",
        "df.head()"
      ]
    },
    {
      "cell_type": "code",
      "execution_count": 3,
      "metadata": {
        "id": "3HoHV3BJYVrk"
      },
      "outputs": [],
      "source": [
        "from numpy import mean\n",
        "from numpy import absolute\n",
        "from numpy import sqrt\n",
        "from matplotlib import pyplot as plt\n",
        "import seaborn as sns\n",
        "import numpy as np\n",
        "\n",
        "import re\n",
        "import sklearn\n",
        "from sklearn import metrics\n",
        "from sklearn.neural_network import MLPRegressor\n",
        "from sklearn.model_selection import train_test_split\n",
        "from sklearn.preprocessing import StandardScaler\n",
        "from sklearn.preprocessing import MinMaxScaler\n",
        "from sklearn.metrics import r2_score,mean_squared_error\n",
        "from sklearn.model_selection import cross_validate\n",
        "from sklearn.model_selection import LeaveOneOut\n",
        "from sklearn.model_selection import KFold,RepeatedKFold\n",
        "from sklearn.model_selection import cross_val_score, cross_val_predict,validation_curve\n",
        "from sklearn.feature_selection import RFE\n",
        "from sklearn.model_selection import GridSearchCV\n",
        "from yellowbrick.features import Rank1D\n",
        "from sklearn.preprocessing import PolynomialFeatures\n",
        "from sklearn.pipeline import Pipeline\n",
        "import warnings # supress warnings\n",
        "warnings.filterwarnings('ignore')\n",
        "\n"
      ]
    },
    {
      "cell_type": "code",
      "execution_count": 4,
      "metadata": {
        "colab": {
          "base_uri": "https://localhost:8080/",
          "height": 371
        },
        "id": "7puOB1NzQD-e",
        "outputId": "983bf2eb-cc4c-4c66-985d-dffe749eb4ee"
      },
      "outputs": [
        {
          "output_type": "execute_result",
          "data": {
            "text/plain": [
              "                 CASRN                Chemical LLNAthreshold  \\\n",
              "CASRN                                                          \n",
              "886-38-4      886-38-4  Diphenylcyclopropenone         0.003   \n",
              "15646-46-5  15646-46-5               Oxazolone         0.003   \n",
              "1897-45-6    1897-45-6          Chlorothalonil         0.004   \n",
              "mixture        mixture                  MCI/MI         0.005   \n",
              "106-51-4      106-51-4        1,4-Benzoquinone          0.01   \n",
              "\n",
              "            logLLNAthreshold  logMinhCLAT  logDPRA  logImax  logMAC    EC3  \\\n",
              "CASRN                                                                        \n",
              "886-38-4             -2.5229        0.593   1.7118   1.2281   2.666  0.003   \n",
              "15646-46-5           -2.5229        0.433   1.6390   0.2086   1.765  0.003   \n",
              "1897-45-6            -2.3979       -0.678   1.7071   1.2956   1.702  0.004   \n",
              "mixture              -2.3010        0.344   1.7292   0.4691   1.794  0.005   \n",
              "106-51-4             -2.0044        0.350   1.9680   1.7092   1.614   0.01   \n",
              "\n",
              "           LLNA_Threshold GHS_Category hCLAT_Call DPRA_Call ARE_Call SH_Call  \\\n",
              "CASRN                                                                          \n",
              "886-38-4            0.003           1A          P         P        P       P   \n",
              "15646-46-5          0.003           1A          P         P        P       P   \n",
              "1897-45-6           0.004           1A          P         P        P       P   \n",
              "mixture             0.005           1A          P         P        P       P   \n",
              "106-51-4             0.01           1A          P         P        P       P   \n",
              "\n",
              "            Pred_LLNAthreshold Pred_PotencyCategory LLNA_Category  \n",
              "CASRN                                                              \n",
              "886-38-4                  0.35    Extreme or Strong       Extreme  \n",
              "15646-46-5                0.20    Extreme or Strong       Extreme  \n",
              "1897-45-6                 0.02    Extreme or Strong       Extreme  \n",
              "mixture                   0.13    Extreme or Strong       Extreme  \n",
              "106-51-4                  0.13    Extreme or Strong       Extreme  "
            ],
            "text/html": [
              "\n",
              "  <div id=\"df-07d0b04b-7371-42b8-8b24-aa7def162f1a\">\n",
              "    <div class=\"colab-df-container\">\n",
              "      <div>\n",
              "<style scoped>\n",
              "    .dataframe tbody tr th:only-of-type {\n",
              "        vertical-align: middle;\n",
              "    }\n",
              "\n",
              "    .dataframe tbody tr th {\n",
              "        vertical-align: top;\n",
              "    }\n",
              "\n",
              "    .dataframe thead th {\n",
              "        text-align: right;\n",
              "    }\n",
              "</style>\n",
              "<table border=\"1\" class=\"dataframe\">\n",
              "  <thead>\n",
              "    <tr style=\"text-align: right;\">\n",
              "      <th></th>\n",
              "      <th>CASRN</th>\n",
              "      <th>Chemical</th>\n",
              "      <th>LLNAthreshold</th>\n",
              "      <th>logLLNAthreshold</th>\n",
              "      <th>logMinhCLAT</th>\n",
              "      <th>logDPRA</th>\n",
              "      <th>logImax</th>\n",
              "      <th>logMAC</th>\n",
              "      <th>EC3</th>\n",
              "      <th>LLNA_Threshold</th>\n",
              "      <th>GHS_Category</th>\n",
              "      <th>hCLAT_Call</th>\n",
              "      <th>DPRA_Call</th>\n",
              "      <th>ARE_Call</th>\n",
              "      <th>SH_Call</th>\n",
              "      <th>Pred_LLNAthreshold</th>\n",
              "      <th>Pred_PotencyCategory</th>\n",
              "      <th>LLNA_Category</th>\n",
              "    </tr>\n",
              "    <tr>\n",
              "      <th>CASRN</th>\n",
              "      <th></th>\n",
              "      <th></th>\n",
              "      <th></th>\n",
              "      <th></th>\n",
              "      <th></th>\n",
              "      <th></th>\n",
              "      <th></th>\n",
              "      <th></th>\n",
              "      <th></th>\n",
              "      <th></th>\n",
              "      <th></th>\n",
              "      <th></th>\n",
              "      <th></th>\n",
              "      <th></th>\n",
              "      <th></th>\n",
              "      <th></th>\n",
              "      <th></th>\n",
              "      <th></th>\n",
              "    </tr>\n",
              "  </thead>\n",
              "  <tbody>\n",
              "    <tr>\n",
              "      <th>886-38-4</th>\n",
              "      <td>886-38-4</td>\n",
              "      <td>Diphenylcyclopropenone</td>\n",
              "      <td>0.003</td>\n",
              "      <td>-2.5229</td>\n",
              "      <td>0.593</td>\n",
              "      <td>1.7118</td>\n",
              "      <td>1.2281</td>\n",
              "      <td>2.666</td>\n",
              "      <td>0.003</td>\n",
              "      <td>0.003</td>\n",
              "      <td>1A</td>\n",
              "      <td>P</td>\n",
              "      <td>P</td>\n",
              "      <td>P</td>\n",
              "      <td>P</td>\n",
              "      <td>0.35</td>\n",
              "      <td>Extreme or Strong</td>\n",
              "      <td>Extreme</td>\n",
              "    </tr>\n",
              "    <tr>\n",
              "      <th>15646-46-5</th>\n",
              "      <td>15646-46-5</td>\n",
              "      <td>Oxazolone</td>\n",
              "      <td>0.003</td>\n",
              "      <td>-2.5229</td>\n",
              "      <td>0.433</td>\n",
              "      <td>1.6390</td>\n",
              "      <td>0.2086</td>\n",
              "      <td>1.765</td>\n",
              "      <td>0.003</td>\n",
              "      <td>0.003</td>\n",
              "      <td>1A</td>\n",
              "      <td>P</td>\n",
              "      <td>P</td>\n",
              "      <td>P</td>\n",
              "      <td>P</td>\n",
              "      <td>0.20</td>\n",
              "      <td>Extreme or Strong</td>\n",
              "      <td>Extreme</td>\n",
              "    </tr>\n",
              "    <tr>\n",
              "      <th>1897-45-6</th>\n",
              "      <td>1897-45-6</td>\n",
              "      <td>Chlorothalonil</td>\n",
              "      <td>0.004</td>\n",
              "      <td>-2.3979</td>\n",
              "      <td>-0.678</td>\n",
              "      <td>1.7071</td>\n",
              "      <td>1.2956</td>\n",
              "      <td>1.702</td>\n",
              "      <td>0.004</td>\n",
              "      <td>0.004</td>\n",
              "      <td>1A</td>\n",
              "      <td>P</td>\n",
              "      <td>P</td>\n",
              "      <td>P</td>\n",
              "      <td>P</td>\n",
              "      <td>0.02</td>\n",
              "      <td>Extreme or Strong</td>\n",
              "      <td>Extreme</td>\n",
              "    </tr>\n",
              "    <tr>\n",
              "      <th>mixture</th>\n",
              "      <td>mixture</td>\n",
              "      <td>MCI/MI</td>\n",
              "      <td>0.005</td>\n",
              "      <td>-2.3010</td>\n",
              "      <td>0.344</td>\n",
              "      <td>1.7292</td>\n",
              "      <td>0.4691</td>\n",
              "      <td>1.794</td>\n",
              "      <td>0.005</td>\n",
              "      <td>0.005</td>\n",
              "      <td>1A</td>\n",
              "      <td>P</td>\n",
              "      <td>P</td>\n",
              "      <td>P</td>\n",
              "      <td>P</td>\n",
              "      <td>0.13</td>\n",
              "      <td>Extreme or Strong</td>\n",
              "      <td>Extreme</td>\n",
              "    </tr>\n",
              "    <tr>\n",
              "      <th>106-51-4</th>\n",
              "      <td>106-51-4</td>\n",
              "      <td>1,4-Benzoquinone</td>\n",
              "      <td>0.01</td>\n",
              "      <td>-2.0044</td>\n",
              "      <td>0.350</td>\n",
              "      <td>1.9680</td>\n",
              "      <td>1.7092</td>\n",
              "      <td>1.614</td>\n",
              "      <td>0.01</td>\n",
              "      <td>0.01</td>\n",
              "      <td>1A</td>\n",
              "      <td>P</td>\n",
              "      <td>P</td>\n",
              "      <td>P</td>\n",
              "      <td>P</td>\n",
              "      <td>0.13</td>\n",
              "      <td>Extreme or Strong</td>\n",
              "      <td>Extreme</td>\n",
              "    </tr>\n",
              "  </tbody>\n",
              "</table>\n",
              "</div>\n",
              "      <button class=\"colab-df-convert\" onclick=\"convertToInteractive('df-07d0b04b-7371-42b8-8b24-aa7def162f1a')\"\n",
              "              title=\"Convert this dataframe to an interactive table.\"\n",
              "              style=\"display:none;\">\n",
              "        \n",
              "  <svg xmlns=\"http://www.w3.org/2000/svg\" height=\"24px\"viewBox=\"0 0 24 24\"\n",
              "       width=\"24px\">\n",
              "    <path d=\"M0 0h24v24H0V0z\" fill=\"none\"/>\n",
              "    <path d=\"M18.56 5.44l.94 2.06.94-2.06 2.06-.94-2.06-.94-.94-2.06-.94 2.06-2.06.94zm-11 1L8.5 8.5l.94-2.06 2.06-.94-2.06-.94L8.5 2.5l-.94 2.06-2.06.94zm10 10l.94 2.06.94-2.06 2.06-.94-2.06-.94-.94-2.06-.94 2.06-2.06.94z\"/><path d=\"M17.41 7.96l-1.37-1.37c-.4-.4-.92-.59-1.43-.59-.52 0-1.04.2-1.43.59L10.3 9.45l-7.72 7.72c-.78.78-.78 2.05 0 2.83L4 21.41c.39.39.9.59 1.41.59.51 0 1.02-.2 1.41-.59l7.78-7.78 2.81-2.81c.8-.78.8-2.07 0-2.86zM5.41 20L4 18.59l7.72-7.72 1.47 1.35L5.41 20z\"/>\n",
              "  </svg>\n",
              "      </button>\n",
              "      \n",
              "  <style>\n",
              "    .colab-df-container {\n",
              "      display:flex;\n",
              "      flex-wrap:wrap;\n",
              "      gap: 12px;\n",
              "    }\n",
              "\n",
              "    .colab-df-convert {\n",
              "      background-color: #E8F0FE;\n",
              "      border: none;\n",
              "      border-radius: 50%;\n",
              "      cursor: pointer;\n",
              "      display: none;\n",
              "      fill: #1967D2;\n",
              "      height: 32px;\n",
              "      padding: 0 0 0 0;\n",
              "      width: 32px;\n",
              "    }\n",
              "\n",
              "    .colab-df-convert:hover {\n",
              "      background-color: #E2EBFA;\n",
              "      box-shadow: 0px 1px 2px rgba(60, 64, 67, 0.3), 0px 1px 3px 1px rgba(60, 64, 67, 0.15);\n",
              "      fill: #174EA6;\n",
              "    }\n",
              "\n",
              "    [theme=dark] .colab-df-convert {\n",
              "      background-color: #3B4455;\n",
              "      fill: #D2E3FC;\n",
              "    }\n",
              "\n",
              "    [theme=dark] .colab-df-convert:hover {\n",
              "      background-color: #434B5C;\n",
              "      box-shadow: 0px 1px 3px 1px rgba(0, 0, 0, 0.15);\n",
              "      filter: drop-shadow(0px 1px 2px rgba(0, 0, 0, 0.3));\n",
              "      fill: #FFFFFF;\n",
              "    }\n",
              "  </style>\n",
              "\n",
              "      <script>\n",
              "        const buttonEl =\n",
              "          document.querySelector('#df-07d0b04b-7371-42b8-8b24-aa7def162f1a button.colab-df-convert');\n",
              "        buttonEl.style.display =\n",
              "          google.colab.kernel.accessAllowed ? 'block' : 'none';\n",
              "\n",
              "        async function convertToInteractive(key) {\n",
              "          const element = document.querySelector('#df-07d0b04b-7371-42b8-8b24-aa7def162f1a');\n",
              "          const dataTable =\n",
              "            await google.colab.kernel.invokeFunction('convertToInteractive',\n",
              "                                                     [key], {});\n",
              "          if (!dataTable) return;\n",
              "\n",
              "          const docLinkHtml = 'Like what you see? Visit the ' +\n",
              "            '<a target=\"_blank\" href=https://colab.research.google.com/notebooks/data_table.ipynb>data table notebook</a>'\n",
              "            + ' to learn more about interactive tables.';\n",
              "          element.innerHTML = '';\n",
              "          dataTable['output_type'] = 'display_data';\n",
              "          await google.colab.output.renderOutput(dataTable, element);\n",
              "          const docLink = document.createElement('div');\n",
              "          docLink.innerHTML = docLinkHtml;\n",
              "          element.appendChild(docLink);\n",
              "        }\n",
              "      </script>\n",
              "    </div>\n",
              "  </div>\n",
              "  "
            ]
          },
          "metadata": {},
          "execution_count": 4
        }
      ],
      "source": [
        "df1=df.dropna(subset=[ 'logDPRA','logMinhCLAT'])\n",
        "df1.head()\n"
      ]
    },
    {
      "cell_type": "code",
      "execution_count": 5,
      "metadata": {
        "colab": {
          "base_uri": "https://localhost:8080/",
          "height": 423
        },
        "id": "XfaPMqgRFc4x",
        "outputId": "d8be2042-52c7-462d-9722-06dfe2f8cd83"
      },
      "outputs": [
        {
          "output_type": "execute_result",
          "data": {
            "text/plain": [
              "          CASRN  logLLNAthreshold  logDPRA  logMinhCLAT\n",
              "0      886-38-4           -2.5229   1.7118       0.5930\n",
              "1    15646-46-5           -2.5229   1.6390       0.4330\n",
              "2     1897-45-6           -2.3979   1.7071      -0.6780\n",
              "3       mixture           -2.3010   1.7292       0.3440\n",
              "4      106-51-4           -2.0044   1.9680       0.3500\n",
              "..          ...               ...      ...          ...\n",
              "134   3810-74-0            1.6990  -2.0000       3.0000\n",
              "135     63-74-1            1.6990  -0.1549       3.0000\n",
              "136    121-57-3            1.3979   0.4624       3.6990\n",
              "137    121-33-5            1.6990   1.5099       2.8129\n",
              "138    151-21-3            1.1461   1.8319       1.7782\n",
              "\n",
              "[139 rows x 4 columns]"
            ],
            "text/html": [
              "\n",
              "  <div id=\"df-0b7490d0-5681-480b-ba6b-6098f9d9421c\">\n",
              "    <div class=\"colab-df-container\">\n",
              "      <div>\n",
              "<style scoped>\n",
              "    .dataframe tbody tr th:only-of-type {\n",
              "        vertical-align: middle;\n",
              "    }\n",
              "\n",
              "    .dataframe tbody tr th {\n",
              "        vertical-align: top;\n",
              "    }\n",
              "\n",
              "    .dataframe thead th {\n",
              "        text-align: right;\n",
              "    }\n",
              "</style>\n",
              "<table border=\"1\" class=\"dataframe\">\n",
              "  <thead>\n",
              "    <tr style=\"text-align: right;\">\n",
              "      <th></th>\n",
              "      <th>CASRN</th>\n",
              "      <th>logLLNAthreshold</th>\n",
              "      <th>logDPRA</th>\n",
              "      <th>logMinhCLAT</th>\n",
              "    </tr>\n",
              "  </thead>\n",
              "  <tbody>\n",
              "    <tr>\n",
              "      <th>0</th>\n",
              "      <td>886-38-4</td>\n",
              "      <td>-2.5229</td>\n",
              "      <td>1.7118</td>\n",
              "      <td>0.5930</td>\n",
              "    </tr>\n",
              "    <tr>\n",
              "      <th>1</th>\n",
              "      <td>15646-46-5</td>\n",
              "      <td>-2.5229</td>\n",
              "      <td>1.6390</td>\n",
              "      <td>0.4330</td>\n",
              "    </tr>\n",
              "    <tr>\n",
              "      <th>2</th>\n",
              "      <td>1897-45-6</td>\n",
              "      <td>-2.3979</td>\n",
              "      <td>1.7071</td>\n",
              "      <td>-0.6780</td>\n",
              "    </tr>\n",
              "    <tr>\n",
              "      <th>3</th>\n",
              "      <td>mixture</td>\n",
              "      <td>-2.3010</td>\n",
              "      <td>1.7292</td>\n",
              "      <td>0.3440</td>\n",
              "    </tr>\n",
              "    <tr>\n",
              "      <th>4</th>\n",
              "      <td>106-51-4</td>\n",
              "      <td>-2.0044</td>\n",
              "      <td>1.9680</td>\n",
              "      <td>0.3500</td>\n",
              "    </tr>\n",
              "    <tr>\n",
              "      <th>...</th>\n",
              "      <td>...</td>\n",
              "      <td>...</td>\n",
              "      <td>...</td>\n",
              "      <td>...</td>\n",
              "    </tr>\n",
              "    <tr>\n",
              "      <th>134</th>\n",
              "      <td>3810-74-0</td>\n",
              "      <td>1.6990</td>\n",
              "      <td>-2.0000</td>\n",
              "      <td>3.0000</td>\n",
              "    </tr>\n",
              "    <tr>\n",
              "      <th>135</th>\n",
              "      <td>63-74-1</td>\n",
              "      <td>1.6990</td>\n",
              "      <td>-0.1549</td>\n",
              "      <td>3.0000</td>\n",
              "    </tr>\n",
              "    <tr>\n",
              "      <th>136</th>\n",
              "      <td>121-57-3</td>\n",
              "      <td>1.3979</td>\n",
              "      <td>0.4624</td>\n",
              "      <td>3.6990</td>\n",
              "    </tr>\n",
              "    <tr>\n",
              "      <th>137</th>\n",
              "      <td>121-33-5</td>\n",
              "      <td>1.6990</td>\n",
              "      <td>1.5099</td>\n",
              "      <td>2.8129</td>\n",
              "    </tr>\n",
              "    <tr>\n",
              "      <th>138</th>\n",
              "      <td>151-21-3</td>\n",
              "      <td>1.1461</td>\n",
              "      <td>1.8319</td>\n",
              "      <td>1.7782</td>\n",
              "    </tr>\n",
              "  </tbody>\n",
              "</table>\n",
              "<p>139 rows × 4 columns</p>\n",
              "</div>\n",
              "      <button class=\"colab-df-convert\" onclick=\"convertToInteractive('df-0b7490d0-5681-480b-ba6b-6098f9d9421c')\"\n",
              "              title=\"Convert this dataframe to an interactive table.\"\n",
              "              style=\"display:none;\">\n",
              "        \n",
              "  <svg xmlns=\"http://www.w3.org/2000/svg\" height=\"24px\"viewBox=\"0 0 24 24\"\n",
              "       width=\"24px\">\n",
              "    <path d=\"M0 0h24v24H0V0z\" fill=\"none\"/>\n",
              "    <path d=\"M18.56 5.44l.94 2.06.94-2.06 2.06-.94-2.06-.94-.94-2.06-.94 2.06-2.06.94zm-11 1L8.5 8.5l.94-2.06 2.06-.94-2.06-.94L8.5 2.5l-.94 2.06-2.06.94zm10 10l.94 2.06.94-2.06 2.06-.94-2.06-.94-.94-2.06-.94 2.06-2.06.94z\"/><path d=\"M17.41 7.96l-1.37-1.37c-.4-.4-.92-.59-1.43-.59-.52 0-1.04.2-1.43.59L10.3 9.45l-7.72 7.72c-.78.78-.78 2.05 0 2.83L4 21.41c.39.39.9.59 1.41.59.51 0 1.02-.2 1.41-.59l7.78-7.78 2.81-2.81c.8-.78.8-2.07 0-2.86zM5.41 20L4 18.59l7.72-7.72 1.47 1.35L5.41 20z\"/>\n",
              "  </svg>\n",
              "      </button>\n",
              "      \n",
              "  <style>\n",
              "    .colab-df-container {\n",
              "      display:flex;\n",
              "      flex-wrap:wrap;\n",
              "      gap: 12px;\n",
              "    }\n",
              "\n",
              "    .colab-df-convert {\n",
              "      background-color: #E8F0FE;\n",
              "      border: none;\n",
              "      border-radius: 50%;\n",
              "      cursor: pointer;\n",
              "      display: none;\n",
              "      fill: #1967D2;\n",
              "      height: 32px;\n",
              "      padding: 0 0 0 0;\n",
              "      width: 32px;\n",
              "    }\n",
              "\n",
              "    .colab-df-convert:hover {\n",
              "      background-color: #E2EBFA;\n",
              "      box-shadow: 0px 1px 2px rgba(60, 64, 67, 0.3), 0px 1px 3px 1px rgba(60, 64, 67, 0.15);\n",
              "      fill: #174EA6;\n",
              "    }\n",
              "\n",
              "    [theme=dark] .colab-df-convert {\n",
              "      background-color: #3B4455;\n",
              "      fill: #D2E3FC;\n",
              "    }\n",
              "\n",
              "    [theme=dark] .colab-df-convert:hover {\n",
              "      background-color: #434B5C;\n",
              "      box-shadow: 0px 1px 3px 1px rgba(0, 0, 0, 0.15);\n",
              "      filter: drop-shadow(0px 1px 2px rgba(0, 0, 0, 0.3));\n",
              "      fill: #FFFFFF;\n",
              "    }\n",
              "  </style>\n",
              "\n",
              "      <script>\n",
              "        const buttonEl =\n",
              "          document.querySelector('#df-0b7490d0-5681-480b-ba6b-6098f9d9421c button.colab-df-convert');\n",
              "        buttonEl.style.display =\n",
              "          google.colab.kernel.accessAllowed ? 'block' : 'none';\n",
              "\n",
              "        async function convertToInteractive(key) {\n",
              "          const element = document.querySelector('#df-0b7490d0-5681-480b-ba6b-6098f9d9421c');\n",
              "          const dataTable =\n",
              "            await google.colab.kernel.invokeFunction('convertToInteractive',\n",
              "                                                     [key], {});\n",
              "          if (!dataTable) return;\n",
              "\n",
              "          const docLinkHtml = 'Like what you see? Visit the ' +\n",
              "            '<a target=\"_blank\" href=https://colab.research.google.com/notebooks/data_table.ipynb>data table notebook</a>'\n",
              "            + ' to learn more about interactive tables.';\n",
              "          element.innerHTML = '';\n",
              "          dataTable['output_type'] = 'display_data';\n",
              "          await google.colab.output.renderOutput(dataTable, element);\n",
              "          const docLink = document.createElement('div');\n",
              "          docLink.innerHTML = docLinkHtml;\n",
              "          element.appendChild(docLink);\n",
              "        }\n",
              "      </script>\n",
              "    </div>\n",
              "  </div>\n",
              "  "
            ]
          },
          "metadata": {},
          "execution_count": 5
        }
      ],
      "source": [
        "train_data=df1[['logLLNAthreshold', 'logDPRA','logMinhCLAT']]\n",
        "train_data=train_data.reset_index()\n",
        "train_data"
      ]
    },
    {
      "cell_type": "code",
      "execution_count": null,
      "metadata": {
        "colab": {
          "base_uri": "https://localhost:8080/",
          "height": 364
        },
        "id": "csu6nLHDAX_P",
        "outputId": "7fe8e057-14fa-4560-ca42-7406ee864199"
      },
      "outputs": [
        {
          "data": {
            "text/plain": [
              "<matplotlib.collections.PathCollection at 0x7f1085677a30>"
            ]
          },
          "execution_count": 6,
          "metadata": {},
          "output_type": "execute_result"
        },
        {
          "data": {
            "image/png": "[encoded data removed]",
            "text/plain": [
              "<Figure size 576x396 with 1 Axes>"
            ]
          },
          "metadata": {},
          "output_type": "display_data"
        }
      ],
      "source": [
        "plt.scatter(train_data['logDPRA'], train_data['logMinhCLAT'])"
      ]
    },
    {
      "cell_type": "code",
      "execution_count": null,
      "metadata": {
        "id": "Vfr75KkFd-0e"
      },
      "outputs": [],
      "source": [
        "train_data.to_csv('MAIN HIROTA FILE3.csv',index=True)"
      ]
    },
    {
      "cell_type": "code",
      "execution_count": 6,
      "metadata": {
        "colab": {
          "base_uri": "https://localhost:8080/",
          "height": 73
        },
        "id": "qrRHYdAj4LHR",
        "outputId": "7b8be289-c081-4732-9109-19caa8dae1a2"
      },
      "outputs": [
        {
          "output_type": "display_data",
          "data": {
            "text/plain": [
              "<IPython.core.display.HTML object>"
            ],
            "text/html": [
              "\n",
              "     <input type=\"file\" id=\"files-55bfa0ed-ee1b-4e63-96e6-bf86a3b611ac\" name=\"files[]\" multiple disabled\n",
              "        style=\"border:none\" />\n",
              "     <output id=\"result-55bfa0ed-ee1b-4e63-96e6-bf86a3b611ac\">\n",
              "      Upload widget is only available when the cell has been executed in the\n",
              "      current browser session. Please rerun this cell to enable.\n",
              "      </output>\n",
              "      <script>// Copyright 2017 Google LLC\n",
              "//\n",
              "// Licensed under the Apache License, Version 2.0 (the \"License\");\n",
              "// you may not use this file except in compliance with the License.\n",
              "// You may obtain a copy of the License at\n",
              "//\n",
              "//      http://www.apache.org/licenses/LICENSE-2.0\n",
              "//\n",
              "// Unless required by applicable law or agreed to in writing, software\n",
              "// distributed under the License is distributed on an \"AS IS\" BASIS,\n",
              "// WITHOUT WARRANTIES OR CONDITIONS OF ANY KIND, either express or implied.\n",
              "// See the License for the specific language governing permissions and\n",
              "// limitations under the License.\n",
              "\n",
              "/**\n",
              " * @fileoverview Helpers for google.colab Python module.\n",
              " */\n",
              "(function(scope) {\n",
              "function span(text, styleAttributes = {}) {\n",
              "  const element = document.createElement('span');\n",
              "  element.textContent = text;\n",
              "  for (const key of Object.keys(styleAttributes)) {\n",
              "    element.style[key] = styleAttributes[key];\n",
              "  }\n",
              "  return element;\n",
              "}\n",
              "\n",
              "// Max number of bytes which will be uploaded at a time.\n",
              "const MAX_PAYLOAD_SIZE = 100 * 1024;\n",
              "\n",
              "function _uploadFiles(inputId, outputId) {\n",
              "  const steps = uploadFilesStep(inputId, outputId);\n",
              "  const outputElement = document.getElementById(outputId);\n",
              "  // Cache steps on the outputElement to make it available for the next call\n",
              "  // to uploadFilesContinue from Python.\n",
              "  outputElement.steps = steps;\n",
              "\n",
              "  return _uploadFilesContinue(outputId);\n",
              "}\n",
              "\n",
              "// This is roughly an async generator (not supported in the browser yet),\n",
              "// where there are multiple asynchronous steps and the Python side is going\n",
              "// to poll for completion of each step.\n",
              "// This uses a Promise to block the python side on completion of each step,\n",
              "// then passes the result of the previous step as the input to the next step.\n",
              "function _uploadFilesContinue(outputId) {\n",
              "  const outputElement = document.getElementById(outputId);\n",
              "  const steps = outputElement.steps;\n",
              "\n",
              "  const next = steps.next(outputElement.lastPromiseValue);\n",
              "  return Promise.resolve(next.value.promise).then((value) => {\n",
              "    // Cache the last promise value to make it available to the next\n",
              "    // step of the generator.\n",
              "    outputElement.lastPromiseValue = value;\n",
              "    return next.value.response;\n",
              "  });\n",
              "}\n",
              "\n",
              "/**\n",
              " * Generator function which is called between each async step of the upload\n",
              " * process.\n",
              " * @param {string} inputId Element ID of the input file picker element.\n",
              " * @param {string} outputId Element ID of the output display.\n",
              " * @return {!Iterable<!Object>} Iterable of next steps.\n",
              " */\n",
              "function* uploadFilesStep(inputId, outputId) {\n",
              "  const inputElement = document.getElementById(inputId);\n",
              "  inputElement.disabled = false;\n",
              "\n",
              "  const outputElement = document.getElementById(outputId);\n",
              "  outputElement.innerHTML = '';\n",
              "\n",
              "  const pickedPromise = new Promise((resolve) => {\n",
              "    inputElement.addEventListener('change', (e) => {\n",
              "      resolve(e.target.files);\n",
              "    });\n",
              "  });\n",
              "\n",
              "  const cancel = document.createElement('button');\n",
              "  inputElement.parentElement.appendChild(cancel);\n",
              "  cancel.textContent = 'Cancel upload';\n",
              "  const cancelPromise = new Promise((resolve) => {\n",
              "    cancel.onclick = () => {\n",
              "      resolve(null);\n",
              "    };\n",
              "  });\n",
              "\n",
              "  // Wait for the user to pick the files.\n",
              "  const files = yield {\n",
              "    promise: Promise.race([pickedPromise, cancelPromise]),\n",
              "    response: {\n",
              "      action: 'starting',\n",
              "    }\n",
              "  };\n",
              "\n",
              "  cancel.remove();\n",
              "\n",
              "  // Disable the input element since further picks are not allowed.\n",
              "  inputElement.disabled = true;\n",
              "\n",
              "  if (!files) {\n",
              "    return {\n",
              "      response: {\n",
              "        action: 'complete',\n",
              "      }\n",
              "    };\n",
              "  }\n",
              "\n",
              "  for (const file of files) {\n",
              "    const li = document.createElement('li');\n",
              "    li.append(span(file.name, {fontWeight: 'bold'}));\n",
              "    li.append(span(\n",
              "        `(${file.type || 'n/a'}) - ${file.size} bytes, ` +\n",
              "        `last modified: ${\n",
              "            file.lastModifiedDate ? file.lastModifiedDate.toLocaleDateString() :\n",
              "                                    'n/a'} - `));\n",
              "    const percent = span('0% done');\n",
              "    li.appendChild(percent);\n",
              "\n",
              "    outputElement.appendChild(li);\n",
              "\n",
              "    const fileDataPromise = new Promise((resolve) => {\n",
              "      const reader = new FileReader();\n",
              "      reader.onload = (e) => {\n",
              "        resolve(e.target.result);\n",
              "      };\n",
              "      reader.readAsArrayBuffer(file);\n",
              "    });\n",
              "    // Wait for the data to be ready.\n",
              "    let fileData = yield {\n",
              "      promise: fileDataPromise,\n",
              "      response: {\n",
              "        action: 'continue',\n",
              "      }\n",
              "    };\n",
              "\n",
              "    // Use a chunked sending to avoid message size limits. See b/62115660.\n",
              "    let position = 0;\n",
              "    do {\n",
              "      const length = Math.min(fileData.byteLength - position, MAX_PAYLOAD_SIZE);\n",
              "      const chunk = new Uint8Array(fileData, position, length);\n",
              "      position += length;\n",
              "\n",
              "      const base64 = btoa(String.fromCharCode.apply(null, chunk));\n",
              "      yield {\n",
              "        response: {\n",
              "          action: 'append',\n",
              "          file: file.name,\n",
              "          data: base64,\n",
              "        },\n",
              "      };\n",
              "\n",
              "      let percentDone = fileData.byteLength === 0 ?\n",
              "          100 :\n",
              "          Math.round((position / fileData.byteLength) * 100);\n",
              "      percent.textContent = `${percentDone}% done`;\n",
              "\n",
              "    } while (position < fileData.byteLength);\n",
              "  }\n",
              "\n",
              "  // All done.\n",
              "  yield {\n",
              "    response: {\n",
              "      action: 'complete',\n",
              "    }\n",
              "  };\n",
              "}\n",
              "\n",
              "scope.google = scope.google || {};\n",
              "scope.google.colab = scope.google.colab || {};\n",
              "scope.google.colab._files = {\n",
              "  _uploadFiles,\n",
              "  _uploadFilesContinue,\n",
              "};\n",
              "})(self);\n",
              "</script> "
            ]
          },
          "metadata": {}
        },
        {
          "output_type": "stream",
          "name": "stdout",
          "text": [
            "Saving CosEu_invitro_insilico_128chems_Jan2017.csv to CosEu_invitro_insilico_128chems_Jan2017.csv\n"
          ]
        }
      ],
      "source": [
        "#Read Cosmetic Europe in vitro data, physchem properties, OECD Toolbox predictions\n",
        "uploaded=files.upload()\n",
        "df2=pd.read_csv(io.BytesIO(uploaded['CosEu_invitro_insilico_128chems_Jan2017.csv']))\n",
        "df2[\"CASRN\"] = df2[\"CASRN\"].str.strip()\n",
        "df2 = df2.sort_values(by=\"Num\")\n",
        "df2=df2"
      ]
    },
    {
      "cell_type": "code",
      "execution_count": 7,
      "metadata": {
        "id": "F8Ze9fXN8UAA"
      },
      "outputs": [],
      "source": [
        "# Replace negative values in DPRA.mean column with 0\n",
        "df2[\"DPRA.mean\"].mask(df2[\"DPRA.mean\"] < 0, 0, inplace=True)\n",
        "# Remove rows with missing values in DPRA.Call or hCLAT.Call columns\n",
        "df2 = df2.dropna(subset=[\"DPRA.Call\", \"hCLAT.Call\"])\n",
        "#df2['DPRA.mean']=df2['DPRA.mean'].clip(lower=0)\n",
        "#df2.dropna(subset=['DPRA.Call','hCLAT.Call'],inplace=True)\n"
      ]
    },
    {
      "cell_type": "code",
      "execution_count": 8,
      "metadata": {
        "colab": {
          "base_uri": "https://localhost:8080/",
          "height": 73
        },
        "id": "zAvDv-ao59dm",
        "outputId": "19beeb1b-d2a4-434a-dad1-dbbcb81aeed7"
      },
      "outputs": [
        {
          "output_type": "display_data",
          "data": {
            "text/plain": [
              "<IPython.core.display.HTML object>"
            ],
            "text/html": [
              "\n",
              "     <input type=\"file\" id=\"files-3cd13bb7-df50-4789-a295-1afa46d87360\" name=\"files[]\" multiple disabled\n",
              "        style=\"border:none\" />\n",
              "     <output id=\"result-3cd13bb7-df50-4789-a295-1afa46d87360\">\n",
              "      Upload widget is only available when the cell has been executed in the\n",
              "      current browser session. Please rerun this cell to enable.\n",
              "      </output>\n",
              "      <script>// Copyright 2017 Google LLC\n",
              "//\n",
              "// Licensed under the Apache License, Version 2.0 (the \"License\");\n",
              "// you may not use this file except in compliance with the License.\n",
              "// You may obtain a copy of the License at\n",
              "//\n",
              "//      http://www.apache.org/licenses/LICENSE-2.0\n",
              "//\n",
              "// Unless required by applicable law or agreed to in writing, software\n",
              "// distributed under the License is distributed on an \"AS IS\" BASIS,\n",
              "// WITHOUT WARRANTIES OR CONDITIONS OF ANY KIND, either express or implied.\n",
              "// See the License for the specific language governing permissions and\n",
              "// limitations under the License.\n",
              "\n",
              "/**\n",
              " * @fileoverview Helpers for google.colab Python module.\n",
              " */\n",
              "(function(scope) {\n",
              "function span(text, styleAttributes = {}) {\n",
              "  const element = document.createElement('span');\n",
              "  element.textContent = text;\n",
              "  for (const key of Object.keys(styleAttributes)) {\n",
              "    element.style[key] = styleAttributes[key];\n",
              "  }\n",
              "  return element;\n",
              "}\n",
              "\n",
              "// Max number of bytes which will be uploaded at a time.\n",
              "const MAX_PAYLOAD_SIZE = 100 * 1024;\n",
              "\n",
              "function _uploadFiles(inputId, outputId) {\n",
              "  const steps = uploadFilesStep(inputId, outputId);\n",
              "  const outputElement = document.getElementById(outputId);\n",
              "  // Cache steps on the outputElement to make it available for the next call\n",
              "  // to uploadFilesContinue from Python.\n",
              "  outputElement.steps = steps;\n",
              "\n",
              "  return _uploadFilesContinue(outputId);\n",
              "}\n",
              "\n",
              "// This is roughly an async generator (not supported in the browser yet),\n",
              "// where there are multiple asynchronous steps and the Python side is going\n",
              "// to poll for completion of each step.\n",
              "// This uses a Promise to block the python side on completion of each step,\n",
              "// then passes the result of the previous step as the input to the next step.\n",
              "function _uploadFilesContinue(outputId) {\n",
              "  const outputElement = document.getElementById(outputId);\n",
              "  const steps = outputElement.steps;\n",
              "\n",
              "  const next = steps.next(outputElement.lastPromiseValue);\n",
              "  return Promise.resolve(next.value.promise).then((value) => {\n",
              "    // Cache the last promise value to make it available to the next\n",
              "    // step of the generator.\n",
              "    outputElement.lastPromiseValue = value;\n",
              "    return next.value.response;\n",
              "  });\n",
              "}\n",
              "\n",
              "/**\n",
              " * Generator function which is called between each async step of the upload\n",
              " * process.\n",
              " * @param {string} inputId Element ID of the input file picker element.\n",
              " * @param {string} outputId Element ID of the output display.\n",
              " * @return {!Iterable<!Object>} Iterable of next steps.\n",
              " */\n",
              "function* uploadFilesStep(inputId, outputId) {\n",
              "  const inputElement = document.getElementById(inputId);\n",
              "  inputElement.disabled = false;\n",
              "\n",
              "  const outputElement = document.getElementById(outputId);\n",
              "  outputElement.innerHTML = '';\n",
              "\n",
              "  const pickedPromise = new Promise((resolve) => {\n",
              "    inputElement.addEventListener('change', (e) => {\n",
              "      resolve(e.target.files);\n",
              "    });\n",
              "  });\n",
              "\n",
              "  const cancel = document.createElement('button');\n",
              "  inputElement.parentElement.appendChild(cancel);\n",
              "  cancel.textContent = 'Cancel upload';\n",
              "  const cancelPromise = new Promise((resolve) => {\n",
              "    cancel.onclick = () => {\n",
              "      resolve(null);\n",
              "    };\n",
              "  });\n",
              "\n",
              "  // Wait for the user to pick the files.\n",
              "  const files = yield {\n",
              "    promise: Promise.race([pickedPromise, cancelPromise]),\n",
              "    response: {\n",
              "      action: 'starting',\n",
              "    }\n",
              "  };\n",
              "\n",
              "  cancel.remove();\n",
              "\n",
              "  // Disable the input element since further picks are not allowed.\n",
              "  inputElement.disabled = true;\n",
              "\n",
              "  if (!files) {\n",
              "    return {\n",
              "      response: {\n",
              "        action: 'complete',\n",
              "      }\n",
              "    };\n",
              "  }\n",
              "\n",
              "  for (const file of files) {\n",
              "    const li = document.createElement('li');\n",
              "    li.append(span(file.name, {fontWeight: 'bold'}));\n",
              "    li.append(span(\n",
              "        `(${file.type || 'n/a'}) - ${file.size} bytes, ` +\n",
              "        `last modified: ${\n",
              "            file.lastModifiedDate ? file.lastModifiedDate.toLocaleDateString() :\n",
              "                                    'n/a'} - `));\n",
              "    const percent = span('0% done');\n",
              "    li.appendChild(percent);\n",
              "\n",
              "    outputElement.appendChild(li);\n",
              "\n",
              "    const fileDataPromise = new Promise((resolve) => {\n",
              "      const reader = new FileReader();\n",
              "      reader.onload = (e) => {\n",
              "        resolve(e.target.result);\n",
              "      };\n",
              "      reader.readAsArrayBuffer(file);\n",
              "    });\n",
              "    // Wait for the data to be ready.\n",
              "    let fileData = yield {\n",
              "      promise: fileDataPromise,\n",
              "      response: {\n",
              "        action: 'continue',\n",
              "      }\n",
              "    };\n",
              "\n",
              "    // Use a chunked sending to avoid message size limits. See b/62115660.\n",
              "    let position = 0;\n",
              "    do {\n",
              "      const length = Math.min(fileData.byteLength - position, MAX_PAYLOAD_SIZE);\n",
              "      const chunk = new Uint8Array(fileData, position, length);\n",
              "      position += length;\n",
              "\n",
              "      const base64 = btoa(String.fromCharCode.apply(null, chunk));\n",
              "      yield {\n",
              "        response: {\n",
              "          action: 'append',\n",
              "          file: file.name,\n",
              "          data: base64,\n",
              "        },\n",
              "      };\n",
              "\n",
              "      let percentDone = fileData.byteLength === 0 ?\n",
              "          100 :\n",
              "          Math.round((position / fileData.byteLength) * 100);\n",
              "      percent.textContent = `${percentDone}% done`;\n",
              "\n",
              "    } while (position < fileData.byteLength);\n",
              "  }\n",
              "\n",
              "  // All done.\n",
              "  yield {\n",
              "    response: {\n",
              "      action: 'complete',\n",
              "    }\n",
              "  };\n",
              "}\n",
              "\n",
              "scope.google = scope.google || {};\n",
              "scope.google.colab = scope.google.colab || {};\n",
              "scope.google.colab._files = {\n",
              "  _uploadFiles,\n",
              "  _uploadFilesContinue,\n",
              "};\n",
              "})(self);\n",
              "</script> "
            ]
          },
          "metadata": {}
        },
        {
          "output_type": "stream",
          "name": "stdout",
          "text": [
            "Saving CosEu_invivo_128chems_March2017.csv to CosEu_invivo_128chems_March2017.csv\n"
          ]
        }
      ],
      "source": [
        "#Read in vivo LLNA and human data\n",
        "uploaded=files.upload()\n",
        "df3=pd.read_csv(io.BytesIO(uploaded['CosEu_invivo_128chems_March2017.csv']))\n"
      ]
    },
    {
      "cell_type": "code",
      "execution_count": 9,
      "metadata": {
        "id": "l240_zMu9e_J"
      },
      "outputs": [],
      "source": [
        "\n",
        "# select the rows where LLNA.Call.MNC is equal to 0\n",
        "mask = df3[\"LLNA.Call.MNC\"] == 0\n",
        "# assign 100 to the selected rows in the Median_NC.EC3 column\n",
        "df3.loc[mask, \"Median_NC.EC3\"] = 100\n"
      ]
    },
    {
      "cell_type": "code",
      "execution_count": 10,
      "metadata": {
        "colab": {
          "base_uri": "https://localhost:8080/"
        },
        "id": "TXy4sNz5mVHA",
        "outputId": "d4b7f8fd-066c-436e-be52-7cee001ea268"
      },
      "outputs": [
        {
          "output_type": "execute_result",
          "data": {
            "text/plain": [
              "127"
            ]
          },
          "metadata": {},
          "execution_count": 10
        }
      ],
      "source": [
        "# remove the period (.) character from the column names and\n",
        "# replace multiple consecutive periods with underscores\n",
        "df3.columns = [col.replace(\".\", \"\").replace(\"(\\\\.)+\", \"_\") for col in df3.columns]\n",
        "# Check if all values in cosEu['Num'] are contained in cosEu['Num']\n",
        "#if all(df3[\"Num\"].isin(df2[\"Num\"])):\n",
        "# Merge the two data frames on the Num column\n",
        "CosEu= pd.merge(df2,df3, on=\"Num\", sort=False)\n",
        "# Replace instances of \"CASRN.x\" in column names with \"CASRN\"\n",
        "CosEu.columns = CosEu.columns.str.replace(\"CASRN.x\", \"CASRN\")\n",
        "CosEu.columns = CosEu.columns.str.replace(\"Median_NCEC3_x\", \"Median_NCEC3\")\n",
        "\n",
        "# Set the row names to the values in the CASRN column\n",
        "CosEu.index = CosEu[\"CASRN\"]\n",
        "CosEu[\"logLLNAthreshold\"]=df1[\"logLLNAthreshold\"]\n",
        "\n",
        "# Create a new column and store the logarithm (base 10) of the values in the Median_NC_EC3 column\n",
        "CosEu['log_Median_NC_EC3'] = np.log10(CosEu[\"Median_NCEC3\"])\n",
        "\n",
        "# Replace missing values in log_Median_NC_EC3 with corresponding values in logLLNAthreshold\n",
        "CosEu[\"log_Median_NC_EC3\"].mask(\n",
        "    CosEu['log_Median_NC_EC3'].isna(),\n",
        "    CosEu[\"logLLNAthreshold\"],\n",
        "    inplace=True)\n",
        "len(CosEu)"
      ]
    },
    {
      "cell_type": "code",
      "execution_count": 11,
      "metadata": {
        "id": "lxvazJb6aB4q"
      },
      "outputs": [],
      "source": [
        "#Applying logic to deal with negatives (If all model inputs are negative, prediction is negative)\n",
        "CosEu['MODEL_PRED1']='Pos'\n",
        "col_list=[\"DPRA.Call\",\"hCLAT.Call\"]\n",
        "CosEu['Pos.Call.DH']=CosEu[col_list].sum(axis=1)\n",
        "CosEu['Model_pred']=CosEu['Pos.Call.DH'].apply(lambda x:'Neg' if x==0 else 'Pos')"
      ]
    },
    {
      "cell_type": "code",
      "execution_count": 12,
      "metadata": {
        "id": "NJEv-hL7lsUF"
      },
      "outputs": [],
      "source": [
        "#Replace negatives in hCLAT with CV75\n",
        "CosEu['hCLAT.MIT']=np.where(CosEu['hCLAT.MIT']=='inf',CosEu['hCLAT.MIT'],CosEu['h.CLAT.CV75'])\n",
        "#Convert all h_CLAT Value to log 10 values\n",
        "CosEu['log_hCLAT_MIT']=np.log10(CosEu['hCLAT.MIT'])\n",
        "CosEu['log_hCLAT_MIT'].replace('inf','NA',inplace=True)\n",
        "\n"
      ]
    },
    {
      "cell_type": "code",
      "execution_count": 13,
      "metadata": {
        "colab": {
          "base_uri": "https://localhost:8080/",
          "height": 435
        },
        "id": "XC_db3aoqksF",
        "outputId": "34ebb07e-98b3-4060-eee2-d3cd58bf1a62"
      },
      "outputs": [
        {
          "output_type": "execute_result",
          "data": {
            "text/plain": [
              "            Num                    Chemical_x       CASRN  U-SENS.Call  \\\n",
              "CASRN                                                                    \n",
              "35691-65-7    2  Methyldibromo glutaronitrile  35691-65-7          1.0   \n",
              "149-30-4      3       2-Mercaptobenzothiazole    149-30-4          1.0   \n",
              "104-55-2      4             Cinnamic aldehyde    104-55-2          1.0   \n",
              "137-26-8      5   Tetramethylthiuramdisulfide    137-26-8          1.0   \n",
              "69-72-7       6                Salicylic acid     69-72-7          0.0   \n",
              "\n",
              "           U-SENS.CD86.EC150 U-SENS.CV70  DPRA.Call  DPRA.percCysdep  \\\n",
              "CASRN                                                                  \n",
              "35691-65-7                 3           5        1.0            100.0   \n",
              "149-30-4                  40          80        1.0             97.5   \n",
              "104-55-2                   1           8        1.0             70.6   \n",
              "137-26-8                 0.1           3        1.0             99.5   \n",
              "69-72-7                 >200        >200        1.0              3.5   \n",
              "\n",
              "            DPRA.percLysdep  DPRA.mean  ... humanCall  humanpotency3class  \\\n",
              "CASRN                                   ...                                 \n",
              "35691-65-7             28.6      64.30  ...         1              Strong   \n",
              "149-30-4                0.0      48.75  ...         1                Weak   \n",
              "104-55-2               43.3      56.95  ...         1              Strong   \n",
              "137-26-8                6.9      53.20  ...         1                Weak   \n",
              "69-72-7                21.1      12.30  ...         0                 Non   \n",
              "\n",
              "            humanpotency5class  logLLNAthreshold  log_Median_NC_EC3  \\\n",
              "CASRN                                                                 \n",
              "35691-65-7              Strong           -0.0458          -0.045757   \n",
              "149-30-4              Moderate            0.2304           0.414973   \n",
              "104-55-2                Strong            0.4771           0.060698   \n",
              "137-26-8              Moderate            0.7160           0.466868   \n",
              "69-72-7                    Non               NaN           1.086360   \n",
              "\n",
              "            MODEL_PRED1  Pos.Call.DH  Model_pred  log_hCLAT_MIT  log_DPRA_mean  \n",
              "CASRN                                                                           \n",
              "35691-65-7          Pos          2.0         Pos       0.995635       1.808211  \n",
              "149-30-4            Pos          2.0         Pos       2.227887       1.687975  \n",
              "104-55-2            Pos          2.0         Pos       1.447158       1.755494  \n",
              "137-26-8            Pos          2.0         Pos       1.000000       1.725912  \n",
              "69-72-7             Pos          2.0         Pos       3.000000       1.089905  \n",
              "\n",
              "[5 rows x 58 columns]"
            ],
            "text/html": [
              "\n",
              "  <div id=\"df-cdc83915-260b-4edc-98f8-f1403e10583b\">\n",
              "    <div class=\"colab-df-container\">\n",
              "      <div>\n",
              "<style scoped>\n",
              "    .dataframe tbody tr th:only-of-type {\n",
              "        vertical-align: middle;\n",
              "    }\n",
              "\n",
              "    .dataframe tbody tr th {\n",
              "        vertical-align: top;\n",
              "    }\n",
              "\n",
              "    .dataframe thead th {\n",
              "        text-align: right;\n",
              "    }\n",
              "</style>\n",
              "<table border=\"1\" class=\"dataframe\">\n",
              "  <thead>\n",
              "    <tr style=\"text-align: right;\">\n",
              "      <th></th>\n",
              "      <th>Num</th>\n",
              "      <th>Chemical_x</th>\n",
              "      <th>CASRN</th>\n",
              "      <th>U-SENS.Call</th>\n",
              "      <th>U-SENS.CD86.EC150</th>\n",
              "      <th>U-SENS.CV70</th>\n",
              "      <th>DPRA.Call</th>\n",
              "      <th>DPRA.percCysdep</th>\n",
              "      <th>DPRA.percLysdep</th>\n",
              "      <th>DPRA.mean</th>\n",
              "      <th>...</th>\n",
              "      <th>humanCall</th>\n",
              "      <th>humanpotency3class</th>\n",
              "      <th>humanpotency5class</th>\n",
              "      <th>logLLNAthreshold</th>\n",
              "      <th>log_Median_NC_EC3</th>\n",
              "      <th>MODEL_PRED1</th>\n",
              "      <th>Pos.Call.DH</th>\n",
              "      <th>Model_pred</th>\n",
              "      <th>log_hCLAT_MIT</th>\n",
              "      <th>log_DPRA_mean</th>\n",
              "    </tr>\n",
              "    <tr>\n",
              "      <th>CASRN</th>\n",
              "      <th></th>\n",
              "      <th></th>\n",
              "      <th></th>\n",
              "      <th></th>\n",
              "      <th></th>\n",
              "      <th></th>\n",
              "      <th></th>\n",
              "      <th></th>\n",
              "      <th></th>\n",
              "      <th></th>\n",
              "      <th></th>\n",
              "      <th></th>\n",
              "      <th></th>\n",
              "      <th></th>\n",
              "      <th></th>\n",
              "      <th></th>\n",
              "      <th></th>\n",
              "      <th></th>\n",
              "      <th></th>\n",
              "      <th></th>\n",
              "      <th></th>\n",
              "    </tr>\n",
              "  </thead>\n",
              "  <tbody>\n",
              "    <tr>\n",
              "      <th>35691-65-7</th>\n",
              "      <td>2</td>\n",
              "      <td>Methyldibromo glutaronitrile</td>\n",
              "      <td>35691-65-7</td>\n",
              "      <td>1.0</td>\n",
              "      <td>3</td>\n",
              "      <td>5</td>\n",
              "      <td>1.0</td>\n",
              "      <td>100.0</td>\n",
              "      <td>28.6</td>\n",
              "      <td>64.30</td>\n",
              "      <td>...</td>\n",
              "      <td>1</td>\n",
              "      <td>Strong</td>\n",
              "      <td>Strong</td>\n",
              "      <td>-0.0458</td>\n",
              "      <td>-0.045757</td>\n",
              "      <td>Pos</td>\n",
              "      <td>2.0</td>\n",
              "      <td>Pos</td>\n",
              "      <td>0.995635</td>\n",
              "      <td>1.808211</td>\n",
              "    </tr>\n",
              "    <tr>\n",
              "      <th>149-30-4</th>\n",
              "      <td>3</td>\n",
              "      <td>2-Mercaptobenzothiazole</td>\n",
              "      <td>149-30-4</td>\n",
              "      <td>1.0</td>\n",
              "      <td>40</td>\n",
              "      <td>80</td>\n",
              "      <td>1.0</td>\n",
              "      <td>97.5</td>\n",
              "      <td>0.0</td>\n",
              "      <td>48.75</td>\n",
              "      <td>...</td>\n",
              "      <td>1</td>\n",
              "      <td>Weak</td>\n",
              "      <td>Moderate</td>\n",
              "      <td>0.2304</td>\n",
              "      <td>0.414973</td>\n",
              "      <td>Pos</td>\n",
              "      <td>2.0</td>\n",
              "      <td>Pos</td>\n",
              "      <td>2.227887</td>\n",
              "      <td>1.687975</td>\n",
              "    </tr>\n",
              "    <tr>\n",
              "      <th>104-55-2</th>\n",
              "      <td>4</td>\n",
              "      <td>Cinnamic aldehyde</td>\n",
              "      <td>104-55-2</td>\n",
              "      <td>1.0</td>\n",
              "      <td>1</td>\n",
              "      <td>8</td>\n",
              "      <td>1.0</td>\n",
              "      <td>70.6</td>\n",
              "      <td>43.3</td>\n",
              "      <td>56.95</td>\n",
              "      <td>...</td>\n",
              "      <td>1</td>\n",
              "      <td>Strong</td>\n",
              "      <td>Strong</td>\n",
              "      <td>0.4771</td>\n",
              "      <td>0.060698</td>\n",
              "      <td>Pos</td>\n",
              "      <td>2.0</td>\n",
              "      <td>Pos</td>\n",
              "      <td>1.447158</td>\n",
              "      <td>1.755494</td>\n",
              "    </tr>\n",
              "    <tr>\n",
              "      <th>137-26-8</th>\n",
              "      <td>5</td>\n",
              "      <td>Tetramethylthiuramdisulfide</td>\n",
              "      <td>137-26-8</td>\n",
              "      <td>1.0</td>\n",
              "      <td>0.1</td>\n",
              "      <td>3</td>\n",
              "      <td>1.0</td>\n",
              "      <td>99.5</td>\n",
              "      <td>6.9</td>\n",
              "      <td>53.20</td>\n",
              "      <td>...</td>\n",
              "      <td>1</td>\n",
              "      <td>Weak</td>\n",
              "      <td>Moderate</td>\n",
              "      <td>0.7160</td>\n",
              "      <td>0.466868</td>\n",
              "      <td>Pos</td>\n",
              "      <td>2.0</td>\n",
              "      <td>Pos</td>\n",
              "      <td>1.000000</td>\n",
              "      <td>1.725912</td>\n",
              "    </tr>\n",
              "    <tr>\n",
              "      <th>69-72-7</th>\n",
              "      <td>6</td>\n",
              "      <td>Salicylic acid</td>\n",
              "      <td>69-72-7</td>\n",
              "      <td>0.0</td>\n",
              "      <td>&gt;200</td>\n",
              "      <td>&gt;200</td>\n",
              "      <td>1.0</td>\n",
              "      <td>3.5</td>\n",
              "      <td>21.1</td>\n",
              "      <td>12.30</td>\n",
              "      <td>...</td>\n",
              "      <td>0</td>\n",
              "      <td>Non</td>\n",
              "      <td>Non</td>\n",
              "      <td>NaN</td>\n",
              "      <td>1.086360</td>\n",
              "      <td>Pos</td>\n",
              "      <td>2.0</td>\n",
              "      <td>Pos</td>\n",
              "      <td>3.000000</td>\n",
              "      <td>1.089905</td>\n",
              "    </tr>\n",
              "  </tbody>\n",
              "</table>\n",
              "<p>5 rows × 58 columns</p>\n",
              "</div>\n",
              "      <button class=\"colab-df-convert\" onclick=\"convertToInteractive('df-cdc83915-260b-4edc-98f8-f1403e10583b')\"\n",
              "              title=\"Convert this dataframe to an interactive table.\"\n",
              "              style=\"display:none;\">\n",
              "        \n",
              "  <svg xmlns=\"http://www.w3.org/2000/svg\" height=\"24px\"viewBox=\"0 0 24 24\"\n",
              "       width=\"24px\">\n",
              "    <path d=\"M0 0h24v24H0V0z\" fill=\"none\"/>\n",
              "    <path d=\"M18.56 5.44l.94 2.06.94-2.06 2.06-.94-2.06-.94-.94-2.06-.94 2.06-2.06.94zm-11 1L8.5 8.5l.94-2.06 2.06-.94-2.06-.94L8.5 2.5l-.94 2.06-2.06.94zm10 10l.94 2.06.94-2.06 2.06-.94-2.06-.94-.94-2.06-.94 2.06-2.06.94z\"/><path d=\"M17.41 7.96l-1.37-1.37c-.4-.4-.92-.59-1.43-.59-.52 0-1.04.2-1.43.59L10.3 9.45l-7.72 7.72c-.78.78-.78 2.05 0 2.83L4 21.41c.39.39.9.59 1.41.59.51 0 1.02-.2 1.41-.59l7.78-7.78 2.81-2.81c.8-.78.8-2.07 0-2.86zM5.41 20L4 18.59l7.72-7.72 1.47 1.35L5.41 20z\"/>\n",
              "  </svg>\n",
              "      </button>\n",
              "      \n",
              "  <style>\n",
              "    .colab-df-container {\n",
              "      display:flex;\n",
              "      flex-wrap:wrap;\n",
              "      gap: 12px;\n",
              "    }\n",
              "\n",
              "    .colab-df-convert {\n",
              "      background-color: #E8F0FE;\n",
              "      border: none;\n",
              "      border-radius: 50%;\n",
              "      cursor: pointer;\n",
              "      display: none;\n",
              "      fill: #1967D2;\n",
              "      height: 32px;\n",
              "      padding: 0 0 0 0;\n",
              "      width: 32px;\n",
              "    }\n",
              "\n",
              "    .colab-df-convert:hover {\n",
              "      background-color: #E2EBFA;\n",
              "      box-shadow: 0px 1px 2px rgba(60, 64, 67, 0.3), 0px 1px 3px 1px rgba(60, 64, 67, 0.15);\n",
              "      fill: #174EA6;\n",
              "    }\n",
              "\n",
              "    [theme=dark] .colab-df-convert {\n",
              "      background-color: #3B4455;\n",
              "      fill: #D2E3FC;\n",
              "    }\n",
              "\n",
              "    [theme=dark] .colab-df-convert:hover {\n",
              "      background-color: #434B5C;\n",
              "      box-shadow: 0px 1px 3px 1px rgba(0, 0, 0, 0.15);\n",
              "      filter: drop-shadow(0px 1px 2px rgba(0, 0, 0, 0.3));\n",
              "      fill: #FFFFFF;\n",
              "    }\n",
              "  </style>\n",
              "\n",
              "      <script>\n",
              "        const buttonEl =\n",
              "          document.querySelector('#df-cdc83915-260b-4edc-98f8-f1403e10583b button.colab-df-convert');\n",
              "        buttonEl.style.display =\n",
              "          google.colab.kernel.accessAllowed ? 'block' : 'none';\n",
              "\n",
              "        async function convertToInteractive(key) {\n",
              "          const element = document.querySelector('#df-cdc83915-260b-4edc-98f8-f1403e10583b');\n",
              "          const dataTable =\n",
              "            await google.colab.kernel.invokeFunction('convertToInteractive',\n",
              "                                                     [key], {});\n",
              "          if (!dataTable) return;\n",
              "\n",
              "          const docLinkHtml = 'Like what you see? Visit the ' +\n",
              "            '<a target=\"_blank\" href=https://colab.research.google.com/notebooks/data_table.ipynb>data table notebook</a>'\n",
              "            + ' to learn more about interactive tables.';\n",
              "          element.innerHTML = '';\n",
              "          dataTable['output_type'] = 'display_data';\n",
              "          await google.colab.output.renderOutput(dataTable, element);\n",
              "          const docLink = document.createElement('div');\n",
              "          docLink.innerHTML = docLinkHtml;\n",
              "          element.appendChild(docLink);\n",
              "        }\n",
              "      </script>\n",
              "    </div>\n",
              "  </div>\n",
              "  "
            ]
          },
          "metadata": {},
          "execution_count": 13
        }
      ],
      "source": [
        "#Replace 0 in DPRA with 0.01\n",
        "CosEu[\"DPRA.mean\"].mask(CosEu[\"DPRA.mean\"] == 0, 0.01, inplace=True)\n",
        "#CosEu['DPRA.mean']=CosEu['DPRA.mean'].clip(lower=0.01)\n",
        "CosEu['log_DPRA_mean']=np.log10(CosEu['DPRA.mean'])\n",
        "CosEu.head()\n"
      ]
    },
    {
      "cell_type": "code",
      "execution_count": 14,
      "metadata": {
        "colab": {
          "base_uri": "https://localhost:8080/"
        },
        "id": "HExwgDddXhd_",
        "outputId": "24d919b5-24ec-4cc5-92f2-d34dd7d4674c"
      },
      "outputs": [
        {
          "output_type": "execute_result",
          "data": {
            "text/plain": [
              "127"
            ]
          },
          "metadata": {},
          "execution_count": 14
        }
      ],
      "source": [
        "#Checking for intesection between hirotashi dataset and merged invivo, invitro dataset using the CAS column\n",
        "#strip x suffix and prefix\n",
        "CosEu.columns = CosEu.columns.str.rstrip('_x')\n",
        "merge = pd.merge(df1,CosEu, left_index=True, right_index=True,how='right')\n",
        "ex_data=merge[['log_Median_NC_EC3','log_DPRA_mean','log_hCLAT_MIT','Model_pred']]\n",
        "#merge[['logLLNAthreshold', 'logDPRA','logMinhCLAT']]\n",
        "#merge[['log_Median_NC_EC3','log_DPRA_mean','log_hCLAT_MIT','Model_pred']]\n",
        "ex_data['log_hCLAT_MIT'].replace('inf','NA',inplace=True)\n",
        "ex_data= ex_data.replace('inf', np.NaN)\n",
        "ex_data.dropna(subset=['log_hCLAT_MIT','log_DPRA_mean'], inplace=True)\n",
        "ex_data.head(98)\n",
        "len(ex_data)\n",
        "\n",
        "#CosEu_1.dropna(subset=['log_DPRA_mean','log_hCLAT_MIT'],inplace=Tr\n",
        "#3len(n_53)\n",
        "#3n_53.head(30),df1, CosEu,"
      ]
    },
    {
      "cell_type": "code",
      "execution_count": 15,
      "metadata": {
        "id": "f6XBodATZNoC"
      },
      "outputs": [],
      "source": [
        "merge.columns=merge.columns.str.rstrip('_x')"
      ]
    },
    {
      "cell_type": "code",
      "execution_count": 16,
      "metadata": {
        "colab": {
          "base_uri": "https://localhost:8080/"
        },
        "id": "-Flnati1Yxgz",
        "outputId": "0d966b88-4d40-4f32-b517-5c0c1dc16c59"
      },
      "outputs": [
        {
          "output_type": "stream",
          "name": "stdout",
          "text": [
            "Index(['CASRN', 'Chemical', 'LLNAthreshold', 'logLLNAthreshold', 'logMinhCLAT',\n",
            "       'logDPRA', 'logIma', 'logMAC', 'EC3', 'LLNA_Threshold', 'GHS_Category',\n",
            "       'hCLAT_Call', 'DPRA_Call', 'ARE_Call', 'SH_Call', 'Pred_LLNAthreshold',\n",
            "       'Pred_PotencyCategory', 'LLNA_Category', 'Num', 'Chemical_y', 'CASRN_y',\n",
            "       'U-SENS.Call', 'U-SENS.CD86.EC150', 'U-SENS.CV70', 'DPRA.Call',\n",
            "       'DPRA.percCysdep', 'DPRA.percLysdep', 'DPRA.mean', 'DPRA.potency',\n",
            "       'hCLAT.Call', 'hCLAT.CD86.EC150', 'hCLAT.CD54.EC200', 'h.CLAT.CV75',\n",
            "       'hCLAT.MIT', 'KS.Call', 'KS.EC1.5', 'KS.EC3', 'KS.IC50', 'KS.Ima',\n",
            "       'DEREK.Skin.Sensitisation', 'DEREK.Training.set', 'OECD', 'LogP',\n",
            "       'LogP.Source', 'LogS', 'LogS.Source', 'BP', 'BP.Source', 'MP',\n",
            "       'MP.Source', 'LogVP', 'LogVP.Source', 'LogBCF', 'LogBCF.Source', 'MW',\n",
            "       'Chemical_y', 'CASRN_y', 'ArithMeanEC3', 'GeoMeanEC3', 'MedianEC3',\n",
            "       'Median_NCEC3', 'MinEC3', 'LLNApotencyMNC', 'LLNApotency3classMNC',\n",
            "       'LLNACallMNC', 'Basketterhumanpotency', 'humanCall',\n",
            "       'humanpotency3class', 'humanpotency5class', 'logLLNAthreshold_y',\n",
            "       'log_Median_NC_EC3', 'MODEL_PRED1', 'Pos.Call.DH', 'Model_pred',\n",
            "       'log_hCLAT_MIT', 'log_DPRA_mean'],\n",
            "      dtype='object')\n"
          ]
        }
      ],
      "source": [
        "print(merge.columns)"
      ]
    },
    {
      "cell_type": "code",
      "execution_count": 17,
      "metadata": {
        "id": "S2T2leH0axGa"
      },
      "outputs": [],
      "source": [
        "ex_data\n",
        "ex_data=ex_data.reset_index()"
      ]
    },
    {
      "cell_type": "code",
      "execution_count": 18,
      "metadata": {
        "colab": {
          "base_uri": "https://localhost:8080/",
          "height": 423
        },
        "id": "bpSU390bT7mT",
        "outputId": "71ee1252-c92b-494d-a40f-fe0ed23d0b25"
      },
      "outputs": [
        {
          "output_type": "execute_result",
          "data": {
            "text/plain": [
              "          CASRN  log_Median_NC_EC3  log_DPRA_mean  log_hCLAT_MIT Model_pred\n",
              "0    35691-65-7          -0.045757       1.808211       0.995635        Pos\n",
              "1      149-30-4           0.414973       1.687975       2.227887        Pos\n",
              "2      104-55-2           0.060698       1.755494       1.447158        Pos\n",
              "3      137-26-8           0.466868       1.725912       1.000000        Pos\n",
              "4       69-72-7           1.086360       1.089905       3.000000        Pos\n",
              "..          ...                ...            ...            ...        ...\n",
              "122    101-39-3           0.653213       1.292256       2.143015        Pos\n",
              "123    111-80-8           0.397940       1.712650       2.282622        Pos\n",
              "124     93-51-6           0.748188       0.759668       2.447158        Pos\n",
              "125    122-78-1           0.672098       1.619771       1.431364        Pos\n",
              "126  17369-59-4           0.531479       1.351216       2.053078        Pos\n",
              "\n",
              "[127 rows x 5 columns]"
            ],
            "text/html": [
              "\n",
              "  <div id=\"df-9349e5c4-5048-484d-96db-e0714d8d8c33\">\n",
              "    <div class=\"colab-df-container\">\n",
              "      <div>\n",
              "<style scoped>\n",
              "    .dataframe tbody tr th:only-of-type {\n",
              "        vertical-align: middle;\n",
              "    }\n",
              "\n",
              "    .dataframe tbody tr th {\n",
              "        vertical-align: top;\n",
              "    }\n",
              "\n",
              "    .dataframe thead th {\n",
              "        text-align: right;\n",
              "    }\n",
              "</style>\n",
              "<table border=\"1\" class=\"dataframe\">\n",
              "  <thead>\n",
              "    <tr style=\"text-align: right;\">\n",
              "      <th></th>\n",
              "      <th>CASRN</th>\n",
              "      <th>log_Median_NC_EC3</th>\n",
              "      <th>log_DPRA_mean</th>\n",
              "      <th>log_hCLAT_MIT</th>\n",
              "      <th>Model_pred</th>\n",
              "    </tr>\n",
              "  </thead>\n",
              "  <tbody>\n",
              "    <tr>\n",
              "      <th>0</th>\n",
              "      <td>35691-65-7</td>\n",
              "      <td>-0.045757</td>\n",
              "      <td>1.808211</td>\n",
              "      <td>0.995635</td>\n",
              "      <td>Pos</td>\n",
              "    </tr>\n",
              "    <tr>\n",
              "      <th>1</th>\n",
              "      <td>149-30-4</td>\n",
              "      <td>0.414973</td>\n",
              "      <td>1.687975</td>\n",
              "      <td>2.227887</td>\n",
              "      <td>Pos</td>\n",
              "    </tr>\n",
              "    <tr>\n",
              "      <th>2</th>\n",
              "      <td>104-55-2</td>\n",
              "      <td>0.060698</td>\n",
              "      <td>1.755494</td>\n",
              "      <td>1.447158</td>\n",
              "      <td>Pos</td>\n",
              "    </tr>\n",
              "    <tr>\n",
              "      <th>3</th>\n",
              "      <td>137-26-8</td>\n",
              "      <td>0.466868</td>\n",
              "      <td>1.725912</td>\n",
              "      <td>1.000000</td>\n",
              "      <td>Pos</td>\n",
              "    </tr>\n",
              "    <tr>\n",
              "      <th>4</th>\n",
              "      <td>69-72-7</td>\n",
              "      <td>1.086360</td>\n",
              "      <td>1.089905</td>\n",
              "      <td>3.000000</td>\n",
              "      <td>Pos</td>\n",
              "    </tr>\n",
              "    <tr>\n",
              "      <th>...</th>\n",
              "      <td>...</td>\n",
              "      <td>...</td>\n",
              "      <td>...</td>\n",
              "      <td>...</td>\n",
              "      <td>...</td>\n",
              "    </tr>\n",
              "    <tr>\n",
              "      <th>122</th>\n",
              "      <td>101-39-3</td>\n",
              "      <td>0.653213</td>\n",
              "      <td>1.292256</td>\n",
              "      <td>2.143015</td>\n",
              "      <td>Pos</td>\n",
              "    </tr>\n",
              "    <tr>\n",
              "      <th>123</th>\n",
              "      <td>111-80-8</td>\n",
              "      <td>0.397940</td>\n",
              "      <td>1.712650</td>\n",
              "      <td>2.282622</td>\n",
              "      <td>Pos</td>\n",
              "    </tr>\n",
              "    <tr>\n",
              "      <th>124</th>\n",
              "      <td>93-51-6</td>\n",
              "      <td>0.748188</td>\n",
              "      <td>0.759668</td>\n",
              "      <td>2.447158</td>\n",
              "      <td>Pos</td>\n",
              "    </tr>\n",
              "    <tr>\n",
              "      <th>125</th>\n",
              "      <td>122-78-1</td>\n",
              "      <td>0.672098</td>\n",
              "      <td>1.619771</td>\n",
              "      <td>1.431364</td>\n",
              "      <td>Pos</td>\n",
              "    </tr>\n",
              "    <tr>\n",
              "      <th>126</th>\n",
              "      <td>17369-59-4</td>\n",
              "      <td>0.531479</td>\n",
              "      <td>1.351216</td>\n",
              "      <td>2.053078</td>\n",
              "      <td>Pos</td>\n",
              "    </tr>\n",
              "  </tbody>\n",
              "</table>\n",
              "<p>127 rows × 5 columns</p>\n",
              "</div>\n",
              "      <button class=\"colab-df-convert\" onclick=\"convertToInteractive('df-9349e5c4-5048-484d-96db-e0714d8d8c33')\"\n",
              "              title=\"Convert this dataframe to an interactive table.\"\n",
              "              style=\"display:none;\">\n",
              "        \n",
              "  <svg xmlns=\"http://www.w3.org/2000/svg\" height=\"24px\"viewBox=\"0 0 24 24\"\n",
              "       width=\"24px\">\n",
              "    <path d=\"M0 0h24v24H0V0z\" fill=\"none\"/>\n",
              "    <path d=\"M18.56 5.44l.94 2.06.94-2.06 2.06-.94-2.06-.94-.94-2.06-.94 2.06-2.06.94zm-11 1L8.5 8.5l.94-2.06 2.06-.94-2.06-.94L8.5 2.5l-.94 2.06-2.06.94zm10 10l.94 2.06.94-2.06 2.06-.94-2.06-.94-.94-2.06-.94 2.06-2.06.94z\"/><path d=\"M17.41 7.96l-1.37-1.37c-.4-.4-.92-.59-1.43-.59-.52 0-1.04.2-1.43.59L10.3 9.45l-7.72 7.72c-.78.78-.78 2.05 0 2.83L4 21.41c.39.39.9.59 1.41.59.51 0 1.02-.2 1.41-.59l7.78-7.78 2.81-2.81c.8-.78.8-2.07 0-2.86zM5.41 20L4 18.59l7.72-7.72 1.47 1.35L5.41 20z\"/>\n",
              "  </svg>\n",
              "      </button>\n",
              "      \n",
              "  <style>\n",
              "    .colab-df-container {\n",
              "      display:flex;\n",
              "      flex-wrap:wrap;\n",
              "      gap: 12px;\n",
              "    }\n",
              "\n",
              "    .colab-df-convert {\n",
              "      background-color: #E8F0FE;\n",
              "      border: none;\n",
              "      border-radius: 50%;\n",
              "      cursor: pointer;\n",
              "      display: none;\n",
              "      fill: #1967D2;\n",
              "      height: 32px;\n",
              "      padding: 0 0 0 0;\n",
              "      width: 32px;\n",
              "    }\n",
              "\n",
              "    .colab-df-convert:hover {\n",
              "      background-color: #E2EBFA;\n",
              "      box-shadow: 0px 1px 2px rgba(60, 64, 67, 0.3), 0px 1px 3px 1px rgba(60, 64, 67, 0.15);\n",
              "      fill: #174EA6;\n",
              "    }\n",
              "\n",
              "    [theme=dark] .colab-df-convert {\n",
              "      background-color: #3B4455;\n",
              "      fill: #D2E3FC;\n",
              "    }\n",
              "\n",
              "    [theme=dark] .colab-df-convert:hover {\n",
              "      background-color: #434B5C;\n",
              "      box-shadow: 0px 1px 3px 1px rgba(0, 0, 0, 0.15);\n",
              "      filter: drop-shadow(0px 1px 2px rgba(0, 0, 0, 0.3));\n",
              "      fill: #FFFFFF;\n",
              "    }\n",
              "  </style>\n",
              "\n",
              "      <script>\n",
              "        const buttonEl =\n",
              "          document.querySelector('#df-9349e5c4-5048-484d-96db-e0714d8d8c33 button.colab-df-convert');\n",
              "        buttonEl.style.display =\n",
              "          google.colab.kernel.accessAllowed ? 'block' : 'none';\n",
              "\n",
              "        async function convertToInteractive(key) {\n",
              "          const element = document.querySelector('#df-9349e5c4-5048-484d-96db-e0714d8d8c33');\n",
              "          const dataTable =\n",
              "            await google.colab.kernel.invokeFunction('convertToInteractive',\n",
              "                                                     [key], {});\n",
              "          if (!dataTable) return;\n",
              "\n",
              "          const docLinkHtml = 'Like what you see? Visit the ' +\n",
              "            '<a target=\"_blank\" href=https://colab.research.google.com/notebooks/data_table.ipynb>data table notebook</a>'\n",
              "            + ' to learn more about interactive tables.';\n",
              "          element.innerHTML = '';\n",
              "          dataTable['output_type'] = 'display_data';\n",
              "          await google.colab.output.renderOutput(dataTable, element);\n",
              "          const docLink = document.createElement('div');\n",
              "          docLink.innerHTML = docLinkHtml;\n",
              "          element.appendChild(docLink);\n",
              "        }\n",
              "      </script>\n",
              "    </div>\n",
              "  </div>\n",
              "  "
            ]
          },
          "metadata": {},
          "execution_count": 18
        }
      ],
      "source": [
        "ex_data"
      ]
    },
    {
      "cell_type": "code",
      "execution_count": null,
      "metadata": {
        "colab": {
          "base_uri": "https://localhost:8080/",
          "height": 378
        },
        "id": "O5f00FXlNtn0",
        "outputId": "1246c4d7-77dd-476f-f71a-491af51c5c66"
      },
      "outputs": [
        {
          "data": {
            "text/plain": [
              "<matplotlib.axes._subplots.AxesSubplot at 0x7f10855e2640>"
            ]
          },
          "execution_count": 21,
          "metadata": {},
          "output_type": "execute_result"
        },
        {
          "data": {
            "image/png": "[encoded data removed]",
            "text/plain": [
              "<Figure size 576x396 with 1 Axes>"
            ]
          },
          "metadata": {},
          "output_type": "display_data"
        }
      ],
      "source": [
        "sns.scatterplot(x=ex_data['log_hCLAT_MIT'], y=ex_data['log_DPRA_mean'], data=ex_data)"
      ]
    },
    {
      "cell_type": "code",
      "execution_count": null,
      "metadata": {
        "id": "WtTWKV3phupP"
      },
      "outputs": [],
      "source": [
        "ex_data.to_csv('Hirota_in_COSEU.csv',index=True)"
      ]
    },
    {
      "cell_type": "code",
      "execution_count": 19,
      "metadata": {
        "colab": {
          "base_uri": "https://localhost:8080/"
        },
        "id": "pK5gb-uOcFaH",
        "outputId": "9c1e0c54-5a0a-4f53-ff30-4502533b6fde"
      },
      "outputs": [
        {
          "output_type": "execute_result",
          "data": {
            "text/plain": [
              "log_DPRA_mean    0\n",
              "log_hCLAT_MIT    0\n",
              "dtype: int64"
            ]
          },
          "metadata": {},
          "execution_count": 19
        }
      ],
      "source": [
        "CosEu1=ex_data[ex_data['Model_pred']!='Neg']\n",
        "CosEu1.dropna()\n",
        "len(CosEu)\n",
        "CosEu1['log_Median_NC_EC3'].isna().sum()\n",
        "CosEu1[['log_DPRA_mean','log_hCLAT_MIT']].isna().sum()\n",
        "#index_to_drop=['1154-59-2','886-38-4','97-00-7','94-36-0','111-30-8']#drop top five residual chemicals\n",
        "#CosEu1.drop(index_to_drop,inplace=True)\n",
        "#df = df.drop(df.index[[0, 2]])"
      ]
    },
    {
      "cell_type": "code",
      "execution_count": 20,
      "metadata": {
        "colab": {
          "base_uri": "https://localhost:8080/",
          "height": 423
        },
        "id": "Tjl00ZltEVc0",
        "outputId": "25a53148-ab13-4766-db47-df0eb30592a5"
      },
      "outputs": [
        {
          "output_type": "execute_result",
          "data": {
            "text/plain": [
              "          CASRN  log_Median_NC_EC3  log_DPRA_mean  log_hCLAT_MIT Model_pred\n",
              "0    35691-65-7          -0.045757       1.808211       0.995635        Pos\n",
              "1      149-30-4           0.414973       1.687975       2.227887        Pos\n",
              "2      104-55-2           0.060698       1.755494       1.447158        Pos\n",
              "3      137-26-8           0.466868       1.725912       1.000000        Pos\n",
              "4       69-72-7           1.086360       1.089905       3.000000        Pos\n",
              "..          ...                ...            ...            ...        ...\n",
              "122    101-39-3           0.653213       1.292256       2.143015        Pos\n",
              "123    111-80-8           0.397940       1.712650       2.282622        Pos\n",
              "124     93-51-6           0.748188       0.759668       2.447158        Pos\n",
              "125    122-78-1           0.672098       1.619771       1.431364        Pos\n",
              "126  17369-59-4           0.531479       1.351216       2.053078        Pos\n",
              "\n",
              "[107 rows x 5 columns]"
            ],
            "text/html": [
              "\n",
              "  <div id=\"df-a12c41c6-f111-401b-a256-7143ea9bc8ef\">\n",
              "    <div class=\"colab-df-container\">\n",
              "      <div>\n",
              "<style scoped>\n",
              "    .dataframe tbody tr th:only-of-type {\n",
              "        vertical-align: middle;\n",
              "    }\n",
              "\n",
              "    .dataframe tbody tr th {\n",
              "        vertical-align: top;\n",
              "    }\n",
              "\n",
              "    .dataframe thead th {\n",
              "        text-align: right;\n",
              "    }\n",
              "</style>\n",
              "<table border=\"1\" class=\"dataframe\">\n",
              "  <thead>\n",
              "    <tr style=\"text-align: right;\">\n",
              "      <th></th>\n",
              "      <th>CASRN</th>\n",
              "      <th>log_Median_NC_EC3</th>\n",
              "      <th>log_DPRA_mean</th>\n",
              "      <th>log_hCLAT_MIT</th>\n",
              "      <th>Model_pred</th>\n",
              "    </tr>\n",
              "  </thead>\n",
              "  <tbody>\n",
              "    <tr>\n",
              "      <th>0</th>\n",
              "      <td>35691-65-7</td>\n",
              "      <td>-0.045757</td>\n",
              "      <td>1.808211</td>\n",
              "      <td>0.995635</td>\n",
              "      <td>Pos</td>\n",
              "    </tr>\n",
              "    <tr>\n",
              "      <th>1</th>\n",
              "      <td>149-30-4</td>\n",
              "      <td>0.414973</td>\n",
              "      <td>1.687975</td>\n",
              "      <td>2.227887</td>\n",
              "      <td>Pos</td>\n",
              "    </tr>\n",
              "    <tr>\n",
              "      <th>2</th>\n",
              "      <td>104-55-2</td>\n",
              "      <td>0.060698</td>\n",
              "      <td>1.755494</td>\n",
              "      <td>1.447158</td>\n",
              "      <td>Pos</td>\n",
              "    </tr>\n",
              "    <tr>\n",
              "      <th>3</th>\n",
              "      <td>137-26-8</td>\n",
              "      <td>0.466868</td>\n",
              "      <td>1.725912</td>\n",
              "      <td>1.000000</td>\n",
              "      <td>Pos</td>\n",
              "    </tr>\n",
              "    <tr>\n",
              "      <th>4</th>\n",
              "      <td>69-72-7</td>\n",
              "      <td>1.086360</td>\n",
              "      <td>1.089905</td>\n",
              "      <td>3.000000</td>\n",
              "      <td>Pos</td>\n",
              "    </tr>\n",
              "    <tr>\n",
              "      <th>...</th>\n",
              "      <td>...</td>\n",
              "      <td>...</td>\n",
              "      <td>...</td>\n",
              "      <td>...</td>\n",
              "      <td>...</td>\n",
              "    </tr>\n",
              "    <tr>\n",
              "      <th>122</th>\n",
              "      <td>101-39-3</td>\n",
              "      <td>0.653213</td>\n",
              "      <td>1.292256</td>\n",
              "      <td>2.143015</td>\n",
              "      <td>Pos</td>\n",
              "    </tr>\n",
              "    <tr>\n",
              "      <th>123</th>\n",
              "      <td>111-80-8</td>\n",
              "      <td>0.397940</td>\n",
              "      <td>1.712650</td>\n",
              "      <td>2.282622</td>\n",
              "      <td>Pos</td>\n",
              "    </tr>\n",
              "    <tr>\n",
              "      <th>124</th>\n",
              "      <td>93-51-6</td>\n",
              "      <td>0.748188</td>\n",
              "      <td>0.759668</td>\n",
              "      <td>2.447158</td>\n",
              "      <td>Pos</td>\n",
              "    </tr>\n",
              "    <tr>\n",
              "      <th>125</th>\n",
              "      <td>122-78-1</td>\n",
              "      <td>0.672098</td>\n",
              "      <td>1.619771</td>\n",
              "      <td>1.431364</td>\n",
              "      <td>Pos</td>\n",
              "    </tr>\n",
              "    <tr>\n",
              "      <th>126</th>\n",
              "      <td>17369-59-4</td>\n",
              "      <td>0.531479</td>\n",
              "      <td>1.351216</td>\n",
              "      <td>2.053078</td>\n",
              "      <td>Pos</td>\n",
              "    </tr>\n",
              "  </tbody>\n",
              "</table>\n",
              "<p>107 rows × 5 columns</p>\n",
              "</div>\n",
              "      <button class=\"colab-df-convert\" onclick=\"convertToInteractive('df-a12c41c6-f111-401b-a256-7143ea9bc8ef')\"\n",
              "              title=\"Convert this dataframe to an interactive table.\"\n",
              "              style=\"display:none;\">\n",
              "        \n",
              "  <svg xmlns=\"http://www.w3.org/2000/svg\" height=\"24px\"viewBox=\"0 0 24 24\"\n",
              "       width=\"24px\">\n",
              "    <path d=\"M0 0h24v24H0V0z\" fill=\"none\"/>\n",
              "    <path d=\"M18.56 5.44l.94 2.06.94-2.06 2.06-.94-2.06-.94-.94-2.06-.94 2.06-2.06.94zm-11 1L8.5 8.5l.94-2.06 2.06-.94-2.06-.94L8.5 2.5l-.94 2.06-2.06.94zm10 10l.94 2.06.94-2.06 2.06-.94-2.06-.94-.94-2.06-.94 2.06-2.06.94z\"/><path d=\"M17.41 7.96l-1.37-1.37c-.4-.4-.92-.59-1.43-.59-.52 0-1.04.2-1.43.59L10.3 9.45l-7.72 7.72c-.78.78-.78 2.05 0 2.83L4 21.41c.39.39.9.59 1.41.59.51 0 1.02-.2 1.41-.59l7.78-7.78 2.81-2.81c.8-.78.8-2.07 0-2.86zM5.41 20L4 18.59l7.72-7.72 1.47 1.35L5.41 20z\"/>\n",
              "  </svg>\n",
              "      </button>\n",
              "      \n",
              "  <style>\n",
              "    .colab-df-container {\n",
              "      display:flex;\n",
              "      flex-wrap:wrap;\n",
              "      gap: 12px;\n",
              "    }\n",
              "\n",
              "    .colab-df-convert {\n",
              "      background-color: #E8F0FE;\n",
              "      border: none;\n",
              "      border-radius: 50%;\n",
              "      cursor: pointer;\n",
              "      display: none;\n",
              "      fill: #1967D2;\n",
              "      height: 32px;\n",
              "      padding: 0 0 0 0;\n",
              "      width: 32px;\n",
              "    }\n",
              "\n",
              "    .colab-df-convert:hover {\n",
              "      background-color: #E2EBFA;\n",
              "      box-shadow: 0px 1px 2px rgba(60, 64, 67, 0.3), 0px 1px 3px 1px rgba(60, 64, 67, 0.15);\n",
              "      fill: #174EA6;\n",
              "    }\n",
              "\n",
              "    [theme=dark] .colab-df-convert {\n",
              "      background-color: #3B4455;\n",
              "      fill: #D2E3FC;\n",
              "    }\n",
              "\n",
              "    [theme=dark] .colab-df-convert:hover {\n",
              "      background-color: #434B5C;\n",
              "      box-shadow: 0px 1px 3px 1px rgba(0, 0, 0, 0.15);\n",
              "      filter: drop-shadow(0px 1px 2px rgba(0, 0, 0, 0.3));\n",
              "      fill: #FFFFFF;\n",
              "    }\n",
              "  </style>\n",
              "\n",
              "      <script>\n",
              "        const buttonEl =\n",
              "          document.querySelector('#df-a12c41c6-f111-401b-a256-7143ea9bc8ef button.colab-df-convert');\n",
              "        buttonEl.style.display =\n",
              "          google.colab.kernel.accessAllowed ? 'block' : 'none';\n",
              "\n",
              "        async function convertToInteractive(key) {\n",
              "          const element = document.querySelector('#df-a12c41c6-f111-401b-a256-7143ea9bc8ef');\n",
              "          const dataTable =\n",
              "            await google.colab.kernel.invokeFunction('convertToInteractive',\n",
              "                                                     [key], {});\n",
              "          if (!dataTable) return;\n",
              "\n",
              "          const docLinkHtml = 'Like what you see? Visit the ' +\n",
              "            '<a target=\"_blank\" href=https://colab.research.google.com/notebooks/data_table.ipynb>data table notebook</a>'\n",
              "            + ' to learn more about interactive tables.';\n",
              "          element.innerHTML = '';\n",
              "          dataTable['output_type'] = 'display_data';\n",
              "          await google.colab.output.renderOutput(dataTable, element);\n",
              "          const docLink = document.createElement('div');\n",
              "          docLink.innerHTML = docLinkHtml;\n",
              "          element.appendChild(docLink);\n",
              "        }\n",
              "      </script>\n",
              "    </div>\n",
              "  </div>\n",
              "  "
            ]
          },
          "metadata": {},
          "execution_count": 20
        }
      ],
      "source": [
        "CosEu1 [['log_DPRA_mean','log_hCLAT_MIT']]\n",
        "CosEu1"
      ]
    },
    {
      "cell_type": "code",
      "execution_count": 21,
      "metadata": {
        "colab": {
          "base_uri": "https://localhost:8080/"
        },
        "id": "meFx5OvZIG49",
        "outputId": "43f11427-5967-4410-925f-d57fc639435d"
      },
      "outputs": [
        {
          "output_type": "execute_result",
          "data": {
            "text/plain": [
              "(139, 1)"
            ]
          },
          "metadata": {},
          "execution_count": 21
        }
      ],
      "source": [
        "#Defining target and predictors for first set of data\n",
        "TargetVariable=['logLLNAthreshold']\n",
        "Predictors=['logDPRA','logMinhCLAT']\n",
        "X=df1[Predictors]\n",
        "y=df1[TargetVariable]\n",
        "#All data were scaled before splitting \n",
        "PredictorScaler=MinMaxScaler()\n",
        "TargetVarScaler=MinMaxScaler()\n",
        "#Storing the fit object for later reference\n",
        "PredictorScalerFit=PredictorScaler.fit(X)\n",
        "TargetVarScalerFit=TargetVarScaler.fit(y)\n",
        "# Generating the standardized values of X and y\n",
        "scaled_X=PredictorScalerFit.transform(X)\n",
        "scaled_y=TargetVarScalerFit.transform(y)\n",
        "scaled_y.shape"
      ]
    },
    {
      "cell_type": "code",
      "execution_count": 22,
      "metadata": {
        "colab": {
          "base_uri": "https://localhost:8080/"
        },
        "id": "cie1FUNInQaZ",
        "outputId": "097a783f-05bc-4387-cab9-e6c2c3b38872"
      },
      "outputs": [
        {
          "output_type": "execute_result",
          "data": {
            "text/plain": [
              "(107, 1)"
            ]
          },
          "metadata": {},
          "execution_count": 22
        }
      ],
      "source": [
        "TargetVariable=['log_Median_NC_EC3']\n",
        "Predictors=['log_DPRA_mean','log_hCLAT_MIT']\n",
        "X=CosEu1[Predictors]\n",
        "y=CosEu1[TargetVariable]\n",
        "PredictorScalerFit=PredictorScaler.fit(X)\n",
        "TargetVarScalerFit=TargetVarScaler.fit(y)\n",
        "# Generating the standardized values of X and y\n",
        "ex_x=PredictorScalerFit.transform(X)\n",
        "ex_y=TargetVarScalerFit.transform(y)\n",
        "ex_y.shape\n",
        "#ALL EXTERNAL  DATA WERE SCALED USING MIN-MAX SCALA\n",
        "#TESTING WITH EXTERNAL DATASET\n",
        "\n"
      ]
    },
    {
      "cell_type": "code",
      "execution_count": 26,
      "metadata": {
        "colab": {
          "base_uri": "https://localhost:8080/",
          "height": 364
        },
        "id": "jqjjAV12uvWZ",
        "outputId": "fca33239-f660-4e7c-da2e-8eb726027fe2"
      },
      "outputs": [
        {
          "output_type": "execute_result",
          "data": {
            "text/plain": [
              "<matplotlib.axes._subplots.AxesSubplot at 0x7fd3da9fb100>"
            ]
          },
          "metadata": {},
          "execution_count": 26
        },
        {
          "output_type": "display_data",
          "data": {
            "text/plain": [
              "<Figure size 576x396 with 1 Axes>"
            ],
            "image/png": "[encoded data removed]"
          },
          "metadata": {}
        }
      ],
      "source": [
        "import seaborn as sns\n",
        "sns.boxplot(data=X_train)"
      ]
    },
    {
      "cell_type": "code",
      "execution_count": 25,
      "metadata": {
        "id": "82r0UmghuTYJ",
        "colab": {
          "base_uri": "https://localhost:8080/",
          "height": 364
        },
        "outputId": "203aa7b4-e06d-4fca-be87-1c8e68e30c0d"
      },
      "outputs": [
        {
          "output_type": "execute_result",
          "data": {
            "text/plain": [
              "<matplotlib.axes._subplots.AxesSubplot at 0x7fd3db0b7b50>"
            ]
          },
          "metadata": {},
          "execution_count": 25
        },
        {
          "output_type": "display_data",
          "data": {
            "text/plain": [
              "<Figure size 576x396 with 1 Axes>"
            ],
            "image/png": "[encoded data removed]"
          },
          "metadata": {}
        }
      ],
      "source": [
        "import seaborn as sns\n",
        "sns.boxplot(data=X_test)"
      ]
    },
    {
      "cell_type": "code",
      "execution_count": 24,
      "metadata": {
        "id": "J8RfaPP1NCjQ",
        "colab": {
          "base_uri": "https://localhost:8080/",
          "height": 364
        },
        "outputId": "c1c03030-26f1-446f-ab34-c55a980939e9"
      },
      "outputs": [
        {
          "output_type": "execute_result",
          "data": {
            "text/plain": [
              "<matplotlib.axes._subplots.AxesSubplot at 0x7fd3dafdb160>"
            ]
          },
          "metadata": {},
          "execution_count": 24
        },
        {
          "output_type": "display_data",
          "data": {
            "text/plain": [
              "<Figure size 576x396 with 1 Axes>"
            ],
            "image/png": "[encoded data removed]"
          },
          "metadata": {}
        }
      ],
      "source": [
        "import seaborn as sns\n",
        "sns.boxplot(data=ex_x)"
      ]
    },
    {
      "cell_type": "code",
      "execution_count": null,
      "metadata": {
        "id": "zn0hQ6vGb4KL"
      },
      "outputs": [],
      "source": [
        "#Adding polynomial features(CHOATIC)\n",
        "#poly=PolynomialFeatures(degree=6, include_bias=False)\n",
        "#poly_features = poly.fit_transform(scaled_X)\n",
        "#X_train, X_test, y_train, y_test = train_test_split(poly_features, scaled_y, test_size=0.2, random_state=0)"
      ]
    },
    {
      "cell_type": "code",
      "execution_count": 23,
      "metadata": {
        "id": "HTLpaa9raSbX"
      },
      "outputs": [],
      "source": [
        "# Split the data into training and testing set\n",
        "X_train, X_test, y_train, y_test = train_test_split(scaled_X, scaled_y, test_size=0.2, random_state=0)\n",
        "\n"
      ]
    },
    {
      "cell_type": "code",
      "execution_count": 27,
      "metadata": {
        "colab": {
          "base_uri": "https://localhost:8080/"
        },
        "id": "nxDrhOHsb1Wd",
        "outputId": "f43cedb8-f0fc-49b9-c9a7-520d8107cdb2"
      },
      "outputs": [
        {
          "output_type": "stream",
          "name": "stdout",
          "text": [
            "(111, 2)\n",
            "(111, 1)\n",
            "(28, 2)\n",
            "(28, 1)\n"
          ]
        }
      ],
      "source": [
        "#Checking shape of the trainset and test set\n",
        "print(X_train.shape)\n",
        "print(y_train.shape)\n",
        "print(X_test.shape)\n",
        "print(y_test.shape)\n",
        "#different activation function['identity', 'logistic', 'relu', 'softmax', 'tanh']"
      ]
    },
    {
      "cell_type": "code",
      "execution_count": 28,
      "metadata": {
        "colab": {
          "base_uri": "https://localhost:8080/"
        },
        "id": "0fyGS-59pBHu",
        "outputId": "c666dee3-7ec6-4e3b-e155-df08dcd674b3"
      },
      "outputs": [
        {
          "output_type": "stream",
          "name": "stdout",
          "text": [
            "train-score 0.5422564944562156\n",
            "test_score 0.6899936967243685\n"
          ]
        }
      ],
      "source": [
        "model = MLPRegressor(hidden_layer_sizes=(5,2),\n",
        "                     activation='logistic',\n",
        "                     random_state=42,\n",
        "                     learning_rate_init=0.02,\n",
        "                     momentum=0.7,\n",
        "                     max_iter=500,\n",
        "                     solver='lbfgs'\n",
        "                    )\n",
        "\n",
        "\n",
        "\n",
        "# Fit the model on the training data\n",
        "model.fit(X_train, y_train)\n",
        "\n",
        "# Predict the target values on the test data\n",
        "y_pred = model.predict(X_test)\n",
        "train_score=model.score(X_train, y_train)\n",
        "test_score=model.score(X_test, y_test)\n",
        "print('train-score',train_score)\n",
        "print('test_score',test_score)"
      ]
    },
    {
      "cell_type": "code",
      "execution_count": 29,
      "metadata": {
        "colab": {
          "base_uri": "https://localhost:8080/"
        },
        "id": "o4ZK-qrXsV9q",
        "outputId": "bb82b6e4-c232-4dd3-822c-a5eede615547"
      },
      "outputs": [
        {
          "output_type": "stream",
          "name": "stdout",
          "text": [
            "The Score with  0.5278064252437888\n",
            "the mean squared error 0.018872832998162864\n"
          ]
        }
      ],
      "source": [
        "y_pred=model.predict(X_test)\n",
        "print('The Score with ',(r2_score(y_pred, y_test)))\n",
        "print('the mean squared error',(mean_squared_error(y_pred, y_test)))"
      ]
    },
    {
      "cell_type": "markdown",
      "metadata": {
        "id": "1X3uUaRA6OSs"
      },
      "source": [
        "RESERVED CODE"
      ]
    },
    {
      "cell_type": "code",
      "execution_count": null,
      "metadata": {
        "id": "fnlb9ElA6Tqw"
      },
      "outputs": [],
      "source": [
        "# Get the weights of the model\n",
        "weights = [model.coefs_,model.intercepts_]\n",
        "\n",
        "# Perturb the weights by a random amount within the range (-5, 5)\n",
        "perturbed_weights = []\n",
        "for i in range(len(weights)):\n",
        "    layer_weights = []\n",
        "    for j in range(len(weights[i])):\n",
        "        layer_weights.append(weights[i][j]+np.random.uniform(low=-5, high=5, size=weights[i][j].shape))\n",
        "    perturbed_weights.append(layer_weights)\n",
        "model.coefs_ = perturbed_weights[0]\n",
        "model.intercepts_ = perturbed_weights[1]"
      ]
    },
    {
      "cell_type": "code",
      "execution_count": null,
      "metadata": {
        "id": "jC3QmBlZNGqZ"
      },
      "outputs": [],
      "source": [
        "#Checking weights\n",
        "print(model.coefs_)"
      ]
    },
    {
      "cell_type": "code",
      "execution_count": null,
      "metadata": {
        "id": "BzCmrDKzN7xs"
      },
      "outputs": [],
      "source": [
        "#Checking for bias\n",
        "print(model.intercepts_)"
      ]
    },
    {
      "cell_type": "code",
      "execution_count": null,
      "metadata": {
        "id": "BIfSEsw6R-vu"
      },
      "outputs": [],
      "source": [
        "W=model.coefs_\n",
        "b=model.intercepts_"
      ]
    },
    {
      "cell_type": "code",
      "execution_count": null,
      "metadata": {
        "colab": {
          "base_uri": "https://localhost:8080/",
          "height": 393
        },
        "id": "8OKm01qz5fns",
        "outputId": "b03f4c28-661b-4f00-b145-bc0ed517fc2d"
      },
      "outputs": [
        {
          "data": {
            "image/png": "[encoded data removed]",
            "text/plain": [
              "<Figure size 576x396 with 1 Axes>"
            ]
          },
          "metadata": {},
          "output_type": "display_data"
        },
        {
          "data": {
            "text/plain": [
              "<matplotlib.axes._subplots.AxesSubplot at 0x7fef7a9f42e0>"
            ]
          },
          "execution_count": 30,
          "metadata": {},
          "output_type": "execute_result"
        }
      ],
      "source": [
        "import yellowbrick\n",
        "from yellowbrick.model_selection import LearningCurve\n",
        "cv = KFold(n_splits=5, random_state=13, shuffle=True)#\n",
        "# Create the learning curve visualizer\n",
        "visualizer = LearningCurve(model, cv=cv,scoring='r2')\n",
        "\n",
        "# Fit the visualizer and display the learning curve\n",
        "visualizer.fit(X_train, y_train)\n",
        "visualizer.show()"
      ]
    },
    {
      "cell_type": "markdown",
      "metadata": {
        "id": "Chiqcd-y-0Tl"
      },
      "source": [
        "5 FOLD CROSS VALIDATION TRAIN SET"
      ]
    },
    {
      "cell_type": "code",
      "execution_count": null,
      "metadata": {
        "colab": {
          "base_uri": "https://localhost:8080/"
        },
        "id": "a5aWaVpf4crd",
        "outputId": "a8cf367a-ef7b-493b-a7e7-4c2efcffe61e"
      },
      "outputs": [
        {
          "data": {
            "text/plain": [
              "0.4582711784194693"
            ]
          },
          "execution_count": 31,
          "metadata": {},
          "output_type": "execute_result"
        }
      ],
      "source": [
        "#implementing the 5 fold cross validation for r2 score on train set#28\n",
        "cv = KFold(n_splits=5,random_state=28,shuffle=True)\n",
        "scores = cross_val_score(model,X_train, y_train,scoring='r2', cv=cv)\n",
        "scores.mean()"
      ]
    },
    {
      "cell_type": "code",
      "execution_count": null,
      "metadata": {
        "colab": {
          "base_uri": "https://localhost:8080/"
        },
        "id": "bwGvs8VSBtRp",
        "outputId": "c1aed48e-8aef-40a6-d1f7-b1abae93c286"
      },
      "outputs": [
        {
          "name": "stdout",
          "output_type": "stream",
          "text": [
            "the root mean squared erro 0.16169312029249333\n",
            "the mean squared error 0.026144665149922718\n"
          ]
        }
      ],
      "source": [
        "#implementing the 5 fold cross validation for MSE & RMSE on train set\n",
        "\n",
        "#scoring=['cv = KFold(n_splits=5, random_state=0, shuffle=True)eg_mean_squared_error']\n",
        "scores = cross_val_score(model,X_train, y_train, scoring='neg_mean_squared_error', cv=cv)\n",
        "RMSE=sqrt(mean(absolute(scores)))\n",
        "MSE=(mean(absolute(scores)))\n",
        "print('the root mean squared erro',RMSE)\n",
        "print('the mean squared error',MSE)\n"
      ]
    },
    {
      "cell_type": "code",
      "execution_count": null,
      "metadata": {
        "colab": {
          "base_uri": "https://localhost:8080/"
        },
        "id": "-CLqOaJE_vFL",
        "outputId": "05928592-de67-4d26-ed98-91179ebe5838"
      },
      "outputs": [
        {
          "name": "stdout",
          "output_type": "stream",
          "text": [
            "r2 after CV 0.4705260039613144\n",
            "MSE AFTER CV: 0.02659874945281078\n",
            "RMSE AFTER CV: 0.16309123045955223\n"
          ]
        }
      ],
      "source": [
        "#model performance for predicted outcomes after 5-fold cross validation#12\n",
        "cv = KFold(n_splits=5, random_state=12, shuffle=True)\n",
        "pred = cross_val_predict(model, X_train, y_train, cv=cv)\n",
        "\n",
        "R2 = metrics.r2_score(y_train,pred)\n",
        "MSE=metrics.mean_squared_error(y_train, pred)\n",
        "RMSE=sqrt(MSE)\n",
        "print('r2 after CV',R2)\n",
        "print ('MSE AFTER CV:', MSE)\n",
        "print('RMSE AFTER CV:',RMSE)"
      ]
    },
    {
      "cell_type": "markdown",
      "metadata": {
        "id": "Dds8oBLR_A4H"
      },
      "source": [
        "5 FOLD CROSS VALIDATION TEST SET"
      ]
    },
    {
      "cell_type": "code",
      "execution_count": null,
      "metadata": {
        "colab": {
          "base_uri": "https://localhost:8080/"
        },
        "id": "yTEZAhHJ_WJO",
        "outputId": "25e5a357-8aad-4b32-9c22-738496e95f6a"
      },
      "outputs": [
        {
          "data": {
            "text/plain": [
              "0.3834190985738406"
            ]
          },
          "execution_count": 36,
          "metadata": {},
          "output_type": "execute_result"
        }
      ],
      "source": [
        "#implementing the 5 fold cross validation for r2 score on train set#24\n",
        "cv = KFold(n_splits=5, random_state=24, shuffle=True)\n",
        "#scoring=['neg_mean_squared_error']\n",
        "scores = cross_val_score(model, X_test,y_test, scoring='r2', cv=cv)\n",
        "scores.mean()"
      ]
    },
    {
      "cell_type": "code",
      "execution_count": null,
      "metadata": {
        "colab": {
          "base_uri": "https://localhost:8080/"
        },
        "id": "_hJdW5g2hUsF",
        "outputId": "223dd0be-0591-41f3-9c9f-02f464d28346"
      },
      "outputs": [
        {
          "name": "stdout",
          "output_type": "stream",
          "text": [
            "the root mean squared erro 0.13219942920906372\n",
            "the mean squared error 0.01747668908320225\n"
          ]
        }
      ],
      "source": [
        "#implementing the 5 fold cross validation for MSE & RMSE on test set\n",
        "cv = KFold(n_splits=5, random_state=28, shuffle=True)#28\n",
        "#scoring=['neg_mean_squared_error']\n",
        "scores = cross_val_score(model, X_test, y_test, scoring='neg_mean_squared_error', cv=cv)\n",
        "RMSE=sqrt(mean(absolute(scores)))\n",
        "MSE=(mean(absolute(scores)))\n",
        "print('the root mean squared erro',RMSE)\n",
        "print('the mean squared error',MSE)"
      ]
    },
    {
      "cell_type": "code",
      "execution_count": null,
      "metadata": {
        "colab": {
          "base_uri": "https://localhost:8080/",
          "height": 497
        },
        "id": "NN0UIzekguKD",
        "outputId": "45af4cd5-1234-46b2-fd01-7af73776f8fe"
      },
      "outputs": [
        {
          "data": {
            "image/png": "[encoded data removed]",
            "text/plain": [
              "<Figure size 576x396 with 1 Axes>"
            ]
          },
          "metadata": {},
          "output_type": "display_data"
        },
        {
          "data": {
            "text/plain": [
              "CVScores(ax=<matplotlib.axes._subplots.AxesSubplot object at 0x7f1084f54fd0>,\n",
              "         cv=KFold(n_splits=5, random_state=28, shuffle=True),\n",
              "         estimator=MLPRegressor(activation='logistic',\n",
              "                                hidden_layer_sizes=(5, 2),\n",
              "                                learning_rate_init=0.02, max_iter=500,\n",
              "                                momentum=0.7, random_state=42, solver='lbfgs'),\n",
              "         scoring='r2')"
            ]
          },
          "execution_count": 38,
          "metadata": {},
          "output_type": "execute_result"
        }
      ],
      "source": [
        "##28\n",
        "from yellowbrick.model_selection import cv_scores\n",
        "cv_scores(\n",
        "    model,\n",
        "    X_train,\n",
        "    y_train,\n",
        "    cv=cv,\n",
        "    n_jobs=-1,\n",
        "    scoring='r2',\n",
        "    random_state=28)"
      ]
    },
    {
      "cell_type": "code",
      "execution_count": null,
      "metadata": {
        "colab": {
          "base_uri": "https://localhost:8080/"
        },
        "id": "ZrJzviM58dME",
        "outputId": "62651d96-96f1-45e0-a478-e63ec94cb491"
      },
      "outputs": [
        {
          "name": "stdout",
          "output_type": "stream",
          "text": [
            "r2 after CV 0.06067806917795859\n",
            "MSE AFTER CV: 0.05718485638711137\n",
            "RMSE AFTER CV: 0.2391335534531099\n"
          ]
        }
      ],
      "source": [
        "#model performance for predicted outcomes after 5-fold cross validation\n",
        "cv = KFold(n_splits=5, random_state=0, shuffle=True)#2\n",
        "pred = cross_val_predict(model, X_test, y_test, cv=cv)\n",
        "\n",
        "R2 = metrics.r2_score(y_test, pred)\n",
        "MSE=metrics.mean_squared_error(y_test, pred)\n",
        "RMSE=sqrt(MSE)\n",
        "print('r2 after CV',R2)\n",
        "print ('MSE AFTER CV:', MSE)\n",
        "print('RMSE AFTER CV:',RMSE)"
      ]
    },
    {
      "cell_type": "markdown",
      "metadata": {
        "id": "YTd1wpb9WqJm"
      },
      "source": [
        "TEN FOLD CROSS VALIDATION TRAIN SET"
      ]
    },
    {
      "cell_type": "code",
      "execution_count": null,
      "metadata": {
        "colab": {
          "base_uri": "https://localhost:8080/"
        },
        "id": "a7no_s25dgIz",
        "outputId": "b7ec23e3-0f74-4dc3-be85-5c68953ed14a"
      },
      "outputs": [
        {
          "data": {
            "text/plain": [
              "0.44089618897308486"
            ]
          },
          "execution_count": 40,
          "metadata": {},
          "output_type": "execute_result"
        }
      ],
      "source": [
        "#implementing the 10 fold cross validation for r2 score on  train set#13\n",
        "cv = KFold(n_splits=10, random_state=13, shuffle=True)#13\n",
        "#scoring=['neg_mean_squared_error']\n",
        "scores = cross_val_score(model, X_train,y_train, scoring='r2', cv=cv)\n",
        "scores.mean()"
      ]
    },
    {
      "cell_type": "code",
      "execution_count": null,
      "metadata": {
        "colab": {
          "base_uri": "https://localhost:8080/",
          "height": 497
        },
        "id": "eB3iTHCU8W3v",
        "outputId": "e389cc36-13b0-4e39-bd5f-8aa2b62354be"
      },
      "outputs": [
        {
          "data": {
            "image/png": "[encoded data removed]",
            "text/plain": [
              "<Figure size 576x396 with 1 Axes>"
            ]
          },
          "metadata": {},
          "output_type": "display_data"
        },
        {
          "data": {
            "text/plain": [
              "CVScores(ax=<matplotlib.axes._subplots.AxesSubplot object at 0x7f1084ecb850>,\n",
              "         cv=KFold(n_splits=10, random_state=13, shuffle=True),\n",
              "         estimator=MLPRegressor(activation='logistic',\n",
              "                                hidden_layer_sizes=(5, 2),\n",
              "                                learning_rate_init=0.02, max_iter=500,\n",
              "                                momentum=0.7, random_state=42, solver='lbfgs'),\n",
              "         scoring='r2')"
            ]
          },
          "execution_count": 41,
          "metadata": {},
          "output_type": "execute_result"
        }
      ],
      "source": [
        "# validation score for cv=10\n",
        "cv = KFold(n_splits=10, random_state=13, shuffle=True)#13\n",
        "cv_scores(\n",
        "    model,\n",
        "    X_train,\n",
        "    y_train,\n",
        "    cv=cv,\n",
        "    n_jobs=-1,\n",
        "    scoring='r2',\n",
        "    random_state=13)"
      ]
    },
    {
      "cell_type": "code",
      "execution_count": null,
      "metadata": {
        "colab": {
          "base_uri": "https://localhost:8080/"
        },
        "id": "HSWesfb62pst",
        "outputId": "dcd2cf61-567a-45f6-818f-0f286f1f244b"
      },
      "outputs": [
        {
          "name": "stdout",
          "output_type": "stream",
          "text": [
            "the root mean squared erro 0.1608572916870331\n",
            "the mean squared error 0.02587506828888725\n"
          ]
        }
      ],
      "source": [
        "#implementing the 10 fold cross validation for RMSE & MSE on train set\n",
        "cv = KFold(n_splits=10, random_state=42, shuffle=True)\n",
        "#scoring=['neg_mean_squared_error']\n",
        "pred_cv1 = cross_val_score(model, X_train, y_train, scoring='neg_mean_squared_error', cv=cv)\n",
        "RMSE=sqrt(mean(absolute(pred_cv1)))\n",
        "MSE=(absolute(mean(pred_cv1)))\n",
        "print('the root mean squared erro',RMSE)\n",
        "print('the mean squared error',MSE)"
      ]
    },
    {
      "cell_type": "code",
      "execution_count": null,
      "metadata": {
        "colab": {
          "base_uri": "https://localhost:8080/"
        },
        "id": "uHEOCrFGBHvE",
        "outputId": "48e6b7ae-a452-42ac-c724-07ae4d286253"
      },
      "outputs": [
        {
          "name": "stdout",
          "output_type": "stream",
          "text": [
            "r2 after CV 0.4715419003186946\n",
            "MSE AFTER CV: 0.026547714703451717\n",
            "RMSE AFTER CV: 0.1629346945971045\n"
          ]
        }
      ],
      "source": [
        "cv = KFold(n_splits=10, random_state=0, shuffle=True)#5\n",
        "pred = cross_val_predict(model, X_train, y_train, cv=cv)\n",
        "\n",
        "R2 = metrics.r2_score(y_train, pred)\n",
        "MSE=metrics.mean_squared_error(y_train, pred)\n",
        "RMSE=sqrt(MSE)\n",
        "print('r2 after CV',R2)\n",
        "print ('MSE AFTER CV:', MSE)\n",
        "print('RMSE AFTER CV:',RMSE)\n"
      ]
    },
    {
      "cell_type": "markdown",
      "metadata": {
        "id": "0Yn6tBpcAhn1"
      },
      "source": [
        "10 FOLD CROSS VALIDATION TEST SET"
      ]
    },
    {
      "cell_type": "code",
      "execution_count": null,
      "metadata": {
        "colab": {
          "base_uri": "https://localhost:8080/"
        },
        "id": "O5CyBz5JA5Jn",
        "outputId": "c71dd7c6-a8ec-41ef-ffa7-ba262850e089"
      },
      "outputs": [
        {
          "data": {
            "text/plain": [
              "0.3875480742745022"
            ]
          },
          "execution_count": 44,
          "metadata": {},
          "output_type": "execute_result"
        }
      ],
      "source": [
        "#implementing the 10 fold cross validation for r2 score on  test set#8\n",
        "cv = KFold(n_splits=10, random_state=8, shuffle=True)#8\n",
        "#scoring=['neg_mean_squared_error']\n",
        "scores = cross_val_score(model, X_test,y_test, scoring='r2', cv=cv)\n",
        "scores.mean()"
      ]
    },
    {
      "cell_type": "code",
      "execution_count": null,
      "metadata": {
        "colab": {
          "base_uri": "https://localhost:8080/"
        },
        "id": "U_pCKFPTncDN",
        "outputId": "b6fc3950-273a-4944-d95c-087312b71043"
      },
      "outputs": [
        {
          "name": "stdout",
          "output_type": "stream",
          "text": [
            "the root mean squared erro 0.14268400937858497\n",
            "the mean squared error 0.02035872653234812\n"
          ]
        }
      ],
      "source": [
        "#implementing the 10 fold cross validation for RMSE & MSE score the model for test set\n",
        "cv = KFold(n_splits=10, random_state=8, shuffle=True)#8\n",
        "#scoring=['neg_mean_squared_error']\n",
        "scores = cross_val_score(model, X_test,y_test, scoring='neg_mean_squared_error', cv=cv)\n",
        "RMSE=sqrt(mean(absolute(scores)))\n",
        "MSE=(absolute(mean(scores)))\n",
        "print('the root mean squared erro',RMSE)\n",
        "print('the mean squared error',MSE)"
      ]
    },
    {
      "cell_type": "code",
      "execution_count": null,
      "metadata": {
        "colab": {
          "base_uri": "https://localhost:8080/"
        },
        "id": "MYucJylo4O9r",
        "outputId": "67ab75e0-ef76-4c86-9e66-a5bb20f01361"
      },
      "outputs": [
        {
          "name": "stdout",
          "output_type": "stream",
          "text": [
            "r2 after CV 0.6669038670222189\n",
            "MSE AFTER CV: 0.020278515706289087\n",
            "RMSE AFTER CV: 0.14240265343837202\n"
          ]
        }
      ],
      "source": [
        "pred = cross_val_predict(model, X_test, y_test, cv=cv)\n",
        "\n",
        "R2 = metrics.r2_score(y_test, pred)\n",
        "MSE=metrics.mean_squared_error(y_test, pred)\n",
        "RMSE=sqrt(MSE)\n",
        "print('r2 after CV',R2)\n",
        "print ('MSE AFTER CV:', MSE)\n",
        "print('RMSE AFTER CV:',RMSE)"
      ]
    },
    {
      "cell_type": "markdown",
      "metadata": {
        "id": "-U8oR1QYBgoi"
      },
      "source": [
        "LEAVE OUT ONE CROSS VALIDATION TRAIN SET"
      ]
    },
    {
      "cell_type": "code",
      "execution_count": null,
      "metadata": {
        "colab": {
          "base_uri": "https://localhost:8080/"
        },
        "id": "ytvBToCsIqm-",
        "outputId": "e184287c-d3b0-4e0e-e84a-57d4f62c6097"
      },
      "outputs": [
        {
          "name": "stdout",
          "output_type": "stream",
          "text": [
            "the root mean squared erro 0.16394958661632358\n",
            "the mean squared error 0.026879466951663385\n"
          ]
        }
      ],
      "source": [
        "#EVALUATING THE MODEL WITH LEAVE ONE OUT On train set\n",
        "cv=LeaveOneOut()\n",
        "\n",
        "scores = cross_val_score(model,X_train, y_train, scoring='neg_mean_squared_error',\n",
        "                         cv=cv)\n",
        "RMSE=sqrt(mean(absolute(scores)))\n",
        "MSE=(absolute(mean(scores)))\n",
        "print('the root mean squared erro',RMSE)\n",
        "print('the mean squared error',MSE)"
      ]
    },
    {
      "cell_type": "code",
      "execution_count": null,
      "metadata": {
        "colab": {
          "base_uri": "https://localhost:8080/"
        },
        "id": "4n9c-8WqE5Z2",
        "outputId": "073be8b2-d985-4aeb-8370-9709571bd986"
      },
      "outputs": [
        {
          "name": "stdout",
          "output_type": "stream",
          "text": [
            "r2 after CV 0.464938048928347\n",
            "MSE AFTER CV: 0.026879466951663385\n",
            "RMSE AFTER CV: 0.16394958661632358\n"
          ]
        }
      ],
      "source": [
        "cv=LeaveOneOut()\n",
        "pred = cross_val_predict(model, X_train, y_train, cv=cv)\n",
        "R2 = metrics.r2_score(y_train, pred)\n",
        "MSE=metrics.mean_squared_error(y_train, pred)\n",
        "RMSE=sqrt(MSE)\n",
        "print('r2 after CV',R2)\n",
        "print ('MSE AFTER CV:', MSE)\n",
        "print('RMSE AFTER CV:',RMSE)"
      ]
    },
    {
      "cell_type": "markdown",
      "metadata": {
        "id": "mornppUMBzHh"
      },
      "source": [
        "LEAVE OUT ONE CROSS VALIDATION TEST SET"
      ]
    },
    {
      "cell_type": "code",
      "execution_count": null,
      "metadata": {
        "colab": {
          "base_uri": "https://localhost:8080/"
        },
        "id": "1MwdRhp9uRRU",
        "outputId": "d2d67986-5d86-41f5-e39a-f59700fc67d8"
      },
      "outputs": [
        {
          "name": "stdout",
          "output_type": "stream",
          "text": [
            "the root mean squared erro 0.13657783241408955\n",
            "the mean squared error 0.01865350430693113\n"
          ]
        }
      ],
      "source": [
        "#EVALUATING THE MODEL WITH LEAVE ONE OUT On test set\n",
        "cv=LeaveOneOut()\n",
        "\n",
        "scores = cross_val_score(model,X_test, y_test, scoring='neg_mean_squared_error',\n",
        "                         cv=cv)\n",
        "RMSE=sqrt(mean(absolute(scores)))\n",
        "MSE=(absolute(mean(scores)))\n",
        "print('the root mean squared erro',RMSE)\n",
        "print('the mean squared error',MSE)"
      ]
    },
    {
      "cell_type": "code",
      "execution_count": null,
      "metadata": {
        "colab": {
          "base_uri": "https://localhost:8080/"
        },
        "id": "1mC7p6i_FBmu",
        "outputId": "ea8b1859-2e8e-4fb0-b73a-a6c9a719bd8d"
      },
      "outputs": [
        {
          "name": "stdout",
          "output_type": "stream",
          "text": [
            "r2 after CV 0.6935964031531093\n",
            "MSE AFTER CV: 0.01865350430693113\n",
            "RMSE AFTER CV: 0.13657783241408955\n"
          ]
        }
      ],
      "source": [
        "cv=LeaveOneOut()\n",
        "pred = cross_val_predict(model, X_test, y_test, cv=cv)\n",
        "R2 = metrics.r2_score(y_test, pred)\n",
        "MSE=metrics.mean_squared_error(y_test, pred)\n",
        "RMSE=sqrt(MSE)\n",
        "print('r2 after CV',R2)\n",
        "print ('MSE AFTER CV:', MSE)\n",
        "print('RMSE AFTER CV:',RMSE)\n"
      ]
    },
    {
      "cell_type": "code",
      "execution_count": null,
      "metadata": {
        "id": "MQY1zbP6eQfY"
      },
      "outputs": [],
      "source": [
        "sklearn.metrics.SCORERS.keys()"
      ]
    },
    {
      "cell_type": "code",
      "execution_count": null,
      "metadata": {
        "colab": {
          "base_uri": "https://localhost:8080/"
        },
        "id": "Ym479plnwwKE",
        "outputId": "86261a11-7902-417d-e164-4c2731d4eeb1"
      },
      "outputs": [
        {
          "name": "stdout",
          "output_type": "stream",
          "text": [
            "0.6445558302224976\n"
          ]
        }
      ],
      "source": [
        "cv=LeaveOneOut()\n",
        "y_pred = cross_val_predict(model, X_test, y_test, cv=cv)\n",
        "r2_loocv= r2_score(y_pred,y_test)\n",
        "print(r2_loocv)"
      ]
    },
    {
      "cell_type": "markdown",
      "metadata": {
        "id": "ra_bLV1IuJKl"
      },
      "source": [
        "GRID SEARCH CV USING RF MODEL WITH ALL 2 FEATURES TO ACCESS CV TEST AND TRAIN SCORE K=10"
      ]
    },
    {
      "cell_type": "code",
      "execution_count": null,
      "metadata": {
        "id": "GrrB-fZlDet0"
      },
      "outputs": [],
      "source": [
        "#performing hyperperemeter tuning with grid sreach cross validation with REF using feature selection of 2 feature: this allowed to see the training and test score on the training s\n",
        "folds = KFold(n_splits = 10, shuffle = True, random_state = 100)\n",
        "hyper_params = [{'n_features_to_select':list(range(1, len(X_train.columns)+1)) }]\n",
        "model_G = MLPRegressor(hidden_layer_sizes=(5,2),activation=\"logistic\" ,random_state=1, learning_rate_init=0.02,momentum=0.7, max_iter=500,solver='lbfgs')\n",
        "lm = model_G\n",
        "lm.fit(X_train, y_train)\n",
        "rfe = RFE(lm) \n",
        "\n",
        "#rfe.support_  \n",
        "model_cv = GridSearchCV(estimator = rfe, \n",
        "                        param_grid= hyper_params,\n",
        "                        scoring= 'r2',\n",
        "                        cv = folds, \n",
        "                        verbose = 1,\n",
        "                        return_train_score=True) \n",
        "\n",
        "\n",
        "model_cv.fit(X_train,y_train)"
      ]
    },
    {
      "cell_type": "code",
      "execution_count": null,
      "metadata": {
        "id": "MesYRIFZtyFr"
      },
      "outputs": [],
      "source": [
        "cv_results = pd.DataFrame(model_cv.cv_results_)\n",
        "cv_results\n"
      ]
    },
    {
      "cell_type": "markdown",
      "metadata": {
        "id": "nz_MClLMuTWo"
      },
      "source": [
        "GRID SERACH CV FOR SELECTING BEST OPTIMIZER AND ACTIVATION FUNCTIONS"
      ]
    },
    {
      "cell_type": "code",
      "execution_count": null,
      "metadata": {
        "id": "BT-VFRdAXDy2"
      },
      "outputs": [],
      "source": [
        "cv=KFold(n_splits=5,shuffle=True,random_state=0)"
      ]
    },
    {
      "cell_type": "code",
      "execution_count": null,
      "metadata": {
        "id": "3Wue4Lopr4P0"
      },
      "outputs": [],
      "source": [
        "#performing Gridsearch for TESTING DIFFERENT OPTIMIZER\n",
        "# define the grid search parameters\n",
        "model=model\n",
        "param = {\n",
        "    'solver':['adam','sgd','lbfgs']}\n",
        "search = GridSearchCV(model, param, scoring='r2', n_jobs=-1, cv=cv)\n",
        "# execute search\n",
        "result = search.fit(X_train, y_train)\n",
        "print('Best Score: %s' % result.best_score_)\n",
        "print('Best Hyperparameters: %s' % result.best_params_)\n",
        "#neg_mean_absolute_error"
      ]
    },
    {
      "cell_type": "code",
      "execution_count": null,
      "metadata": {
        "id": "JYnBm6v4PpG8"
      },
      "outputs": [],
      "source": [
        "#Grid search for the best activation function\n",
        "model=model\n",
        "param = {\n",
        "    'activation':['relu','tahn','identity','softmax','logistic']}\n",
        "search = GridSearchCV(model, param, scoring='r2', n_jobs=-1, cv=cv)\n",
        "# execute search\n",
        "result = search.fit(X_train, y_train)\n",
        "print('Best Score: %s' % result.best_score_)\n",
        "print('Best Hyperparameters: %s' % result.best_params_)"
      ]
    },
    {
      "cell_type": "markdown",
      "metadata": {
        "id": "O1Tag4-Nn-Hq"
      },
      "source": [
        "BUILDING THE FINAL MODEL\n"
      ]
    },
    {
      "cell_type": "markdown",
      "metadata": {
        "id": "rKbiZYDKYvGI"
      },
      "source": [
        ":CORRELATION METRICS FOR TEST AND PREDICTED OUTCOME USING CROSS TAB"
      ]
    },
    {
      "cell_type": "code",
      "execution_count": 69,
      "metadata": {
        "id": "ojT_qBp5w1Hv",
        "colab": {
          "base_uri": "https://localhost:8080/",
          "height": 380
        },
        "outputId": "68ad8624-c7c5-4314-d0de-000806571fbc"
      },
      "outputs": [
        {
          "output_type": "error",
          "ename": "ValueError",
          "evalue": "ignored",
          "traceback": [
            "\u001b[0;31m---------------------------------------------------------------------------\u001b[0m",
            "\u001b[0;31mValueError\u001b[0m                                Traceback (most recent call last)",
            "\u001b[0;32m<ipython-input-69-61289a91e4e9>\u001b[0m in \u001b[0;36m<module>\u001b[0;34m\u001b[0m\n\u001b[1;32m      1\u001b[0m \u001b[0;31m# Create a dataframe with ypred and ytest as columns\u001b[0m\u001b[0;34m\u001b[0m\u001b[0;34m\u001b[0m\u001b[0;34m\u001b[0m\u001b[0m\n\u001b[0;32m----> 2\u001b[0;31m \u001b[0mdf\u001b[0m \u001b[0;34m=\u001b[0m \u001b[0mpd\u001b[0m\u001b[0;34m.\u001b[0m\u001b[0mDataFrame\u001b[0m\u001b[0;34m(\u001b[0m\u001b[0;34m{\u001b[0m\u001b[0;34m'ypred'\u001b[0m\u001b[0;34m:\u001b[0m \u001b[0my_pred\u001b[0m\u001b[0;34m,\u001b[0m \u001b[0;34m'ytest'\u001b[0m\u001b[0;34m:\u001b[0m \u001b[0my_test\u001b[0m\u001b[0;34m}\u001b[0m\u001b[0;34m)\u001b[0m\u001b[0;34m\u001b[0m\u001b[0;34m\u001b[0m\u001b[0m\n\u001b[0m\u001b[1;32m      3\u001b[0m \u001b[0;34m\u001b[0m\u001b[0m\n\u001b[1;32m      4\u001b[0m \u001b[0;31m# Calculate the cross-tabulation of ypred and ytest\u001b[0m\u001b[0;34m\u001b[0m\u001b[0;34m\u001b[0m\u001b[0;34m\u001b[0m\u001b[0m\n\u001b[1;32m      5\u001b[0m \u001b[0mct\u001b[0m \u001b[0;34m=\u001b[0m \u001b[0mpd\u001b[0m\u001b[0;34m.\u001b[0m\u001b[0mcrosstab\u001b[0m\u001b[0;34m(\u001b[0m\u001b[0mdf\u001b[0m\u001b[0;34m[\u001b[0m\u001b[0;34m'ypred'\u001b[0m\u001b[0;34m]\u001b[0m\u001b[0;34m,\u001b[0m \u001b[0mdf\u001b[0m\u001b[0;34m[\u001b[0m\u001b[0;34m'ytest'\u001b[0m\u001b[0;34m]\u001b[0m\u001b[0;34m)\u001b[0m\u001b[0;34m\u001b[0m\u001b[0;34m\u001b[0m\u001b[0m\n",
            "\u001b[0;32m/usr/local/lib/python3.8/dist-packages/pandas/core/frame.py\u001b[0m in \u001b[0;36m__init__\u001b[0;34m(self, data, index, columns, dtype, copy)\u001b[0m\n\u001b[1;32m    612\u001b[0m         \u001b[0;32melif\u001b[0m \u001b[0misinstance\u001b[0m\u001b[0;34m(\u001b[0m\u001b[0mdata\u001b[0m\u001b[0;34m,\u001b[0m \u001b[0mdict\u001b[0m\u001b[0;34m)\u001b[0m\u001b[0;34m:\u001b[0m\u001b[0;34m\u001b[0m\u001b[0;34m\u001b[0m\u001b[0m\n\u001b[1;32m    613\u001b[0m             \u001b[0;31m# GH#38939 de facto copy defaults to False only in non-dict cases\u001b[0m\u001b[0;34m\u001b[0m\u001b[0;34m\u001b[0m\u001b[0;34m\u001b[0m\u001b[0m\n\u001b[0;32m--> 614\u001b[0;31m             \u001b[0mmgr\u001b[0m \u001b[0;34m=\u001b[0m \u001b[0mdict_to_mgr\u001b[0m\u001b[0;34m(\u001b[0m\u001b[0mdata\u001b[0m\u001b[0;34m,\u001b[0m \u001b[0mindex\u001b[0m\u001b[0;34m,\u001b[0m \u001b[0mcolumns\u001b[0m\u001b[0;34m,\u001b[0m \u001b[0mdtype\u001b[0m\u001b[0;34m=\u001b[0m\u001b[0mdtype\u001b[0m\u001b[0;34m,\u001b[0m \u001b[0mcopy\u001b[0m\u001b[0;34m=\u001b[0m\u001b[0mcopy\u001b[0m\u001b[0;34m,\u001b[0m \u001b[0mtyp\u001b[0m\u001b[0;34m=\u001b[0m\u001b[0mmanager\u001b[0m\u001b[0;34m)\u001b[0m\u001b[0;34m\u001b[0m\u001b[0;34m\u001b[0m\u001b[0m\n\u001b[0m\u001b[1;32m    615\u001b[0m         \u001b[0;32melif\u001b[0m \u001b[0misinstance\u001b[0m\u001b[0;34m(\u001b[0m\u001b[0mdata\u001b[0m\u001b[0;34m,\u001b[0m \u001b[0mma\u001b[0m\u001b[0;34m.\u001b[0m\u001b[0mMaskedArray\u001b[0m\u001b[0;34m)\u001b[0m\u001b[0;34m:\u001b[0m\u001b[0;34m\u001b[0m\u001b[0;34m\u001b[0m\u001b[0m\n\u001b[1;32m    616\u001b[0m             \u001b[0;32mimport\u001b[0m \u001b[0mnumpy\u001b[0m\u001b[0;34m.\u001b[0m\u001b[0mma\u001b[0m\u001b[0;34m.\u001b[0m\u001b[0mmrecords\u001b[0m \u001b[0;32mas\u001b[0m \u001b[0mmrecords\u001b[0m\u001b[0;34m\u001b[0m\u001b[0;34m\u001b[0m\u001b[0m\n",
            "\u001b[0;32m/usr/local/lib/python3.8/dist-packages/pandas/core/internals/construction.py\u001b[0m in \u001b[0;36mdict_to_mgr\u001b[0;34m(data, index, columns, dtype, typ, copy)\u001b[0m\n\u001b[1;32m    462\u001b[0m         \u001b[0;31m# TODO: can we get rid of the dt64tz special case above?\u001b[0m\u001b[0;34m\u001b[0m\u001b[0;34m\u001b[0m\u001b[0;34m\u001b[0m\u001b[0m\n\u001b[1;32m    463\u001b[0m \u001b[0;34m\u001b[0m\u001b[0m\n\u001b[0;32m--> 464\u001b[0;31m     return arrays_to_mgr(\n\u001b[0m\u001b[1;32m    465\u001b[0m         \u001b[0marrays\u001b[0m\u001b[0;34m,\u001b[0m \u001b[0mdata_names\u001b[0m\u001b[0;34m,\u001b[0m \u001b[0mindex\u001b[0m\u001b[0;34m,\u001b[0m \u001b[0mcolumns\u001b[0m\u001b[0;34m,\u001b[0m \u001b[0mdtype\u001b[0m\u001b[0;34m=\u001b[0m\u001b[0mdtype\u001b[0m\u001b[0;34m,\u001b[0m \u001b[0mtyp\u001b[0m\u001b[0;34m=\u001b[0m\u001b[0mtyp\u001b[0m\u001b[0;34m,\u001b[0m \u001b[0mconsolidate\u001b[0m\u001b[0;34m=\u001b[0m\u001b[0mcopy\u001b[0m\u001b[0;34m\u001b[0m\u001b[0;34m\u001b[0m\u001b[0m\n\u001b[1;32m    466\u001b[0m     )\n",
            "\u001b[0;32m/usr/local/lib/python3.8/dist-packages/pandas/core/internals/construction.py\u001b[0m in \u001b[0;36marrays_to_mgr\u001b[0;34m(arrays, arr_names, index, columns, dtype, verify_integrity, typ, consolidate)\u001b[0m\n\u001b[1;32m    122\u001b[0m \u001b[0;34m\u001b[0m\u001b[0m\n\u001b[1;32m    123\u001b[0m         \u001b[0;31m# don't force copy because getting jammed in an ndarray anyway\u001b[0m\u001b[0;34m\u001b[0m\u001b[0;34m\u001b[0m\u001b[0;34m\u001b[0m\u001b[0m\n\u001b[0;32m--> 124\u001b[0;31m         \u001b[0marrays\u001b[0m \u001b[0;34m=\u001b[0m \u001b[0m_homogenize\u001b[0m\u001b[0;34m(\u001b[0m\u001b[0marrays\u001b[0m\u001b[0;34m,\u001b[0m \u001b[0mindex\u001b[0m\u001b[0;34m,\u001b[0m \u001b[0mdtype\u001b[0m\u001b[0;34m)\u001b[0m\u001b[0;34m\u001b[0m\u001b[0;34m\u001b[0m\u001b[0m\n\u001b[0m\u001b[1;32m    125\u001b[0m \u001b[0;34m\u001b[0m\u001b[0m\n\u001b[1;32m    126\u001b[0m     \u001b[0;32melse\u001b[0m\u001b[0;34m:\u001b[0m\u001b[0;34m\u001b[0m\u001b[0;34m\u001b[0m\u001b[0m\n",
            "\u001b[0;32m/usr/local/lib/python3.8/dist-packages/pandas/core/internals/construction.py\u001b[0m in \u001b[0;36m_homogenize\u001b[0;34m(data, index, dtype)\u001b[0m\n\u001b[1;32m    587\u001b[0m                 \u001b[0mval\u001b[0m \u001b[0;34m=\u001b[0m \u001b[0mlib\u001b[0m\u001b[0;34m.\u001b[0m\u001b[0mfast_multiget\u001b[0m\u001b[0;34m(\u001b[0m\u001b[0mval\u001b[0m\u001b[0;34m,\u001b[0m \u001b[0moindex\u001b[0m\u001b[0;34m.\u001b[0m\u001b[0m_values\u001b[0m\u001b[0;34m,\u001b[0m \u001b[0mdefault\u001b[0m\u001b[0;34m=\u001b[0m\u001b[0mnp\u001b[0m\u001b[0;34m.\u001b[0m\u001b[0mnan\u001b[0m\u001b[0;34m)\u001b[0m\u001b[0;34m\u001b[0m\u001b[0;34m\u001b[0m\u001b[0m\n\u001b[1;32m    588\u001b[0m \u001b[0;34m\u001b[0m\u001b[0m\n\u001b[0;32m--> 589\u001b[0;31m             val = sanitize_array(\n\u001b[0m\u001b[1;32m    590\u001b[0m                 \u001b[0mval\u001b[0m\u001b[0;34m,\u001b[0m \u001b[0mindex\u001b[0m\u001b[0;34m,\u001b[0m \u001b[0mdtype\u001b[0m\u001b[0;34m=\u001b[0m\u001b[0mdtype\u001b[0m\u001b[0;34m,\u001b[0m \u001b[0mcopy\u001b[0m\u001b[0;34m=\u001b[0m\u001b[0;32mFalse\u001b[0m\u001b[0;34m,\u001b[0m \u001b[0mraise_cast_failure\u001b[0m\u001b[0;34m=\u001b[0m\u001b[0;32mFalse\u001b[0m\u001b[0;34m\u001b[0m\u001b[0;34m\u001b[0m\u001b[0m\n\u001b[1;32m    591\u001b[0m             )\n",
            "\u001b[0;32m/usr/local/lib/python3.8/dist-packages/pandas/core/construction.py\u001b[0m in \u001b[0;36msanitize_array\u001b[0;34m(data, index, dtype, copy, raise_cast_failure, allow_2d)\u001b[0m\n\u001b[1;32m    574\u001b[0m                 \u001b[0msubarr\u001b[0m \u001b[0;34m=\u001b[0m \u001b[0mmaybe_infer_to_datetimelike\u001b[0m\u001b[0;34m(\u001b[0m\u001b[0msubarr\u001b[0m\u001b[0;34m)\u001b[0m\u001b[0;34m\u001b[0m\u001b[0;34m\u001b[0m\u001b[0m\n\u001b[1;32m    575\u001b[0m \u001b[0;34m\u001b[0m\u001b[0m\n\u001b[0;32m--> 576\u001b[0;31m     \u001b[0msubarr\u001b[0m \u001b[0;34m=\u001b[0m \u001b[0m_sanitize_ndim\u001b[0m\u001b[0;34m(\u001b[0m\u001b[0msubarr\u001b[0m\u001b[0;34m,\u001b[0m \u001b[0mdata\u001b[0m\u001b[0;34m,\u001b[0m \u001b[0mdtype\u001b[0m\u001b[0;34m,\u001b[0m \u001b[0mindex\u001b[0m\u001b[0;34m,\u001b[0m \u001b[0mallow_2d\u001b[0m\u001b[0;34m=\u001b[0m\u001b[0mallow_2d\u001b[0m\u001b[0;34m)\u001b[0m\u001b[0;34m\u001b[0m\u001b[0;34m\u001b[0m\u001b[0m\n\u001b[0m\u001b[1;32m    577\u001b[0m \u001b[0;34m\u001b[0m\u001b[0m\n\u001b[1;32m    578\u001b[0m     \u001b[0;32mif\u001b[0m \u001b[0misinstance\u001b[0m\u001b[0;34m(\u001b[0m\u001b[0msubarr\u001b[0m\u001b[0;34m,\u001b[0m \u001b[0mnp\u001b[0m\u001b[0;34m.\u001b[0m\u001b[0mndarray\u001b[0m\u001b[0;34m)\u001b[0m\u001b[0;34m:\u001b[0m\u001b[0;34m\u001b[0m\u001b[0;34m\u001b[0m\u001b[0m\n",
            "\u001b[0;32m/usr/local/lib/python3.8/dist-packages/pandas/core/construction.py\u001b[0m in \u001b[0;36m_sanitize_ndim\u001b[0;34m(result, data, dtype, index, allow_2d)\u001b[0m\n\u001b[1;32m    625\u001b[0m             \u001b[0;32mif\u001b[0m \u001b[0mallow_2d\u001b[0m\u001b[0;34m:\u001b[0m\u001b[0;34m\u001b[0m\u001b[0;34m\u001b[0m\u001b[0m\n\u001b[1;32m    626\u001b[0m                 \u001b[0;32mreturn\u001b[0m \u001b[0mresult\u001b[0m\u001b[0;34m\u001b[0m\u001b[0;34m\u001b[0m\u001b[0m\n\u001b[0;32m--> 627\u001b[0;31m             \u001b[0;32mraise\u001b[0m \u001b[0mValueError\u001b[0m\u001b[0;34m(\u001b[0m\u001b[0;34m\"Data must be 1-dimensional\"\u001b[0m\u001b[0;34m)\u001b[0m\u001b[0;34m\u001b[0m\u001b[0;34m\u001b[0m\u001b[0m\n\u001b[0m\u001b[1;32m    628\u001b[0m         \u001b[0;32mif\u001b[0m \u001b[0mis_object_dtype\u001b[0m\u001b[0;34m(\u001b[0m\u001b[0mdtype\u001b[0m\u001b[0;34m)\u001b[0m \u001b[0;32mand\u001b[0m \u001b[0misinstance\u001b[0m\u001b[0;34m(\u001b[0m\u001b[0mdtype\u001b[0m\u001b[0;34m,\u001b[0m \u001b[0mExtensionDtype\u001b[0m\u001b[0;34m)\u001b[0m\u001b[0;34m:\u001b[0m\u001b[0;34m\u001b[0m\u001b[0;34m\u001b[0m\u001b[0m\n\u001b[1;32m    629\u001b[0m             \u001b[0;31m# i.e. PandasDtype(\"O\")\u001b[0m\u001b[0;34m\u001b[0m\u001b[0;34m\u001b[0m\u001b[0;34m\u001b[0m\u001b[0m\n",
            "\u001b[0;31mValueError\u001b[0m: Data must be 1-dimensional"
          ]
        }
      ],
      "source": [
        "# Create a dataframe with ypred and ytest as columns\n",
        "df = pd.DataFrame({'ypred': y_pred, 'ytest': y_test})\n",
        "\n",
        "# Calculate the cross-tabulation of ypred and ytest\n",
        "ct = pd.crosstab(df['ypred'], df['ytest'])\n",
        "\n",
        "# Calculate the correlation coefficient\n",
        "corr = ct.corr().iloc[0,1]\n",
        "\n",
        "# Calculate the covariance\n",
        "cov = ct.cov().iloc[0,1]\n",
        "\n",
        "#print(f'Correlation coefficient: {corr}')\n",
        "#print(f'Covariance: {cov}')"
      ]
    },
    {
      "cell_type": "code",
      "execution_count": 30,
      "metadata": {
        "id": "irSegDqySqwk",
        "colab": {
          "base_uri": "https://localhost:8080/",
          "height": 449
        },
        "outputId": "d66c4972-309c-49b6-a646-fa6944fbf0ca"
      },
      "outputs": [
        {
          "output_type": "error",
          "ename": "ValueError",
          "evalue": "ignored",
          "traceback": [
            "\u001b[0;31m---------------------------------------------------------------------------\u001b[0m",
            "\u001b[0;31mValueError\u001b[0m                                Traceback (most recent call last)",
            "\u001b[0;32m<ipython-input-30-703d60230e6d>\u001b[0m in \u001b[0;36m<module>\u001b[0;34m\u001b[0m\n\u001b[1;32m      1\u001b[0m \u001b[0;31m#PEARSON CORRELATION FOR TEST and PREDICTED OUTCOME for X_test\u001b[0m\u001b[0;34m\u001b[0m\u001b[0;34m\u001b[0m\u001b[0;34m\u001b[0m\u001b[0m\n\u001b[0;32m----> 2\u001b[0;31m \u001b[0mcorr_1\u001b[0m\u001b[0;34m=\u001b[0m\u001b[0mnp\u001b[0m\u001b[0;34m.\u001b[0m\u001b[0mcorrcoef\u001b[0m\u001b[0;34m(\u001b[0m\u001b[0my_test\u001b[0m\u001b[0;34m,\u001b[0m \u001b[0my_pred\u001b[0m\u001b[0;34m)\u001b[0m\u001b[0;34m\u001b[0m\u001b[0;34m\u001b[0m\u001b[0m\n\u001b[0m\u001b[1;32m      3\u001b[0m \u001b[0mcorr_1\u001b[0m\u001b[0;34m\u001b[0m\u001b[0;34m\u001b[0m\u001b[0m\n",
            "\u001b[0;32m<__array_function__ internals>\u001b[0m in \u001b[0;36mcorrcoef\u001b[0;34m(*args, **kwargs)\u001b[0m\n",
            "\u001b[0;32m/usr/local/lib/python3.8/dist-packages/numpy/lib/function_base.py\u001b[0m in \u001b[0;36mcorrcoef\u001b[0;34m(x, y, rowvar, bias, ddof, dtype)\u001b[0m\n\u001b[1;32m   2681\u001b[0m         warnings.warn('bias and ddof have no effect and are deprecated',\n\u001b[1;32m   2682\u001b[0m                       DeprecationWarning, stacklevel=3)\n\u001b[0;32m-> 2683\u001b[0;31m     \u001b[0mc\u001b[0m \u001b[0;34m=\u001b[0m \u001b[0mcov\u001b[0m\u001b[0;34m(\u001b[0m\u001b[0mx\u001b[0m\u001b[0;34m,\u001b[0m \u001b[0my\u001b[0m\u001b[0;34m,\u001b[0m \u001b[0mrowvar\u001b[0m\u001b[0;34m,\u001b[0m \u001b[0mdtype\u001b[0m\u001b[0;34m=\u001b[0m\u001b[0mdtype\u001b[0m\u001b[0;34m)\u001b[0m\u001b[0;34m\u001b[0m\u001b[0;34m\u001b[0m\u001b[0m\n\u001b[0m\u001b[1;32m   2684\u001b[0m     \u001b[0;32mtry\u001b[0m\u001b[0;34m:\u001b[0m\u001b[0;34m\u001b[0m\u001b[0;34m\u001b[0m\u001b[0m\n\u001b[1;32m   2685\u001b[0m         \u001b[0md\u001b[0m \u001b[0;34m=\u001b[0m \u001b[0mdiag\u001b[0m\u001b[0;34m(\u001b[0m\u001b[0mc\u001b[0m\u001b[0;34m)\u001b[0m\u001b[0;34m\u001b[0m\u001b[0;34m\u001b[0m\u001b[0m\n",
            "\u001b[0;32m<__array_function__ internals>\u001b[0m in \u001b[0;36mcov\u001b[0;34m(*args, **kwargs)\u001b[0m\n",
            "\u001b[0;32m/usr/local/lib/python3.8/dist-packages/numpy/lib/function_base.py\u001b[0m in \u001b[0;36mcov\u001b[0;34m(m, y, rowvar, bias, ddof, fweights, aweights, dtype)\u001b[0m\n\u001b[1;32m   2475\u001b[0m         \u001b[0;32mif\u001b[0m \u001b[0;32mnot\u001b[0m \u001b[0mrowvar\u001b[0m \u001b[0;32mand\u001b[0m \u001b[0my\u001b[0m\u001b[0;34m.\u001b[0m\u001b[0mshape\u001b[0m\u001b[0;34m[\u001b[0m\u001b[0;36m0\u001b[0m\u001b[0;34m]\u001b[0m \u001b[0;34m!=\u001b[0m \u001b[0;36m1\u001b[0m\u001b[0;34m:\u001b[0m\u001b[0;34m\u001b[0m\u001b[0;34m\u001b[0m\u001b[0m\n\u001b[1;32m   2476\u001b[0m             \u001b[0my\u001b[0m \u001b[0;34m=\u001b[0m \u001b[0my\u001b[0m\u001b[0;34m.\u001b[0m\u001b[0mT\u001b[0m\u001b[0;34m\u001b[0m\u001b[0;34m\u001b[0m\u001b[0m\n\u001b[0;32m-> 2477\u001b[0;31m         \u001b[0mX\u001b[0m \u001b[0;34m=\u001b[0m \u001b[0mnp\u001b[0m\u001b[0;34m.\u001b[0m\u001b[0mconcatenate\u001b[0m\u001b[0;34m(\u001b[0m\u001b[0;34m(\u001b[0m\u001b[0mX\u001b[0m\u001b[0;34m,\u001b[0m \u001b[0my\u001b[0m\u001b[0;34m)\u001b[0m\u001b[0;34m,\u001b[0m \u001b[0maxis\u001b[0m\u001b[0;34m=\u001b[0m\u001b[0;36m0\u001b[0m\u001b[0;34m)\u001b[0m\u001b[0;34m\u001b[0m\u001b[0;34m\u001b[0m\u001b[0m\n\u001b[0m\u001b[1;32m   2478\u001b[0m \u001b[0;34m\u001b[0m\u001b[0m\n\u001b[1;32m   2479\u001b[0m     \u001b[0;32mif\u001b[0m \u001b[0mddof\u001b[0m \u001b[0;32mis\u001b[0m \u001b[0;32mNone\u001b[0m\u001b[0;34m:\u001b[0m\u001b[0;34m\u001b[0m\u001b[0;34m\u001b[0m\u001b[0m\n",
            "\u001b[0;32m<__array_function__ internals>\u001b[0m in \u001b[0;36mconcatenate\u001b[0;34m(*args, **kwargs)\u001b[0m\n",
            "\u001b[0;31mValueError\u001b[0m: all the input array dimensions for the concatenation axis must match exactly, but along dimension 1, the array at index 0 has size 1 and the array at index 1 has size 28"
          ]
        }
      ],
      "source": [
        "#PEARSON CORRELATION FOR TEST and PREDICTED OUTCOME for X_test\n",
        "corr_1=np.corrcoef(y_test, y_pred)\n",
        "corr_1"
      ]
    },
    {
      "cell_type": "code",
      "execution_count": null,
      "metadata": {
        "id": "KbU6hV41QvU0"
      },
      "outputs": [],
      "source": [
        "#COVARIANCE FOR TEST and PREDICTED OUTCOME for X_test\n",
        "Cov=np.cov(y_test, y_pred)\n",
        "Cov"
      ]
    },
    {
      "cell_type": "code",
      "execution_count": 33,
      "metadata": {
        "id": "rmGmUsFRbGBj",
        "colab": {
          "base_uri": "https://localhost:8080/",
          "height": 378
        },
        "outputId": "a7b5a722-31c2-4836-8c5c-8c11a3f02372"
      },
      "outputs": [
        {
          "output_type": "execute_result",
          "data": {
            "text/plain": [
              "Text(0, 0.5, 'predictions')"
            ]
          },
          "metadata": {},
          "execution_count": 33
        },
        {
          "output_type": "display_data",
          "data": {
            "text/plain": [
              "<Figure size 576x396 with 1 Axes>"
            ],
            "image/png": "[encoded data removed]"
          },
          "metadata": {}
        }
      ],
      "source": [
        "plt.scatter(y_test, y_pred)\n",
        "plt.xlabel('true values')\n",
        "plt.ylabel('predictions')"
      ]
    },
    {
      "cell_type": "markdown",
      "metadata": {
        "id": "Pu4EB33lx1SX"
      },
      "source": [
        "PREDICTING WITH THE EXTERNAL DATASET"
      ]
    },
    {
      "cell_type": "code",
      "execution_count": 32,
      "metadata": {
        "colab": {
          "base_uri": "https://localhost:8080/"
        },
        "id": "m7DSbrw9x6Kv",
        "outputId": "63568ad2-9ea8-42b3-e78d-d212cbd1528a"
      },
      "outputs": [
        {
          "output_type": "stream",
          "name": "stdout",
          "text": [
            "0.4809265463817992\n",
            "0.03861679990087143\n",
            "0.19651157701487063\n"
          ]
        },
        {
          "output_type": "execute_result",
          "data": {
            "text/plain": [
              "107"
            ]
          },
          "metadata": {},
          "execution_count": 32
        }
      ],
      "source": [
        "#TESTING WITH EXTERNAL DATASET\n",
        "pred=model.predict(ex_x)\n",
        "r2 = sklearn.metrics.r2_score(ex_y, pred)\n",
        "MSE=sklearn.metrics.mean_squared_error(ex_y, pred)\n",
        "print(r2)\n",
        "print(MSE)\n",
        "RMSE=sqrt(MSE)\n",
        "print(RMSE)\n",
        "len(pred)\n"
      ]
    },
    {
      "cell_type": "code",
      "execution_count": 34,
      "metadata": {
        "colab": {
          "base_uri": "https://localhost:8080/",
          "height": 378
        },
        "id": "eEWeo--F1Scd",
        "outputId": "7bca122e-d477-4223-bf40-32f51bc030aa"
      },
      "outputs": [
        {
          "output_type": "execute_result",
          "data": {
            "text/plain": [
              "Text(0, 0.5, 'predictions')"
            ]
          },
          "metadata": {},
          "execution_count": 34
        },
        {
          "output_type": "display_data",
          "data": {
            "text/plain": [
              "<Figure size 576x396 with 1 Axes>"
            ],
            "image/png": "[encoded data removed]"
          },
          "metadata": {}
        }
      ],
      "source": [
        "plt.scatter(ex_y, pred)\n",
        "plt.xlabel('true values')\n",
        "plt.ylabel('predictions')\n"
      ]
    },
    {
      "cell_type": "markdown",
      "metadata": {
        "id": "v1NnnNjPL28D"
      },
      "source": [
        "CORRELATION METRICS for EXTERNAL DATA SET"
      ]
    },
    {
      "cell_type": "code",
      "execution_count": 35,
      "metadata": {
        "id": "SzZgiffHDvIh",
        "colab": {
          "base_uri": "https://localhost:8080/"
        },
        "outputId": "c7eb54cf-6dcb-450d-d19d-cc15765330b8"
      },
      "outputs": [
        {
          "output_type": "stream",
          "name": "stdout",
          "text": [
            "(107, 2)\n",
            "(107, 1)\n"
          ]
        }
      ],
      "source": [
        "print(ex_x.shape)\n",
        "print(ex_y.shape)\n"
      ]
    },
    {
      "cell_type": "code",
      "execution_count": 36,
      "metadata": {
        "id": "odAshcNYQyY1"
      },
      "outputs": [],
      "source": [
        "ex_y.shape=(107,) #cHANGE SHAPE AND DIMENSION"
      ]
    },
    {
      "cell_type": "code",
      "execution_count": 37,
      "metadata": {
        "id": "XAx1pf18xKt6",
        "colab": {
          "base_uri": "https://localhost:8080/"
        },
        "outputId": "9a43bb56-bb99-4065-9d59-8423fcca4d20"
      },
      "outputs": [
        {
          "output_type": "execute_result",
          "data": {
            "text/plain": [
              "array([[0.07509748, 0.03519967],\n",
              "       [0.03519967, 0.0342677 ]])"
            ]
          },
          "metadata": {},
          "execution_count": 37
        }
      ],
      "source": [
        "#COVARIANCE DATASET\n",
        "Cov=np.cov(ex_y, pred )\n",
        "Cov"
      ]
    },
    {
      "cell_type": "code",
      "execution_count": 38,
      "metadata": {
        "id": "nejiCWRyWf_r",
        "colab": {
          "base_uri": "https://localhost:8080/"
        },
        "outputId": "37478f1c-e817-490c-aafa-02d4271027b0"
      },
      "outputs": [
        {
          "output_type": "execute_result",
          "data": {
            "text/plain": [
              "array([[1.        , 0.69387846],\n",
              "       [0.69387846, 1.        ]])"
            ]
          },
          "metadata": {},
          "execution_count": 38
        }
      ],
      "source": [
        "#PEARSON CORRELATION  FOR EXTERNAL DATASET\n",
        "corr_1=np.corrcoef(ex_y, pred )\n",
        "corr_1"
      ]
    },
    {
      "cell_type": "markdown",
      "metadata": {
        "id": "TDMwSFa3CW00"
      },
      "source": [
        "Using Cross Tab to compare cross correlation metrics"
      ]
    },
    {
      "cell_type": "code",
      "execution_count": null,
      "metadata": {
        "id": "l5kaGk3AZSln"
      },
      "outputs": [],
      "source": [
        "CosEu\n",
        "#CosEu.drop('Ex_prediction',axis=1, inplace=True)\n",
        "CosEu.head()"
      ]
    },
    {
      "cell_type": "code",
      "execution_count": 39,
      "metadata": {
        "id": "Tl1Wbxw1TP67"
      },
      "outputs": [],
      "source": [
        "def inverse_transform(y_pred, min_max_values):\n",
        "  min_value = min_max_values[0]\n",
        "  max_value = min_max_values[1]\n",
        "  return (y_pred * (max_value - min_value)) + min_value"
      ]
    },
    {
      "cell_type": "code",
      "execution_count": 40,
      "metadata": {
        "id": "hfDGYFW0TeYQ"
      },
      "outputs": [],
      "source": [
        "#fUNCTION TO rescale Predicted EC3 values to original value\n",
        "y_pred=pred\n",
        "min_max_values=(0,1)\n",
        "inverse_transformed_value = inverse_transform(y_pred, min_max_values)\n",
        "inverse_pred=inverse_transformed_value"
      ]
    },
    {
      "cell_type": "code",
      "execution_count": 41,
      "metadata": {
        "id": "ahFSXi1hdzXR"
      },
      "outputs": [],
      "source": [
        "#fUNCTION TO rescale orginal prediction EC3 values to original value\n",
        "y_pred=ex_y\n",
        "min_max_values=(0,1)\n",
        "inverse_extransformed_value = inverse_transform(y_pred, min_max_values)\n",
        "inverse_expred=inverse_extransformed_value"
      ]
    },
    {
      "cell_type": "code",
      "execution_count": 42,
      "metadata": {
        "id": "lVlDLvrrVBGA"
      },
      "outputs": [],
      "source": [
        "#Convert to dataframe\n",
        "iv=pd.DataFrame(inverse_pred)\n",
        "ip=pd.DataFrame(inverse_expred)\n",
        "\n"
      ]
    },
    {
      "cell_type": "code",
      "execution_count": 43,
      "metadata": {
        "id": "ZPOfxEmONnF6",
        "colab": {
          "base_uri": "https://localhost:8080/",
          "height": 455
        },
        "outputId": "6b4b7142-97a1-4311-f401-4433a209f603"
      },
      "outputs": [
        {
          "output_type": "execute_result",
          "data": {
            "text/plain": [
              "            log_DPRA_mean  log_hCLAT_MIT ANNmodel1_Set  test_pred  \\\n",
              "CASRN                                                               \n",
              "35691-65-7       1.808211       0.995635          Test   0.351431   \n",
              "149-30-4         1.687975       2.227887          Test   0.705440   \n",
              "104-55-2         1.755494       1.447158          Test   0.498930   \n",
              "137-26-8         1.725912       1.000000          Test   0.358353   \n",
              "69-72-7          1.089905       3.000000          Test   0.849841   \n",
              "...                   ...            ...           ...        ...   \n",
              "101-39-3         1.292256       2.143015          Test   0.706717   \n",
              "111-80-8         1.712650       2.282622          Test   0.715703   \n",
              "93-51-6          0.759668       2.447158          Test   0.783421   \n",
              "122-78-1         1.619771       1.431364          Test   0.503300   \n",
              "17369-59-4       1.351216       2.053078          Test   0.684283   \n",
              "\n",
              "            Original_pred  \n",
              "CASRN                      \n",
              "35691-65-7       0.397942  \n",
              "149-30-4         0.533533  \n",
              "104-55-2         0.429271  \n",
              "137-26-8         0.548805  \n",
              "69-72-7          0.731119  \n",
              "...                   ...  \n",
              "101-39-3         0.603646  \n",
              "111-80-8         0.528520  \n",
              "93-51-6          0.631597  \n",
              "122-78-1         0.609204  \n",
              "17369-59-4       0.567820  \n",
              "\n",
              "[107 rows x 5 columns]"
            ],
            "text/html": [
              "\n",
              "  <div id=\"df-cd2afe74-6902-47cd-b933-f9d79f298c69\">\n",
              "    <div class=\"colab-df-container\">\n",
              "      <div>\n",
              "<style scoped>\n",
              "    .dataframe tbody tr th:only-of-type {\n",
              "        vertical-align: middle;\n",
              "    }\n",
              "\n",
              "    .dataframe tbody tr th {\n",
              "        vertical-align: top;\n",
              "    }\n",
              "\n",
              "    .dataframe thead th {\n",
              "        text-align: right;\n",
              "    }\n",
              "</style>\n",
              "<table border=\"1\" class=\"dataframe\">\n",
              "  <thead>\n",
              "    <tr style=\"text-align: right;\">\n",
              "      <th></th>\n",
              "      <th>log_DPRA_mean</th>\n",
              "      <th>log_hCLAT_MIT</th>\n",
              "      <th>ANNmodel1_Set</th>\n",
              "      <th>test_pred</th>\n",
              "      <th>Original_pred</th>\n",
              "    </tr>\n",
              "    <tr>\n",
              "      <th>CASRN</th>\n",
              "      <th></th>\n",
              "      <th></th>\n",
              "      <th></th>\n",
              "      <th></th>\n",
              "      <th></th>\n",
              "    </tr>\n",
              "  </thead>\n",
              "  <tbody>\n",
              "    <tr>\n",
              "      <th>35691-65-7</th>\n",
              "      <td>1.808211</td>\n",
              "      <td>0.995635</td>\n",
              "      <td>Test</td>\n",
              "      <td>0.351431</td>\n",
              "      <td>0.397942</td>\n",
              "    </tr>\n",
              "    <tr>\n",
              "      <th>149-30-4</th>\n",
              "      <td>1.687975</td>\n",
              "      <td>2.227887</td>\n",
              "      <td>Test</td>\n",
              "      <td>0.705440</td>\n",
              "      <td>0.533533</td>\n",
              "    </tr>\n",
              "    <tr>\n",
              "      <th>104-55-2</th>\n",
              "      <td>1.755494</td>\n",
              "      <td>1.447158</td>\n",
              "      <td>Test</td>\n",
              "      <td>0.498930</td>\n",
              "      <td>0.429271</td>\n",
              "    </tr>\n",
              "    <tr>\n",
              "      <th>137-26-8</th>\n",
              "      <td>1.725912</td>\n",
              "      <td>1.000000</td>\n",
              "      <td>Test</td>\n",
              "      <td>0.358353</td>\n",
              "      <td>0.548805</td>\n",
              "    </tr>\n",
              "    <tr>\n",
              "      <th>69-72-7</th>\n",
              "      <td>1.089905</td>\n",
              "      <td>3.000000</td>\n",
              "      <td>Test</td>\n",
              "      <td>0.849841</td>\n",
              "      <td>0.731119</td>\n",
              "    </tr>\n",
              "    <tr>\n",
              "      <th>...</th>\n",
              "      <td>...</td>\n",
              "      <td>...</td>\n",
              "      <td>...</td>\n",
              "      <td>...</td>\n",
              "      <td>...</td>\n",
              "    </tr>\n",
              "    <tr>\n",
              "      <th>101-39-3</th>\n",
              "      <td>1.292256</td>\n",
              "      <td>2.143015</td>\n",
              "      <td>Test</td>\n",
              "      <td>0.706717</td>\n",
              "      <td>0.603646</td>\n",
              "    </tr>\n",
              "    <tr>\n",
              "      <th>111-80-8</th>\n",
              "      <td>1.712650</td>\n",
              "      <td>2.282622</td>\n",
              "      <td>Test</td>\n",
              "      <td>0.715703</td>\n",
              "      <td>0.528520</td>\n",
              "    </tr>\n",
              "    <tr>\n",
              "      <th>93-51-6</th>\n",
              "      <td>0.759668</td>\n",
              "      <td>2.447158</td>\n",
              "      <td>Test</td>\n",
              "      <td>0.783421</td>\n",
              "      <td>0.631597</td>\n",
              "    </tr>\n",
              "    <tr>\n",
              "      <th>122-78-1</th>\n",
              "      <td>1.619771</td>\n",
              "      <td>1.431364</td>\n",
              "      <td>Test</td>\n",
              "      <td>0.503300</td>\n",
              "      <td>0.609204</td>\n",
              "    </tr>\n",
              "    <tr>\n",
              "      <th>17369-59-4</th>\n",
              "      <td>1.351216</td>\n",
              "      <td>2.053078</td>\n",
              "      <td>Test</td>\n",
              "      <td>0.684283</td>\n",
              "      <td>0.567820</td>\n",
              "    </tr>\n",
              "  </tbody>\n",
              "</table>\n",
              "<p>107 rows × 5 columns</p>\n",
              "</div>\n",
              "      <button class=\"colab-df-convert\" onclick=\"convertToInteractive('df-cd2afe74-6902-47cd-b933-f9d79f298c69')\"\n",
              "              title=\"Convert this dataframe to an interactive table.\"\n",
              "              style=\"display:none;\">\n",
              "        \n",
              "  <svg xmlns=\"http://www.w3.org/2000/svg\" height=\"24px\"viewBox=\"0 0 24 24\"\n",
              "       width=\"24px\">\n",
              "    <path d=\"M0 0h24v24H0V0z\" fill=\"none\"/>\n",
              "    <path d=\"M18.56 5.44l.94 2.06.94-2.06 2.06-.94-2.06-.94-.94-2.06-.94 2.06-2.06.94zm-11 1L8.5 8.5l.94-2.06 2.06-.94-2.06-.94L8.5 2.5l-.94 2.06-2.06.94zm10 10l.94 2.06.94-2.06 2.06-.94-2.06-.94-.94-2.06-.94 2.06-2.06.94z\"/><path d=\"M17.41 7.96l-1.37-1.37c-.4-.4-.92-.59-1.43-.59-.52 0-1.04.2-1.43.59L10.3 9.45l-7.72 7.72c-.78.78-.78 2.05 0 2.83L4 21.41c.39.39.9.59 1.41.59.51 0 1.02-.2 1.41-.59l7.78-7.78 2.81-2.81c.8-.78.8-2.07 0-2.86zM5.41 20L4 18.59l7.72-7.72 1.47 1.35L5.41 20z\"/>\n",
              "  </svg>\n",
              "      </button>\n",
              "      \n",
              "  <style>\n",
              "    .colab-df-container {\n",
              "      display:flex;\n",
              "      flex-wrap:wrap;\n",
              "      gap: 12px;\n",
              "    }\n",
              "\n",
              "    .colab-df-convert {\n",
              "      background-color: #E8F0FE;\n",
              "      border: none;\n",
              "      border-radius: 50%;\n",
              "      cursor: pointer;\n",
              "      display: none;\n",
              "      fill: #1967D2;\n",
              "      height: 32px;\n",
              "      padding: 0 0 0 0;\n",
              "      width: 32px;\n",
              "    }\n",
              "\n",
              "    .colab-df-convert:hover {\n",
              "      background-color: #E2EBFA;\n",
              "      box-shadow: 0px 1px 2px rgba(60, 64, 67, 0.3), 0px 1px 3px 1px rgba(60, 64, 67, 0.15);\n",
              "      fill: #174EA6;\n",
              "    }\n",
              "\n",
              "    [theme=dark] .colab-df-convert {\n",
              "      background-color: #3B4455;\n",
              "      fill: #D2E3FC;\n",
              "    }\n",
              "\n",
              "    [theme=dark] .colab-df-convert:hover {\n",
              "      background-color: #434B5C;\n",
              "      box-shadow: 0px 1px 3px 1px rgba(0, 0, 0, 0.15);\n",
              "      filter: drop-shadow(0px 1px 2px rgba(0, 0, 0, 0.3));\n",
              "      fill: #FFFFFF;\n",
              "    }\n",
              "  </style>\n",
              "\n",
              "      <script>\n",
              "        const buttonEl =\n",
              "          document.querySelector('#df-cd2afe74-6902-47cd-b933-f9d79f298c69 button.colab-df-convert');\n",
              "        buttonEl.style.display =\n",
              "          google.colab.kernel.accessAllowed ? 'block' : 'none';\n",
              "\n",
              "        async function convertToInteractive(key) {\n",
              "          const element = document.querySelector('#df-cd2afe74-6902-47cd-b933-f9d79f298c69');\n",
              "          const dataTable =\n",
              "            await google.colab.kernel.invokeFunction('convertToInteractive',\n",
              "                                                     [key], {});\n",
              "          if (!dataTable) return;\n",
              "\n",
              "          const docLinkHtml = 'Like what you see? Visit the ' +\n",
              "            '<a target=\"_blank\" href=https://colab.research.google.com/notebooks/data_table.ipynb>data table notebook</a>'\n",
              "            + ' to learn more about interactive tables.';\n",
              "          element.innerHTML = '';\n",
              "          dataTable['output_type'] = 'display_data';\n",
              "          await google.colab.output.renderOutput(dataTable, element);\n",
              "          const docLink = document.createElement('div');\n",
              "          docLink.innerHTML = docLinkHtml;\n",
              "          element.appendChild(docLink);\n",
              "        }\n",
              "      </script>\n",
              "    </div>\n",
              "  </div>\n",
              "  "
            ]
          },
          "metadata": {},
          "execution_count": 43
        }
      ],
      "source": [
        "ANN_MODEL1=CosEu1[['CASRN','log_DPRA_mean','log_hCLAT_MIT']]\n",
        "ANN_MODEL1=ANN_MODEL1.set_index('CASRN')\n",
        "ANN_MODEL1['ANNmodel1_Set']=\"Test\"\n",
        "ANN_MODEL1=ANN_MODEL1.reset_index()\n",
        "ANN_MODEL1['test_pred']=iv\n",
        "ANN_MODEL1['Original_pred']=ip\n",
        "ANN_MODEL1=ANN_MODEL1.set_index('CASRN')\n",
        "ANN_MODEL1"
      ]
    },
    {
      "cell_type": "code",
      "execution_count": null,
      "metadata": {
        "id": "g_-yV5v_SoZk"
      },
      "outputs": [],
      "source": [
        "# Define a function to calculate res\n",
        "def my_calculation(df1, df2):\n",
        "    return (df1 - df2)**2\n",
        "\n",
        "ANN_MODEL1['Res'] = ANN_MODEL1.apply(lambda row: my_calculation(row['Original_pred'], row['test_pred']), axis=1)\n",
        "# Print the result\n",
        "ANN_MODEL1"
      ]
    },
    {
      "cell_type": "code",
      "execution_count": null,
      "metadata": {
        "id": "MLPndLObgf7Y"
      },
      "outputs": [],
      "source": [
        "RES=ANN_MODEL1[ANN_MODEL1['Res'] > 0.5]\n",
        "RES.sort_values(ascending=False,by='Res')"
      ]
    },
    {
      "cell_type": "code",
      "execution_count": 44,
      "metadata": {
        "id": "IvsCnCce-kbL"
      },
      "outputs": [],
      "source": [
        "#Add predictions to main merged dataset\n",
        "merge['Ewc_model_pred']=ANN_MODEL1['test_pred']\n",
        "merge['Ewc_model_pred']=merge['Ewc_model_pred'].replace(np.nan,'Neg')\n",
        "\n"
      ]
    },
    {
      "cell_type": "code",
      "execution_count": 45,
      "metadata": {
        "id": "qBTebzi7Kt3U",
        "colab": {
          "base_uri": "https://localhost:8080/"
        },
        "outputId": "fe125e41-b933-47dc-adf6-7cfa33c9bf01"
      },
      "outputs": [
        {
          "output_type": "execute_result",
          "data": {
            "text/plain": [
              "CASRN\n",
              "110-54-3                                             NaN\n",
              "7493-74-5                                            NaN\n",
              "18127-01-0                                      0.616765\n",
              "1885-38-7                                       0.798163\n",
              "103-50-4                                        0.736774\n",
              "1335-66-6                                       0.701328\n",
              "68527-77-5                                      0.842969\n",
              "8022-96-6; 8024-43-9; 90045-94-6; 84776-64-7    0.846924\n",
              "91770-14-8                                      0.865400\n",
              "103694-68-4                                     0.779641\n",
              "68683-20-5                                      0.852915\n",
              "6/6/5462                                        0.734445\n",
              "1205-17-0                                       0.711611\n",
              "1604-28-0                                       0.730400\n",
              "127-51-5                                        0.670085\n",
              "54464-57-2                                      0.529508\n",
              "90028-68-5                                      0.622814\n",
              "90028-67-4                                      0.567804\n",
              "84650-60-2                                      0.731434\n",
              "8006-81-3; 68606-83-7;83863-30-3                0.644197\n",
              "100-51-6                                        0.868231\n",
              "103-41-3                                             NaN\n",
              "6728-26-3                                       0.449553\n",
              "6658-48-6                                       0.794433\n",
              "2111-75-3                                       0.648250\n",
              "101-39-3                                        0.706717\n",
              "111-80-8                                        0.715703\n",
              "93-51-6                                         0.783421\n",
              "122-78-1                                        0.503300\n",
              "17369-59-4                                      0.684283\n",
              "Name: Ewc_model_pred, dtype: float64"
            ]
          },
          "metadata": {},
          "execution_count": 45
        }
      ],
      "source": [
        "merge[\"EWC_Model1_Potency_Pred\"] =np.nan\n",
        "merge[\"EWC_Model1_Potency_Pred.3class\"] = np.nan\n",
        "merge['Ewc_model_pred'] = pd.to_numeric(merge['Ewc_model_pred'],errors='coerce')\n",
        "merge['Ewc_model_pred'].tail(30)"
      ]
    },
    {
      "cell_type": "code",
      "execution_count": 46,
      "metadata": {
        "id": "_ZueeeD7LtIq"
      },
      "outputs": [],
      "source": [
        "# apply the conditions and labels\n",
        "merge.loc[merge['Ewc_model_pred'] < (-1), \"EWC_Model1_Potency_Pred\" ] = 'Extreme'\n",
        "merge.loc[(merge['Ewc_model_pred'] >= (-1)) & (merge['Ewc_model_pred'] < 0), \"EWC_Model1_Potency_Pred\"] = 'Strong'\n",
        "merge.loc[(merge['Ewc_model_pred'] >= 0) & (merge['Ewc_model_pred'] < 1), \"EWC_Model1_Potency_Pred\"] = 'Moderate'\n",
        "merge.loc[merge['Ewc_model_pred'] >= 1, \"EWC_Model1_Potency_Pred\"] = 'Weak'\n",
        "merge.loc[merge['Ewc_model_pred'] >=np.nan, \"EWC_Model1_Potency_Pred\"] = 'Non'"
      ]
    },
    {
      "cell_type": "code",
      "execution_count": 47,
      "metadata": {
        "id": "4lrMihKlLjIl",
        "colab": {
          "base_uri": "https://localhost:8080/"
        },
        "outputId": "8504dbb4-a386-4f79-b24d-a28af1f298de"
      },
      "outputs": [
        {
          "output_type": "execute_result",
          "data": {
            "text/plain": [
              "20"
            ]
          },
          "metadata": {},
          "execution_count": 47
        }
      ],
      "source": [
        "merge[\"EWC_Model1_Potency_Pred\"].isnull().sum()"
      ]
    },
    {
      "cell_type": "code",
      "execution_count": 48,
      "metadata": {
        "id": "3G9FQhXnNmx4",
        "colab": {
          "base_uri": "https://localhost:8080/"
        },
        "outputId": "4dd9b4f8-af82-481e-daae-b775197fc440"
      },
      "outputs": [
        {
          "output_type": "execute_result",
          "data": {
            "text/plain": [
              "array(['Moderate', nan], dtype=object)"
            ]
          },
          "metadata": {},
          "execution_count": 48
        }
      ],
      "source": [
        "merge[\"EWC_Model1_Potency_Pred\"].unique()"
      ]
    },
    {
      "cell_type": "code",
      "execution_count": 49,
      "metadata": {
        "id": "PU6q8weFLA21",
        "colab": {
          "base_uri": "https://localhost:8080/",
          "height": 455
        },
        "outputId": "49a48498-1c06-415d-a75f-41552be8be4e"
      },
      "outputs": [
        {
          "output_type": "execute_result",
          "data": {
            "text/plain": [
              "            Ewc_model_pred EWC_Model1_Potency_Pred\n",
              "CASRN                                             \n",
              "35691-65-7        0.351431                Moderate\n",
              "149-30-4          0.705440                Moderate\n",
              "104-55-2          0.498930                Moderate\n",
              "137-26-8          0.358353                Moderate\n",
              "69-72-7           0.849841                Moderate\n",
              "...                    ...                     ...\n",
              "101-39-3          0.706717                Moderate\n",
              "111-80-8          0.715703                Moderate\n",
              "93-51-6           0.783421                Moderate\n",
              "122-78-1          0.503300                Moderate\n",
              "17369-59-4        0.684283                Moderate\n",
              "\n",
              "[127 rows x 2 columns]"
            ],
            "text/html": [
              "\n",
              "  <div id=\"df-cbb5235a-b2d4-46c9-9d02-cc1978af77c5\">\n",
              "    <div class=\"colab-df-container\">\n",
              "      <div>\n",
              "<style scoped>\n",
              "    .dataframe tbody tr th:only-of-type {\n",
              "        vertical-align: middle;\n",
              "    }\n",
              "\n",
              "    .dataframe tbody tr th {\n",
              "        vertical-align: top;\n",
              "    }\n",
              "\n",
              "    .dataframe thead th {\n",
              "        text-align: right;\n",
              "    }\n",
              "</style>\n",
              "<table border=\"1\" class=\"dataframe\">\n",
              "  <thead>\n",
              "    <tr style=\"text-align: right;\">\n",
              "      <th></th>\n",
              "      <th>Ewc_model_pred</th>\n",
              "      <th>EWC_Model1_Potency_Pred</th>\n",
              "    </tr>\n",
              "    <tr>\n",
              "      <th>CASRN</th>\n",
              "      <th></th>\n",
              "      <th></th>\n",
              "    </tr>\n",
              "  </thead>\n",
              "  <tbody>\n",
              "    <tr>\n",
              "      <th>35691-65-7</th>\n",
              "      <td>0.351431</td>\n",
              "      <td>Moderate</td>\n",
              "    </tr>\n",
              "    <tr>\n",
              "      <th>149-30-4</th>\n",
              "      <td>0.705440</td>\n",
              "      <td>Moderate</td>\n",
              "    </tr>\n",
              "    <tr>\n",
              "      <th>104-55-2</th>\n",
              "      <td>0.498930</td>\n",
              "      <td>Moderate</td>\n",
              "    </tr>\n",
              "    <tr>\n",
              "      <th>137-26-8</th>\n",
              "      <td>0.358353</td>\n",
              "      <td>Moderate</td>\n",
              "    </tr>\n",
              "    <tr>\n",
              "      <th>69-72-7</th>\n",
              "      <td>0.849841</td>\n",
              "      <td>Moderate</td>\n",
              "    </tr>\n",
              "    <tr>\n",
              "      <th>...</th>\n",
              "      <td>...</td>\n",
              "      <td>...</td>\n",
              "    </tr>\n",
              "    <tr>\n",
              "      <th>101-39-3</th>\n",
              "      <td>0.706717</td>\n",
              "      <td>Moderate</td>\n",
              "    </tr>\n",
              "    <tr>\n",
              "      <th>111-80-8</th>\n",
              "      <td>0.715703</td>\n",
              "      <td>Moderate</td>\n",
              "    </tr>\n",
              "    <tr>\n",
              "      <th>93-51-6</th>\n",
              "      <td>0.783421</td>\n",
              "      <td>Moderate</td>\n",
              "    </tr>\n",
              "    <tr>\n",
              "      <th>122-78-1</th>\n",
              "      <td>0.503300</td>\n",
              "      <td>Moderate</td>\n",
              "    </tr>\n",
              "    <tr>\n",
              "      <th>17369-59-4</th>\n",
              "      <td>0.684283</td>\n",
              "      <td>Moderate</td>\n",
              "    </tr>\n",
              "  </tbody>\n",
              "</table>\n",
              "<p>127 rows × 2 columns</p>\n",
              "</div>\n",
              "      <button class=\"colab-df-convert\" onclick=\"convertToInteractive('df-cbb5235a-b2d4-46c9-9d02-cc1978af77c5')\"\n",
              "              title=\"Convert this dataframe to an interactive table.\"\n",
              "              style=\"display:none;\">\n",
              "        \n",
              "  <svg xmlns=\"http://www.w3.org/2000/svg\" height=\"24px\"viewBox=\"0 0 24 24\"\n",
              "       width=\"24px\">\n",
              "    <path d=\"M0 0h24v24H0V0z\" fill=\"none\"/>\n",
              "    <path d=\"M18.56 5.44l.94 2.06.94-2.06 2.06-.94-2.06-.94-.94-2.06-.94 2.06-2.06.94zm-11 1L8.5 8.5l.94-2.06 2.06-.94-2.06-.94L8.5 2.5l-.94 2.06-2.06.94zm10 10l.94 2.06.94-2.06 2.06-.94-2.06-.94-.94-2.06-.94 2.06-2.06.94z\"/><path d=\"M17.41 7.96l-1.37-1.37c-.4-.4-.92-.59-1.43-.59-.52 0-1.04.2-1.43.59L10.3 9.45l-7.72 7.72c-.78.78-.78 2.05 0 2.83L4 21.41c.39.39.9.59 1.41.59.51 0 1.02-.2 1.41-.59l7.78-7.78 2.81-2.81c.8-.78.8-2.07 0-2.86zM5.41 20L4 18.59l7.72-7.72 1.47 1.35L5.41 20z\"/>\n",
              "  </svg>\n",
              "      </button>\n",
              "      \n",
              "  <style>\n",
              "    .colab-df-container {\n",
              "      display:flex;\n",
              "      flex-wrap:wrap;\n",
              "      gap: 12px;\n",
              "    }\n",
              "\n",
              "    .colab-df-convert {\n",
              "      background-color: #E8F0FE;\n",
              "      border: none;\n",
              "      border-radius: 50%;\n",
              "      cursor: pointer;\n",
              "      display: none;\n",
              "      fill: #1967D2;\n",
              "      height: 32px;\n",
              "      padding: 0 0 0 0;\n",
              "      width: 32px;\n",
              "    }\n",
              "\n",
              "    .colab-df-convert:hover {\n",
              "      background-color: #E2EBFA;\n",
              "      box-shadow: 0px 1px 2px rgba(60, 64, 67, 0.3), 0px 1px 3px 1px rgba(60, 64, 67, 0.15);\n",
              "      fill: #174EA6;\n",
              "    }\n",
              "\n",
              "    [theme=dark] .colab-df-convert {\n",
              "      background-color: #3B4455;\n",
              "      fill: #D2E3FC;\n",
              "    }\n",
              "\n",
              "    [theme=dark] .colab-df-convert:hover {\n",
              "      background-color: #434B5C;\n",
              "      box-shadow: 0px 1px 3px 1px rgba(0, 0, 0, 0.15);\n",
              "      filter: drop-shadow(0px 1px 2px rgba(0, 0, 0, 0.3));\n",
              "      fill: #FFFFFF;\n",
              "    }\n",
              "  </style>\n",
              "\n",
              "      <script>\n",
              "        const buttonEl =\n",
              "          document.querySelector('#df-cbb5235a-b2d4-46c9-9d02-cc1978af77c5 button.colab-df-convert');\n",
              "        buttonEl.style.display =\n",
              "          google.colab.kernel.accessAllowed ? 'block' : 'none';\n",
              "\n",
              "        async function convertToInteractive(key) {\n",
              "          const element = document.querySelector('#df-cbb5235a-b2d4-46c9-9d02-cc1978af77c5');\n",
              "          const dataTable =\n",
              "            await google.colab.kernel.invokeFunction('convertToInteractive',\n",
              "                                                     [key], {});\n",
              "          if (!dataTable) return;\n",
              "\n",
              "          const docLinkHtml = 'Like what you see? Visit the ' +\n",
              "            '<a target=\"_blank\" href=https://colab.research.google.com/notebooks/data_table.ipynb>data table notebook</a>'\n",
              "            + ' to learn more about interactive tables.';\n",
              "          element.innerHTML = '';\n",
              "          dataTable['output_type'] = 'display_data';\n",
              "          await google.colab.output.renderOutput(dataTable, element);\n",
              "          const docLink = document.createElement('div');\n",
              "          docLink.innerHTML = docLinkHtml;\n",
              "          element.appendChild(docLink);\n",
              "        }\n",
              "      </script>\n",
              "    </div>\n",
              "  </div>\n",
              "  "
            ]
          },
          "metadata": {},
          "execution_count": 49
        }
      ],
      "source": [
        "merge[['Ewc_model_pred',\"EWC_Model1_Potency_Pred\"]]"
      ]
    },
    {
      "cell_type": "code",
      "execution_count": 50,
      "metadata": {
        "id": "rNK0gD9fMQsH"
      },
      "outputs": [],
      "source": [
        "# create the new column and set the initial values\n",
        "merge[\"EWC_Model1_Potency_Pred.3class\"] = merge[\"EWC_Model1_Potency_Pred\"]\n",
        "# apply the conditions and labels\n",
        "merge.loc[merge[\"EWC_Model1_Potency_Pred\"] == \"Extreme\", \"EWC_Model1_Potency_Pred.3class\"] = \"Strong\"\n",
        "merge.loc[merge[\"EWC_Model1_Potency_Pred\"] == \"Moderate\", \"EWC_Model1_Potency_Pred.3class\"] = \"Weak\"\n",
        "\n",
        "# convert the column to a categorical variable with the specified levels\n",
        "merge[\"EWC_Model1_Potency_Pred.3class\"] = pd.Categorical(merge[\"EWC_Model1_Potency_Pred.3class\"], categories=[\"Non\", \"Weak\", \"Strong\"])"
      ]
    },
    {
      "cell_type": "code",
      "execution_count": 51,
      "metadata": {
        "id": "l0OAeB5gNVlg"
      },
      "outputs": [],
      "source": [
        "# create the new column and set the initial values\n",
        "merge['EWC_Model1_Call'] = pd.NA\n",
        "# apply the conditions and labels\n",
        "merge.loc[merge[\"EWC_Model1_Potency_Pred\"].notnull(), 'EWC_Model1_Call'] = 1\n",
        "merge.loc[merge[\"EWC_Model1_Potency_Pred\"].isnull(), 'EWC_Model1_Call'] = 0"
      ]
    },
    {
      "cell_type": "code",
      "execution_count": 52,
      "metadata": {
        "id": "Kz-tG_CjPYsl",
        "colab": {
          "base_uri": "https://localhost:8080/"
        },
        "outputId": "2185b288-2d68-4511-e069-dd7974675c36"
      },
      "outputs": [
        {
          "output_type": "execute_result",
          "data": {
            "text/plain": [
              "CASRN\n",
              "35691-65-7    1\n",
              "149-30-4      1\n",
              "104-55-2      1\n",
              "137-26-8      1\n",
              "69-72-7       1\n",
              "Name: EWC_Model1_Call, dtype: object"
            ]
          },
          "metadata": {},
          "execution_count": 52
        }
      ],
      "source": [
        "merge['EWC_Model1_Call'].head()"
      ]
    },
    {
      "cell_type": "code",
      "execution_count": null,
      "metadata": {
        "id": "mtEQakuOqZ1A"
      },
      "outputs": [],
      "source": [
        "#merge['EWC_Model1_Call'] = pd.factorize(merge['EWC_Model1_Call'])[0]"
      ]
    },
    {
      "cell_type": "code",
      "execution_count": 53,
      "metadata": {
        "id": "330Oz7r-Su3p"
      },
      "outputs": [],
      "source": [
        "merge['EWC_Model1_Call'] = merge['EWC_Model1_Call'].astype('int64')"
      ]
    },
    {
      "cell_type": "code",
      "execution_count": 54,
      "metadata": {
        "id": "20MKuInEnnHz"
      },
      "outputs": [],
      "source": [
        "merge['EWC_Model1_Potency_Pred.3class']=merge['EWC_Model1_Potency_Pred.3class'].fillna('Non')"
      ]
    },
    {
      "cell_type": "code",
      "execution_count": 55,
      "metadata": {
        "id": "T1ih1_CkVdzq",
        "colab": {
          "base_uri": "https://localhost:8080/"
        },
        "outputId": "84992205-2196-472a-d3e0-d94e1a1e5ad5"
      },
      "outputs": [
        {
          "output_type": "execute_result",
          "data": {
            "text/plain": [
              "['Weak', 'Non']\n",
              "Categories (3, object): ['Non', 'Weak', 'Strong']"
            ]
          },
          "metadata": {},
          "execution_count": 55
        }
      ],
      "source": [
        "merge['EWC_Model1_Potency_Pred.3class'].unique()"
      ]
    },
    {
      "cell_type": "code",
      "execution_count": 56,
      "metadata": {
        "id": "INpHTQGVVm7U",
        "colab": {
          "base_uri": "https://localhost:8080/"
        },
        "outputId": "050a0bb7-e64e-4ba3-fe65-3fa00a4d0c62"
      },
      "outputs": [
        {
          "output_type": "execute_result",
          "data": {
            "text/plain": [
              "CASRN\n",
              "101-39-3      Weak\n",
              "111-80-8      Weak\n",
              "93-51-6       Weak\n",
              "122-78-1      Weak\n",
              "17369-59-4    Weak\n",
              "Name: LLNApotency3classMNC, dtype: object"
            ]
          },
          "metadata": {},
          "execution_count": 56
        }
      ],
      "source": [
        "merge['LLNApotency3classMNC'].tail()"
      ]
    },
    {
      "cell_type": "code",
      "execution_count": 57,
      "metadata": {
        "id": "O5eyvqWeWAin",
        "colab": {
          "base_uri": "https://localhost:8080/"
        },
        "outputId": "eec9d222-605f-4c90-e220-022021844589"
      },
      "outputs": [
        {
          "output_type": "execute_result",
          "data": {
            "text/plain": [
              "CASRN\n",
              "35691-65-7    1\n",
              "149-30-4      1\n",
              "104-55-2      1\n",
              "137-26-8      1\n",
              "69-72-7       1\n",
              "Name: EWC_Model1_Call, dtype: int64"
            ]
          },
          "metadata": {},
          "execution_count": 57
        }
      ],
      "source": [
        "merge['EWC_Model1_Call'].head()"
      ]
    },
    {
      "cell_type": "code",
      "execution_count": 58,
      "metadata": {
        "id": "AOrCceXffguy",
        "colab": {
          "base_uri": "https://localhost:8080/",
          "height": 364
        },
        "outputId": "70194811-3d5f-4034-852f-52d1e4db158d"
      },
      "outputs": [
        {
          "output_type": "execute_result",
          "data": {
            "text/plain": [
              "<matplotlib.axes._subplots.AxesSubplot at 0x7fd3da953a60>"
            ]
          },
          "metadata": {},
          "execution_count": 58
        },
        {
          "output_type": "display_data",
          "data": {
            "text/plain": [
              "<Figure size 576x396 with 2 Axes>"
            ],
            "image/png": "[encoded data removed]"
          },
          "metadata": {}
        }
      ],
      "source": [
        "#binary class accuracy for LLNA data\n",
        "import pandas as pd\n",
        "from sklearn.metrics import confusion_matrix\n",
        "# create the confusion matrix\n",
        "cm=confusion_matrix(merge['EWC_Model1_Call'], merge['LLNACallMNC'], labels=[1,0])\n",
        "import seaborn as sns\n",
        "sns.heatmap(cm, annot=True, fmt='d')"
      ]
    },
    {
      "cell_type": "code",
      "execution_count": 59,
      "metadata": {
        "id": "C-z8N389dQMJ",
        "colab": {
          "base_uri": "https://localhost:8080/",
          "height": 364
        },
        "outputId": "a8eb9655-9068-4488-e044-be8251b2b88d"
      },
      "outputs": [
        {
          "output_type": "execute_result",
          "data": {
            "text/plain": [
              "<matplotlib.axes._subplots.AxesSubplot at 0x7fd3d7df8f10>"
            ]
          },
          "metadata": {},
          "execution_count": 59
        },
        {
          "output_type": "display_data",
          "data": {
            "text/plain": [
              "<Figure size 576x396 with 2 Axes>"
            ],
            "image/png": "[encoded data removed]"
          },
          "metadata": {}
        }
      ],
      "source": [
        "\n",
        "# Binary Class accuracy usisng human data\n",
        "hm=confusion_matrix(merge['EWC_Model1_Call'], merge['humanCall'], labels=[1,0])\n",
        "sns.heatmap(hm, annot=True, fmt='d')"
      ]
    },
    {
      "cell_type": "code",
      "execution_count": 60,
      "metadata": {
        "id": "Hq6vw76noUjd",
        "colab": {
          "base_uri": "https://localhost:8080/",
          "height": 364
        },
        "outputId": "1e241640-5d08-47a8-ebb9-399e6fc8b7ff"
      },
      "outputs": [
        {
          "output_type": "execute_result",
          "data": {
            "text/plain": [
              "<matplotlib.axes._subplots.AxesSubplot at 0x7fd3da6b7c10>"
            ]
          },
          "metadata": {},
          "execution_count": 60
        },
        {
          "output_type": "display_data",
          "data": {
            "text/plain": [
              "<Figure size 576x396 with 2 Axes>"
            ],
            "image/png": "[encoded data removed]"
          },
          "metadata": {}
        }
      ],
      "source": [
        "#three class accuracy using LLNA data\n",
        "# convert the columns to categorical variables with the specified levels\n",
        "merge['LLNApotency3classMNC'] = pd.Categorical(merge['LLNApotency3classMNC'], categories=[\"Non\", \"Weak\", \"Strong\"])\n",
        "merge['EWC_Model1_Potency_Pred.3class'] = pd.Categorical(merge['EWC_Model1_Potency_Pred.3class'], categories=[\"Non\", \"Weak\", \"Strong\"])\n",
        "\n",
        "# create the confusion matrix\n",
        "cl_llna3=confusion_matrix(merge['EWC_Model1_Potency_Pred.3class'], merge['LLNApotency3classMNC'], labels=[\"Non\", \"Weak\", \"Strong\"])\n",
        "sns.heatmap(cl_llna3, annot=True, fmt='d')"
      ]
    },
    {
      "cell_type": "code",
      "execution_count": 61,
      "metadata": {
        "id": "XgZvuAF4enW0",
        "colab": {
          "base_uri": "https://localhost:8080/",
          "height": 364
        },
        "outputId": "3df71f1a-a9e0-4799-a389-d2ea4648d1db"
      },
      "outputs": [
        {
          "output_type": "execute_result",
          "data": {
            "text/plain": [
              "<matplotlib.axes._subplots.AxesSubplot at 0x7fd3da64afd0>"
            ]
          },
          "metadata": {},
          "execution_count": 61
        },
        {
          "output_type": "display_data",
          "data": {
            "text/plain": [
              "<Figure size 576x396 with 2 Axes>"
            ],
            "image/png": "[encoded data removed]"
          },
          "metadata": {}
        }
      ],
      "source": [
        "# create the confusion matrix for 3 class potency and human data \n",
        "cl_hm3=confusion_matrix(merge['EWC_Model1_Potency_Pred.3class'], merge['humanpotency3class'], labels=[\"Non\", \"Weak\", \"Strong\"])\n",
        "sns.heatmap(cl_hm3, annot=True, fmt='d')"
      ]
    },
    {
      "cell_type": "code",
      "execution_count": 62,
      "metadata": {
        "id": "1WVZaj8sL_pf"
      },
      "outputs": [],
      "source": [
        "import pickle"
      ]
    },
    {
      "cell_type": "code",
      "execution_count": 64,
      "metadata": {
        "id": "w6QOognwJ8V0"
      },
      "outputs": [],
      "source": [
        "#collect the model object file\n",
        "filename ='EWC_1.pkl' \n",
        "pickle.dump(model,open(filename,'wb'))"
      ]
    },
    {
      "cell_type": "code",
      "execution_count": 65,
      "metadata": {
        "colab": {
          "base_uri": "https://localhost:8080/"
        },
        "id": "_djs_L2D7lIL",
        "outputId": "8f89af15-cce2-463d-e113-fe225f154f56"
      },
      "outputs": [
        {
          "output_type": "execute_result",
          "data": {
            "text/plain": [
              "array([0.36173218, 0.67521471, 0.83678357, 0.83383209, 0.52234886,\n",
              "       0.81373255, 0.67096319, 0.654621  , 0.52322408, 0.86224983,\n",
              "       0.47787023, 0.71295619, 0.54892674, 0.86389063, 0.81063673,\n",
              "       0.86888531, 0.87955911, 0.72578114, 0.86223743, 0.76245255,\n",
              "       0.79744024, 0.79409363, 0.11237313, 0.86484249, 0.79034697,\n",
              "       0.37273011, 0.4024538 , 0.404633  ])"
            ]
          },
          "metadata": {},
          "execution_count": 65
        }
      ],
      "source": [
        "model = pickle.load(open(filename,'rb'))\n",
        "model.predict(X_test)"
      ]
    },
    {
      "cell_type": "code",
      "execution_count": 66,
      "metadata": {
        "colab": {
          "base_uri": "https://localhost:8080/"
        },
        "id": "HXiYRUb_7rRo",
        "outputId": "d6bc2970-87a7-48d1-93fb-8bf9f21a7189"
      },
      "outputs": [
        {
          "output_type": "stream",
          "name": "stdout",
          "text": [
            "\u001b[2K     \u001b[90m━━━━━━━━━━━━━━━━━━━━━━━━━━━━━━━━━━━━━━━━\u001b[0m \u001b[32m9.3/9.3 MB\u001b[0m \u001b[31m73.5 MB/s\u001b[0m eta \u001b[36m0:00:00\u001b[0m\n",
            "\u001b[2K     \u001b[90m━━━━━━━━━━━━━━━━━━━━━━━━━━━━━━━━━━━━━━\u001b[0m \u001b[32m164.8/164.8 KB\u001b[0m \u001b[31m15.4 MB/s\u001b[0m eta \u001b[36m0:00:00\u001b[0m\n",
            "\u001b[2K     \u001b[90m━━━━━━━━━━━━━━━━━━━━━━━━━━━━━━━━━━━━━━\u001b[0m \u001b[32m239.0/239.0 KB\u001b[0m \u001b[31m25.7 MB/s\u001b[0m eta \u001b[36m0:00:00\u001b[0m\n",
            "\u001b[2K     \u001b[90m━━━━━━━━━━━━━━━━━━━━━━━━━━━━━━━━━━━━━━━━\u001b[0m \u001b[32m4.7/4.7 MB\u001b[0m \u001b[31m94.4 MB/s\u001b[0m eta \u001b[36m0:00:00\u001b[0m\n",
            "\u001b[2K     \u001b[90m━━━━━━━━━━━━━━━━━━━━━━━━━━━━━━━━━━━━━━\u001b[0m \u001b[32m184.0/184.0 KB\u001b[0m \u001b[31m21.8 MB/s\u001b[0m eta \u001b[36m0:00:00\u001b[0m\n",
            "\u001b[?25h  Preparing metadata (setup.py) ... \u001b[?25l\u001b[?25hdone\n",
            "\u001b[2K     \u001b[90m━━━━━━━━━━━━━━━━━━━━━━━━━━━━━━━━━━━━━━━━\u001b[0m \u001b[32m79.0/79.0 KB\u001b[0m \u001b[31m10.3 MB/s\u001b[0m eta \u001b[36m0:00:00\u001b[0m\n",
            "\u001b[2K     \u001b[90m━━━━━━━━━━━━━━━━━━━━━━━━━━━━━━━━━━━━━━━━\u001b[0m \u001b[32m62.7/62.7 KB\u001b[0m \u001b[31m7.2 MB/s\u001b[0m eta \u001b[36m0:00:00\u001b[0m\n",
            "\u001b[2K     \u001b[90m━━━━━━━━━━━━━━━━━━━━━━━━━━━━━━━━━━━━━━━━\u001b[0m \u001b[32m84.5/84.5 KB\u001b[0m \u001b[31m10.8 MB/s\u001b[0m eta \u001b[36m0:00:00\u001b[0m\n",
            "\u001b[2K     \u001b[90m━━━━━━━━━━━━━━━━━━━━━━━━━━━━━━━━━━━━━━━━\u001b[0m \u001b[32m1.1/1.1 MB\u001b[0m \u001b[31m63.7 MB/s\u001b[0m eta \u001b[36m0:00:00\u001b[0m\n",
            "\u001b[?25h  Building wheel for validators (setup.py) ... \u001b[?25l\u001b[?25hdone\n",
            "\u001b[31mERROR: pip's dependency resolver does not currently take into account all the packages that are installed. This behaviour is the source of the following dependency conflicts.\n",
            "ipython 7.9.0 requires jedi>=0.10, which is not installed.\u001b[0m\u001b[31m\n",
            "\u001b[K\u001b[?25h/tools/node/bin/lt -> /tools/node/lib/node_modules/localtunnel/bin/lt.js\n",
            "+ localtunnel@2.0.2\n",
            "added 22 packages from 22 contributors in 1.543s\n"
          ]
        }
      ],
      "source": [
        "!pip install streamlit --quiet\n",
        "!npm install -g localtunnel"
      ]
    },
    {
      "cell_type": "code",
      "execution_count": 67,
      "metadata": {
        "colab": {
          "base_uri": "https://localhost:8080/"
        },
        "id": "XTkjU66mZdpf",
        "outputId": "3bc12acd-284f-49ef-b91b-d093583f050a"
      },
      "outputs": [
        {
          "output_type": "stream",
          "name": "stdout",
          "text": [
            "Writing app.py\n"
          ]
        }
      ],
      "source": [
        "\n",
        "%%writefile app.py\n",
        "import numpy as np\n",
        "import cloudpickle as cp\n",
        "from urllib.request import urlopen\n",
        "from sklearn.preprocessing import MinMaxScaler\n",
        "import pickle\n",
        "import pandas as pd\n",
        "import streamlit as st \n",
        "from PIL import Image\n",
        "#collect the model object file\n",
        "filename ='EWC_1.pkl' \n",
        "model = pickle.load(open(filename,'rb'))\n",
        "\n",
        "def welcome():\n",
        "    return \"Welcome All\"\n",
        "def inverse_transform(y_pred, min_max_values):\n",
        "  min_value = min_max_values[0]\n",
        "  max_value = min_max_values[1]\n",
        "  return (y_pred * (max_value - min_value)) + min_value\n",
        "\n",
        "def prediction_LOGEC3(log_DPRA_mean, log_hCLAT_MIT, scaler, model):\n",
        "    # Scale the input\n",
        "    scaled_input = scaler.transform([[log_DPRA_mean, log_hCLAT_MIT]])\n",
        "    prediction = model.predict(scaled_input)\n",
        "    return prediction\n",
        "\n",
        "def main():\n",
        "    st.title(\"'EDELWEISS CONNECT ITS SKIN SENSITIZATION SOLUTION'\")\n",
        "    st.markdown('An Artificial Neural Network Regression model Utilizing invitro and inchemo(h-CLAT,DPRA) Descriptors for predicting skin Sensitization')\n",
        "    html_temp = \"\"\"\n",
        "    EWC_1 SKIN SENSITIZATION PREDICTION App \n",
        "    \"\"\"\n",
        "    st.markdown(html_temp, unsafe_allow_html=True)\n",
        "    log_DPRA_mean = st.number_input(\"DPRA\",min_value=None, max_value=None, value=0.0, step=None,)\n",
        "    log_hCLAT_MIT = st.number_input(\"hCLAT\",min_value=None, max_value=None, value=0.0, step=None,)\n",
        "\n",
        "    \n",
        "    prediction_type = st.selectbox(\"Select prediction type:\", [\"Two-class\", \"Three-class\"])\n",
        "    if st.button(\"Predict\"):\n",
        "    # Scale the input\n",
        "      scaler = MinMaxScaler()\n",
        "      scaler.fit([[log_DPRA_mean, log_hCLAT_MIT]])\n",
        "    # Call the prediction function\n",
        "      result = prediction_LOGEC3(log_DPRA_mean, log_hCLAT_MIT, scaler, model)\n",
        "    # Convert the prediction back to the original scale\n",
        "      min_max_values=(0,1)\n",
        "      result = inverse_transform(result,min_max_values)#scaler.inverse_transform(result,min_max_values)\n",
        "      #result=result.reshape(1,1)\n",
        "      if result is not None:\n",
        "        if prediction_type == \"Three-class\":\n",
        "            if float(result) < (-1):\n",
        "                result = 'Strong'\n",
        "            elif float(result) >= (-1) and float(result) < 0:\n",
        "                result = 'Strong'\n",
        "            elif float(result) >= 0 and float(result) < 1:\n",
        "                result = 'Moderate'\n",
        "            elif float(result) >= 1:\n",
        "                result = 'Moderate'\n",
        "            else:\n",
        "                result = 'Non'\n",
        "        else:\n",
        "            if float(result) < (-1):\n",
        "                result = 'Positive'\n",
        "            elif float(result) >= (-1) and float(result) < 0:\n",
        "                result = 'Positive'\n",
        "            elif float(result) >= 0 and float(result) < 1:\n",
        "                result = 'Positive'\n",
        "            elif float(result) >= 1:\n",
        "                result = 'Positive'\n",
        "            else:\n",
        "                result = 'Negative'\n",
        "        st.success(f'The chemical Potency is {result}')\n",
        "    else:\n",
        "        st.warning(\"Prediction failed, please check your inputs and try again.\")\n",
        "    \n",
        "if __name__=='__main__':\n",
        "    main()\n",
        "      "
      ]
    },
    {
      "cell_type": "code",
      "execution_count": 68,
      "metadata": {
        "colab": {
          "base_uri": "https://localhost:8080/"
        },
        "id": "gawTbvVi75hu",
        "outputId": "40abf66b-a1ab-4398-f2f2-b0bd0f333020"
      },
      "outputs": [
        {
          "output_type": "stream",
          "name": "stdout",
          "text": [
            "\u001b[K\u001b[?25hnpx: installed 22 in 2.681s\n",
            "your url is: https://late-dragons-camp-35-245-240-175.loca.lt\n",
            "\n",
            "Collecting usage statistics. To deactivate, set browser.gatherUsageStats to False.\n",
            "\u001b[0m\n",
            "\u001b[0m\n",
            "\u001b[34m\u001b[1m  You can now view your Streamlit app in your browser.\u001b[0m\n",
            "\u001b[0m\n",
            "\u001b[34m  Network URL: \u001b[0m\u001b[1mhttp://172.28.0.12:8501\u001b[0m\n",
            "\u001b[34m  External URL: \u001b[0m\u001b[1mhttp://35.245.240.175:8501\u001b[0m\n",
            "\u001b[0m\n",
            "\u001b[34m  Stopping...\u001b[0m\n",
            "^C\n"
          ]
        }
      ],
      "source": [
        "!streamlit run app.py & npx localtunnel --port 8501"
      ]
    },
    {
      "cell_type": "code",
      "execution_count": null,
      "metadata": {
        "id": "EiOWideO5q1h"
      },
      "outputs": [],
      "source": [
        "if prediction_type == \"Three-class\":\n",
        "        if float(result) < (-1):\n",
        "            result = 'Strong'\n",
        "        elif float(result) >= (-1) and float(result) < 0:\n",
        "            result = 'Moderate'\n",
        "        elif float(result) >= 0 and float(result) < 1:\n",
        "            result = 'Weak'\n",
        "        elif float(result) >= 1:\n",
        "            result = 'Extreme'\n",
        "        else:\n",
        "            result = 'Non'\n",
        "    else:\n",
        "        if float(result) < (-1):\n",
        "            result = 'Positive'\n",
        "        elif float(result) >= (-1) and float(result) < 0:\n",
        "            result = 'Positive'\n",
        "        elif float(result) >= 0 and float(result) < 1:\n",
        "            result = 'Negative'\n",
        "        elif float(result) >= 1:\n",
        "            result = 'Positive'\n",
        "        else:\n",
        "            result = 'Negative'\n",
        "    st.success(f'The chemical Potency is {result}')\n",
        "    \n",
        "if __name__=='__main__':\n",
        "    main()"
      ]
    },
    {
      "cell_type": "code",
      "execution_count": null,
      "metadata": {
        "id": "ZbpyjAWowzNL"
      },
      "outputs": [],
      "source": [
        "ANN_MODEL1.to_csv('EWC_DPRA_HCLAT.csv')\n"
      ]
    },
    {
      "cell_type": "code",
      "execution_count": null,
      "metadata": {
        "id": "S9X1eyVUZmsm"
      },
      "outputs": [],
      "source": [
        "data_to_excel=pd.ExcelWriter('New_CosEUdata.xlsx')\n",
        "CosEu.to_excel(data_to_excel)\n",
        "data_to_excel.save()"
      ]
    },
    {
      "cell_type": "code",
      "execution_count": null,
      "metadata": {
        "id": "Mptgb4zCeRTK"
      },
      "outputs": [],
      "source": [
        "list(merge.columns)"
      ]
    },
    {
      "cell_type": "code",
      "execution_count": null,
      "metadata": {
        "id": "gMhdzsgXgHY6"
      },
      "outputs": [],
      "source": [
        "# Create a dataframe with ypred and ytest as columns\n",
        "df = pd.DataFrame({'ypred': ypred, 'ytest': ytest})\n",
        "\n",
        "# Calculate the cross-tabulation of ypred and ytest\n",
        "ct = pd.crosstab(df['ypred'], df['ytest'])\n",
        "\n",
        "#  correlation coefficient\n",
        "corr = ct.corr().iloc[0,1]\n",
        "\n",
        "#  covariance\n",
        "cov = ct.cov().iloc[0,1]\n",
        "\n",
        "print(f'Correlation coefficient: {corr}')\n",
        "print(f'Covariance: {cov}')"
      ]
    }
  ],
  "metadata": {
    "colab": {
      "provenance": [],
      "authorship_tag": "ABX9TyNOrnrOKgkWmvsOcar+vwYa",
      "include_colab_link": true
    },
    "kernelspec": {
      "display_name": "Python 3",
      "name": "python3"
    },
    "language_info": {
      "name": "python"
    }
  },
  "nbformat": 4,
  "nbformat_minor": 0
}