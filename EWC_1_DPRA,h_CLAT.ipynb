{
  "cells": [
    {
      "cell_type": "markdown",
      "metadata": {
        "id": "view-in-github",
        "colab_type": "text"
      },
      "source": [
        "<a href=\"https://colab.research.google.com/github/DaniChinwendu/EWC_ANN-MODEL/blob/main/EWC_1_DPRA%2Ch_CLAT.ipynb\" target=\"_parent\"><img src=\"https://colab.research.google.com/assets/colab-badge.svg\" alt=\"Open In Colab\"/></a>"
      ]
    },
    {
      "cell_type": "code",
      "execution_count": 1,
      "metadata": {
        "colab": {
          "base_uri": "https://localhost:8080/",
          "height": 73
        },
        "id": "sSIDMVauToFI",
        "outputId": "2a99b62a-8c01-49f5-bad0-abb364786391"
      },
      "outputs": [
        {
          "output_type": "display_data",
          "data": {
            "text/plain": [
              "<IPython.core.display.HTML object>"
            ],
            "text/html": [
              "\n",
              "     <input type=\"file\" id=\"files-23779cbf-8d70-4e4d-b9fe-67a59cc2620d\" name=\"files[]\" multiple disabled\n",
              "        style=\"border:none\" />\n",
              "     <output id=\"result-23779cbf-8d70-4e4d-b9fe-67a59cc2620d\">\n",
              "      Upload widget is only available when the cell has been executed in the\n",
              "      current browser session. Please rerun this cell to enable.\n",
              "      </output>\n",
              "      <script>// Copyright 2017 Google LLC\n",
              "//\n",
              "// Licensed under the Apache License, Version 2.0 (the \"License\");\n",
              "// you may not use this file except in compliance with the License.\n",
              "// You may obtain a copy of the License at\n",
              "//\n",
              "//      http://www.apache.org/licenses/LICENSE-2.0\n",
              "//\n",
              "// Unless required by applicable law or agreed to in writing, software\n",
              "// distributed under the License is distributed on an \"AS IS\" BASIS,\n",
              "// WITHOUT WARRANTIES OR CONDITIONS OF ANY KIND, either express or implied.\n",
              "// See the License for the specific language governing permissions and\n",
              "// limitations under the License.\n",
              "\n",
              "/**\n",
              " * @fileoverview Helpers for google.colab Python module.\n",
              " */\n",
              "(function(scope) {\n",
              "function span(text, styleAttributes = {}) {\n",
              "  const element = document.createElement('span');\n",
              "  element.textContent = text;\n",
              "  for (const key of Object.keys(styleAttributes)) {\n",
              "    element.style[key] = styleAttributes[key];\n",
              "  }\n",
              "  return element;\n",
              "}\n",
              "\n",
              "// Max number of bytes which will be uploaded at a time.\n",
              "const MAX_PAYLOAD_SIZE = 100 * 1024;\n",
              "\n",
              "function _uploadFiles(inputId, outputId) {\n",
              "  const steps = uploadFilesStep(inputId, outputId);\n",
              "  const outputElement = document.getElementById(outputId);\n",
              "  // Cache steps on the outputElement to make it available for the next call\n",
              "  // to uploadFilesContinue from Python.\n",
              "  outputElement.steps = steps;\n",
              "\n",
              "  return _uploadFilesContinue(outputId);\n",
              "}\n",
              "\n",
              "// This is roughly an async generator (not supported in the browser yet),\n",
              "// where there are multiple asynchronous steps and the Python side is going\n",
              "// to poll for completion of each step.\n",
              "// This uses a Promise to block the python side on completion of each step,\n",
              "// then passes the result of the previous step as the input to the next step.\n",
              "function _uploadFilesContinue(outputId) {\n",
              "  const outputElement = document.getElementById(outputId);\n",
              "  const steps = outputElement.steps;\n",
              "\n",
              "  const next = steps.next(outputElement.lastPromiseValue);\n",
              "  return Promise.resolve(next.value.promise).then((value) => {\n",
              "    // Cache the last promise value to make it available to the next\n",
              "    // step of the generator.\n",
              "    outputElement.lastPromiseValue = value;\n",
              "    return next.value.response;\n",
              "  });\n",
              "}\n",
              "\n",
              "/**\n",
              " * Generator function which is called between each async step of the upload\n",
              " * process.\n",
              " * @param {string} inputId Element ID of the input file picker element.\n",
              " * @param {string} outputId Element ID of the output display.\n",
              " * @return {!Iterable<!Object>} Iterable of next steps.\n",
              " */\n",
              "function* uploadFilesStep(inputId, outputId) {\n",
              "  const inputElement = document.getElementById(inputId);\n",
              "  inputElement.disabled = false;\n",
              "\n",
              "  const outputElement = document.getElementById(outputId);\n",
              "  outputElement.innerHTML = '';\n",
              "\n",
              "  const pickedPromise = new Promise((resolve) => {\n",
              "    inputElement.addEventListener('change', (e) => {\n",
              "      resolve(e.target.files);\n",
              "    });\n",
              "  });\n",
              "\n",
              "  const cancel = document.createElement('button');\n",
              "  inputElement.parentElement.appendChild(cancel);\n",
              "  cancel.textContent = 'Cancel upload';\n",
              "  const cancelPromise = new Promise((resolve) => {\n",
              "    cancel.onclick = () => {\n",
              "      resolve(null);\n",
              "    };\n",
              "  });\n",
              "\n",
              "  // Wait for the user to pick the files.\n",
              "  const files = yield {\n",
              "    promise: Promise.race([pickedPromise, cancelPromise]),\n",
              "    response: {\n",
              "      action: 'starting',\n",
              "    }\n",
              "  };\n",
              "\n",
              "  cancel.remove();\n",
              "\n",
              "  // Disable the input element since further picks are not allowed.\n",
              "  inputElement.disabled = true;\n",
              "\n",
              "  if (!files) {\n",
              "    return {\n",
              "      response: {\n",
              "        action: 'complete',\n",
              "      }\n",
              "    };\n",
              "  }\n",
              "\n",
              "  for (const file of files) {\n",
              "    const li = document.createElement('li');\n",
              "    li.append(span(file.name, {fontWeight: 'bold'}));\n",
              "    li.append(span(\n",
              "        `(${file.type || 'n/a'}) - ${file.size} bytes, ` +\n",
              "        `last modified: ${\n",
              "            file.lastModifiedDate ? file.lastModifiedDate.toLocaleDateString() :\n",
              "                                    'n/a'} - `));\n",
              "    const percent = span('0% done');\n",
              "    li.appendChild(percent);\n",
              "\n",
              "    outputElement.appendChild(li);\n",
              "\n",
              "    const fileDataPromise = new Promise((resolve) => {\n",
              "      const reader = new FileReader();\n",
              "      reader.onload = (e) => {\n",
              "        resolve(e.target.result);\n",
              "      };\n",
              "      reader.readAsArrayBuffer(file);\n",
              "    });\n",
              "    // Wait for the data to be ready.\n",
              "    let fileData = yield {\n",
              "      promise: fileDataPromise,\n",
              "      response: {\n",
              "        action: 'continue',\n",
              "      }\n",
              "    };\n",
              "\n",
              "    // Use a chunked sending to avoid message size limits. See b/62115660.\n",
              "    let position = 0;\n",
              "    do {\n",
              "      const length = Math.min(fileData.byteLength - position, MAX_PAYLOAD_SIZE);\n",
              "      const chunk = new Uint8Array(fileData, position, length);\n",
              "      position += length;\n",
              "\n",
              "      const base64 = btoa(String.fromCharCode.apply(null, chunk));\n",
              "      yield {\n",
              "        response: {\n",
              "          action: 'append',\n",
              "          file: file.name,\n",
              "          data: base64,\n",
              "        },\n",
              "      };\n",
              "\n",
              "      let percentDone = fileData.byteLength === 0 ?\n",
              "          100 :\n",
              "          Math.round((position / fileData.byteLength) * 100);\n",
              "      percent.textContent = `${percentDone}% done`;\n",
              "\n",
              "    } while (position < fileData.byteLength);\n",
              "  }\n",
              "\n",
              "  // All done.\n",
              "  yield {\n",
              "    response: {\n",
              "      action: 'complete',\n",
              "    }\n",
              "  };\n",
              "}\n",
              "\n",
              "scope.google = scope.google || {};\n",
              "scope.google.colab = scope.google.colab || {};\n",
              "scope.google.colab._files = {\n",
              "  _uploadFiles,\n",
              "  _uploadFilesContinue,\n",
              "};\n",
              "})(self);\n",
              "</script> "
            ]
          },
          "metadata": {}
        },
        {
          "output_type": "stream",
          "name": "stdout",
          "text": [
            "Saving Hirota_2015_Updated_Clean_092515 (2).csv to Hirota_2015_Updated_Clean_092515 (2).csv\n"
          ]
        }
      ],
      "source": [
        "import io\n",
        "from google.colab import files\n",
        "uploaded=files.upload()\n",
        "import pandas as pd"
      ]
    },
    {
      "cell_type": "code",
      "execution_count": 2,
      "metadata": {
        "colab": {
          "base_uri": "https://localhost:8080/",
          "height": 371
        },
        "id": "3DTxkiUiUQpM",
        "outputId": "6622e466-d949-4ccc-ea93-7858d3a05e47"
      },
      "outputs": [
        {
          "output_type": "execute_result",
          "data": {
            "text/plain": [
              "                 CASRN                Chemical LLNAthreshold  \\\n",
              "CASRN                                                          \n",
              "886-38-4      886-38-4  Diphenylcyclopropenone         0.003   \n",
              "15646-46-5  15646-46-5               Oxazolone         0.003   \n",
              "1897-45-6    1897-45-6          Chlorothalonil         0.004   \n",
              "mixture        mixture                  MCI/MI         0.005   \n",
              "106-51-4      106-51-4        1,4-Benzoquinone          0.01   \n",
              "\n",
              "            logLLNAthreshold  logMinhCLAT  logDPRA  logImax  logMAC    EC3  \\\n",
              "CASRN                                                                        \n",
              "886-38-4             -2.5229        0.593   1.7118   1.2281   2.666  0.003   \n",
              "15646-46-5           -2.5229        0.433   1.6390   0.2086   1.765  0.003   \n",
              "1897-45-6            -2.3979       -0.678   1.7071   1.2956   1.702  0.004   \n",
              "mixture              -2.3010        0.344   1.7292   0.4691   1.794  0.005   \n",
              "106-51-4             -2.0044        0.350   1.9680   1.7092   1.614   0.01   \n",
              "\n",
              "           LLNA_Threshold GHS_Category hCLAT_Call DPRA_Call ARE_Call SH_Call  \\\n",
              "CASRN                                                                          \n",
              "886-38-4            0.003           1A          P         P        P       P   \n",
              "15646-46-5          0.003           1A          P         P        P       P   \n",
              "1897-45-6           0.004           1A          P         P        P       P   \n",
              "mixture             0.005           1A          P         P        P       P   \n",
              "106-51-4             0.01           1A          P         P        P       P   \n",
              "\n",
              "            Pred_LLNAthreshold Pred_PotencyCategory LLNA_Category  \n",
              "CASRN                                                              \n",
              "886-38-4                  0.35    Extreme or Strong       Extreme  \n",
              "15646-46-5                0.20    Extreme or Strong       Extreme  \n",
              "1897-45-6                 0.02    Extreme or Strong       Extreme  \n",
              "mixture                   0.13    Extreme or Strong       Extreme  \n",
              "106-51-4                  0.13    Extreme or Strong       Extreme  "
            ],
            "text/html": [
              "\n",
              "  <div id=\"df-6d3465d1-7c6f-4964-afd8-321c2d4ce2d1\">\n",
              "    <div class=\"colab-df-container\">\n",
              "      <div>\n",
              "<style scoped>\n",
              "    .dataframe tbody tr th:only-of-type {\n",
              "        vertical-align: middle;\n",
              "    }\n",
              "\n",
              "    .dataframe tbody tr th {\n",
              "        vertical-align: top;\n",
              "    }\n",
              "\n",
              "    .dataframe thead th {\n",
              "        text-align: right;\n",
              "    }\n",
              "</style>\n",
              "<table border=\"1\" class=\"dataframe\">\n",
              "  <thead>\n",
              "    <tr style=\"text-align: right;\">\n",
              "      <th></th>\n",
              "      <th>CASRN</th>\n",
              "      <th>Chemical</th>\n",
              "      <th>LLNAthreshold</th>\n",
              "      <th>logLLNAthreshold</th>\n",
              "      <th>logMinhCLAT</th>\n",
              "      <th>logDPRA</th>\n",
              "      <th>logImax</th>\n",
              "      <th>logMAC</th>\n",
              "      <th>EC3</th>\n",
              "      <th>LLNA_Threshold</th>\n",
              "      <th>GHS_Category</th>\n",
              "      <th>hCLAT_Call</th>\n",
              "      <th>DPRA_Call</th>\n",
              "      <th>ARE_Call</th>\n",
              "      <th>SH_Call</th>\n",
              "      <th>Pred_LLNAthreshold</th>\n",
              "      <th>Pred_PotencyCategory</th>\n",
              "      <th>LLNA_Category</th>\n",
              "    </tr>\n",
              "    <tr>\n",
              "      <th>CASRN</th>\n",
              "      <th></th>\n",
              "      <th></th>\n",
              "      <th></th>\n",
              "      <th></th>\n",
              "      <th></th>\n",
              "      <th></th>\n",
              "      <th></th>\n",
              "      <th></th>\n",
              "      <th></th>\n",
              "      <th></th>\n",
              "      <th></th>\n",
              "      <th></th>\n",
              "      <th></th>\n",
              "      <th></th>\n",
              "      <th></th>\n",
              "      <th></th>\n",
              "      <th></th>\n",
              "      <th></th>\n",
              "    </tr>\n",
              "  </thead>\n",
              "  <tbody>\n",
              "    <tr>\n",
              "      <th>886-38-4</th>\n",
              "      <td>886-38-4</td>\n",
              "      <td>Diphenylcyclopropenone</td>\n",
              "      <td>0.003</td>\n",
              "      <td>-2.5229</td>\n",
              "      <td>0.593</td>\n",
              "      <td>1.7118</td>\n",
              "      <td>1.2281</td>\n",
              "      <td>2.666</td>\n",
              "      <td>0.003</td>\n",
              "      <td>0.003</td>\n",
              "      <td>1A</td>\n",
              "      <td>P</td>\n",
              "      <td>P</td>\n",
              "      <td>P</td>\n",
              "      <td>P</td>\n",
              "      <td>0.35</td>\n",
              "      <td>Extreme or Strong</td>\n",
              "      <td>Extreme</td>\n",
              "    </tr>\n",
              "    <tr>\n",
              "      <th>15646-46-5</th>\n",
              "      <td>15646-46-5</td>\n",
              "      <td>Oxazolone</td>\n",
              "      <td>0.003</td>\n",
              "      <td>-2.5229</td>\n",
              "      <td>0.433</td>\n",
              "      <td>1.6390</td>\n",
              "      <td>0.2086</td>\n",
              "      <td>1.765</td>\n",
              "      <td>0.003</td>\n",
              "      <td>0.003</td>\n",
              "      <td>1A</td>\n",
              "      <td>P</td>\n",
              "      <td>P</td>\n",
              "      <td>P</td>\n",
              "      <td>P</td>\n",
              "      <td>0.20</td>\n",
              "      <td>Extreme or Strong</td>\n",
              "      <td>Extreme</td>\n",
              "    </tr>\n",
              "    <tr>\n",
              "      <th>1897-45-6</th>\n",
              "      <td>1897-45-6</td>\n",
              "      <td>Chlorothalonil</td>\n",
              "      <td>0.004</td>\n",
              "      <td>-2.3979</td>\n",
              "      <td>-0.678</td>\n",
              "      <td>1.7071</td>\n",
              "      <td>1.2956</td>\n",
              "      <td>1.702</td>\n",
              "      <td>0.004</td>\n",
              "      <td>0.004</td>\n",
              "      <td>1A</td>\n",
              "      <td>P</td>\n",
              "      <td>P</td>\n",
              "      <td>P</td>\n",
              "      <td>P</td>\n",
              "      <td>0.02</td>\n",
              "      <td>Extreme or Strong</td>\n",
              "      <td>Extreme</td>\n",
              "    </tr>\n",
              "    <tr>\n",
              "      <th>mixture</th>\n",
              "      <td>mixture</td>\n",
              "      <td>MCI/MI</td>\n",
              "      <td>0.005</td>\n",
              "      <td>-2.3010</td>\n",
              "      <td>0.344</td>\n",
              "      <td>1.7292</td>\n",
              "      <td>0.4691</td>\n",
              "      <td>1.794</td>\n",
              "      <td>0.005</td>\n",
              "      <td>0.005</td>\n",
              "      <td>1A</td>\n",
              "      <td>P</td>\n",
              "      <td>P</td>\n",
              "      <td>P</td>\n",
              "      <td>P</td>\n",
              "      <td>0.13</td>\n",
              "      <td>Extreme or Strong</td>\n",
              "      <td>Extreme</td>\n",
              "    </tr>\n",
              "    <tr>\n",
              "      <th>106-51-4</th>\n",
              "      <td>106-51-4</td>\n",
              "      <td>1,4-Benzoquinone</td>\n",
              "      <td>0.01</td>\n",
              "      <td>-2.0044</td>\n",
              "      <td>0.350</td>\n",
              "      <td>1.9680</td>\n",
              "      <td>1.7092</td>\n",
              "      <td>1.614</td>\n",
              "      <td>0.01</td>\n",
              "      <td>0.01</td>\n",
              "      <td>1A</td>\n",
              "      <td>P</td>\n",
              "      <td>P</td>\n",
              "      <td>P</td>\n",
              "      <td>P</td>\n",
              "      <td>0.13</td>\n",
              "      <td>Extreme or Strong</td>\n",
              "      <td>Extreme</td>\n",
              "    </tr>\n",
              "  </tbody>\n",
              "</table>\n",
              "</div>\n",
              "      <button class=\"colab-df-convert\" onclick=\"convertToInteractive('df-6d3465d1-7c6f-4964-afd8-321c2d4ce2d1')\"\n",
              "              title=\"Convert this dataframe to an interactive table.\"\n",
              "              style=\"display:none;\">\n",
              "        \n",
              "  <svg xmlns=\"http://www.w3.org/2000/svg\" height=\"24px\"viewBox=\"0 0 24 24\"\n",
              "       width=\"24px\">\n",
              "    <path d=\"M0 0h24v24H0V0z\" fill=\"none\"/>\n",
              "    <path d=\"M18.56 5.44l.94 2.06.94-2.06 2.06-.94-2.06-.94-.94-2.06-.94 2.06-2.06.94zm-11 1L8.5 8.5l.94-2.06 2.06-.94-2.06-.94L8.5 2.5l-.94 2.06-2.06.94zm10 10l.94 2.06.94-2.06 2.06-.94-2.06-.94-.94-2.06-.94 2.06-2.06.94z\"/><path d=\"M17.41 7.96l-1.37-1.37c-.4-.4-.92-.59-1.43-.59-.52 0-1.04.2-1.43.59L10.3 9.45l-7.72 7.72c-.78.78-.78 2.05 0 2.83L4 21.41c.39.39.9.59 1.41.59.51 0 1.02-.2 1.41-.59l7.78-7.78 2.81-2.81c.8-.78.8-2.07 0-2.86zM5.41 20L4 18.59l7.72-7.72 1.47 1.35L5.41 20z\"/>\n",
              "  </svg>\n",
              "      </button>\n",
              "      \n",
              "  <style>\n",
              "    .colab-df-container {\n",
              "      display:flex;\n",
              "      flex-wrap:wrap;\n",
              "      gap: 12px;\n",
              "    }\n",
              "\n",
              "    .colab-df-convert {\n",
              "      background-color: #E8F0FE;\n",
              "      border: none;\n",
              "      border-radius: 50%;\n",
              "      cursor: pointer;\n",
              "      display: none;\n",
              "      fill: #1967D2;\n",
              "      height: 32px;\n",
              "      padding: 0 0 0 0;\n",
              "      width: 32px;\n",
              "    }\n",
              "\n",
              "    .colab-df-convert:hover {\n",
              "      background-color: #E2EBFA;\n",
              "      box-shadow: 0px 1px 2px rgba(60, 64, 67, 0.3), 0px 1px 3px 1px rgba(60, 64, 67, 0.15);\n",
              "      fill: #174EA6;\n",
              "    }\n",
              "\n",
              "    [theme=dark] .colab-df-convert {\n",
              "      background-color: #3B4455;\n",
              "      fill: #D2E3FC;\n",
              "    }\n",
              "\n",
              "    [theme=dark] .colab-df-convert:hover {\n",
              "      background-color: #434B5C;\n",
              "      box-shadow: 0px 1px 3px 1px rgba(0, 0, 0, 0.15);\n",
              "      filter: drop-shadow(0px 1px 2px rgba(0, 0, 0, 0.3));\n",
              "      fill: #FFFFFF;\n",
              "    }\n",
              "  </style>\n",
              "\n",
              "      <script>\n",
              "        const buttonEl =\n",
              "          document.querySelector('#df-6d3465d1-7c6f-4964-afd8-321c2d4ce2d1 button.colab-df-convert');\n",
              "        buttonEl.style.display =\n",
              "          google.colab.kernel.accessAllowed ? 'block' : 'none';\n",
              "\n",
              "        async function convertToInteractive(key) {\n",
              "          const element = document.querySelector('#df-6d3465d1-7c6f-4964-afd8-321c2d4ce2d1');\n",
              "          const dataTable =\n",
              "            await google.colab.kernel.invokeFunction('convertToInteractive',\n",
              "                                                     [key], {});\n",
              "          if (!dataTable) return;\n",
              "\n",
              "          const docLinkHtml = 'Like what you see? Visit the ' +\n",
              "            '<a target=\"_blank\" href=https://colab.research.google.com/notebooks/data_table.ipynb>data table notebook</a>'\n",
              "            + ' to learn more about interactive tables.';\n",
              "          element.innerHTML = '';\n",
              "          dataTable['output_type'] = 'display_data';\n",
              "          await google.colab.output.renderOutput(dataTable, element);\n",
              "          const docLink = document.createElement('div');\n",
              "          docLink.innerHTML = docLinkHtml;\n",
              "          element.appendChild(docLink);\n",
              "        }\n",
              "      </script>\n",
              "    </div>\n",
              "  </div>\n",
              "  "
            ]
          },
          "metadata": {},
          "execution_count": 2
        }
      ],
      "source": [
        "df=pd.read_csv(io.BytesIO(uploaded['Hirota_2015_Updated_Clean_092515 (2).csv']))\n",
        "df[\"CASRN\"] = df[\"CASRN\"].astype(str)\n",
        "df.index = df[\"CASRN\"]\n",
        "df.head()"
      ]
    },
    {
      "cell_type": "code",
      "execution_count": 3,
      "metadata": {
        "id": "3HoHV3BJYVrk"
      },
      "outputs": [],
      "source": [
        "from numpy import mean\n",
        "from numpy import absolute\n",
        "from numpy import sqrt\n",
        "from matplotlib import pyplot as plt\n",
        "import seaborn as sns\n",
        "import numpy as np\n",
        "\n",
        "import re\n",
        "import sklearn\n",
        "from sklearn import metrics\n",
        "from sklearn.neural_network import MLPRegressor\n",
        "from sklearn.model_selection import train_test_split\n",
        "from sklearn.preprocessing import StandardScaler\n",
        "from sklearn.preprocessing import MinMaxScaler\n",
        "from sklearn.metrics import r2_score,mean_squared_error\n",
        "from sklearn.model_selection import cross_validate\n",
        "from sklearn.model_selection import LeaveOneOut\n",
        "from sklearn.model_selection import KFold,RepeatedKFold\n",
        "from sklearn.model_selection import cross_val_score, cross_val_predict,validation_curve\n",
        "from sklearn.feature_selection import RFE\n",
        "from sklearn.model_selection import GridSearchCV\n",
        "from yellowbrick.features import Rank1D\n",
        "from sklearn.preprocessing import PolynomialFeatures\n",
        "from sklearn.pipeline import Pipeline\n",
        "import warnings # supress warnings\n",
        "warnings.filterwarnings('ignore')\n",
        "\n"
      ]
    },
    {
      "cell_type": "code",
      "execution_count": 4,
      "metadata": {
        "colab": {
          "base_uri": "https://localhost:8080/",
          "height": 371
        },
        "id": "7puOB1NzQD-e",
        "outputId": "2f644d94-407c-47c0-9fb3-0a075bc2d49a"
      },
      "outputs": [
        {
          "output_type": "execute_result",
          "data": {
            "text/plain": [
              "                 CASRN                Chemical LLNAthreshold  \\\n",
              "CASRN                                                          \n",
              "886-38-4      886-38-4  Diphenylcyclopropenone         0.003   \n",
              "15646-46-5  15646-46-5               Oxazolone         0.003   \n",
              "1897-45-6    1897-45-6          Chlorothalonil         0.004   \n",
              "mixture        mixture                  MCI/MI         0.005   \n",
              "106-51-4      106-51-4        1,4-Benzoquinone          0.01   \n",
              "\n",
              "            logLLNAthreshold  logMinhCLAT  logDPRA  logImax  logMAC    EC3  \\\n",
              "CASRN                                                                        \n",
              "886-38-4             -2.5229        0.593   1.7118   1.2281   2.666  0.003   \n",
              "15646-46-5           -2.5229        0.433   1.6390   0.2086   1.765  0.003   \n",
              "1897-45-6            -2.3979       -0.678   1.7071   1.2956   1.702  0.004   \n",
              "mixture              -2.3010        0.344   1.7292   0.4691   1.794  0.005   \n",
              "106-51-4             -2.0044        0.350   1.9680   1.7092   1.614   0.01   \n",
              "\n",
              "           LLNA_Threshold GHS_Category hCLAT_Call DPRA_Call ARE_Call SH_Call  \\\n",
              "CASRN                                                                          \n",
              "886-38-4            0.003           1A          P         P        P       P   \n",
              "15646-46-5          0.003           1A          P         P        P       P   \n",
              "1897-45-6           0.004           1A          P         P        P       P   \n",
              "mixture             0.005           1A          P         P        P       P   \n",
              "106-51-4             0.01           1A          P         P        P       P   \n",
              "\n",
              "            Pred_LLNAthreshold Pred_PotencyCategory LLNA_Category  \n",
              "CASRN                                                              \n",
              "886-38-4                  0.35    Extreme or Strong       Extreme  \n",
              "15646-46-5                0.20    Extreme or Strong       Extreme  \n",
              "1897-45-6                 0.02    Extreme or Strong       Extreme  \n",
              "mixture                   0.13    Extreme or Strong       Extreme  \n",
              "106-51-4                  0.13    Extreme or Strong       Extreme  "
            ],
            "text/html": [
              "\n",
              "  <div id=\"df-2bc5fc33-dfe0-4b5c-8f7e-1f99b390b434\">\n",
              "    <div class=\"colab-df-container\">\n",
              "      <div>\n",
              "<style scoped>\n",
              "    .dataframe tbody tr th:only-of-type {\n",
              "        vertical-align: middle;\n",
              "    }\n",
              "\n",
              "    .dataframe tbody tr th {\n",
              "        vertical-align: top;\n",
              "    }\n",
              "\n",
              "    .dataframe thead th {\n",
              "        text-align: right;\n",
              "    }\n",
              "</style>\n",
              "<table border=\"1\" class=\"dataframe\">\n",
              "  <thead>\n",
              "    <tr style=\"text-align: right;\">\n",
              "      <th></th>\n",
              "      <th>CASRN</th>\n",
              "      <th>Chemical</th>\n",
              "      <th>LLNAthreshold</th>\n",
              "      <th>logLLNAthreshold</th>\n",
              "      <th>logMinhCLAT</th>\n",
              "      <th>logDPRA</th>\n",
              "      <th>logImax</th>\n",
              "      <th>logMAC</th>\n",
              "      <th>EC3</th>\n",
              "      <th>LLNA_Threshold</th>\n",
              "      <th>GHS_Category</th>\n",
              "      <th>hCLAT_Call</th>\n",
              "      <th>DPRA_Call</th>\n",
              "      <th>ARE_Call</th>\n",
              "      <th>SH_Call</th>\n",
              "      <th>Pred_LLNAthreshold</th>\n",
              "      <th>Pred_PotencyCategory</th>\n",
              "      <th>LLNA_Category</th>\n",
              "    </tr>\n",
              "    <tr>\n",
              "      <th>CASRN</th>\n",
              "      <th></th>\n",
              "      <th></th>\n",
              "      <th></th>\n",
              "      <th></th>\n",
              "      <th></th>\n",
              "      <th></th>\n",
              "      <th></th>\n",
              "      <th></th>\n",
              "      <th></th>\n",
              "      <th></th>\n",
              "      <th></th>\n",
              "      <th></th>\n",
              "      <th></th>\n",
              "      <th></th>\n",
              "      <th></th>\n",
              "      <th></th>\n",
              "      <th></th>\n",
              "      <th></th>\n",
              "    </tr>\n",
              "  </thead>\n",
              "  <tbody>\n",
              "    <tr>\n",
              "      <th>886-38-4</th>\n",
              "      <td>886-38-4</td>\n",
              "      <td>Diphenylcyclopropenone</td>\n",
              "      <td>0.003</td>\n",
              "      <td>-2.5229</td>\n",
              "      <td>0.593</td>\n",
              "      <td>1.7118</td>\n",
              "      <td>1.2281</td>\n",
              "      <td>2.666</td>\n",
              "      <td>0.003</td>\n",
              "      <td>0.003</td>\n",
              "      <td>1A</td>\n",
              "      <td>P</td>\n",
              "      <td>P</td>\n",
              "      <td>P</td>\n",
              "      <td>P</td>\n",
              "      <td>0.35</td>\n",
              "      <td>Extreme or Strong</td>\n",
              "      <td>Extreme</td>\n",
              "    </tr>\n",
              "    <tr>\n",
              "      <th>15646-46-5</th>\n",
              "      <td>15646-46-5</td>\n",
              "      <td>Oxazolone</td>\n",
              "      <td>0.003</td>\n",
              "      <td>-2.5229</td>\n",
              "      <td>0.433</td>\n",
              "      <td>1.6390</td>\n",
              "      <td>0.2086</td>\n",
              "      <td>1.765</td>\n",
              "      <td>0.003</td>\n",
              "      <td>0.003</td>\n",
              "      <td>1A</td>\n",
              "      <td>P</td>\n",
              "      <td>P</td>\n",
              "      <td>P</td>\n",
              "      <td>P</td>\n",
              "      <td>0.20</td>\n",
              "      <td>Extreme or Strong</td>\n",
              "      <td>Extreme</td>\n",
              "    </tr>\n",
              "    <tr>\n",
              "      <th>1897-45-6</th>\n",
              "      <td>1897-45-6</td>\n",
              "      <td>Chlorothalonil</td>\n",
              "      <td>0.004</td>\n",
              "      <td>-2.3979</td>\n",
              "      <td>-0.678</td>\n",
              "      <td>1.7071</td>\n",
              "      <td>1.2956</td>\n",
              "      <td>1.702</td>\n",
              "      <td>0.004</td>\n",
              "      <td>0.004</td>\n",
              "      <td>1A</td>\n",
              "      <td>P</td>\n",
              "      <td>P</td>\n",
              "      <td>P</td>\n",
              "      <td>P</td>\n",
              "      <td>0.02</td>\n",
              "      <td>Extreme or Strong</td>\n",
              "      <td>Extreme</td>\n",
              "    </tr>\n",
              "    <tr>\n",
              "      <th>mixture</th>\n",
              "      <td>mixture</td>\n",
              "      <td>MCI/MI</td>\n",
              "      <td>0.005</td>\n",
              "      <td>-2.3010</td>\n",
              "      <td>0.344</td>\n",
              "      <td>1.7292</td>\n",
              "      <td>0.4691</td>\n",
              "      <td>1.794</td>\n",
              "      <td>0.005</td>\n",
              "      <td>0.005</td>\n",
              "      <td>1A</td>\n",
              "      <td>P</td>\n",
              "      <td>P</td>\n",
              "      <td>P</td>\n",
              "      <td>P</td>\n",
              "      <td>0.13</td>\n",
              "      <td>Extreme or Strong</td>\n",
              "      <td>Extreme</td>\n",
              "    </tr>\n",
              "    <tr>\n",
              "      <th>106-51-4</th>\n",
              "      <td>106-51-4</td>\n",
              "      <td>1,4-Benzoquinone</td>\n",
              "      <td>0.01</td>\n",
              "      <td>-2.0044</td>\n",
              "      <td>0.350</td>\n",
              "      <td>1.9680</td>\n",
              "      <td>1.7092</td>\n",
              "      <td>1.614</td>\n",
              "      <td>0.01</td>\n",
              "      <td>0.01</td>\n",
              "      <td>1A</td>\n",
              "      <td>P</td>\n",
              "      <td>P</td>\n",
              "      <td>P</td>\n",
              "      <td>P</td>\n",
              "      <td>0.13</td>\n",
              "      <td>Extreme or Strong</td>\n",
              "      <td>Extreme</td>\n",
              "    </tr>\n",
              "  </tbody>\n",
              "</table>\n",
              "</div>\n",
              "      <button class=\"colab-df-convert\" onclick=\"convertToInteractive('df-2bc5fc33-dfe0-4b5c-8f7e-1f99b390b434')\"\n",
              "              title=\"Convert this dataframe to an interactive table.\"\n",
              "              style=\"display:none;\">\n",
              "        \n",
              "  <svg xmlns=\"http://www.w3.org/2000/svg\" height=\"24px\"viewBox=\"0 0 24 24\"\n",
              "       width=\"24px\">\n",
              "    <path d=\"M0 0h24v24H0V0z\" fill=\"none\"/>\n",
              "    <path d=\"M18.56 5.44l.94 2.06.94-2.06 2.06-.94-2.06-.94-.94-2.06-.94 2.06-2.06.94zm-11 1L8.5 8.5l.94-2.06 2.06-.94-2.06-.94L8.5 2.5l-.94 2.06-2.06.94zm10 10l.94 2.06.94-2.06 2.06-.94-2.06-.94-.94-2.06-.94 2.06-2.06.94z\"/><path d=\"M17.41 7.96l-1.37-1.37c-.4-.4-.92-.59-1.43-.59-.52 0-1.04.2-1.43.59L10.3 9.45l-7.72 7.72c-.78.78-.78 2.05 0 2.83L4 21.41c.39.39.9.59 1.41.59.51 0 1.02-.2 1.41-.59l7.78-7.78 2.81-2.81c.8-.78.8-2.07 0-2.86zM5.41 20L4 18.59l7.72-7.72 1.47 1.35L5.41 20z\"/>\n",
              "  </svg>\n",
              "      </button>\n",
              "      \n",
              "  <style>\n",
              "    .colab-df-container {\n",
              "      display:flex;\n",
              "      flex-wrap:wrap;\n",
              "      gap: 12px;\n",
              "    }\n",
              "\n",
              "    .colab-df-convert {\n",
              "      background-color: #E8F0FE;\n",
              "      border: none;\n",
              "      border-radius: 50%;\n",
              "      cursor: pointer;\n",
              "      display: none;\n",
              "      fill: #1967D2;\n",
              "      height: 32px;\n",
              "      padding: 0 0 0 0;\n",
              "      width: 32px;\n",
              "    }\n",
              "\n",
              "    .colab-df-convert:hover {\n",
              "      background-color: #E2EBFA;\n",
              "      box-shadow: 0px 1px 2px rgba(60, 64, 67, 0.3), 0px 1px 3px 1px rgba(60, 64, 67, 0.15);\n",
              "      fill: #174EA6;\n",
              "    }\n",
              "\n",
              "    [theme=dark] .colab-df-convert {\n",
              "      background-color: #3B4455;\n",
              "      fill: #D2E3FC;\n",
              "    }\n",
              "\n",
              "    [theme=dark] .colab-df-convert:hover {\n",
              "      background-color: #434B5C;\n",
              "      box-shadow: 0px 1px 3px 1px rgba(0, 0, 0, 0.15);\n",
              "      filter: drop-shadow(0px 1px 2px rgba(0, 0, 0, 0.3));\n",
              "      fill: #FFFFFF;\n",
              "    }\n",
              "  </style>\n",
              "\n",
              "      <script>\n",
              "        const buttonEl =\n",
              "          document.querySelector('#df-2bc5fc33-dfe0-4b5c-8f7e-1f99b390b434 button.colab-df-convert');\n",
              "        buttonEl.style.display =\n",
              "          google.colab.kernel.accessAllowed ? 'block' : 'none';\n",
              "\n",
              "        async function convertToInteractive(key) {\n",
              "          const element = document.querySelector('#df-2bc5fc33-dfe0-4b5c-8f7e-1f99b390b434');\n",
              "          const dataTable =\n",
              "            await google.colab.kernel.invokeFunction('convertToInteractive',\n",
              "                                                     [key], {});\n",
              "          if (!dataTable) return;\n",
              "\n",
              "          const docLinkHtml = 'Like what you see? Visit the ' +\n",
              "            '<a target=\"_blank\" href=https://colab.research.google.com/notebooks/data_table.ipynb>data table notebook</a>'\n",
              "            + ' to learn more about interactive tables.';\n",
              "          element.innerHTML = '';\n",
              "          dataTable['output_type'] = 'display_data';\n",
              "          await google.colab.output.renderOutput(dataTable, element);\n",
              "          const docLink = document.createElement('div');\n",
              "          docLink.innerHTML = docLinkHtml;\n",
              "          element.appendChild(docLink);\n",
              "        }\n",
              "      </script>\n",
              "    </div>\n",
              "  </div>\n",
              "  "
            ]
          },
          "metadata": {},
          "execution_count": 4
        }
      ],
      "source": [
        "df1=df.dropna(subset=[ 'logDPRA','logMinhCLAT'])\n",
        "df1.head()\n"
      ]
    },
    {
      "cell_type": "code",
      "execution_count": 5,
      "metadata": {
        "colab": {
          "base_uri": "https://localhost:8080/",
          "height": 423
        },
        "id": "XfaPMqgRFc4x",
        "outputId": "bea108ba-a18c-4219-e720-3c45c16a32ed"
      },
      "outputs": [
        {
          "output_type": "execute_result",
          "data": {
            "text/plain": [
              "          CASRN  logLLNAthreshold  logDPRA  logMinhCLAT\n",
              "0      886-38-4           -2.5229   1.7118       0.5930\n",
              "1    15646-46-5           -2.5229   1.6390       0.4330\n",
              "2     1897-45-6           -2.3979   1.7071      -0.6780\n",
              "3       mixture           -2.3010   1.7292       0.3440\n",
              "4      106-51-4           -2.0044   1.9680       0.3500\n",
              "..          ...               ...      ...          ...\n",
              "134   3810-74-0            1.6990  -2.0000       3.0000\n",
              "135     63-74-1            1.6990  -0.1549       3.0000\n",
              "136    121-57-3            1.3979   0.4624       3.6990\n",
              "137    121-33-5            1.6990   1.5099       2.8129\n",
              "138    151-21-3            1.1461   1.8319       1.7782\n",
              "\n",
              "[139 rows x 4 columns]"
            ],
            "text/html": [
              "\n",
              "  <div id=\"df-2f0e316c-d65a-445d-a577-daf523a67525\">\n",
              "    <div class=\"colab-df-container\">\n",
              "      <div>\n",
              "<style scoped>\n",
              "    .dataframe tbody tr th:only-of-type {\n",
              "        vertical-align: middle;\n",
              "    }\n",
              "\n",
              "    .dataframe tbody tr th {\n",
              "        vertical-align: top;\n",
              "    }\n",
              "\n",
              "    .dataframe thead th {\n",
              "        text-align: right;\n",
              "    }\n",
              "</style>\n",
              "<table border=\"1\" class=\"dataframe\">\n",
              "  <thead>\n",
              "    <tr style=\"text-align: right;\">\n",
              "      <th></th>\n",
              "      <th>CASRN</th>\n",
              "      <th>logLLNAthreshold</th>\n",
              "      <th>logDPRA</th>\n",
              "      <th>logMinhCLAT</th>\n",
              "    </tr>\n",
              "  </thead>\n",
              "  <tbody>\n",
              "    <tr>\n",
              "      <th>0</th>\n",
              "      <td>886-38-4</td>\n",
              "      <td>-2.5229</td>\n",
              "      <td>1.7118</td>\n",
              "      <td>0.5930</td>\n",
              "    </tr>\n",
              "    <tr>\n",
              "      <th>1</th>\n",
              "      <td>15646-46-5</td>\n",
              "      <td>-2.5229</td>\n",
              "      <td>1.6390</td>\n",
              "      <td>0.4330</td>\n",
              "    </tr>\n",
              "    <tr>\n",
              "      <th>2</th>\n",
              "      <td>1897-45-6</td>\n",
              "      <td>-2.3979</td>\n",
              "      <td>1.7071</td>\n",
              "      <td>-0.6780</td>\n",
              "    </tr>\n",
              "    <tr>\n",
              "      <th>3</th>\n",
              "      <td>mixture</td>\n",
              "      <td>-2.3010</td>\n",
              "      <td>1.7292</td>\n",
              "      <td>0.3440</td>\n",
              "    </tr>\n",
              "    <tr>\n",
              "      <th>4</th>\n",
              "      <td>106-51-4</td>\n",
              "      <td>-2.0044</td>\n",
              "      <td>1.9680</td>\n",
              "      <td>0.3500</td>\n",
              "    </tr>\n",
              "    <tr>\n",
              "      <th>...</th>\n",
              "      <td>...</td>\n",
              "      <td>...</td>\n",
              "      <td>...</td>\n",
              "      <td>...</td>\n",
              "    </tr>\n",
              "    <tr>\n",
              "      <th>134</th>\n",
              "      <td>3810-74-0</td>\n",
              "      <td>1.6990</td>\n",
              "      <td>-2.0000</td>\n",
              "      <td>3.0000</td>\n",
              "    </tr>\n",
              "    <tr>\n",
              "      <th>135</th>\n",
              "      <td>63-74-1</td>\n",
              "      <td>1.6990</td>\n",
              "      <td>-0.1549</td>\n",
              "      <td>3.0000</td>\n",
              "    </tr>\n",
              "    <tr>\n",
              "      <th>136</th>\n",
              "      <td>121-57-3</td>\n",
              "      <td>1.3979</td>\n",
              "      <td>0.4624</td>\n",
              "      <td>3.6990</td>\n",
              "    </tr>\n",
              "    <tr>\n",
              "      <th>137</th>\n",
              "      <td>121-33-5</td>\n",
              "      <td>1.6990</td>\n",
              "      <td>1.5099</td>\n",
              "      <td>2.8129</td>\n",
              "    </tr>\n",
              "    <tr>\n",
              "      <th>138</th>\n",
              "      <td>151-21-3</td>\n",
              "      <td>1.1461</td>\n",
              "      <td>1.8319</td>\n",
              "      <td>1.7782</td>\n",
              "    </tr>\n",
              "  </tbody>\n",
              "</table>\n",
              "<p>139 rows × 4 columns</p>\n",
              "</div>\n",
              "      <button class=\"colab-df-convert\" onclick=\"convertToInteractive('df-2f0e316c-d65a-445d-a577-daf523a67525')\"\n",
              "              title=\"Convert this dataframe to an interactive table.\"\n",
              "              style=\"display:none;\">\n",
              "        \n",
              "  <svg xmlns=\"http://www.w3.org/2000/svg\" height=\"24px\"viewBox=\"0 0 24 24\"\n",
              "       width=\"24px\">\n",
              "    <path d=\"M0 0h24v24H0V0z\" fill=\"none\"/>\n",
              "    <path d=\"M18.56 5.44l.94 2.06.94-2.06 2.06-.94-2.06-.94-.94-2.06-.94 2.06-2.06.94zm-11 1L8.5 8.5l.94-2.06 2.06-.94-2.06-.94L8.5 2.5l-.94 2.06-2.06.94zm10 10l.94 2.06.94-2.06 2.06-.94-2.06-.94-.94-2.06-.94 2.06-2.06.94z\"/><path d=\"M17.41 7.96l-1.37-1.37c-.4-.4-.92-.59-1.43-.59-.52 0-1.04.2-1.43.59L10.3 9.45l-7.72 7.72c-.78.78-.78 2.05 0 2.83L4 21.41c.39.39.9.59 1.41.59.51 0 1.02-.2 1.41-.59l7.78-7.78 2.81-2.81c.8-.78.8-2.07 0-2.86zM5.41 20L4 18.59l7.72-7.72 1.47 1.35L5.41 20z\"/>\n",
              "  </svg>\n",
              "      </button>\n",
              "      \n",
              "  <style>\n",
              "    .colab-df-container {\n",
              "      display:flex;\n",
              "      flex-wrap:wrap;\n",
              "      gap: 12px;\n",
              "    }\n",
              "\n",
              "    .colab-df-convert {\n",
              "      background-color: #E8F0FE;\n",
              "      border: none;\n",
              "      border-radius: 50%;\n",
              "      cursor: pointer;\n",
              "      display: none;\n",
              "      fill: #1967D2;\n",
              "      height: 32px;\n",
              "      padding: 0 0 0 0;\n",
              "      width: 32px;\n",
              "    }\n",
              "\n",
              "    .colab-df-convert:hover {\n",
              "      background-color: #E2EBFA;\n",
              "      box-shadow: 0px 1px 2px rgba(60, 64, 67, 0.3), 0px 1px 3px 1px rgba(60, 64, 67, 0.15);\n",
              "      fill: #174EA6;\n",
              "    }\n",
              "\n",
              "    [theme=dark] .colab-df-convert {\n",
              "      background-color: #3B4455;\n",
              "      fill: #D2E3FC;\n",
              "    }\n",
              "\n",
              "    [theme=dark] .colab-df-convert:hover {\n",
              "      background-color: #434B5C;\n",
              "      box-shadow: 0px 1px 3px 1px rgba(0, 0, 0, 0.15);\n",
              "      filter: drop-shadow(0px 1px 2px rgba(0, 0, 0, 0.3));\n",
              "      fill: #FFFFFF;\n",
              "    }\n",
              "  </style>\n",
              "\n",
              "      <script>\n",
              "        const buttonEl =\n",
              "          document.querySelector('#df-2f0e316c-d65a-445d-a577-daf523a67525 button.colab-df-convert');\n",
              "        buttonEl.style.display =\n",
              "          google.colab.kernel.accessAllowed ? 'block' : 'none';\n",
              "\n",
              "        async function convertToInteractive(key) {\n",
              "          const element = document.querySelector('#df-2f0e316c-d65a-445d-a577-daf523a67525');\n",
              "          const dataTable =\n",
              "            await google.colab.kernel.invokeFunction('convertToInteractive',\n",
              "                                                     [key], {});\n",
              "          if (!dataTable) return;\n",
              "\n",
              "          const docLinkHtml = 'Like what you see? Visit the ' +\n",
              "            '<a target=\"_blank\" href=https://colab.research.google.com/notebooks/data_table.ipynb>data table notebook</a>'\n",
              "            + ' to learn more about interactive tables.';\n",
              "          element.innerHTML = '';\n",
              "          dataTable['output_type'] = 'display_data';\n",
              "          await google.colab.output.renderOutput(dataTable, element);\n",
              "          const docLink = document.createElement('div');\n",
              "          docLink.innerHTML = docLinkHtml;\n",
              "          element.appendChild(docLink);\n",
              "        }\n",
              "      </script>\n",
              "    </div>\n",
              "  </div>\n",
              "  "
            ]
          },
          "metadata": {},
          "execution_count": 5
        }
      ],
      "source": [
        "train_data=df1[['logLLNAthreshold', 'logDPRA','logMinhCLAT']]\n",
        "train_data=train_data.reset_index()\n",
        "train_data"
      ]
    },
    {
      "cell_type": "code",
      "source": [
        "plt.scatter(train_data['logDPRA'], train_data['logMinhCLAT'])"
      ],
      "metadata": {
        "colab": {
          "base_uri": "https://localhost:8080/",
          "height": 364
        },
        "id": "csu6nLHDAX_P",
        "outputId": "7756359a-50f1-4d01-9f45-a4201b421572"
      },
      "execution_count": 6,
      "outputs": [
        {
          "output_type": "execute_result",
          "data": {
            "text/plain": [
              "<matplotlib.collections.PathCollection at 0x7fe2ce001190>"
            ]
          },
          "metadata": {},
          "execution_count": 6
        },
        {
          "output_type": "display_data",
          "data": {
            "text/plain": [
              "<Figure size 576x396 with 1 Axes>"
            ],
            "image/png": "[encoded data removed]"
          },
          "metadata": {}
        }
      ]
    },
    {
      "cell_type": "code",
      "execution_count": null,
      "metadata": {
        "id": "Vfr75KkFd-0e"
      },
      "outputs": [],
      "source": [
        "train_data.to_csv('MAIN HIROTA FILE3.csv',index=True)"
      ]
    },
    {
      "cell_type": "code",
      "execution_count": 7,
      "metadata": {
        "colab": {
          "base_uri": "https://localhost:8080/",
          "height": 73
        },
        "id": "qrRHYdAj4LHR",
        "outputId": "c877a2d6-df17-4f9a-f11b-840ce26dad21"
      },
      "outputs": [
        {
          "output_type": "display_data",
          "data": {
            "text/plain": [
              "<IPython.core.display.HTML object>"
            ],
            "text/html": [
              "\n",
              "     <input type=\"file\" id=\"files-eb799429-5db3-4e2a-b308-d4ec60049c33\" name=\"files[]\" multiple disabled\n",
              "        style=\"border:none\" />\n",
              "     <output id=\"result-eb799429-5db3-4e2a-b308-d4ec60049c33\">\n",
              "      Upload widget is only available when the cell has been executed in the\n",
              "      current browser session. Please rerun this cell to enable.\n",
              "      </output>\n",
              "      <script>// Copyright 2017 Google LLC\n",
              "//\n",
              "// Licensed under the Apache License, Version 2.0 (the \"License\");\n",
              "// you may not use this file except in compliance with the License.\n",
              "// You may obtain a copy of the License at\n",
              "//\n",
              "//      http://www.apache.org/licenses/LICENSE-2.0\n",
              "//\n",
              "// Unless required by applicable law or agreed to in writing, software\n",
              "// distributed under the License is distributed on an \"AS IS\" BASIS,\n",
              "// WITHOUT WARRANTIES OR CONDITIONS OF ANY KIND, either express or implied.\n",
              "// See the License for the specific language governing permissions and\n",
              "// limitations under the License.\n",
              "\n",
              "/**\n",
              " * @fileoverview Helpers for google.colab Python module.\n",
              " */\n",
              "(function(scope) {\n",
              "function span(text, styleAttributes = {}) {\n",
              "  const element = document.createElement('span');\n",
              "  element.textContent = text;\n",
              "  for (const key of Object.keys(styleAttributes)) {\n",
              "    element.style[key] = styleAttributes[key];\n",
              "  }\n",
              "  return element;\n",
              "}\n",
              "\n",
              "// Max number of bytes which will be uploaded at a time.\n",
              "const MAX_PAYLOAD_SIZE = 100 * 1024;\n",
              "\n",
              "function _uploadFiles(inputId, outputId) {\n",
              "  const steps = uploadFilesStep(inputId, outputId);\n",
              "  const outputElement = document.getElementById(outputId);\n",
              "  // Cache steps on the outputElement to make it available for the next call\n",
              "  // to uploadFilesContinue from Python.\n",
              "  outputElement.steps = steps;\n",
              "\n",
              "  return _uploadFilesContinue(outputId);\n",
              "}\n",
              "\n",
              "// This is roughly an async generator (not supported in the browser yet),\n",
              "// where there are multiple asynchronous steps and the Python side is going\n",
              "// to poll for completion of each step.\n",
              "// This uses a Promise to block the python side on completion of each step,\n",
              "// then passes the result of the previous step as the input to the next step.\n",
              "function _uploadFilesContinue(outputId) {\n",
              "  const outputElement = document.getElementById(outputId);\n",
              "  const steps = outputElement.steps;\n",
              "\n",
              "  const next = steps.next(outputElement.lastPromiseValue);\n",
              "  return Promise.resolve(next.value.promise).then((value) => {\n",
              "    // Cache the last promise value to make it available to the next\n",
              "    // step of the generator.\n",
              "    outputElement.lastPromiseValue = value;\n",
              "    return next.value.response;\n",
              "  });\n",
              "}\n",
              "\n",
              "/**\n",
              " * Generator function which is called between each async step of the upload\n",
              " * process.\n",
              " * @param {string} inputId Element ID of the input file picker element.\n",
              " * @param {string} outputId Element ID of the output display.\n",
              " * @return {!Iterable<!Object>} Iterable of next steps.\n",
              " */\n",
              "function* uploadFilesStep(inputId, outputId) {\n",
              "  const inputElement = document.getElementById(inputId);\n",
              "  inputElement.disabled = false;\n",
              "\n",
              "  const outputElement = document.getElementById(outputId);\n",
              "  outputElement.innerHTML = '';\n",
              "\n",
              "  const pickedPromise = new Promise((resolve) => {\n",
              "    inputElement.addEventListener('change', (e) => {\n",
              "      resolve(e.target.files);\n",
              "    });\n",
              "  });\n",
              "\n",
              "  const cancel = document.createElement('button');\n",
              "  inputElement.parentElement.appendChild(cancel);\n",
              "  cancel.textContent = 'Cancel upload';\n",
              "  const cancelPromise = new Promise((resolve) => {\n",
              "    cancel.onclick = () => {\n",
              "      resolve(null);\n",
              "    };\n",
              "  });\n",
              "\n",
              "  // Wait for the user to pick the files.\n",
              "  const files = yield {\n",
              "    promise: Promise.race([pickedPromise, cancelPromise]),\n",
              "    response: {\n",
              "      action: 'starting',\n",
              "    }\n",
              "  };\n",
              "\n",
              "  cancel.remove();\n",
              "\n",
              "  // Disable the input element since further picks are not allowed.\n",
              "  inputElement.disabled = true;\n",
              "\n",
              "  if (!files) {\n",
              "    return {\n",
              "      response: {\n",
              "        action: 'complete',\n",
              "      }\n",
              "    };\n",
              "  }\n",
              "\n",
              "  for (const file of files) {\n",
              "    const li = document.createElement('li');\n",
              "    li.append(span(file.name, {fontWeight: 'bold'}));\n",
              "    li.append(span(\n",
              "        `(${file.type || 'n/a'}) - ${file.size} bytes, ` +\n",
              "        `last modified: ${\n",
              "            file.lastModifiedDate ? file.lastModifiedDate.toLocaleDateString() :\n",
              "                                    'n/a'} - `));\n",
              "    const percent = span('0% done');\n",
              "    li.appendChild(percent);\n",
              "\n",
              "    outputElement.appendChild(li);\n",
              "\n",
              "    const fileDataPromise = new Promise((resolve) => {\n",
              "      const reader = new FileReader();\n",
              "      reader.onload = (e) => {\n",
              "        resolve(e.target.result);\n",
              "      };\n",
              "      reader.readAsArrayBuffer(file);\n",
              "    });\n",
              "    // Wait for the data to be ready.\n",
              "    let fileData = yield {\n",
              "      promise: fileDataPromise,\n",
              "      response: {\n",
              "        action: 'continue',\n",
              "      }\n",
              "    };\n",
              "\n",
              "    // Use a chunked sending to avoid message size limits. See b/62115660.\n",
              "    let position = 0;\n",
              "    do {\n",
              "      const length = Math.min(fileData.byteLength - position, MAX_PAYLOAD_SIZE);\n",
              "      const chunk = new Uint8Array(fileData, position, length);\n",
              "      position += length;\n",
              "\n",
              "      const base64 = btoa(String.fromCharCode.apply(null, chunk));\n",
              "      yield {\n",
              "        response: {\n",
              "          action: 'append',\n",
              "          file: file.name,\n",
              "          data: base64,\n",
              "        },\n",
              "      };\n",
              "\n",
              "      let percentDone = fileData.byteLength === 0 ?\n",
              "          100 :\n",
              "          Math.round((position / fileData.byteLength) * 100);\n",
              "      percent.textContent = `${percentDone}% done`;\n",
              "\n",
              "    } while (position < fileData.byteLength);\n",
              "  }\n",
              "\n",
              "  // All done.\n",
              "  yield {\n",
              "    response: {\n",
              "      action: 'complete',\n",
              "    }\n",
              "  };\n",
              "}\n",
              "\n",
              "scope.google = scope.google || {};\n",
              "scope.google.colab = scope.google.colab || {};\n",
              "scope.google.colab._files = {\n",
              "  _uploadFiles,\n",
              "  _uploadFilesContinue,\n",
              "};\n",
              "})(self);\n",
              "</script> "
            ]
          },
          "metadata": {}
        },
        {
          "output_type": "stream",
          "name": "stdout",
          "text": [
            "Saving CosEu_invitro_insilico_128chems_Jan2017.csv to CosEu_invitro_insilico_128chems_Jan2017.csv\n"
          ]
        }
      ],
      "source": [
        "#Read Cosmetic Europe in vitro data, physchem properties, OECD Toolbox predictions\n",
        "uploaded=files.upload()\n",
        "df2=pd.read_csv(io.BytesIO(uploaded['CosEu_invitro_insilico_128chems_Jan2017.csv']))\n",
        "df2[\"CASRN\"] = df2[\"CASRN\"].str.strip()\n",
        "df2 = df2.sort_values(by=\"Num\")\n",
        "df2=df2"
      ]
    },
    {
      "cell_type": "code",
      "execution_count": 8,
      "metadata": {
        "id": "F8Ze9fXN8UAA"
      },
      "outputs": [],
      "source": [
        "# Replace negative values in DPRA.mean column with 0\n",
        "df2[\"DPRA.mean\"].mask(df2[\"DPRA.mean\"] < 0, 0, inplace=True)\n",
        "# Remove rows with missing values in DPRA.Call or hCLAT.Call columns\n",
        "df2 = df2.dropna(subset=[\"DPRA.Call\", \"hCLAT.Call\"])\n",
        "#df2['DPRA.mean']=df2['DPRA.mean'].clip(lower=0)\n",
        "#df2.dropna(subset=['DPRA.Call','hCLAT.Call'],inplace=True)\n"
      ]
    },
    {
      "cell_type": "code",
      "execution_count": 9,
      "metadata": {
        "colab": {
          "base_uri": "https://localhost:8080/",
          "height": 73
        },
        "id": "zAvDv-ao59dm",
        "outputId": "c84d020c-5f2a-4dc0-8814-5c5c9cfaf375"
      },
      "outputs": [
        {
          "output_type": "display_data",
          "data": {
            "text/plain": [
              "<IPython.core.display.HTML object>"
            ],
            "text/html": [
              "\n",
              "     <input type=\"file\" id=\"files-07cff86c-8274-4f09-a6b4-1b8bcef31258\" name=\"files[]\" multiple disabled\n",
              "        style=\"border:none\" />\n",
              "     <output id=\"result-07cff86c-8274-4f09-a6b4-1b8bcef31258\">\n",
              "      Upload widget is only available when the cell has been executed in the\n",
              "      current browser session. Please rerun this cell to enable.\n",
              "      </output>\n",
              "      <script>// Copyright 2017 Google LLC\n",
              "//\n",
              "// Licensed under the Apache License, Version 2.0 (the \"License\");\n",
              "// you may not use this file except in compliance with the License.\n",
              "// You may obtain a copy of the License at\n",
              "//\n",
              "//      http://www.apache.org/licenses/LICENSE-2.0\n",
              "//\n",
              "// Unless required by applicable law or agreed to in writing, software\n",
              "// distributed under the License is distributed on an \"AS IS\" BASIS,\n",
              "// WITHOUT WARRANTIES OR CONDITIONS OF ANY KIND, either express or implied.\n",
              "// See the License for the specific language governing permissions and\n",
              "// limitations under the License.\n",
              "\n",
              "/**\n",
              " * @fileoverview Helpers for google.colab Python module.\n",
              " */\n",
              "(function(scope) {\n",
              "function span(text, styleAttributes = {}) {\n",
              "  const element = document.createElement('span');\n",
              "  element.textContent = text;\n",
              "  for (const key of Object.keys(styleAttributes)) {\n",
              "    element.style[key] = styleAttributes[key];\n",
              "  }\n",
              "  return element;\n",
              "}\n",
              "\n",
              "// Max number of bytes which will be uploaded at a time.\n",
              "const MAX_PAYLOAD_SIZE = 100 * 1024;\n",
              "\n",
              "function _uploadFiles(inputId, outputId) {\n",
              "  const steps = uploadFilesStep(inputId, outputId);\n",
              "  const outputElement = document.getElementById(outputId);\n",
              "  // Cache steps on the outputElement to make it available for the next call\n",
              "  // to uploadFilesContinue from Python.\n",
              "  outputElement.steps = steps;\n",
              "\n",
              "  return _uploadFilesContinue(outputId);\n",
              "}\n",
              "\n",
              "// This is roughly an async generator (not supported in the browser yet),\n",
              "// where there are multiple asynchronous steps and the Python side is going\n",
              "// to poll for completion of each step.\n",
              "// This uses a Promise to block the python side on completion of each step,\n",
              "// then passes the result of the previous step as the input to the next step.\n",
              "function _uploadFilesContinue(outputId) {\n",
              "  const outputElement = document.getElementById(outputId);\n",
              "  const steps = outputElement.steps;\n",
              "\n",
              "  const next = steps.next(outputElement.lastPromiseValue);\n",
              "  return Promise.resolve(next.value.promise).then((value) => {\n",
              "    // Cache the last promise value to make it available to the next\n",
              "    // step of the generator.\n",
              "    outputElement.lastPromiseValue = value;\n",
              "    return next.value.response;\n",
              "  });\n",
              "}\n",
              "\n",
              "/**\n",
              " * Generator function which is called between each async step of the upload\n",
              " * process.\n",
              " * @param {string} inputId Element ID of the input file picker element.\n",
              " * @param {string} outputId Element ID of the output display.\n",
              " * @return {!Iterable<!Object>} Iterable of next steps.\n",
              " */\n",
              "function* uploadFilesStep(inputId, outputId) {\n",
              "  const inputElement = document.getElementById(inputId);\n",
              "  inputElement.disabled = false;\n",
              "\n",
              "  const outputElement = document.getElementById(outputId);\n",
              "  outputElement.innerHTML = '';\n",
              "\n",
              "  const pickedPromise = new Promise((resolve) => {\n",
              "    inputElement.addEventListener('change', (e) => {\n",
              "      resolve(e.target.files);\n",
              "    });\n",
              "  });\n",
              "\n",
              "  const cancel = document.createElement('button');\n",
              "  inputElement.parentElement.appendChild(cancel);\n",
              "  cancel.textContent = 'Cancel upload';\n",
              "  const cancelPromise = new Promise((resolve) => {\n",
              "    cancel.onclick = () => {\n",
              "      resolve(null);\n",
              "    };\n",
              "  });\n",
              "\n",
              "  // Wait for the user to pick the files.\n",
              "  const files = yield {\n",
              "    promise: Promise.race([pickedPromise, cancelPromise]),\n",
              "    response: {\n",
              "      action: 'starting',\n",
              "    }\n",
              "  };\n",
              "\n",
              "  cancel.remove();\n",
              "\n",
              "  // Disable the input element since further picks are not allowed.\n",
              "  inputElement.disabled = true;\n",
              "\n",
              "  if (!files) {\n",
              "    return {\n",
              "      response: {\n",
              "        action: 'complete',\n",
              "      }\n",
              "    };\n",
              "  }\n",
              "\n",
              "  for (const file of files) {\n",
              "    const li = document.createElement('li');\n",
              "    li.append(span(file.name, {fontWeight: 'bold'}));\n",
              "    li.append(span(\n",
              "        `(${file.type || 'n/a'}) - ${file.size} bytes, ` +\n",
              "        `last modified: ${\n",
              "            file.lastModifiedDate ? file.lastModifiedDate.toLocaleDateString() :\n",
              "                                    'n/a'} - `));\n",
              "    const percent = span('0% done');\n",
              "    li.appendChild(percent);\n",
              "\n",
              "    outputElement.appendChild(li);\n",
              "\n",
              "    const fileDataPromise = new Promise((resolve) => {\n",
              "      const reader = new FileReader();\n",
              "      reader.onload = (e) => {\n",
              "        resolve(e.target.result);\n",
              "      };\n",
              "      reader.readAsArrayBuffer(file);\n",
              "    });\n",
              "    // Wait for the data to be ready.\n",
              "    let fileData = yield {\n",
              "      promise: fileDataPromise,\n",
              "      response: {\n",
              "        action: 'continue',\n",
              "      }\n",
              "    };\n",
              "\n",
              "    // Use a chunked sending to avoid message size limits. See b/62115660.\n",
              "    let position = 0;\n",
              "    do {\n",
              "      const length = Math.min(fileData.byteLength - position, MAX_PAYLOAD_SIZE);\n",
              "      const chunk = new Uint8Array(fileData, position, length);\n",
              "      position += length;\n",
              "\n",
              "      const base64 = btoa(String.fromCharCode.apply(null, chunk));\n",
              "      yield {\n",
              "        response: {\n",
              "          action: 'append',\n",
              "          file: file.name,\n",
              "          data: base64,\n",
              "        },\n",
              "      };\n",
              "\n",
              "      let percentDone = fileData.byteLength === 0 ?\n",
              "          100 :\n",
              "          Math.round((position / fileData.byteLength) * 100);\n",
              "      percent.textContent = `${percentDone}% done`;\n",
              "\n",
              "    } while (position < fileData.byteLength);\n",
              "  }\n",
              "\n",
              "  // All done.\n",
              "  yield {\n",
              "    response: {\n",
              "      action: 'complete',\n",
              "    }\n",
              "  };\n",
              "}\n",
              "\n",
              "scope.google = scope.google || {};\n",
              "scope.google.colab = scope.google.colab || {};\n",
              "scope.google.colab._files = {\n",
              "  _uploadFiles,\n",
              "  _uploadFilesContinue,\n",
              "};\n",
              "})(self);\n",
              "</script> "
            ]
          },
          "metadata": {}
        },
        {
          "output_type": "stream",
          "name": "stdout",
          "text": [
            "Saving CosEu_invivo_128chems_March2017.csv to CosEu_invivo_128chems_March2017.csv\n"
          ]
        }
      ],
      "source": [
        "#Read in vivo LLNA and human data\n",
        "uploaded=files.upload()\n",
        "df3=pd.read_csv(io.BytesIO(uploaded['CosEu_invivo_128chems_March2017.csv']))\n"
      ]
    },
    {
      "cell_type": "code",
      "execution_count": 10,
      "metadata": {
        "id": "l240_zMu9e_J"
      },
      "outputs": [],
      "source": [
        "\n",
        "# select the rows where LLNA.Call.MNC is equal to 0\n",
        "mask = df3[\"LLNA.Call.MNC\"] == 0\n",
        "# assign 100 to the selected rows in the Median_NC.EC3 column\n",
        "df3.loc[mask, \"Median_NC.EC3\"] = 100\n"
      ]
    },
    {
      "cell_type": "code",
      "execution_count": 11,
      "metadata": {
        "colab": {
          "base_uri": "https://localhost:8080/"
        },
        "id": "TXy4sNz5mVHA",
        "outputId": "390b9de0-aa58-49ec-ef5b-cd03d0f5eedf"
      },
      "outputs": [
        {
          "output_type": "execute_result",
          "data": {
            "text/plain": [
              "127"
            ]
          },
          "metadata": {},
          "execution_count": 11
        }
      ],
      "source": [
        "# remove the period (.) character from the column names and\n",
        "# replace multiple consecutive periods with underscores\n",
        "df3.columns = [col.replace(\".\", \"\").replace(\"(\\\\.)+\", \"_\") for col in df3.columns]\n",
        "# Check if all values in cosEu['Num'] are contained in cosEu['Num']\n",
        "#if all(df3[\"Num\"].isin(df2[\"Num\"])):\n",
        "# Merge the two data frames on the Num column\n",
        "CosEu= pd.merge(df2,df3, on=\"Num\", sort=False)\n",
        "# Replace instances of \"CASRN.x\" in column names with \"CASRN\"\n",
        "CosEu.columns = CosEu.columns.str.replace(\"CASRN.x\", \"CASRN\")\n",
        "CosEu.columns = CosEu.columns.str.replace(\"Median_NCEC3_x\", \"Median_NCEC3\")\n",
        "\n",
        "# Set the row names to the values in the CASRN column\n",
        "CosEu.index = CosEu[\"CASRN\"]\n",
        "CosEu[\"logLLNAthreshold\"]=df1[\"logLLNAthreshold\"]\n",
        "\n",
        "# Create a new column and store the logarithm (base 10) of the values in the Median_NC_EC3 column\n",
        "CosEu['log_Median_NC_EC3'] = np.log10(CosEu[\"Median_NCEC3\"])\n",
        "\n",
        "# Replace missing values in log_Median_NC_EC3 with corresponding values in logLLNAthreshold\n",
        "CosEu[\"log_Median_NC_EC3\"].mask(\n",
        "    CosEu['log_Median_NC_EC3'].isna(),\n",
        "    CosEu[\"logLLNAthreshold\"],\n",
        "    inplace=True)\n",
        "len(CosEu)"
      ]
    },
    {
      "cell_type": "code",
      "execution_count": 12,
      "metadata": {
        "id": "lxvazJb6aB4q"
      },
      "outputs": [],
      "source": [
        "#Applying logic to deal with negatives (If all model inputs are negative, prediction is negative)\n",
        "CosEu['MODEL_PRED1']='Pos'\n",
        "col_list=[\"DPRA.Call\",\"hCLAT.Call\"]\n",
        "CosEu['Pos.Call.DH']=CosEu[col_list].sum(axis=1)\n",
        "CosEu['Model_pred']=CosEu['Pos.Call.DH'].apply(lambda x:'Neg' if x==0 else 'Pos')"
      ]
    },
    {
      "cell_type": "code",
      "execution_count": 13,
      "metadata": {
        "id": "NJEv-hL7lsUF"
      },
      "outputs": [],
      "source": [
        "#Replace negatives in hCLAT with CV75\n",
        "CosEu['hCLAT.MIT']=np.where(CosEu['hCLAT.MIT']=='inf',CosEu['hCLAT.MIT'],CosEu['h.CLAT.CV75'])\n",
        "#Convert all h_CLAT Value to log 10 values\n",
        "CosEu['log_hCLAT_MIT']=np.log10(CosEu['hCLAT.MIT'])\n",
        "CosEu['log_hCLAT_MIT'].replace('inf','NA',inplace=True)\n",
        "\n"
      ]
    },
    {
      "cell_type": "code",
      "execution_count": 14,
      "metadata": {
        "colab": {
          "base_uri": "https://localhost:8080/",
          "height": 435
        },
        "id": "XC_db3aoqksF",
        "outputId": "7ee82ad7-9495-464e-cb5d-861388bfe9af"
      },
      "outputs": [
        {
          "output_type": "execute_result",
          "data": {
            "text/plain": [
              "            Num                    Chemical_x       CASRN  U-SENS.Call  \\\n",
              "CASRN                                                                    \n",
              "35691-65-7    2  Methyldibromo glutaronitrile  35691-65-7          1.0   \n",
              "149-30-4      3       2-Mercaptobenzothiazole    149-30-4          1.0   \n",
              "104-55-2      4             Cinnamic aldehyde    104-55-2          1.0   \n",
              "137-26-8      5   Tetramethylthiuramdisulfide    137-26-8          1.0   \n",
              "69-72-7       6                Salicylic acid     69-72-7          0.0   \n",
              "\n",
              "           U-SENS.CD86.EC150 U-SENS.CV70  DPRA.Call  DPRA.percCysdep  \\\n",
              "CASRN                                                                  \n",
              "35691-65-7                 3           5        1.0            100.0   \n",
              "149-30-4                  40          80        1.0             97.5   \n",
              "104-55-2                   1           8        1.0             70.6   \n",
              "137-26-8                 0.1           3        1.0             99.5   \n",
              "69-72-7                 >200        >200        1.0              3.5   \n",
              "\n",
              "            DPRA.percLysdep  DPRA.mean  ... humanCall  humanpotency3class  \\\n",
              "CASRN                                   ...                                 \n",
              "35691-65-7             28.6      64.30  ...         1              Strong   \n",
              "149-30-4                0.0      48.75  ...         1                Weak   \n",
              "104-55-2               43.3      56.95  ...         1              Strong   \n",
              "137-26-8                6.9      53.20  ...         1                Weak   \n",
              "69-72-7                21.1      12.30  ...         0                 Non   \n",
              "\n",
              "            humanpotency5class  logLLNAthreshold  log_Median_NC_EC3  \\\n",
              "CASRN                                                                 \n",
              "35691-65-7              Strong           -0.0458          -0.045757   \n",
              "149-30-4              Moderate            0.2304           0.414973   \n",
              "104-55-2                Strong            0.4771           0.060698   \n",
              "137-26-8              Moderate            0.7160           0.466868   \n",
              "69-72-7                    Non               NaN           1.086360   \n",
              "\n",
              "            MODEL_PRED1  Pos.Call.DH  Model_pred  log_hCLAT_MIT  log_DPRA_mean  \n",
              "CASRN                                                                           \n",
              "35691-65-7          Pos          2.0         Pos       0.995635       1.808211  \n",
              "149-30-4            Pos          2.0         Pos       2.227887       1.687975  \n",
              "104-55-2            Pos          2.0         Pos       1.447158       1.755494  \n",
              "137-26-8            Pos          2.0         Pos       1.000000       1.725912  \n",
              "69-72-7             Pos          2.0         Pos       3.000000       1.089905  \n",
              "\n",
              "[5 rows x 58 columns]"
            ],
            "text/html": [
              "\n",
              "  <div id=\"df-6c77afab-5540-4ea3-9443-a692fde9fe4b\">\n",
              "    <div class=\"colab-df-container\">\n",
              "      <div>\n",
              "<style scoped>\n",
              "    .dataframe tbody tr th:only-of-type {\n",
              "        vertical-align: middle;\n",
              "    }\n",
              "\n",
              "    .dataframe tbody tr th {\n",
              "        vertical-align: top;\n",
              "    }\n",
              "\n",
              "    .dataframe thead th {\n",
              "        text-align: right;\n",
              "    }\n",
              "</style>\n",
              "<table border=\"1\" class=\"dataframe\">\n",
              "  <thead>\n",
              "    <tr style=\"text-align: right;\">\n",
              "      <th></th>\n",
              "      <th>Num</th>\n",
              "      <th>Chemical_x</th>\n",
              "      <th>CASRN</th>\n",
              "      <th>U-SENS.Call</th>\n",
              "      <th>U-SENS.CD86.EC150</th>\n",
              "      <th>U-SENS.CV70</th>\n",
              "      <th>DPRA.Call</th>\n",
              "      <th>DPRA.percCysdep</th>\n",
              "      <th>DPRA.percLysdep</th>\n",
              "      <th>DPRA.mean</th>\n",
              "      <th>...</th>\n",
              "      <th>humanCall</th>\n",
              "      <th>humanpotency3class</th>\n",
              "      <th>humanpotency5class</th>\n",
              "      <th>logLLNAthreshold</th>\n",
              "      <th>log_Median_NC_EC3</th>\n",
              "      <th>MODEL_PRED1</th>\n",
              "      <th>Pos.Call.DH</th>\n",
              "      <th>Model_pred</th>\n",
              "      <th>log_hCLAT_MIT</th>\n",
              "      <th>log_DPRA_mean</th>\n",
              "    </tr>\n",
              "    <tr>\n",
              "      <th>CASRN</th>\n",
              "      <th></th>\n",
              "      <th></th>\n",
              "      <th></th>\n",
              "      <th></th>\n",
              "      <th></th>\n",
              "      <th></th>\n",
              "      <th></th>\n",
              "      <th></th>\n",
              "      <th></th>\n",
              "      <th></th>\n",
              "      <th></th>\n",
              "      <th></th>\n",
              "      <th></th>\n",
              "      <th></th>\n",
              "      <th></th>\n",
              "      <th></th>\n",
              "      <th></th>\n",
              "      <th></th>\n",
              "      <th></th>\n",
              "      <th></th>\n",
              "      <th></th>\n",
              "    </tr>\n",
              "  </thead>\n",
              "  <tbody>\n",
              "    <tr>\n",
              "      <th>35691-65-7</th>\n",
              "      <td>2</td>\n",
              "      <td>Methyldibromo glutaronitrile</td>\n",
              "      <td>35691-65-7</td>\n",
              "      <td>1.0</td>\n",
              "      <td>3</td>\n",
              "      <td>5</td>\n",
              "      <td>1.0</td>\n",
              "      <td>100.0</td>\n",
              "      <td>28.6</td>\n",
              "      <td>64.30</td>\n",
              "      <td>...</td>\n",
              "      <td>1</td>\n",
              "      <td>Strong</td>\n",
              "      <td>Strong</td>\n",
              "      <td>-0.0458</td>\n",
              "      <td>-0.045757</td>\n",
              "      <td>Pos</td>\n",
              "      <td>2.0</td>\n",
              "      <td>Pos</td>\n",
              "      <td>0.995635</td>\n",
              "      <td>1.808211</td>\n",
              "    </tr>\n",
              "    <tr>\n",
              "      <th>149-30-4</th>\n",
              "      <td>3</td>\n",
              "      <td>2-Mercaptobenzothiazole</td>\n",
              "      <td>149-30-4</td>\n",
              "      <td>1.0</td>\n",
              "      <td>40</td>\n",
              "      <td>80</td>\n",
              "      <td>1.0</td>\n",
              "      <td>97.5</td>\n",
              "      <td>0.0</td>\n",
              "      <td>48.75</td>\n",
              "      <td>...</td>\n",
              "      <td>1</td>\n",
              "      <td>Weak</td>\n",
              "      <td>Moderate</td>\n",
              "      <td>0.2304</td>\n",
              "      <td>0.414973</td>\n",
              "      <td>Pos</td>\n",
              "      <td>2.0</td>\n",
              "      <td>Pos</td>\n",
              "      <td>2.227887</td>\n",
              "      <td>1.687975</td>\n",
              "    </tr>\n",
              "    <tr>\n",
              "      <th>104-55-2</th>\n",
              "      <td>4</td>\n",
              "      <td>Cinnamic aldehyde</td>\n",
              "      <td>104-55-2</td>\n",
              "      <td>1.0</td>\n",
              "      <td>1</td>\n",
              "      <td>8</td>\n",
              "      <td>1.0</td>\n",
              "      <td>70.6</td>\n",
              "      <td>43.3</td>\n",
              "      <td>56.95</td>\n",
              "      <td>...</td>\n",
              "      <td>1</td>\n",
              "      <td>Strong</td>\n",
              "      <td>Strong</td>\n",
              "      <td>0.4771</td>\n",
              "      <td>0.060698</td>\n",
              "      <td>Pos</td>\n",
              "      <td>2.0</td>\n",
              "      <td>Pos</td>\n",
              "      <td>1.447158</td>\n",
              "      <td>1.755494</td>\n",
              "    </tr>\n",
              "    <tr>\n",
              "      <th>137-26-8</th>\n",
              "      <td>5</td>\n",
              "      <td>Tetramethylthiuramdisulfide</td>\n",
              "      <td>137-26-8</td>\n",
              "      <td>1.0</td>\n",
              "      <td>0.1</td>\n",
              "      <td>3</td>\n",
              "      <td>1.0</td>\n",
              "      <td>99.5</td>\n",
              "      <td>6.9</td>\n",
              "      <td>53.20</td>\n",
              "      <td>...</td>\n",
              "      <td>1</td>\n",
              "      <td>Weak</td>\n",
              "      <td>Moderate</td>\n",
              "      <td>0.7160</td>\n",
              "      <td>0.466868</td>\n",
              "      <td>Pos</td>\n",
              "      <td>2.0</td>\n",
              "      <td>Pos</td>\n",
              "      <td>1.000000</td>\n",
              "      <td>1.725912</td>\n",
              "    </tr>\n",
              "    <tr>\n",
              "      <th>69-72-7</th>\n",
              "      <td>6</td>\n",
              "      <td>Salicylic acid</td>\n",
              "      <td>69-72-7</td>\n",
              "      <td>0.0</td>\n",
              "      <td>&gt;200</td>\n",
              "      <td>&gt;200</td>\n",
              "      <td>1.0</td>\n",
              "      <td>3.5</td>\n",
              "      <td>21.1</td>\n",
              "      <td>12.30</td>\n",
              "      <td>...</td>\n",
              "      <td>0</td>\n",
              "      <td>Non</td>\n",
              "      <td>Non</td>\n",
              "      <td>NaN</td>\n",
              "      <td>1.086360</td>\n",
              "      <td>Pos</td>\n",
              "      <td>2.0</td>\n",
              "      <td>Pos</td>\n",
              "      <td>3.000000</td>\n",
              "      <td>1.089905</td>\n",
              "    </tr>\n",
              "  </tbody>\n",
              "</table>\n",
              "<p>5 rows × 58 columns</p>\n",
              "</div>\n",
              "      <button class=\"colab-df-convert\" onclick=\"convertToInteractive('df-6c77afab-5540-4ea3-9443-a692fde9fe4b')\"\n",
              "              title=\"Convert this dataframe to an interactive table.\"\n",
              "              style=\"display:none;\">\n",
              "        \n",
              "  <svg xmlns=\"http://www.w3.org/2000/svg\" height=\"24px\"viewBox=\"0 0 24 24\"\n",
              "       width=\"24px\">\n",
              "    <path d=\"M0 0h24v24H0V0z\" fill=\"none\"/>\n",
              "    <path d=\"M18.56 5.44l.94 2.06.94-2.06 2.06-.94-2.06-.94-.94-2.06-.94 2.06-2.06.94zm-11 1L8.5 8.5l.94-2.06 2.06-.94-2.06-.94L8.5 2.5l-.94 2.06-2.06.94zm10 10l.94 2.06.94-2.06 2.06-.94-2.06-.94-.94-2.06-.94 2.06-2.06.94z\"/><path d=\"M17.41 7.96l-1.37-1.37c-.4-.4-.92-.59-1.43-.59-.52 0-1.04.2-1.43.59L10.3 9.45l-7.72 7.72c-.78.78-.78 2.05 0 2.83L4 21.41c.39.39.9.59 1.41.59.51 0 1.02-.2 1.41-.59l7.78-7.78 2.81-2.81c.8-.78.8-2.07 0-2.86zM5.41 20L4 18.59l7.72-7.72 1.47 1.35L5.41 20z\"/>\n",
              "  </svg>\n",
              "      </button>\n",
              "      \n",
              "  <style>\n",
              "    .colab-df-container {\n",
              "      display:flex;\n",
              "      flex-wrap:wrap;\n",
              "      gap: 12px;\n",
              "    }\n",
              "\n",
              "    .colab-df-convert {\n",
              "      background-color: #E8F0FE;\n",
              "      border: none;\n",
              "      border-radius: 50%;\n",
              "      cursor: pointer;\n",
              "      display: none;\n",
              "      fill: #1967D2;\n",
              "      height: 32px;\n",
              "      padding: 0 0 0 0;\n",
              "      width: 32px;\n",
              "    }\n",
              "\n",
              "    .colab-df-convert:hover {\n",
              "      background-color: #E2EBFA;\n",
              "      box-shadow: 0px 1px 2px rgba(60, 64, 67, 0.3), 0px 1px 3px 1px rgba(60, 64, 67, 0.15);\n",
              "      fill: #174EA6;\n",
              "    }\n",
              "\n",
              "    [theme=dark] .colab-df-convert {\n",
              "      background-color: #3B4455;\n",
              "      fill: #D2E3FC;\n",
              "    }\n",
              "\n",
              "    [theme=dark] .colab-df-convert:hover {\n",
              "      background-color: #434B5C;\n",
              "      box-shadow: 0px 1px 3px 1px rgba(0, 0, 0, 0.15);\n",
              "      filter: drop-shadow(0px 1px 2px rgba(0, 0, 0, 0.3));\n",
              "      fill: #FFFFFF;\n",
              "    }\n",
              "  </style>\n",
              "\n",
              "      <script>\n",
              "        const buttonEl =\n",
              "          document.querySelector('#df-6c77afab-5540-4ea3-9443-a692fde9fe4b button.colab-df-convert');\n",
              "        buttonEl.style.display =\n",
              "          google.colab.kernel.accessAllowed ? 'block' : 'none';\n",
              "\n",
              "        async function convertToInteractive(key) {\n",
              "          const element = document.querySelector('#df-6c77afab-5540-4ea3-9443-a692fde9fe4b');\n",
              "          const dataTable =\n",
              "            await google.colab.kernel.invokeFunction('convertToInteractive',\n",
              "                                                     [key], {});\n",
              "          if (!dataTable) return;\n",
              "\n",
              "          const docLinkHtml = 'Like what you see? Visit the ' +\n",
              "            '<a target=\"_blank\" href=https://colab.research.google.com/notebooks/data_table.ipynb>data table notebook</a>'\n",
              "            + ' to learn more about interactive tables.';\n",
              "          element.innerHTML = '';\n",
              "          dataTable['output_type'] = 'display_data';\n",
              "          await google.colab.output.renderOutput(dataTable, element);\n",
              "          const docLink = document.createElement('div');\n",
              "          docLink.innerHTML = docLinkHtml;\n",
              "          element.appendChild(docLink);\n",
              "        }\n",
              "      </script>\n",
              "    </div>\n",
              "  </div>\n",
              "  "
            ]
          },
          "metadata": {},
          "execution_count": 14
        }
      ],
      "source": [
        "#Replace 0 in DPRA with 0.01\n",
        "CosEu[\"DPRA.mean\"].mask(CosEu[\"DPRA.mean\"] == 0, 0.01, inplace=True)\n",
        "#CosEu['DPRA.mean']=CosEu['DPRA.mean'].clip(lower=0.01)\n",
        "CosEu['log_DPRA_mean']=np.log10(CosEu['DPRA.mean'])\n",
        "CosEu.head()\n"
      ]
    },
    {
      "cell_type": "code",
      "execution_count": 15,
      "metadata": {
        "colab": {
          "base_uri": "https://localhost:8080/"
        },
        "id": "HExwgDddXhd_",
        "outputId": "74c2f007-650b-4d84-dca6-c092643f13a8"
      },
      "outputs": [
        {
          "output_type": "execute_result",
          "data": {
            "text/plain": [
              "127"
            ]
          },
          "metadata": {},
          "execution_count": 15
        }
      ],
      "source": [
        "#Checking for intesection between hirotashi dataset and merged invivo, invitro dataset using the CAS column\n",
        "#strip x suffix and prefix\n",
        "CosEu.columns = CosEu.columns.str.rstrip('_x')\n",
        "merge = pd.merge(df1,CosEu, left_index=True, right_index=True,how='right')\n",
        "ex_data=merge[['log_Median_NC_EC3','log_DPRA_mean','log_hCLAT_MIT','Model_pred']]\n",
        "#merge[['logLLNAthreshold', 'logDPRA','logMinhCLAT']]\n",
        "#merge[['log_Median_NC_EC3','log_DPRA_mean','log_hCLAT_MIT','Model_pred']]\n",
        "ex_data['log_hCLAT_MIT'].replace('inf','NA',inplace=True)\n",
        "ex_data= ex_data.replace('inf', np.NaN)\n",
        "ex_data.dropna(subset=['log_hCLAT_MIT','log_DPRA_mean'], inplace=True)\n",
        "ex_data.head(98)\n",
        "len(ex_data)\n",
        "\n",
        "#CosEu_1.dropna(subset=['log_DPRA_mean','log_hCLAT_MIT'],inplace=Tr\n",
        "#3len(n_53)\n",
        "#3n_53.head(30),df1, CosEu,"
      ]
    },
    {
      "cell_type": "code",
      "execution_count": 16,
      "metadata": {
        "id": "f6XBodATZNoC"
      },
      "outputs": [],
      "source": [
        "merge.columns=merge.columns.str.rstrip('_x')"
      ]
    },
    {
      "cell_type": "code",
      "execution_count": null,
      "metadata": {
        "colab": {
          "base_uri": "https://localhost:8080/"
        },
        "id": "-Flnati1Yxgz",
        "outputId": "be539298-01a4-452e-d146-f1539b31d5da"
      },
      "outputs": [
        {
          "output_type": "stream",
          "name": "stdout",
          "text": [
            "Index(['CASRN', 'Chemical', 'LLNAthreshold', 'logLLNAthreshold', 'logMinhCLAT',\n",
            "       'logDPRA', 'logIma', 'logMAC', 'EC3', 'LLNA_Threshold', 'GHS_Category',\n",
            "       'hCLAT_Call', 'DPRA_Call', 'ARE_Call', 'SH_Call', 'Pred_LLNAthreshold',\n",
            "       'Pred_PotencyCategory', 'LLNA_Category', 'Num', 'Chemical_y', 'CASRN_y',\n",
            "       'U-SENS.Call', 'U-SENS.CD86.EC150', 'U-SENS.CV70', 'DPRA.Call',\n",
            "       'DPRA.percCysdep', 'DPRA.percLysdep', 'DPRA.mean', 'DPRA.potency',\n",
            "       'hCLAT.Call', 'hCLAT.CD86.EC150', 'hCLAT.CD54.EC200', 'h.CLAT.CV75',\n",
            "       'hCLAT.MIT', 'KS.Call', 'KS.EC1.5', 'KS.EC3', 'KS.IC50', 'KS.Ima',\n",
            "       'DEREK.Skin.Sensitisation', 'DEREK.Training.set', 'OECD', 'LogP',\n",
            "       'LogP.Source', 'LogS', 'LogS.Source', 'BP', 'BP.Source', 'MP',\n",
            "       'MP.Source', 'LogVP', 'LogVP.Source', 'LogBCF', 'LogBCF.Source', 'MW',\n",
            "       'Chemical_y', 'CASRN_y', 'ArithMeanEC3', 'GeoMeanEC3', 'MedianEC3',\n",
            "       'Median_NCEC3', 'MinEC3', 'LLNApotencyMNC', 'LLNApotency3classMNC',\n",
            "       'LLNACallMNC', 'Basketterhumanpotency', 'humanCall',\n",
            "       'humanpotency3class', 'humanpotency5class', 'logLLNAthreshold_y',\n",
            "       'log_Median_NC_EC3', 'MODEL_PRED1', 'Pos.Call.DH', 'Model_pred',\n",
            "       'log_hCLAT_MIT', 'log_DPRA_mean'],\n",
            "      dtype='object')\n"
          ]
        }
      ],
      "source": [
        "print(merge.columns)"
      ]
    },
    {
      "cell_type": "code",
      "execution_count": 17,
      "metadata": {
        "id": "S2T2leH0axGa"
      },
      "outputs": [],
      "source": [
        "ex_data\n",
        "ex_data=ex_data.reset_index()"
      ]
    },
    {
      "cell_type": "code",
      "execution_count": 18,
      "metadata": {
        "colab": {
          "base_uri": "https://localhost:8080/",
          "height": 423
        },
        "id": "bpSU390bT7mT",
        "outputId": "27a2d41f-4ebb-4da0-92b0-089f37d72b03"
      },
      "outputs": [
        {
          "output_type": "execute_result",
          "data": {
            "text/plain": [
              "          CASRN  log_Median_NC_EC3  log_DPRA_mean  log_hCLAT_MIT Model_pred\n",
              "0    35691-65-7          -0.045757       1.808211       0.995635        Pos\n",
              "1      149-30-4           0.414973       1.687975       2.227887        Pos\n",
              "2      104-55-2           0.060698       1.755494       1.447158        Pos\n",
              "3      137-26-8           0.466868       1.725912       1.000000        Pos\n",
              "4       69-72-7           1.086360       1.089905       3.000000        Pos\n",
              "..          ...                ...            ...            ...        ...\n",
              "122    101-39-3           0.653213       1.292256       2.143015        Pos\n",
              "123    111-80-8           0.397940       1.712650       2.282622        Pos\n",
              "124     93-51-6           0.748188       0.759668       2.447158        Pos\n",
              "125    122-78-1           0.672098       1.619771       1.431364        Pos\n",
              "126  17369-59-4           0.531479       1.351216       2.053078        Pos\n",
              "\n",
              "[127 rows x 5 columns]"
            ],
            "text/html": [
              "\n",
              "  <div id=\"df-28c5b9e7-a970-4b1f-a02b-5550c6a2f88c\">\n",
              "    <div class=\"colab-df-container\">\n",
              "      <div>\n",
              "<style scoped>\n",
              "    .dataframe tbody tr th:only-of-type {\n",
              "        vertical-align: middle;\n",
              "    }\n",
              "\n",
              "    .dataframe tbody tr th {\n",
              "        vertical-align: top;\n",
              "    }\n",
              "\n",
              "    .dataframe thead th {\n",
              "        text-align: right;\n",
              "    }\n",
              "</style>\n",
              "<table border=\"1\" class=\"dataframe\">\n",
              "  <thead>\n",
              "    <tr style=\"text-align: right;\">\n",
              "      <th></th>\n",
              "      <th>CASRN</th>\n",
              "      <th>log_Median_NC_EC3</th>\n",
              "      <th>log_DPRA_mean</th>\n",
              "      <th>log_hCLAT_MIT</th>\n",
              "      <th>Model_pred</th>\n",
              "    </tr>\n",
              "  </thead>\n",
              "  <tbody>\n",
              "    <tr>\n",
              "      <th>0</th>\n",
              "      <td>35691-65-7</td>\n",
              "      <td>-0.045757</td>\n",
              "      <td>1.808211</td>\n",
              "      <td>0.995635</td>\n",
              "      <td>Pos</td>\n",
              "    </tr>\n",
              "    <tr>\n",
              "      <th>1</th>\n",
              "      <td>149-30-4</td>\n",
              "      <td>0.414973</td>\n",
              "      <td>1.687975</td>\n",
              "      <td>2.227887</td>\n",
              "      <td>Pos</td>\n",
              "    </tr>\n",
              "    <tr>\n",
              "      <th>2</th>\n",
              "      <td>104-55-2</td>\n",
              "      <td>0.060698</td>\n",
              "      <td>1.755494</td>\n",
              "      <td>1.447158</td>\n",
              "      <td>Pos</td>\n",
              "    </tr>\n",
              "    <tr>\n",
              "      <th>3</th>\n",
              "      <td>137-26-8</td>\n",
              "      <td>0.466868</td>\n",
              "      <td>1.725912</td>\n",
              "      <td>1.000000</td>\n",
              "      <td>Pos</td>\n",
              "    </tr>\n",
              "    <tr>\n",
              "      <th>4</th>\n",
              "      <td>69-72-7</td>\n",
              "      <td>1.086360</td>\n",
              "      <td>1.089905</td>\n",
              "      <td>3.000000</td>\n",
              "      <td>Pos</td>\n",
              "    </tr>\n",
              "    <tr>\n",
              "      <th>...</th>\n",
              "      <td>...</td>\n",
              "      <td>...</td>\n",
              "      <td>...</td>\n",
              "      <td>...</td>\n",
              "      <td>...</td>\n",
              "    </tr>\n",
              "    <tr>\n",
              "      <th>122</th>\n",
              "      <td>101-39-3</td>\n",
              "      <td>0.653213</td>\n",
              "      <td>1.292256</td>\n",
              "      <td>2.143015</td>\n",
              "      <td>Pos</td>\n",
              "    </tr>\n",
              "    <tr>\n",
              "      <th>123</th>\n",
              "      <td>111-80-8</td>\n",
              "      <td>0.397940</td>\n",
              "      <td>1.712650</td>\n",
              "      <td>2.282622</td>\n",
              "      <td>Pos</td>\n",
              "    </tr>\n",
              "    <tr>\n",
              "      <th>124</th>\n",
              "      <td>93-51-6</td>\n",
              "      <td>0.748188</td>\n",
              "      <td>0.759668</td>\n",
              "      <td>2.447158</td>\n",
              "      <td>Pos</td>\n",
              "    </tr>\n",
              "    <tr>\n",
              "      <th>125</th>\n",
              "      <td>122-78-1</td>\n",
              "      <td>0.672098</td>\n",
              "      <td>1.619771</td>\n",
              "      <td>1.431364</td>\n",
              "      <td>Pos</td>\n",
              "    </tr>\n",
              "    <tr>\n",
              "      <th>126</th>\n",
              "      <td>17369-59-4</td>\n",
              "      <td>0.531479</td>\n",
              "      <td>1.351216</td>\n",
              "      <td>2.053078</td>\n",
              "      <td>Pos</td>\n",
              "    </tr>\n",
              "  </tbody>\n",
              "</table>\n",
              "<p>127 rows × 5 columns</p>\n",
              "</div>\n",
              "      <button class=\"colab-df-convert\" onclick=\"convertToInteractive('df-28c5b9e7-a970-4b1f-a02b-5550c6a2f88c')\"\n",
              "              title=\"Convert this dataframe to an interactive table.\"\n",
              "              style=\"display:none;\">\n",
              "        \n",
              "  <svg xmlns=\"http://www.w3.org/2000/svg\" height=\"24px\"viewBox=\"0 0 24 24\"\n",
              "       width=\"24px\">\n",
              "    <path d=\"M0 0h24v24H0V0z\" fill=\"none\"/>\n",
              "    <path d=\"M18.56 5.44l.94 2.06.94-2.06 2.06-.94-2.06-.94-.94-2.06-.94 2.06-2.06.94zm-11 1L8.5 8.5l.94-2.06 2.06-.94-2.06-.94L8.5 2.5l-.94 2.06-2.06.94zm10 10l.94 2.06.94-2.06 2.06-.94-2.06-.94-.94-2.06-.94 2.06-2.06.94z\"/><path d=\"M17.41 7.96l-1.37-1.37c-.4-.4-.92-.59-1.43-.59-.52 0-1.04.2-1.43.59L10.3 9.45l-7.72 7.72c-.78.78-.78 2.05 0 2.83L4 21.41c.39.39.9.59 1.41.59.51 0 1.02-.2 1.41-.59l7.78-7.78 2.81-2.81c.8-.78.8-2.07 0-2.86zM5.41 20L4 18.59l7.72-7.72 1.47 1.35L5.41 20z\"/>\n",
              "  </svg>\n",
              "      </button>\n",
              "      \n",
              "  <style>\n",
              "    .colab-df-container {\n",
              "      display:flex;\n",
              "      flex-wrap:wrap;\n",
              "      gap: 12px;\n",
              "    }\n",
              "\n",
              "    .colab-df-convert {\n",
              "      background-color: #E8F0FE;\n",
              "      border: none;\n",
              "      border-radius: 50%;\n",
              "      cursor: pointer;\n",
              "      display: none;\n",
              "      fill: #1967D2;\n",
              "      height: 32px;\n",
              "      padding: 0 0 0 0;\n",
              "      width: 32px;\n",
              "    }\n",
              "\n",
              "    .colab-df-convert:hover {\n",
              "      background-color: #E2EBFA;\n",
              "      box-shadow: 0px 1px 2px rgba(60, 64, 67, 0.3), 0px 1px 3px 1px rgba(60, 64, 67, 0.15);\n",
              "      fill: #174EA6;\n",
              "    }\n",
              "\n",
              "    [theme=dark] .colab-df-convert {\n",
              "      background-color: #3B4455;\n",
              "      fill: #D2E3FC;\n",
              "    }\n",
              "\n",
              "    [theme=dark] .colab-df-convert:hover {\n",
              "      background-color: #434B5C;\n",
              "      box-shadow: 0px 1px 3px 1px rgba(0, 0, 0, 0.15);\n",
              "      filter: drop-shadow(0px 1px 2px rgba(0, 0, 0, 0.3));\n",
              "      fill: #FFFFFF;\n",
              "    }\n",
              "  </style>\n",
              "\n",
              "      <script>\n",
              "        const buttonEl =\n",
              "          document.querySelector('#df-28c5b9e7-a970-4b1f-a02b-5550c6a2f88c button.colab-df-convert');\n",
              "        buttonEl.style.display =\n",
              "          google.colab.kernel.accessAllowed ? 'block' : 'none';\n",
              "\n",
              "        async function convertToInteractive(key) {\n",
              "          const element = document.querySelector('#df-28c5b9e7-a970-4b1f-a02b-5550c6a2f88c');\n",
              "          const dataTable =\n",
              "            await google.colab.kernel.invokeFunction('convertToInteractive',\n",
              "                                                     [key], {});\n",
              "          if (!dataTable) return;\n",
              "\n",
              "          const docLinkHtml = 'Like what you see? Visit the ' +\n",
              "            '<a target=\"_blank\" href=https://colab.research.google.com/notebooks/data_table.ipynb>data table notebook</a>'\n",
              "            + ' to learn more about interactive tables.';\n",
              "          element.innerHTML = '';\n",
              "          dataTable['output_type'] = 'display_data';\n",
              "          await google.colab.output.renderOutput(dataTable, element);\n",
              "          const docLink = document.createElement('div');\n",
              "          docLink.innerHTML = docLinkHtml;\n",
              "          element.appendChild(docLink);\n",
              "        }\n",
              "      </script>\n",
              "    </div>\n",
              "  </div>\n",
              "  "
            ]
          },
          "metadata": {},
          "execution_count": 18
        }
      ],
      "source": [
        "ex_data"
      ]
    },
    {
      "cell_type": "code",
      "source": [
        "sns.scatterplot(x=ex_data['log_hCLAT_MIT'], y=ex_data['log_DPRA_mean'], data=ex_data)"
      ],
      "metadata": {
        "colab": {
          "base_uri": "https://localhost:8080/",
          "height": 378
        },
        "id": "O5f00FXlNtn0",
        "outputId": "906a24df-cf31-4d27-add6-a8ed4359415e"
      },
      "execution_count": 19,
      "outputs": [
        {
          "output_type": "execute_result",
          "data": {
            "text/plain": [
              "<matplotlib.axes._subplots.AxesSubplot at 0x7fe2cdfd7a60>"
            ]
          },
          "metadata": {},
          "execution_count": 19
        },
        {
          "output_type": "display_data",
          "data": {
            "text/plain": [
              "<Figure size 576x396 with 1 Axes>"
            ],
            "image/png": "[encoded data removed]"
          },
          "metadata": {}
        }
      ]
    },
    {
      "cell_type": "code",
      "execution_count": null,
      "metadata": {
        "id": "WtTWKV3phupP"
      },
      "outputs": [],
      "source": [
        "ex_data.to_csv('Hirota_in_COSEU.csv',index=True)"
      ]
    },
    {
      "cell_type": "code",
      "execution_count": 20,
      "metadata": {
        "colab": {
          "base_uri": "https://localhost:8080/"
        },
        "id": "pK5gb-uOcFaH",
        "outputId": "4f7527e5-9647-47f9-e632-96a8c9d3dc67"
      },
      "outputs": [
        {
          "output_type": "execute_result",
          "data": {
            "text/plain": [
              "log_DPRA_mean    0\n",
              "log_hCLAT_MIT    0\n",
              "dtype: int64"
            ]
          },
          "metadata": {},
          "execution_count": 20
        }
      ],
      "source": [
        "CosEu1=ex_data[ex_data['Model_pred']!='Neg']\n",
        "CosEu1.dropna()\n",
        "len(CosEu)\n",
        "CosEu1['log_Median_NC_EC3'].isna().sum()\n",
        "CosEu1[['log_DPRA_mean','log_hCLAT_MIT']].isna().sum()\n",
        "#index_to_drop=['1154-59-2','886-38-4','97-00-7','94-36-0','111-30-8']#drop top five residual chemicals\n",
        "#CosEu1.drop(index_to_drop,inplace=True)\n",
        "#df = df.drop(df.index[[0, 2]])"
      ]
    },
    {
      "cell_type": "code",
      "execution_count": 21,
      "metadata": {
        "colab": {
          "base_uri": "https://localhost:8080/",
          "height": 423
        },
        "id": "Tjl00ZltEVc0",
        "outputId": "fad9c0c9-cd35-4a1a-82f0-adc3f6f17050"
      },
      "outputs": [
        {
          "output_type": "execute_result",
          "data": {
            "text/plain": [
              "          CASRN  log_Median_NC_EC3  log_DPRA_mean  log_hCLAT_MIT Model_pred\n",
              "0    35691-65-7          -0.045757       1.808211       0.995635        Pos\n",
              "1      149-30-4           0.414973       1.687975       2.227887        Pos\n",
              "2      104-55-2           0.060698       1.755494       1.447158        Pos\n",
              "3      137-26-8           0.466868       1.725912       1.000000        Pos\n",
              "4       69-72-7           1.086360       1.089905       3.000000        Pos\n",
              "..          ...                ...            ...            ...        ...\n",
              "122    101-39-3           0.653213       1.292256       2.143015        Pos\n",
              "123    111-80-8           0.397940       1.712650       2.282622        Pos\n",
              "124     93-51-6           0.748188       0.759668       2.447158        Pos\n",
              "125    122-78-1           0.672098       1.619771       1.431364        Pos\n",
              "126  17369-59-4           0.531479       1.351216       2.053078        Pos\n",
              "\n",
              "[107 rows x 5 columns]"
            ],
            "text/html": [
              "\n",
              "  <div id=\"df-e643580f-eb26-4ae3-90ee-74dd58bf5489\">\n",
              "    <div class=\"colab-df-container\">\n",
              "      <div>\n",
              "<style scoped>\n",
              "    .dataframe tbody tr th:only-of-type {\n",
              "        vertical-align: middle;\n",
              "    }\n",
              "\n",
              "    .dataframe tbody tr th {\n",
              "        vertical-align: top;\n",
              "    }\n",
              "\n",
              "    .dataframe thead th {\n",
              "        text-align: right;\n",
              "    }\n",
              "</style>\n",
              "<table border=\"1\" class=\"dataframe\">\n",
              "  <thead>\n",
              "    <tr style=\"text-align: right;\">\n",
              "      <th></th>\n",
              "      <th>CASRN</th>\n",
              "      <th>log_Median_NC_EC3</th>\n",
              "      <th>log_DPRA_mean</th>\n",
              "      <th>log_hCLAT_MIT</th>\n",
              "      <th>Model_pred</th>\n",
              "    </tr>\n",
              "  </thead>\n",
              "  <tbody>\n",
              "    <tr>\n",
              "      <th>0</th>\n",
              "      <td>35691-65-7</td>\n",
              "      <td>-0.045757</td>\n",
              "      <td>1.808211</td>\n",
              "      <td>0.995635</td>\n",
              "      <td>Pos</td>\n",
              "    </tr>\n",
              "    <tr>\n",
              "      <th>1</th>\n",
              "      <td>149-30-4</td>\n",
              "      <td>0.414973</td>\n",
              "      <td>1.687975</td>\n",
              "      <td>2.227887</td>\n",
              "      <td>Pos</td>\n",
              "    </tr>\n",
              "    <tr>\n",
              "      <th>2</th>\n",
              "      <td>104-55-2</td>\n",
              "      <td>0.060698</td>\n",
              "      <td>1.755494</td>\n",
              "      <td>1.447158</td>\n",
              "      <td>Pos</td>\n",
              "    </tr>\n",
              "    <tr>\n",
              "      <th>3</th>\n",
              "      <td>137-26-8</td>\n",
              "      <td>0.466868</td>\n",
              "      <td>1.725912</td>\n",
              "      <td>1.000000</td>\n",
              "      <td>Pos</td>\n",
              "    </tr>\n",
              "    <tr>\n",
              "      <th>4</th>\n",
              "      <td>69-72-7</td>\n",
              "      <td>1.086360</td>\n",
              "      <td>1.089905</td>\n",
              "      <td>3.000000</td>\n",
              "      <td>Pos</td>\n",
              "    </tr>\n",
              "    <tr>\n",
              "      <th>...</th>\n",
              "      <td>...</td>\n",
              "      <td>...</td>\n",
              "      <td>...</td>\n",
              "      <td>...</td>\n",
              "      <td>...</td>\n",
              "    </tr>\n",
              "    <tr>\n",
              "      <th>122</th>\n",
              "      <td>101-39-3</td>\n",
              "      <td>0.653213</td>\n",
              "      <td>1.292256</td>\n",
              "      <td>2.143015</td>\n",
              "      <td>Pos</td>\n",
              "    </tr>\n",
              "    <tr>\n",
              "      <th>123</th>\n",
              "      <td>111-80-8</td>\n",
              "      <td>0.397940</td>\n",
              "      <td>1.712650</td>\n",
              "      <td>2.282622</td>\n",
              "      <td>Pos</td>\n",
              "    </tr>\n",
              "    <tr>\n",
              "      <th>124</th>\n",
              "      <td>93-51-6</td>\n",
              "      <td>0.748188</td>\n",
              "      <td>0.759668</td>\n",
              "      <td>2.447158</td>\n",
              "      <td>Pos</td>\n",
              "    </tr>\n",
              "    <tr>\n",
              "      <th>125</th>\n",
              "      <td>122-78-1</td>\n",
              "      <td>0.672098</td>\n",
              "      <td>1.619771</td>\n",
              "      <td>1.431364</td>\n",
              "      <td>Pos</td>\n",
              "    </tr>\n",
              "    <tr>\n",
              "      <th>126</th>\n",
              "      <td>17369-59-4</td>\n",
              "      <td>0.531479</td>\n",
              "      <td>1.351216</td>\n",
              "      <td>2.053078</td>\n",
              "      <td>Pos</td>\n",
              "    </tr>\n",
              "  </tbody>\n",
              "</table>\n",
              "<p>107 rows × 5 columns</p>\n",
              "</div>\n",
              "      <button class=\"colab-df-convert\" onclick=\"convertToInteractive('df-e643580f-eb26-4ae3-90ee-74dd58bf5489')\"\n",
              "              title=\"Convert this dataframe to an interactive table.\"\n",
              "              style=\"display:none;\">\n",
              "        \n",
              "  <svg xmlns=\"http://www.w3.org/2000/svg\" height=\"24px\"viewBox=\"0 0 24 24\"\n",
              "       width=\"24px\">\n",
              "    <path d=\"M0 0h24v24H0V0z\" fill=\"none\"/>\n",
              "    <path d=\"M18.56 5.44l.94 2.06.94-2.06 2.06-.94-2.06-.94-.94-2.06-.94 2.06-2.06.94zm-11 1L8.5 8.5l.94-2.06 2.06-.94-2.06-.94L8.5 2.5l-.94 2.06-2.06.94zm10 10l.94 2.06.94-2.06 2.06-.94-2.06-.94-.94-2.06-.94 2.06-2.06.94z\"/><path d=\"M17.41 7.96l-1.37-1.37c-.4-.4-.92-.59-1.43-.59-.52 0-1.04.2-1.43.59L10.3 9.45l-7.72 7.72c-.78.78-.78 2.05 0 2.83L4 21.41c.39.39.9.59 1.41.59.51 0 1.02-.2 1.41-.59l7.78-7.78 2.81-2.81c.8-.78.8-2.07 0-2.86zM5.41 20L4 18.59l7.72-7.72 1.47 1.35L5.41 20z\"/>\n",
              "  </svg>\n",
              "      </button>\n",
              "      \n",
              "  <style>\n",
              "    .colab-df-container {\n",
              "      display:flex;\n",
              "      flex-wrap:wrap;\n",
              "      gap: 12px;\n",
              "    }\n",
              "\n",
              "    .colab-df-convert {\n",
              "      background-color: #E8F0FE;\n",
              "      border: none;\n",
              "      border-radius: 50%;\n",
              "      cursor: pointer;\n",
              "      display: none;\n",
              "      fill: #1967D2;\n",
              "      height: 32px;\n",
              "      padding: 0 0 0 0;\n",
              "      width: 32px;\n",
              "    }\n",
              "\n",
              "    .colab-df-convert:hover {\n",
              "      background-color: #E2EBFA;\n",
              "      box-shadow: 0px 1px 2px rgba(60, 64, 67, 0.3), 0px 1px 3px 1px rgba(60, 64, 67, 0.15);\n",
              "      fill: #174EA6;\n",
              "    }\n",
              "\n",
              "    [theme=dark] .colab-df-convert {\n",
              "      background-color: #3B4455;\n",
              "      fill: #D2E3FC;\n",
              "    }\n",
              "\n",
              "    [theme=dark] .colab-df-convert:hover {\n",
              "      background-color: #434B5C;\n",
              "      box-shadow: 0px 1px 3px 1px rgba(0, 0, 0, 0.15);\n",
              "      filter: drop-shadow(0px 1px 2px rgba(0, 0, 0, 0.3));\n",
              "      fill: #FFFFFF;\n",
              "    }\n",
              "  </style>\n",
              "\n",
              "      <script>\n",
              "        const buttonEl =\n",
              "          document.querySelector('#df-e643580f-eb26-4ae3-90ee-74dd58bf5489 button.colab-df-convert');\n",
              "        buttonEl.style.display =\n",
              "          google.colab.kernel.accessAllowed ? 'block' : 'none';\n",
              "\n",
              "        async function convertToInteractive(key) {\n",
              "          const element = document.querySelector('#df-e643580f-eb26-4ae3-90ee-74dd58bf5489');\n",
              "          const dataTable =\n",
              "            await google.colab.kernel.invokeFunction('convertToInteractive',\n",
              "                                                     [key], {});\n",
              "          if (!dataTable) return;\n",
              "\n",
              "          const docLinkHtml = 'Like what you see? Visit the ' +\n",
              "            '<a target=\"_blank\" href=https://colab.research.google.com/notebooks/data_table.ipynb>data table notebook</a>'\n",
              "            + ' to learn more about interactive tables.';\n",
              "          element.innerHTML = '';\n",
              "          dataTable['output_type'] = 'display_data';\n",
              "          await google.colab.output.renderOutput(dataTable, element);\n",
              "          const docLink = document.createElement('div');\n",
              "          docLink.innerHTML = docLinkHtml;\n",
              "          element.appendChild(docLink);\n",
              "        }\n",
              "      </script>\n",
              "    </div>\n",
              "  </div>\n",
              "  "
            ]
          },
          "metadata": {},
          "execution_count": 21
        }
      ],
      "source": [
        "CosEu1 [['log_DPRA_mean','log_hCLAT_MIT']]\n",
        "CosEu1"
      ]
    },
    {
      "cell_type": "code",
      "source": [
        "#Defining target and predictors for first set of data\n",
        "TargetVariable=['logLLNAthreshold']\n",
        "Predictors=['logDPRA','logMinhCLAT']\n",
        "X=df1[Predictors]\n",
        "y=df1[TargetVariable]\n",
        "#All data were scaled before splitting \n",
        "PredictorScaler=MinMaxScaler()\n",
        "TargetVarScaler=MinMaxScaler()\n",
        "#Storing the fit object for later reference\n",
        "PredictorScalerFit=PredictorScaler.fit(X)\n",
        "TargetVarScalerFit=TargetVarScaler.fit(y)\n",
        "# Generating the standardized values of X and y\n",
        "scaled_X=PredictorScalerFit.transform(X)\n",
        "scaled_y=TargetVarScalerFit.transform(y)\n",
        "scaled_y.shape"
      ],
      "metadata": {
        "colab": {
          "base_uri": "https://localhost:8080/"
        },
        "id": "meFx5OvZIG49",
        "outputId": "a1de1b11-8bd1-4c99-a36f-6735c7c3ea96"
      },
      "execution_count": 22,
      "outputs": [
        {
          "output_type": "execute_result",
          "data": {
            "text/plain": [
              "(139, 1)"
            ]
          },
          "metadata": {},
          "execution_count": 22
        }
      ]
    },
    {
      "cell_type": "code",
      "execution_count": 23,
      "metadata": {
        "colab": {
          "base_uri": "https://localhost:8080/"
        },
        "id": "cie1FUNInQaZ",
        "outputId": "c0718442-59e3-47f1-e776-71966be25083"
      },
      "outputs": [
        {
          "output_type": "execute_result",
          "data": {
            "text/plain": [
              "(107, 1)"
            ]
          },
          "metadata": {},
          "execution_count": 23
        }
      ],
      "source": [
        "TargetVariable=['log_Median_NC_EC3']\n",
        "Predictors=['log_DPRA_mean','log_hCLAT_MIT']\n",
        "X=CosEu1[Predictors]\n",
        "y=CosEu1[TargetVariable]\n",
        "PredictorScalerFit=PredictorScaler.fit(X)\n",
        "TargetVarScalerFit=TargetVarScaler.fit(y)\n",
        "# Generating the standardized values of X and y\n",
        "ex_x=PredictorScalerFit.transform(X)\n",
        "ex_y=TargetVarScalerFit.transform(y)\n",
        "ex_y.shape\n",
        "#ALL EXTERNAL  DATA WERE SCALED USING MIN-MAX SCALA\n",
        "#TESTING WITH EXTERNAL DATASET\n",
        "\n"
      ]
    },
    {
      "cell_type": "code",
      "source": [
        "import seaborn as sns\n",
        "sns.boxplot(data=X_train)"
      ],
      "metadata": {
        "colab": {
          "base_uri": "https://localhost:8080/",
          "height": 364
        },
        "id": "jqjjAV12uvWZ",
        "outputId": "85eaf51f-575e-4ec1-fa99-9ec0d8fd0fa8"
      },
      "execution_count": 29,
      "outputs": [
        {
          "output_type": "execute_result",
          "data": {
            "text/plain": [
              "<matplotlib.axes._subplots.AxesSubplot at 0x7fe2cd9e4f70>"
            ]
          },
          "metadata": {},
          "execution_count": 29
        },
        {
          "output_type": "display_data",
          "data": {
            "text/plain": [
              "<Figure size 576x396 with 1 Axes>"
            ],
            "image/png": "[encoded data removed]"
          },
          "metadata": {}
        }
      ]
    },
    {
      "cell_type": "code",
      "source": [
        "import seaborn as sns\n",
        "sns.boxplot(data=X_test)"
      ],
      "metadata": {
        "colab": {
          "base_uri": "https://localhost:8080/",
          "height": 364
        },
        "id": "82r0UmghuTYJ",
        "outputId": "2bfb60be-6ab9-4d55-a5ba-37e865635640"
      },
      "execution_count": 28,
      "outputs": [
        {
          "output_type": "execute_result",
          "data": {
            "text/plain": [
              "<matplotlib.axes._subplots.AxesSubplot at 0x7fe2cdfc7c10>"
            ]
          },
          "metadata": {},
          "execution_count": 28
        },
        {
          "output_type": "display_data",
          "data": {
            "text/plain": [
              "<Figure size 576x396 with 1 Axes>"
            ],
            "image/png": "[encoded data removed]"
          },
          "metadata": {}
        }
      ]
    },
    {
      "cell_type": "code",
      "source": [
        "import seaborn as sns\n",
        "sns.boxplot(data=ex_x)"
      ],
      "metadata": {
        "colab": {
          "base_uri": "https://localhost:8080/",
          "height": 364
        },
        "id": "J8RfaPP1NCjQ",
        "outputId": "b2fe4547-d095-4aa3-b510-0d501dd851e3"
      },
      "execution_count": null,
      "outputs": [
        {
          "output_type": "execute_result",
          "data": {
            "text/plain": [
              "<matplotlib.axes._subplots.AxesSubplot at 0x7f3b1556c700>"
            ]
          },
          "metadata": {},
          "execution_count": 30
        },
        {
          "output_type": "display_data",
          "data": {
            "text/plain": [
              "<Figure size 576x396 with 1 Axes>"
            ],
            "image/png": "[encoded data removed]"
          },
          "metadata": {}
        }
      ]
    },
    {
      "cell_type": "code",
      "execution_count": 25,
      "metadata": {
        "id": "zn0hQ6vGb4KL"
      },
      "outputs": [],
      "source": [
        "#Adding polynomial features(CHOATIC)\n",
        "#poly=PolynomialFeatures(degree=6, include_bias=False)\n",
        "#poly_features = poly.fit_transform(scaled_X)\n",
        "#X_train, X_test, y_train, y_test = train_test_split(poly_features, scaled_y, test_size=0.2, random_state=0)"
      ]
    },
    {
      "cell_type": "code",
      "execution_count": 30,
      "metadata": {
        "id": "HTLpaa9raSbX"
      },
      "outputs": [],
      "source": [
        "# Split the data into training and testing set\n",
        "X_train, X_test, y_train, y_test = train_test_split(scaled_X, scaled_y, test_size=0.2, random_state=0)\n",
        "\n"
      ]
    },
    {
      "cell_type": "code",
      "execution_count": 31,
      "metadata": {
        "colab": {
          "base_uri": "https://localhost:8080/"
        },
        "id": "nxDrhOHsb1Wd",
        "outputId": "e2e28128-91d3-4452-e8b4-030ce3f41432"
      },
      "outputs": [
        {
          "output_type": "stream",
          "name": "stdout",
          "text": [
            "(111, 2)\n",
            "(111, 1)\n",
            "(28, 2)\n",
            "(28, 1)\n"
          ]
        }
      ],
      "source": [
        "#Checking shape of the trainset and test set\n",
        "print(X_train.shape)\n",
        "print(y_train.shape)\n",
        "print(X_test.shape)\n",
        "print(y_test.shape)\n",
        "#different activation function['identity', 'logistic', 'relu', 'softmax', 'tanh']"
      ]
    },
    {
      "cell_type": "code",
      "execution_count": 32,
      "metadata": {
        "colab": {
          "base_uri": "https://localhost:8080/"
        },
        "id": "0fyGS-59pBHu",
        "outputId": "c0f5c7cc-3472-4a8b-aa08-575e3f491ca9"
      },
      "outputs": [
        {
          "output_type": "stream",
          "name": "stdout",
          "text": [
            "train-score 0.5422564944562156\n",
            "test_score 0.6899936967243685\n"
          ]
        }
      ],
      "source": [
        "model = MLPRegressor(hidden_layer_sizes=(5,2),\n",
        "                     activation='logistic',\n",
        "                     random_state=42,\n",
        "                     learning_rate_init=0.02,\n",
        "                     momentum=0.7,\n",
        "                     max_iter=500,\n",
        "                     solver='lbfgs'\n",
        "                    )\n",
        "\n",
        "\n",
        "\n",
        "# Fit the model on the training data\n",
        "model.fit(X_train, y_train)\n",
        "\n",
        "# Predict the target values on the test data\n",
        "y_pred = model.predict(X_test)\n",
        "train_score=model.score(X_train, y_train)\n",
        "test_score=model.score(X_test, y_test)\n",
        "print('train-score',train_score)\n",
        "print('test_score',test_score)"
      ]
    },
    {
      "cell_type": "code",
      "execution_count": 33,
      "metadata": {
        "id": "o4ZK-qrXsV9q",
        "colab": {
          "base_uri": "https://localhost:8080/"
        },
        "outputId": "915819d7-7fca-4b40-d819-5f413fcc6514"
      },
      "outputs": [
        {
          "output_type": "stream",
          "name": "stdout",
          "text": [
            "The Score with  0.5278064252437888\n",
            "the mean squared error 0.018872832998162864\n"
          ]
        }
      ],
      "source": [
        "y_pred=model.predict(X_test)\n",
        "print('The Score with ',(r2_score(y_pred, y_test)))\n",
        "print('the mean squared error',(mean_squared_error(y_pred, y_test)))"
      ]
    },
    {
      "cell_type": "markdown",
      "source": [
        "RESERVED CODE"
      ],
      "metadata": {
        "id": "1X3uUaRA6OSs"
      }
    },
    {
      "cell_type": "code",
      "source": [
        "# Get the weights of the model\n",
        "weights = [model.coefs_,model.intercepts_]\n",
        "\n",
        "# Perturb the weights by a random amount within the range (-5, 5)\n",
        "perturbed_weights = []\n",
        "for i in range(len(weights)):\n",
        "    layer_weights = []\n",
        "    for j in range(len(weights[i])):\n",
        "        layer_weights.append(weights[i][j]+np.random.uniform(low=-5, high=5, size=weights[i][j].shape))\n",
        "    perturbed_weights.append(layer_weights)\n",
        "model.coefs_ = perturbed_weights[0]\n",
        "model.intercepts_ = perturbed_weights[1]"
      ],
      "metadata": {
        "id": "fnlb9ElA6Tqw"
      },
      "execution_count": null,
      "outputs": []
    },
    {
      "cell_type": "code",
      "execution_count": null,
      "metadata": {
        "id": "jC3QmBlZNGqZ"
      },
      "outputs": [],
      "source": [
        "#Checking weights\n",
        "print(model.coefs_)"
      ]
    },
    {
      "cell_type": "code",
      "execution_count": null,
      "metadata": {
        "id": "BzCmrDKzN7xs"
      },
      "outputs": [],
      "source": [
        "#Checking for bias\n",
        "print(model.intercepts_)"
      ]
    },
    {
      "cell_type": "code",
      "execution_count": null,
      "metadata": {
        "id": "BIfSEsw6R-vu"
      },
      "outputs": [],
      "source": [
        "W=model.coefs_\n",
        "b=model.intercepts_"
      ]
    },
    {
      "cell_type": "code",
      "source": [
        "import yellowbrick\n",
        "from yellowbrick.model_selection import LearningCurve\n",
        "cv = KFold(n_splits=5, random_state=13, shuffle=True)#\n",
        "# Create the learning curve visualizer\n",
        "visualizer = LearningCurve(model, cv=cv,scoring='r2')\n",
        "\n",
        "# Fit the visualizer and display the learning curve\n",
        "visualizer.fit(X_train, y_train)\n",
        "visualizer.show()"
      ],
      "metadata": {
        "id": "8OKm01qz5fns",
        "colab": {
          "base_uri": "https://localhost:8080/",
          "height": 393
        },
        "outputId": "32078296-670c-4362-8b5c-a962f2ba7a10"
      },
      "execution_count": 34,
      "outputs": [
        {
          "output_type": "display_data",
          "data": {
            "text/plain": [
              "<Figure size 576x396 with 1 Axes>"
            ],
            "image/png": "[encoded data removed]"
          },
          "metadata": {}
        },
        {
          "output_type": "execute_result",
          "data": {
            "text/plain": [
              "<matplotlib.axes._subplots.AxesSubplot at 0x7fe2cd96dac0>"
            ]
          },
          "metadata": {},
          "execution_count": 34
        }
      ]
    },
    {
      "cell_type": "markdown",
      "metadata": {
        "id": "Chiqcd-y-0Tl"
      },
      "source": [
        "5 FOLD CROSS VALIDATION TRAIN SET"
      ]
    },
    {
      "cell_type": "code",
      "execution_count": 35,
      "metadata": {
        "id": "a5aWaVpf4crd",
        "colab": {
          "base_uri": "https://localhost:8080/"
        },
        "outputId": "b90944de-5119-41ff-f59d-b0bca84b2762"
      },
      "outputs": [
        {
          "output_type": "execute_result",
          "data": {
            "text/plain": [
              "0.4582711784194693"
            ]
          },
          "metadata": {},
          "execution_count": 35
        }
      ],
      "source": [
        "#implementing the 5 fold cross validation for r2 score on train set#28\n",
        "cv = KFold(n_splits=5,random_state=28,shuffle=True)\n",
        "scores = cross_val_score(model,X_train, y_train,scoring='r2', cv=cv)\n",
        "scores.mean()"
      ]
    },
    {
      "cell_type": "code",
      "execution_count": 36,
      "metadata": {
        "id": "bwGvs8VSBtRp",
        "colab": {
          "base_uri": "https://localhost:8080/"
        },
        "outputId": "1bc51b2a-d3de-497a-a8ae-67280023c8fb"
      },
      "outputs": [
        {
          "output_type": "stream",
          "name": "stdout",
          "text": [
            "the root mean squared erro 0.16169312029249333\n",
            "the mean squared error 0.026144665149922718\n"
          ]
        }
      ],
      "source": [
        "#implementing the 5 fold cross validation for MSE & RMSE on train set\n",
        "\n",
        "#scoring=['cv = KFold(n_splits=5, random_state=0, shuffle=True)eg_mean_squared_error']\n",
        "scores = cross_val_score(model,X_train, y_train, scoring='neg_mean_squared_error', cv=cv)\n",
        "RMSE=sqrt(mean(absolute(scores)))\n",
        "MSE=(mean(absolute(scores)))\n",
        "print('the root mean squared erro',RMSE)\n",
        "print('the mean squared error',MSE)\n"
      ]
    },
    {
      "cell_type": "code",
      "execution_count": 37,
      "metadata": {
        "id": "-CLqOaJE_vFL",
        "colab": {
          "base_uri": "https://localhost:8080/"
        },
        "outputId": "351410c0-1c02-4c56-938d-4e478310ce95"
      },
      "outputs": [
        {
          "output_type": "stream",
          "name": "stdout",
          "text": [
            "r2 after CV 0.4705260039613144\n",
            "MSE AFTER CV: 0.02659874945281078\n",
            "RMSE AFTER CV: 0.16309123045955223\n"
          ]
        }
      ],
      "source": [
        "#model performance for predicted outcomes after 5-fold cross validation#12\n",
        "cv = KFold(n_splits=5, random_state=12, shuffle=True)\n",
        "pred = cross_val_predict(model, X_train, y_train, cv=cv)\n",
        "\n",
        "R2 = metrics.r2_score(y_train,pred)\n",
        "MSE=metrics.mean_squared_error(y_train, pred)\n",
        "RMSE=sqrt(MSE)\n",
        "print('r2 after CV',R2)\n",
        "print ('MSE AFTER CV:', MSE)\n",
        "print('RMSE AFTER CV:',RMSE)"
      ]
    },
    {
      "cell_type": "markdown",
      "metadata": {
        "id": "Dds8oBLR_A4H"
      },
      "source": [
        "5 FOLD CROSS VALIDATION TEST SET"
      ]
    },
    {
      "cell_type": "code",
      "execution_count": 38,
      "metadata": {
        "id": "yTEZAhHJ_WJO",
        "colab": {
          "base_uri": "https://localhost:8080/"
        },
        "outputId": "b955da3e-65ba-422b-e555-59ff4b454aa0"
      },
      "outputs": [
        {
          "output_type": "execute_result",
          "data": {
            "text/plain": [
              "0.3834190985738406"
            ]
          },
          "metadata": {},
          "execution_count": 38
        }
      ],
      "source": [
        "#implementing the 5 fold cross validation for r2 score on train set#24\n",
        "cv = KFold(n_splits=5, random_state=24, shuffle=True)\n",
        "#scoring=['neg_mean_squared_error']\n",
        "scores = cross_val_score(model, X_test,y_test, scoring='r2', cv=cv)\n",
        "scores.mean()"
      ]
    },
    {
      "cell_type": "code",
      "execution_count": 39,
      "metadata": {
        "id": "_hJdW5g2hUsF",
        "colab": {
          "base_uri": "https://localhost:8080/"
        },
        "outputId": "9bbae516-ab98-44db-ae0f-a4ae7d3ee138"
      },
      "outputs": [
        {
          "output_type": "stream",
          "name": "stdout",
          "text": [
            "the root mean squared erro 0.13219942920906372\n",
            "the mean squared error 0.01747668908320225\n"
          ]
        }
      ],
      "source": [
        "#implementing the 5 fold cross validation for MSE & RMSE on test set\n",
        "cv = KFold(n_splits=5, random_state=28, shuffle=True)#28\n",
        "#scoring=['neg_mean_squared_error']\n",
        "scores = cross_val_score(model, X_test, y_test, scoring='neg_mean_squared_error', cv=cv)\n",
        "RMSE=sqrt(mean(absolute(scores)))\n",
        "MSE=(mean(absolute(scores)))\n",
        "print('the root mean squared erro',RMSE)\n",
        "print('the mean squared error',MSE)"
      ]
    },
    {
      "cell_type": "code",
      "execution_count": 40,
      "metadata": {
        "id": "NN0UIzekguKD",
        "colab": {
          "base_uri": "https://localhost:8080/",
          "height": 497
        },
        "outputId": "050cc849-1e38-4d07-cd7b-9cec70918c0f"
      },
      "outputs": [
        {
          "output_type": "display_data",
          "data": {
            "text/plain": [
              "<Figure size 576x396 with 1 Axes>"
            ],
            "image/png": "[encoded data removed]"
          },
          "metadata": {}
        },
        {
          "output_type": "execute_result",
          "data": {
            "text/plain": [
              "CVScores(ax=<matplotlib.axes._subplots.AxesSubplot object at 0x7fe2cd88e0d0>,\n",
              "         cv=KFold(n_splits=5, random_state=28, shuffle=True),\n",
              "         estimator=MLPRegressor(activation='logistic',\n",
              "                                hidden_layer_sizes=(5, 2),\n",
              "                                learning_rate_init=0.02, max_iter=500,\n",
              "                                momentum=0.7, random_state=42, solver='lbfgs'),\n",
              "         scoring='r2')"
            ]
          },
          "metadata": {},
          "execution_count": 40
        }
      ],
      "source": [
        "##28\n",
        "from yellowbrick.model_selection import cv_scores\n",
        "cv_scores(\n",
        "    model,\n",
        "    X_train,\n",
        "    y_train,\n",
        "    cv=cv,\n",
        "    n_jobs=-1,\n",
        "    scoring='r2',\n",
        "    random_state=28)"
      ]
    },
    {
      "cell_type": "code",
      "execution_count": 41,
      "metadata": {
        "id": "ZrJzviM58dME",
        "colab": {
          "base_uri": "https://localhost:8080/"
        },
        "outputId": "af0d70f0-df79-4a3e-dd43-766b3b130eea"
      },
      "outputs": [
        {
          "output_type": "stream",
          "name": "stdout",
          "text": [
            "r2 after CV 0.06067806917795859\n",
            "MSE AFTER CV: 0.05718485638711137\n",
            "RMSE AFTER CV: 0.2391335534531099\n"
          ]
        }
      ],
      "source": [
        "#model performance for predicted outcomes after 5-fold cross validation\n",
        "cv = KFold(n_splits=5, random_state=0, shuffle=True)#2\n",
        "pred = cross_val_predict(model, X_test, y_test, cv=cv)\n",
        "\n",
        "R2 = metrics.r2_score(y_test, pred)\n",
        "MSE=metrics.mean_squared_error(y_test, pred)\n",
        "RMSE=sqrt(MSE)\n",
        "print('r2 after CV',R2)\n",
        "print ('MSE AFTER CV:', MSE)\n",
        "print('RMSE AFTER CV:',RMSE)"
      ]
    },
    {
      "cell_type": "markdown",
      "metadata": {
        "id": "YTd1wpb9WqJm"
      },
      "source": [
        "TEN FOLD CROSS VALIDATION TRAIN SET"
      ]
    },
    {
      "cell_type": "code",
      "execution_count": 42,
      "metadata": {
        "id": "a7no_s25dgIz",
        "colab": {
          "base_uri": "https://localhost:8080/"
        },
        "outputId": "eb31f829-e88c-4f9e-d582-98e416e04143"
      },
      "outputs": [
        {
          "output_type": "execute_result",
          "data": {
            "text/plain": [
              "0.44089618897308486"
            ]
          },
          "metadata": {},
          "execution_count": 42
        }
      ],
      "source": [
        "#implementing the 10 fold cross validation for r2 score on  train set#13\n",
        "cv = KFold(n_splits=10, random_state=13, shuffle=True)#13\n",
        "#scoring=['neg_mean_squared_error']\n",
        "scores = cross_val_score(model, X_train,y_train, scoring='r2', cv=cv)\n",
        "scores.mean()"
      ]
    },
    {
      "cell_type": "code",
      "execution_count": 43,
      "metadata": {
        "id": "eB3iTHCU8W3v",
        "colab": {
          "base_uri": "https://localhost:8080/",
          "height": 497
        },
        "outputId": "e4f79888-1d74-4fb5-d7f0-775116e4d095"
      },
      "outputs": [
        {
          "output_type": "display_data",
          "data": {
            "text/plain": [
              "<Figure size 576x396 with 1 Axes>"
            ],
            "image/png": "[encoded data removed]"
          },
          "metadata": {}
        },
        {
          "output_type": "execute_result",
          "data": {
            "text/plain": [
              "CVScores(ax=<matplotlib.axes._subplots.AxesSubplot object at 0x7fe2cb00e730>,\n",
              "         cv=KFold(n_splits=10, random_state=13, shuffle=True),\n",
              "         estimator=MLPRegressor(activation='logistic',\n",
              "                                hidden_layer_sizes=(5, 2),\n",
              "                                learning_rate_init=0.02, max_iter=500,\n",
              "                                momentum=0.7, random_state=42, solver='lbfgs'),\n",
              "         scoring='r2')"
            ]
          },
          "metadata": {},
          "execution_count": 43
        }
      ],
      "source": [
        "# validation score for cv=10\n",
        "cv = KFold(n_splits=10, random_state=13, shuffle=True)#13\n",
        "cv_scores(\n",
        "    model,\n",
        "    X_train,\n",
        "    y_train,\n",
        "    cv=cv,\n",
        "    n_jobs=-1,\n",
        "    scoring='r2',\n",
        "    random_state=13)"
      ]
    },
    {
      "cell_type": "code",
      "execution_count": 44,
      "metadata": {
        "id": "HSWesfb62pst",
        "colab": {
          "base_uri": "https://localhost:8080/"
        },
        "outputId": "160246d9-8458-4c00-8baa-7a0eaede9827"
      },
      "outputs": [
        {
          "output_type": "stream",
          "name": "stdout",
          "text": [
            "the root mean squared erro 0.1608572916870331\n",
            "the mean squared error 0.02587506828888725\n"
          ]
        }
      ],
      "source": [
        "#implementing the 10 fold cross validation for RMSE & MSE on train set\n",
        "cv = KFold(n_splits=10, random_state=42, shuffle=True)\n",
        "#scoring=['neg_mean_squared_error']\n",
        "pred_cv1 = cross_val_score(model, X_train, y_train, scoring='neg_mean_squared_error', cv=cv)\n",
        "RMSE=sqrt(mean(absolute(pred_cv1)))\n",
        "MSE=(absolute(mean(pred_cv1)))\n",
        "print('the root mean squared erro',RMSE)\n",
        "print('the mean squared error',MSE)"
      ]
    },
    {
      "cell_type": "code",
      "execution_count": 45,
      "metadata": {
        "id": "uHEOCrFGBHvE",
        "colab": {
          "base_uri": "https://localhost:8080/"
        },
        "outputId": "a74d2d53-7f6c-4c11-adca-dfc125aabe0f"
      },
      "outputs": [
        {
          "output_type": "stream",
          "name": "stdout",
          "text": [
            "r2 after CV 0.4715419003186946\n",
            "MSE AFTER CV: 0.026547714703451717\n",
            "RMSE AFTER CV: 0.1629346945971045\n"
          ]
        }
      ],
      "source": [
        "cv = KFold(n_splits=10, random_state=0, shuffle=True)#5\n",
        "pred = cross_val_predict(model, X_train, y_train, cv=cv)\n",
        "\n",
        "R2 = metrics.r2_score(y_train, pred)\n",
        "MSE=metrics.mean_squared_error(y_train, pred)\n",
        "RMSE=sqrt(MSE)\n",
        "print('r2 after CV',R2)\n",
        "print ('MSE AFTER CV:', MSE)\n",
        "print('RMSE AFTER CV:',RMSE)\n"
      ]
    },
    {
      "cell_type": "markdown",
      "metadata": {
        "id": "0Yn6tBpcAhn1"
      },
      "source": [
        "10 FOLD CROSS VALIDATION TEST SET"
      ]
    },
    {
      "cell_type": "code",
      "execution_count": 46,
      "metadata": {
        "id": "O5CyBz5JA5Jn",
        "colab": {
          "base_uri": "https://localhost:8080/"
        },
        "outputId": "30ba88ed-340b-472b-fe7a-78db26f7d190"
      },
      "outputs": [
        {
          "output_type": "execute_result",
          "data": {
            "text/plain": [
              "0.3875480742745022"
            ]
          },
          "metadata": {},
          "execution_count": 46
        }
      ],
      "source": [
        "#implementing the 10 fold cross validation for r2 score on  test set#8\n",
        "cv = KFold(n_splits=10, random_state=8, shuffle=True)#8\n",
        "#scoring=['neg_mean_squared_error']\n",
        "scores = cross_val_score(model, X_test,y_test, scoring='r2', cv=cv)\n",
        "scores.mean()"
      ]
    },
    {
      "cell_type": "code",
      "execution_count": 47,
      "metadata": {
        "id": "U_pCKFPTncDN",
        "colab": {
          "base_uri": "https://localhost:8080/"
        },
        "outputId": "1ab6949f-1ad9-43df-d802-11e96967e6ce"
      },
      "outputs": [
        {
          "output_type": "stream",
          "name": "stdout",
          "text": [
            "the root mean squared erro 0.14268400937858497\n",
            "the mean squared error 0.02035872653234812\n"
          ]
        }
      ],
      "source": [
        "#implementing the 10 fold cross validation for RMSE & MSE score the model for test set\n",
        "cv = KFold(n_splits=10, random_state=8, shuffle=True)#8\n",
        "#scoring=['neg_mean_squared_error']\n",
        "scores = cross_val_score(model, X_test,y_test, scoring='neg_mean_squared_error', cv=cv)\n",
        "RMSE=sqrt(mean(absolute(scores)))\n",
        "MSE=(absolute(mean(scores)))\n",
        "print('the root mean squared erro',RMSE)\n",
        "print('the mean squared error',MSE)"
      ]
    },
    {
      "cell_type": "code",
      "execution_count": 48,
      "metadata": {
        "id": "MYucJylo4O9r",
        "colab": {
          "base_uri": "https://localhost:8080/"
        },
        "outputId": "1307bde1-517c-4bb3-c9f5-214762b45fb4"
      },
      "outputs": [
        {
          "output_type": "stream",
          "name": "stdout",
          "text": [
            "r2 after CV 0.6669038670222189\n",
            "MSE AFTER CV: 0.020278515706289087\n",
            "RMSE AFTER CV: 0.14240265343837202\n"
          ]
        }
      ],
      "source": [
        "pred = cross_val_predict(model, X_test, y_test, cv=cv)\n",
        "\n",
        "R2 = metrics.r2_score(y_test, pred)\n",
        "MSE=metrics.mean_squared_error(y_test, pred)\n",
        "RMSE=sqrt(MSE)\n",
        "print('r2 after CV',R2)\n",
        "print ('MSE AFTER CV:', MSE)\n",
        "print('RMSE AFTER CV:',RMSE)"
      ]
    },
    {
      "cell_type": "markdown",
      "metadata": {
        "id": "-U8oR1QYBgoi"
      },
      "source": [
        "LEAVE OUT ONE CROSS VALIDATION TRAIN SET"
      ]
    },
    {
      "cell_type": "code",
      "execution_count": 49,
      "metadata": {
        "id": "ytvBToCsIqm-",
        "colab": {
          "base_uri": "https://localhost:8080/"
        },
        "outputId": "a4478a8e-e450-47dd-8318-fcda7a5413ae"
      },
      "outputs": [
        {
          "output_type": "stream",
          "name": "stdout",
          "text": [
            "the root mean squared erro 0.16394958661632358\n",
            "the mean squared error 0.026879466951663385\n"
          ]
        }
      ],
      "source": [
        "#EVALUATING THE MODEL WITH LEAVE ONE OUT On train set\n",
        "cv=LeaveOneOut()\n",
        "\n",
        "scores = cross_val_score(model,X_train, y_train, scoring='neg_mean_squared_error',\n",
        "                         cv=cv)\n",
        "RMSE=sqrt(mean(absolute(scores)))\n",
        "MSE=(absolute(mean(scores)))\n",
        "print('the root mean squared erro',RMSE)\n",
        "print('the mean squared error',MSE)"
      ]
    },
    {
      "cell_type": "code",
      "execution_count": 50,
      "metadata": {
        "id": "4n9c-8WqE5Z2",
        "colab": {
          "base_uri": "https://localhost:8080/"
        },
        "outputId": "540c2711-f693-44ee-9a28-ca0b52c04649"
      },
      "outputs": [
        {
          "output_type": "stream",
          "name": "stdout",
          "text": [
            "r2 after CV 0.464938048928347\n",
            "MSE AFTER CV: 0.026879466951663385\n",
            "RMSE AFTER CV: 0.16394958661632358\n"
          ]
        }
      ],
      "source": [
        "cv=LeaveOneOut()\n",
        "pred = cross_val_predict(model, X_train, y_train, cv=cv)\n",
        "R2 = metrics.r2_score(y_train, pred)\n",
        "MSE=metrics.mean_squared_error(y_train, pred)\n",
        "RMSE=sqrt(MSE)\n",
        "print('r2 after CV',R2)\n",
        "print ('MSE AFTER CV:', MSE)\n",
        "print('RMSE AFTER CV:',RMSE)"
      ]
    },
    {
      "cell_type": "markdown",
      "metadata": {
        "id": "mornppUMBzHh"
      },
      "source": [
        "LEAVE OUT ONE CROSS VALIDATION TEST SET"
      ]
    },
    {
      "cell_type": "code",
      "execution_count": 51,
      "metadata": {
        "id": "1MwdRhp9uRRU",
        "colab": {
          "base_uri": "https://localhost:8080/"
        },
        "outputId": "4d01299a-40f4-4a27-c078-8570cf8a7d24"
      },
      "outputs": [
        {
          "output_type": "stream",
          "name": "stdout",
          "text": [
            "the root mean squared erro 0.13657783241408955\n",
            "the mean squared error 0.01865350430693113\n"
          ]
        }
      ],
      "source": [
        "#EVALUATING THE MODEL WITH LEAVE ONE OUT On test set\n",
        "cv=LeaveOneOut()\n",
        "\n",
        "scores = cross_val_score(model,X_test, y_test, scoring='neg_mean_squared_error',\n",
        "                         cv=cv)\n",
        "RMSE=sqrt(mean(absolute(scores)))\n",
        "MSE=(absolute(mean(scores)))\n",
        "print('the root mean squared erro',RMSE)\n",
        "print('the mean squared error',MSE)"
      ]
    },
    {
      "cell_type": "code",
      "execution_count": 52,
      "metadata": {
        "id": "1mC7p6i_FBmu",
        "colab": {
          "base_uri": "https://localhost:8080/"
        },
        "outputId": "b442df68-e030-4e71-bd42-f0e60016e363"
      },
      "outputs": [
        {
          "output_type": "stream",
          "name": "stdout",
          "text": [
            "r2 after CV 0.6935964031531093\n",
            "MSE AFTER CV: 0.01865350430693113\n",
            "RMSE AFTER CV: 0.13657783241408955\n"
          ]
        }
      ],
      "source": [
        "cv=LeaveOneOut()\n",
        "pred = cross_val_predict(model, X_test, y_test, cv=cv)\n",
        "R2 = metrics.r2_score(y_test, pred)\n",
        "MSE=metrics.mean_squared_error(y_test, pred)\n",
        "RMSE=sqrt(MSE)\n",
        "print('r2 after CV',R2)\n",
        "print ('MSE AFTER CV:', MSE)\n",
        "print('RMSE AFTER CV:',RMSE)\n"
      ]
    },
    {
      "cell_type": "code",
      "execution_count": null,
      "metadata": {
        "id": "MQY1zbP6eQfY"
      },
      "outputs": [],
      "source": [
        "sklearn.metrics.SCORERS.keys()"
      ]
    },
    {
      "cell_type": "code",
      "execution_count": 53,
      "metadata": {
        "id": "Ym479plnwwKE",
        "colab": {
          "base_uri": "https://localhost:8080/"
        },
        "outputId": "8be26177-a120-4b57-c17a-7cfb8d3d6f76"
      },
      "outputs": [
        {
          "output_type": "stream",
          "name": "stdout",
          "text": [
            "0.6445558302224976\n"
          ]
        }
      ],
      "source": [
        "cv=LeaveOneOut()\n",
        "y_pred = cross_val_predict(model, X_test, y_test, cv=cv)\n",
        "r2_loocv= r2_score(y_pred,y_test)\n",
        "print(r2_loocv)"
      ]
    },
    {
      "cell_type": "markdown",
      "metadata": {
        "id": "ra_bLV1IuJKl"
      },
      "source": [
        "GRID SEARCH CV USING RF MODEL WITH ALL 2 FEATURES TO ACCESS CV TEST AND TRAIN SCORE K=10"
      ]
    },
    {
      "cell_type": "code",
      "execution_count": null,
      "metadata": {
        "id": "GrrB-fZlDet0"
      },
      "outputs": [],
      "source": [
        "#performing hyperperemeter tuning with grid sreach cross validation with REF using feature selection of 2 feature: this allowed to see the training and test score on the training s\n",
        "folds = KFold(n_splits = 10, shuffle = True, random_state = 100)\n",
        "hyper_params = [{'n_features_to_select':list(range(1, len(X_train.columns)+1)) }]\n",
        "model_G = MLPRegressor(hidden_layer_sizes=(5,2),activation=\"logistic\" ,random_state=1, learning_rate_init=0.02,momentum=0.7, max_iter=500,solver='lbfgs')\n",
        "lm = model_G\n",
        "lm.fit(X_train, y_train)\n",
        "rfe = RFE(lm) \n",
        "\n",
        "#rfe.support_  \n",
        "model_cv = GridSearchCV(estimator = rfe, \n",
        "                        param_grid= hyper_params,\n",
        "                        scoring= 'r2',\n",
        "                        cv = folds, \n",
        "                        verbose = 1,\n",
        "                        return_train_score=True) \n",
        "\n",
        "\n",
        "model_cv.fit(X_train,y_train)"
      ]
    },
    {
      "cell_type": "code",
      "execution_count": null,
      "metadata": {
        "id": "MesYRIFZtyFr"
      },
      "outputs": [],
      "source": [
        "cv_results = pd.DataFrame(model_cv.cv_results_)\n",
        "cv_results\n"
      ]
    },
    {
      "cell_type": "markdown",
      "metadata": {
        "id": "nz_MClLMuTWo"
      },
      "source": [
        "GRID SERACH CV FOR SELECTING BEST OPTIMIZER AND ACTIVATION FUNCTIONS"
      ]
    },
    {
      "cell_type": "code",
      "execution_count": null,
      "metadata": {
        "id": "BT-VFRdAXDy2"
      },
      "outputs": [],
      "source": [
        "cv=KFold(n_splits=5,shuffle=True,random_state=0)"
      ]
    },
    {
      "cell_type": "code",
      "execution_count": null,
      "metadata": {
        "id": "3Wue4Lopr4P0",
        "colab": {
          "base_uri": "https://localhost:8080/"
        },
        "outputId": "439aaac7-8b60-4d29-91dc-25762ae932e9"
      },
      "outputs": [
        {
          "output_type": "stream",
          "name": "stdout",
          "text": [
            "Best Score: 0.4939876211561847\n",
            "Best Hyperparameters: {'solver': 'lbfgs'}\n"
          ]
        }
      ],
      "source": [
        "#performing Gridsearch for TESTING DIFFERENT OPTIMIZER\n",
        "# define the grid search parameters\n",
        "model=model\n",
        "param = {\n",
        "    'solver':['adam','sgd','lbfgs']}\n",
        "search = GridSearchCV(model, param, scoring='r2', n_jobs=-1, cv=cv)\n",
        "# execute search\n",
        "result = search.fit(X_train, y_train)\n",
        "print('Best Score: %s' % result.best_score_)\n",
        "print('Best Hyperparameters: %s' % result.best_params_)\n",
        "#neg_mean_absolute_error"
      ]
    },
    {
      "cell_type": "code",
      "execution_count": null,
      "metadata": {
        "id": "JYnBm6v4PpG8",
        "colab": {
          "base_uri": "https://localhost:8080/"
        },
        "outputId": "78af3855-eac8-45c5-9f1b-5705d1b46115"
      },
      "outputs": [
        {
          "output_type": "stream",
          "name": "stdout",
          "text": [
            "Best Score: 0.4939876211561847\n",
            "Best Hyperparameters: {'activation': 'logistic'}\n"
          ]
        }
      ],
      "source": [
        "#Grid search for the best activation function\n",
        "model=model\n",
        "param = {\n",
        "    'activation':['relu','tahn','identity','softmax','logistic']}\n",
        "search = GridSearchCV(model, param, scoring='r2', n_jobs=-1, cv=cv)\n",
        "# execute search\n",
        "result = search.fit(X_train, y_train)\n",
        "print('Best Score: %s' % result.best_score_)\n",
        "print('Best Hyperparameters: %s' % result.best_params_)"
      ]
    },
    {
      "cell_type": "markdown",
      "metadata": {
        "id": "O1Tag4-Nn-Hq"
      },
      "source": [
        "BUILDING THE FINAL MODEL\n"
      ]
    },
    {
      "cell_type": "markdown",
      "metadata": {
        "id": "rKbiZYDKYvGI"
      },
      "source": [
        ":CORRELATION METRICS FOR TEST AND PREDICTED OUTCOME USING CROSS TAB"
      ]
    },
    {
      "cell_type": "code",
      "execution_count": null,
      "metadata": {
        "id": "ojT_qBp5w1Hv",
        "colab": {
          "base_uri": "https://localhost:8080/",
          "height": 380
        },
        "outputId": "c5e95e8a-00bc-4d25-b7e6-399b9d02eac3"
      },
      "outputs": [
        {
          "output_type": "error",
          "ename": "ValueError",
          "evalue": "ignored",
          "traceback": [
            "\u001b[0;31m---------------------------------------------------------------------------\u001b[0m",
            "\u001b[0;31mValueError\u001b[0m                                Traceback (most recent call last)",
            "\u001b[0;32m<ipython-input-55-61289a91e4e9>\u001b[0m in \u001b[0;36m<module>\u001b[0;34m\u001b[0m\n\u001b[1;32m      1\u001b[0m \u001b[0;31m# Create a dataframe with ypred and ytest as columns\u001b[0m\u001b[0;34m\u001b[0m\u001b[0;34m\u001b[0m\u001b[0;34m\u001b[0m\u001b[0m\n\u001b[0;32m----> 2\u001b[0;31m \u001b[0mdf\u001b[0m \u001b[0;34m=\u001b[0m \u001b[0mpd\u001b[0m\u001b[0;34m.\u001b[0m\u001b[0mDataFrame\u001b[0m\u001b[0;34m(\u001b[0m\u001b[0;34m{\u001b[0m\u001b[0;34m'ypred'\u001b[0m\u001b[0;34m:\u001b[0m \u001b[0my_pred\u001b[0m\u001b[0;34m,\u001b[0m \u001b[0;34m'ytest'\u001b[0m\u001b[0;34m:\u001b[0m \u001b[0my_test\u001b[0m\u001b[0;34m}\u001b[0m\u001b[0;34m)\u001b[0m\u001b[0;34m\u001b[0m\u001b[0;34m\u001b[0m\u001b[0m\n\u001b[0m\u001b[1;32m      3\u001b[0m \u001b[0;34m\u001b[0m\u001b[0m\n\u001b[1;32m      4\u001b[0m \u001b[0;31m# Calculate the cross-tabulation of ypred and ytest\u001b[0m\u001b[0;34m\u001b[0m\u001b[0;34m\u001b[0m\u001b[0;34m\u001b[0m\u001b[0m\n\u001b[1;32m      5\u001b[0m \u001b[0mct\u001b[0m \u001b[0;34m=\u001b[0m \u001b[0mpd\u001b[0m\u001b[0;34m.\u001b[0m\u001b[0mcrosstab\u001b[0m\u001b[0;34m(\u001b[0m\u001b[0mdf\u001b[0m\u001b[0;34m[\u001b[0m\u001b[0;34m'ypred'\u001b[0m\u001b[0;34m]\u001b[0m\u001b[0;34m,\u001b[0m \u001b[0mdf\u001b[0m\u001b[0;34m[\u001b[0m\u001b[0;34m'ytest'\u001b[0m\u001b[0;34m]\u001b[0m\u001b[0;34m)\u001b[0m\u001b[0;34m\u001b[0m\u001b[0;34m\u001b[0m\u001b[0m\n",
            "\u001b[0;32m/usr/local/lib/python3.8/dist-packages/pandas/core/frame.py\u001b[0m in \u001b[0;36m__init__\u001b[0;34m(self, data, index, columns, dtype, copy)\u001b[0m\n\u001b[1;32m    612\u001b[0m         \u001b[0;32melif\u001b[0m \u001b[0misinstance\u001b[0m\u001b[0;34m(\u001b[0m\u001b[0mdata\u001b[0m\u001b[0;34m,\u001b[0m \u001b[0mdict\u001b[0m\u001b[0;34m)\u001b[0m\u001b[0;34m:\u001b[0m\u001b[0;34m\u001b[0m\u001b[0;34m\u001b[0m\u001b[0m\n\u001b[1;32m    613\u001b[0m             \u001b[0;31m# GH#38939 de facto copy defaults to False only in non-dict cases\u001b[0m\u001b[0;34m\u001b[0m\u001b[0;34m\u001b[0m\u001b[0;34m\u001b[0m\u001b[0m\n\u001b[0;32m--> 614\u001b[0;31m             \u001b[0mmgr\u001b[0m \u001b[0;34m=\u001b[0m \u001b[0mdict_to_mgr\u001b[0m\u001b[0;34m(\u001b[0m\u001b[0mdata\u001b[0m\u001b[0;34m,\u001b[0m \u001b[0mindex\u001b[0m\u001b[0;34m,\u001b[0m \u001b[0mcolumns\u001b[0m\u001b[0;34m,\u001b[0m \u001b[0mdtype\u001b[0m\u001b[0;34m=\u001b[0m\u001b[0mdtype\u001b[0m\u001b[0;34m,\u001b[0m \u001b[0mcopy\u001b[0m\u001b[0;34m=\u001b[0m\u001b[0mcopy\u001b[0m\u001b[0;34m,\u001b[0m \u001b[0mtyp\u001b[0m\u001b[0;34m=\u001b[0m\u001b[0mmanager\u001b[0m\u001b[0;34m)\u001b[0m\u001b[0;34m\u001b[0m\u001b[0;34m\u001b[0m\u001b[0m\n\u001b[0m\u001b[1;32m    615\u001b[0m         \u001b[0;32melif\u001b[0m \u001b[0misinstance\u001b[0m\u001b[0;34m(\u001b[0m\u001b[0mdata\u001b[0m\u001b[0;34m,\u001b[0m \u001b[0mma\u001b[0m\u001b[0;34m.\u001b[0m\u001b[0mMaskedArray\u001b[0m\u001b[0;34m)\u001b[0m\u001b[0;34m:\u001b[0m\u001b[0;34m\u001b[0m\u001b[0;34m\u001b[0m\u001b[0m\n\u001b[1;32m    616\u001b[0m             \u001b[0;32mimport\u001b[0m \u001b[0mnumpy\u001b[0m\u001b[0;34m.\u001b[0m\u001b[0mma\u001b[0m\u001b[0;34m.\u001b[0m\u001b[0mmrecords\u001b[0m \u001b[0;32mas\u001b[0m \u001b[0mmrecords\u001b[0m\u001b[0;34m\u001b[0m\u001b[0;34m\u001b[0m\u001b[0m\n",
            "\u001b[0;32m/usr/local/lib/python3.8/dist-packages/pandas/core/internals/construction.py\u001b[0m in \u001b[0;36mdict_to_mgr\u001b[0;34m(data, index, columns, dtype, typ, copy)\u001b[0m\n\u001b[1;32m    462\u001b[0m         \u001b[0;31m# TODO: can we get rid of the dt64tz special case above?\u001b[0m\u001b[0;34m\u001b[0m\u001b[0;34m\u001b[0m\u001b[0;34m\u001b[0m\u001b[0m\n\u001b[1;32m    463\u001b[0m \u001b[0;34m\u001b[0m\u001b[0m\n\u001b[0;32m--> 464\u001b[0;31m     return arrays_to_mgr(\n\u001b[0m\u001b[1;32m    465\u001b[0m         \u001b[0marrays\u001b[0m\u001b[0;34m,\u001b[0m \u001b[0mdata_names\u001b[0m\u001b[0;34m,\u001b[0m \u001b[0mindex\u001b[0m\u001b[0;34m,\u001b[0m \u001b[0mcolumns\u001b[0m\u001b[0;34m,\u001b[0m \u001b[0mdtype\u001b[0m\u001b[0;34m=\u001b[0m\u001b[0mdtype\u001b[0m\u001b[0;34m,\u001b[0m \u001b[0mtyp\u001b[0m\u001b[0;34m=\u001b[0m\u001b[0mtyp\u001b[0m\u001b[0;34m,\u001b[0m \u001b[0mconsolidate\u001b[0m\u001b[0;34m=\u001b[0m\u001b[0mcopy\u001b[0m\u001b[0;34m\u001b[0m\u001b[0;34m\u001b[0m\u001b[0m\n\u001b[1;32m    466\u001b[0m     )\n",
            "\u001b[0;32m/usr/local/lib/python3.8/dist-packages/pandas/core/internals/construction.py\u001b[0m in \u001b[0;36marrays_to_mgr\u001b[0;34m(arrays, arr_names, index, columns, dtype, verify_integrity, typ, consolidate)\u001b[0m\n\u001b[1;32m    122\u001b[0m \u001b[0;34m\u001b[0m\u001b[0m\n\u001b[1;32m    123\u001b[0m         \u001b[0;31m# don't force copy because getting jammed in an ndarray anyway\u001b[0m\u001b[0;34m\u001b[0m\u001b[0;34m\u001b[0m\u001b[0;34m\u001b[0m\u001b[0m\n\u001b[0;32m--> 124\u001b[0;31m         \u001b[0marrays\u001b[0m \u001b[0;34m=\u001b[0m \u001b[0m_homogenize\u001b[0m\u001b[0;34m(\u001b[0m\u001b[0marrays\u001b[0m\u001b[0;34m,\u001b[0m \u001b[0mindex\u001b[0m\u001b[0;34m,\u001b[0m \u001b[0mdtype\u001b[0m\u001b[0;34m)\u001b[0m\u001b[0;34m\u001b[0m\u001b[0;34m\u001b[0m\u001b[0m\n\u001b[0m\u001b[1;32m    125\u001b[0m \u001b[0;34m\u001b[0m\u001b[0m\n\u001b[1;32m    126\u001b[0m     \u001b[0;32melse\u001b[0m\u001b[0;34m:\u001b[0m\u001b[0;34m\u001b[0m\u001b[0;34m\u001b[0m\u001b[0m\n",
            "\u001b[0;32m/usr/local/lib/python3.8/dist-packages/pandas/core/internals/construction.py\u001b[0m in \u001b[0;36m_homogenize\u001b[0;34m(data, index, dtype)\u001b[0m\n\u001b[1;32m    587\u001b[0m                 \u001b[0mval\u001b[0m \u001b[0;34m=\u001b[0m \u001b[0mlib\u001b[0m\u001b[0;34m.\u001b[0m\u001b[0mfast_multiget\u001b[0m\u001b[0;34m(\u001b[0m\u001b[0mval\u001b[0m\u001b[0;34m,\u001b[0m \u001b[0moindex\u001b[0m\u001b[0;34m.\u001b[0m\u001b[0m_values\u001b[0m\u001b[0;34m,\u001b[0m \u001b[0mdefault\u001b[0m\u001b[0;34m=\u001b[0m\u001b[0mnp\u001b[0m\u001b[0;34m.\u001b[0m\u001b[0mnan\u001b[0m\u001b[0;34m)\u001b[0m\u001b[0;34m\u001b[0m\u001b[0;34m\u001b[0m\u001b[0m\n\u001b[1;32m    588\u001b[0m \u001b[0;34m\u001b[0m\u001b[0m\n\u001b[0;32m--> 589\u001b[0;31m             val = sanitize_array(\n\u001b[0m\u001b[1;32m    590\u001b[0m                 \u001b[0mval\u001b[0m\u001b[0;34m,\u001b[0m \u001b[0mindex\u001b[0m\u001b[0;34m,\u001b[0m \u001b[0mdtype\u001b[0m\u001b[0;34m=\u001b[0m\u001b[0mdtype\u001b[0m\u001b[0;34m,\u001b[0m \u001b[0mcopy\u001b[0m\u001b[0;34m=\u001b[0m\u001b[0;32mFalse\u001b[0m\u001b[0;34m,\u001b[0m \u001b[0mraise_cast_failure\u001b[0m\u001b[0;34m=\u001b[0m\u001b[0;32mFalse\u001b[0m\u001b[0;34m\u001b[0m\u001b[0;34m\u001b[0m\u001b[0m\n\u001b[1;32m    591\u001b[0m             )\n",
            "\u001b[0;32m/usr/local/lib/python3.8/dist-packages/pandas/core/construction.py\u001b[0m in \u001b[0;36msanitize_array\u001b[0;34m(data, index, dtype, copy, raise_cast_failure, allow_2d)\u001b[0m\n\u001b[1;32m    574\u001b[0m                 \u001b[0msubarr\u001b[0m \u001b[0;34m=\u001b[0m \u001b[0mmaybe_infer_to_datetimelike\u001b[0m\u001b[0;34m(\u001b[0m\u001b[0msubarr\u001b[0m\u001b[0;34m)\u001b[0m\u001b[0;34m\u001b[0m\u001b[0;34m\u001b[0m\u001b[0m\n\u001b[1;32m    575\u001b[0m \u001b[0;34m\u001b[0m\u001b[0m\n\u001b[0;32m--> 576\u001b[0;31m     \u001b[0msubarr\u001b[0m \u001b[0;34m=\u001b[0m \u001b[0m_sanitize_ndim\u001b[0m\u001b[0;34m(\u001b[0m\u001b[0msubarr\u001b[0m\u001b[0;34m,\u001b[0m \u001b[0mdata\u001b[0m\u001b[0;34m,\u001b[0m \u001b[0mdtype\u001b[0m\u001b[0;34m,\u001b[0m \u001b[0mindex\u001b[0m\u001b[0;34m,\u001b[0m \u001b[0mallow_2d\u001b[0m\u001b[0;34m=\u001b[0m\u001b[0mallow_2d\u001b[0m\u001b[0;34m)\u001b[0m\u001b[0;34m\u001b[0m\u001b[0;34m\u001b[0m\u001b[0m\n\u001b[0m\u001b[1;32m    577\u001b[0m \u001b[0;34m\u001b[0m\u001b[0m\n\u001b[1;32m    578\u001b[0m     \u001b[0;32mif\u001b[0m \u001b[0misinstance\u001b[0m\u001b[0;34m(\u001b[0m\u001b[0msubarr\u001b[0m\u001b[0;34m,\u001b[0m \u001b[0mnp\u001b[0m\u001b[0;34m.\u001b[0m\u001b[0mndarray\u001b[0m\u001b[0;34m)\u001b[0m\u001b[0;34m:\u001b[0m\u001b[0;34m\u001b[0m\u001b[0;34m\u001b[0m\u001b[0m\n",
            "\u001b[0;32m/usr/local/lib/python3.8/dist-packages/pandas/core/construction.py\u001b[0m in \u001b[0;36m_sanitize_ndim\u001b[0;34m(result, data, dtype, index, allow_2d)\u001b[0m\n\u001b[1;32m    625\u001b[0m             \u001b[0;32mif\u001b[0m \u001b[0mallow_2d\u001b[0m\u001b[0;34m:\u001b[0m\u001b[0;34m\u001b[0m\u001b[0;34m\u001b[0m\u001b[0m\n\u001b[1;32m    626\u001b[0m                 \u001b[0;32mreturn\u001b[0m \u001b[0mresult\u001b[0m\u001b[0;34m\u001b[0m\u001b[0;34m\u001b[0m\u001b[0m\n\u001b[0;32m--> 627\u001b[0;31m             \u001b[0;32mraise\u001b[0m \u001b[0mValueError\u001b[0m\u001b[0;34m(\u001b[0m\u001b[0;34m\"Data must be 1-dimensional\"\u001b[0m\u001b[0;34m)\u001b[0m\u001b[0;34m\u001b[0m\u001b[0;34m\u001b[0m\u001b[0m\n\u001b[0m\u001b[1;32m    628\u001b[0m         \u001b[0;32mif\u001b[0m \u001b[0mis_object_dtype\u001b[0m\u001b[0;34m(\u001b[0m\u001b[0mdtype\u001b[0m\u001b[0;34m)\u001b[0m \u001b[0;32mand\u001b[0m \u001b[0misinstance\u001b[0m\u001b[0;34m(\u001b[0m\u001b[0mdtype\u001b[0m\u001b[0;34m,\u001b[0m \u001b[0mExtensionDtype\u001b[0m\u001b[0;34m)\u001b[0m\u001b[0;34m:\u001b[0m\u001b[0;34m\u001b[0m\u001b[0;34m\u001b[0m\u001b[0m\n\u001b[1;32m    629\u001b[0m             \u001b[0;31m# i.e. PandasDtype(\"O\")\u001b[0m\u001b[0;34m\u001b[0m\u001b[0;34m\u001b[0m\u001b[0;34m\u001b[0m\u001b[0m\n",
            "\u001b[0;31mValueError\u001b[0m: Data must be 1-dimensional"
          ]
        }
      ],
      "source": [
        "# Create a dataframe with ypred and ytest as columns\n",
        "df = pd.DataFrame({'ypred': y_pred, 'ytest': y_test})\n",
        "\n",
        "# Calculate the cross-tabulation of ypred and ytest\n",
        "ct = pd.crosstab(df['ypred'], df['ytest'])\n",
        "\n",
        "# Calculate the correlation coefficient\n",
        "corr = ct.corr().iloc[0,1]\n",
        "\n",
        "# Calculate the covariance\n",
        "cov = ct.cov().iloc[0,1]\n",
        "\n",
        "#print(f'Correlation coefficient: {corr}')\n",
        "#print(f'Covariance: {cov}')"
      ]
    },
    {
      "cell_type": "code",
      "execution_count": null,
      "metadata": {
        "id": "irSegDqySqwk"
      },
      "outputs": [],
      "source": [
        "#PEARSON CORRELATION FOR TEST and PREDICTED OUTCOME for X_test\n",
        "corr_1=np.corrcoef(y_test, y_pred)\n",
        "corr_1"
      ]
    },
    {
      "cell_type": "code",
      "execution_count": null,
      "metadata": {
        "id": "KbU6hV41QvU0"
      },
      "outputs": [],
      "source": [
        "#COVARIANCE FOR TEST and PREDICTED OUTCOME for X_test\n",
        "Cov=np.cov(y_test, y_pred)\n",
        "Cov"
      ]
    },
    {
      "cell_type": "code",
      "execution_count": null,
      "metadata": {
        "id": "rmGmUsFRbGBj"
      },
      "outputs": [],
      "source": [
        "plt.scatter(y_test, y_pred)\n",
        "plt.xlabel('true values')\n",
        "plt.ylabel('predictions')"
      ]
    },
    {
      "cell_type": "markdown",
      "metadata": {
        "id": "Pu4EB33lx1SX"
      },
      "source": [
        "PREDICTING WITH THE EXTERNAL DATASET"
      ]
    },
    {
      "cell_type": "code",
      "execution_count": 54,
      "metadata": {
        "colab": {
          "base_uri": "https://localhost:8080/"
        },
        "id": "m7DSbrw9x6Kv",
        "outputId": "9be672ef-021e-491a-a98d-e0ea8214ce24"
      },
      "outputs": [
        {
          "output_type": "stream",
          "name": "stdout",
          "text": [
            "0.4809265463817992\n",
            "0.03861679990087143\n",
            "0.19651157701487063\n"
          ]
        },
        {
          "output_type": "execute_result",
          "data": {
            "text/plain": [
              "107"
            ]
          },
          "metadata": {},
          "execution_count": 54
        }
      ],
      "source": [
        "#TESTING WITH EXTERNAL DATASET\n",
        "pred=model.predict(ex_x)\n",
        "r2 = sklearn.metrics.r2_score(ex_y, pred)\n",
        "MSE=sklearn.metrics.mean_squared_error(ex_y, pred)\n",
        "print(r2)\n",
        "print(MSE)\n",
        "RMSE=sqrt(MSE)\n",
        "print(RMSE)\n",
        "len(pred)\n"
      ]
    },
    {
      "cell_type": "code",
      "execution_count": 55,
      "metadata": {
        "id": "eEWeo--F1Scd",
        "colab": {
          "base_uri": "https://localhost:8080/",
          "height": 378
        },
        "outputId": "434947d9-67c8-47e5-d302-e41cba89ac7b"
      },
      "outputs": [
        {
          "output_type": "execute_result",
          "data": {
            "text/plain": [
              "Text(0, 0.5, 'predictions')"
            ]
          },
          "metadata": {},
          "execution_count": 55
        },
        {
          "output_type": "display_data",
          "data": {
            "text/plain": [
              "<Figure size 576x396 with 1 Axes>"
            ],
            "image/png": "[encoded data removed]"
          },
          "metadata": {}
        }
      ],
      "source": [
        "plt.scatter(ex_y, pred)\n",
        "plt.xlabel('true values')\n",
        "plt.ylabel('predictions')\n"
      ]
    },
    {
      "cell_type": "markdown",
      "metadata": {
        "id": "v1NnnNjPL28D"
      },
      "source": [
        "CORRELATION METRICS for EXTERNAL DATA SET"
      ]
    },
    {
      "cell_type": "code",
      "execution_count": 56,
      "metadata": {
        "id": "SzZgiffHDvIh",
        "colab": {
          "base_uri": "https://localhost:8080/"
        },
        "outputId": "d4ddf3a5-889c-4d3b-f469-fe2607ff5fd4"
      },
      "outputs": [
        {
          "output_type": "stream",
          "name": "stdout",
          "text": [
            "(107, 2)\n",
            "(107, 1)\n"
          ]
        }
      ],
      "source": [
        "print(ex_x.shape)\n",
        "print(ex_y.shape)\n"
      ]
    },
    {
      "cell_type": "code",
      "execution_count": 57,
      "metadata": {
        "id": "odAshcNYQyY1"
      },
      "outputs": [],
      "source": [
        "ex_y.shape=(107,) #cHANGE SHAPE AND DIMENSION"
      ]
    },
    {
      "cell_type": "code",
      "execution_count": 58,
      "metadata": {
        "id": "XAx1pf18xKt6",
        "colab": {
          "base_uri": "https://localhost:8080/"
        },
        "outputId": "a650f507-d00b-4895-a121-784440e870bf"
      },
      "outputs": [
        {
          "output_type": "execute_result",
          "data": {
            "text/plain": [
              "array([[0.07509748, 0.03519967],\n",
              "       [0.03519967, 0.0342677 ]])"
            ]
          },
          "metadata": {},
          "execution_count": 58
        }
      ],
      "source": [
        "#COVARIANCE DATASET\n",
        "Cov=np.cov(ex_y, pred )\n",
        "Cov"
      ]
    },
    {
      "cell_type": "code",
      "execution_count": 59,
      "metadata": {
        "id": "nejiCWRyWf_r",
        "colab": {
          "base_uri": "https://localhost:8080/"
        },
        "outputId": "478f613a-cb0c-48cc-ef67-0090044863a4"
      },
      "outputs": [
        {
          "output_type": "execute_result",
          "data": {
            "text/plain": [
              "array([[1.        , 0.69387846],\n",
              "       [0.69387846, 1.        ]])"
            ]
          },
          "metadata": {},
          "execution_count": 59
        }
      ],
      "source": [
        "#PEARSON CORRELATION  FOR EXTERNAL DATASET\n",
        "corr_1=np.corrcoef(ex_y, pred )\n",
        "corr_1"
      ]
    },
    {
      "cell_type": "markdown",
      "metadata": {
        "id": "TDMwSFa3CW00"
      },
      "source": [
        "Using Cross Tab to compare cross correlation metrics"
      ]
    },
    {
      "cell_type": "code",
      "execution_count": 60,
      "metadata": {
        "id": "l5kaGk3AZSln",
        "colab": {
          "base_uri": "https://localhost:8080/",
          "height": 435
        },
        "outputId": "bdc10f90-a3c0-4dd1-e7ee-93bd23f073ad"
      },
      "outputs": [
        {
          "output_type": "execute_result",
          "data": {
            "text/plain": [
              "            Num                      Chemical       CASRN  U-SENS.Call  \\\n",
              "CASRN                                                                    \n",
              "35691-65-7    2  Methyldibromo glutaronitrile  35691-65-7          1.0   \n",
              "149-30-4      3       2-Mercaptobenzothiazole    149-30-4          1.0   \n",
              "104-55-2      4             Cinnamic aldehyde    104-55-2          1.0   \n",
              "137-26-8      5   Tetramethylthiuramdisulfide    137-26-8          1.0   \n",
              "69-72-7       6                Salicylic acid     69-72-7          0.0   \n",
              "\n",
              "           U-SENS.CD86.EC150 U-SENS.CV70  DPRA.Call  DPRA.percCysdep  \\\n",
              "CASRN                                                                  \n",
              "35691-65-7                 3           5        1.0            100.0   \n",
              "149-30-4                  40          80        1.0             97.5   \n",
              "104-55-2                   1           8        1.0             70.6   \n",
              "137-26-8                 0.1           3        1.0             99.5   \n",
              "69-72-7                 >200        >200        1.0              3.5   \n",
              "\n",
              "            DPRA.percLysdep  DPRA.mean  ... humanCall  humanpotency3class  \\\n",
              "CASRN                                   ...                                 \n",
              "35691-65-7             28.6      64.30  ...         1              Strong   \n",
              "149-30-4                0.0      48.75  ...         1                Weak   \n",
              "104-55-2               43.3      56.95  ...         1              Strong   \n",
              "137-26-8                6.9      53.20  ...         1                Weak   \n",
              "69-72-7                21.1      12.30  ...         0                 Non   \n",
              "\n",
              "            humanpotency5class  logLLNAthreshold  log_Median_NC_EC3  \\\n",
              "CASRN                                                                 \n",
              "35691-65-7              Strong           -0.0458          -0.045757   \n",
              "149-30-4              Moderate            0.2304           0.414973   \n",
              "104-55-2                Strong            0.4771           0.060698   \n",
              "137-26-8              Moderate            0.7160           0.466868   \n",
              "69-72-7                    Non               NaN           1.086360   \n",
              "\n",
              "            MODEL_PRED1  Pos.Call.DH  Model_pred  log_hCLAT_MIT  log_DPRA_mean  \n",
              "CASRN                                                                           \n",
              "35691-65-7          Pos          2.0         Pos       0.995635       1.808211  \n",
              "149-30-4            Pos          2.0         Pos       2.227887       1.687975  \n",
              "104-55-2            Pos          2.0         Pos       1.447158       1.755494  \n",
              "137-26-8            Pos          2.0         Pos       1.000000       1.725912  \n",
              "69-72-7             Pos          2.0         Pos       3.000000       1.089905  \n",
              "\n",
              "[5 rows x 58 columns]"
            ],
            "text/html": [
              "\n",
              "  <div id=\"df-3857126e-064d-4b32-8adf-27578d5a35b6\">\n",
              "    <div class=\"colab-df-container\">\n",
              "      <div>\n",
              "<style scoped>\n",
              "    .dataframe tbody tr th:only-of-type {\n",
              "        vertical-align: middle;\n",
              "    }\n",
              "\n",
              "    .dataframe tbody tr th {\n",
              "        vertical-align: top;\n",
              "    }\n",
              "\n",
              "    .dataframe thead th {\n",
              "        text-align: right;\n",
              "    }\n",
              "</style>\n",
              "<table border=\"1\" class=\"dataframe\">\n",
              "  <thead>\n",
              "    <tr style=\"text-align: right;\">\n",
              "      <th></th>\n",
              "      <th>Num</th>\n",
              "      <th>Chemical</th>\n",
              "      <th>CASRN</th>\n",
              "      <th>U-SENS.Call</th>\n",
              "      <th>U-SENS.CD86.EC150</th>\n",
              "      <th>U-SENS.CV70</th>\n",
              "      <th>DPRA.Call</th>\n",
              "      <th>DPRA.percCysdep</th>\n",
              "      <th>DPRA.percLysdep</th>\n",
              "      <th>DPRA.mean</th>\n",
              "      <th>...</th>\n",
              "      <th>humanCall</th>\n",
              "      <th>humanpotency3class</th>\n",
              "      <th>humanpotency5class</th>\n",
              "      <th>logLLNAthreshold</th>\n",
              "      <th>log_Median_NC_EC3</th>\n",
              "      <th>MODEL_PRED1</th>\n",
              "      <th>Pos.Call.DH</th>\n",
              "      <th>Model_pred</th>\n",
              "      <th>log_hCLAT_MIT</th>\n",
              "      <th>log_DPRA_mean</th>\n",
              "    </tr>\n",
              "    <tr>\n",
              "      <th>CASRN</th>\n",
              "      <th></th>\n",
              "      <th></th>\n",
              "      <th></th>\n",
              "      <th></th>\n",
              "      <th></th>\n",
              "      <th></th>\n",
              "      <th></th>\n",
              "      <th></th>\n",
              "      <th></th>\n",
              "      <th></th>\n",
              "      <th></th>\n",
              "      <th></th>\n",
              "      <th></th>\n",
              "      <th></th>\n",
              "      <th></th>\n",
              "      <th></th>\n",
              "      <th></th>\n",
              "      <th></th>\n",
              "      <th></th>\n",
              "      <th></th>\n",
              "      <th></th>\n",
              "    </tr>\n",
              "  </thead>\n",
              "  <tbody>\n",
              "    <tr>\n",
              "      <th>35691-65-7</th>\n",
              "      <td>2</td>\n",
              "      <td>Methyldibromo glutaronitrile</td>\n",
              "      <td>35691-65-7</td>\n",
              "      <td>1.0</td>\n",
              "      <td>3</td>\n",
              "      <td>5</td>\n",
              "      <td>1.0</td>\n",
              "      <td>100.0</td>\n",
              "      <td>28.6</td>\n",
              "      <td>64.30</td>\n",
              "      <td>...</td>\n",
              "      <td>1</td>\n",
              "      <td>Strong</td>\n",
              "      <td>Strong</td>\n",
              "      <td>-0.0458</td>\n",
              "      <td>-0.045757</td>\n",
              "      <td>Pos</td>\n",
              "      <td>2.0</td>\n",
              "      <td>Pos</td>\n",
              "      <td>0.995635</td>\n",
              "      <td>1.808211</td>\n",
              "    </tr>\n",
              "    <tr>\n",
              "      <th>149-30-4</th>\n",
              "      <td>3</td>\n",
              "      <td>2-Mercaptobenzothiazole</td>\n",
              "      <td>149-30-4</td>\n",
              "      <td>1.0</td>\n",
              "      <td>40</td>\n",
              "      <td>80</td>\n",
              "      <td>1.0</td>\n",
              "      <td>97.5</td>\n",
              "      <td>0.0</td>\n",
              "      <td>48.75</td>\n",
              "      <td>...</td>\n",
              "      <td>1</td>\n",
              "      <td>Weak</td>\n",
              "      <td>Moderate</td>\n",
              "      <td>0.2304</td>\n",
              "      <td>0.414973</td>\n",
              "      <td>Pos</td>\n",
              "      <td>2.0</td>\n",
              "      <td>Pos</td>\n",
              "      <td>2.227887</td>\n",
              "      <td>1.687975</td>\n",
              "    </tr>\n",
              "    <tr>\n",
              "      <th>104-55-2</th>\n",
              "      <td>4</td>\n",
              "      <td>Cinnamic aldehyde</td>\n",
              "      <td>104-55-2</td>\n",
              "      <td>1.0</td>\n",
              "      <td>1</td>\n",
              "      <td>8</td>\n",
              "      <td>1.0</td>\n",
              "      <td>70.6</td>\n",
              "      <td>43.3</td>\n",
              "      <td>56.95</td>\n",
              "      <td>...</td>\n",
              "      <td>1</td>\n",
              "      <td>Strong</td>\n",
              "      <td>Strong</td>\n",
              "      <td>0.4771</td>\n",
              "      <td>0.060698</td>\n",
              "      <td>Pos</td>\n",
              "      <td>2.0</td>\n",
              "      <td>Pos</td>\n",
              "      <td>1.447158</td>\n",
              "      <td>1.755494</td>\n",
              "    </tr>\n",
              "    <tr>\n",
              "      <th>137-26-8</th>\n",
              "      <td>5</td>\n",
              "      <td>Tetramethylthiuramdisulfide</td>\n",
              "      <td>137-26-8</td>\n",
              "      <td>1.0</td>\n",
              "      <td>0.1</td>\n",
              "      <td>3</td>\n",
              "      <td>1.0</td>\n",
              "      <td>99.5</td>\n",
              "      <td>6.9</td>\n",
              "      <td>53.20</td>\n",
              "      <td>...</td>\n",
              "      <td>1</td>\n",
              "      <td>Weak</td>\n",
              "      <td>Moderate</td>\n",
              "      <td>0.7160</td>\n",
              "      <td>0.466868</td>\n",
              "      <td>Pos</td>\n",
              "      <td>2.0</td>\n",
              "      <td>Pos</td>\n",
              "      <td>1.000000</td>\n",
              "      <td>1.725912</td>\n",
              "    </tr>\n",
              "    <tr>\n",
              "      <th>69-72-7</th>\n",
              "      <td>6</td>\n",
              "      <td>Salicylic acid</td>\n",
              "      <td>69-72-7</td>\n",
              "      <td>0.0</td>\n",
              "      <td>&gt;200</td>\n",
              "      <td>&gt;200</td>\n",
              "      <td>1.0</td>\n",
              "      <td>3.5</td>\n",
              "      <td>21.1</td>\n",
              "      <td>12.30</td>\n",
              "      <td>...</td>\n",
              "      <td>0</td>\n",
              "      <td>Non</td>\n",
              "      <td>Non</td>\n",
              "      <td>NaN</td>\n",
              "      <td>1.086360</td>\n",
              "      <td>Pos</td>\n",
              "      <td>2.0</td>\n",
              "      <td>Pos</td>\n",
              "      <td>3.000000</td>\n",
              "      <td>1.089905</td>\n",
              "    </tr>\n",
              "  </tbody>\n",
              "</table>\n",
              "<p>5 rows × 58 columns</p>\n",
              "</div>\n",
              "      <button class=\"colab-df-convert\" onclick=\"convertToInteractive('df-3857126e-064d-4b32-8adf-27578d5a35b6')\"\n",
              "              title=\"Convert this dataframe to an interactive table.\"\n",
              "              style=\"display:none;\">\n",
              "        \n",
              "  <svg xmlns=\"http://www.w3.org/2000/svg\" height=\"24px\"viewBox=\"0 0 24 24\"\n",
              "       width=\"24px\">\n",
              "    <path d=\"M0 0h24v24H0V0z\" fill=\"none\"/>\n",
              "    <path d=\"M18.56 5.44l.94 2.06.94-2.06 2.06-.94-2.06-.94-.94-2.06-.94 2.06-2.06.94zm-11 1L8.5 8.5l.94-2.06 2.06-.94-2.06-.94L8.5 2.5l-.94 2.06-2.06.94zm10 10l.94 2.06.94-2.06 2.06-.94-2.06-.94-.94-2.06-.94 2.06-2.06.94z\"/><path d=\"M17.41 7.96l-1.37-1.37c-.4-.4-.92-.59-1.43-.59-.52 0-1.04.2-1.43.59L10.3 9.45l-7.72 7.72c-.78.78-.78 2.05 0 2.83L4 21.41c.39.39.9.59 1.41.59.51 0 1.02-.2 1.41-.59l7.78-7.78 2.81-2.81c.8-.78.8-2.07 0-2.86zM5.41 20L4 18.59l7.72-7.72 1.47 1.35L5.41 20z\"/>\n",
              "  </svg>\n",
              "      </button>\n",
              "      \n",
              "  <style>\n",
              "    .colab-df-container {\n",
              "      display:flex;\n",
              "      flex-wrap:wrap;\n",
              "      gap: 12px;\n",
              "    }\n",
              "\n",
              "    .colab-df-convert {\n",
              "      background-color: #E8F0FE;\n",
              "      border: none;\n",
              "      border-radius: 50%;\n",
              "      cursor: pointer;\n",
              "      display: none;\n",
              "      fill: #1967D2;\n",
              "      height: 32px;\n",
              "      padding: 0 0 0 0;\n",
              "      width: 32px;\n",
              "    }\n",
              "\n",
              "    .colab-df-convert:hover {\n",
              "      background-color: #E2EBFA;\n",
              "      box-shadow: 0px 1px 2px rgba(60, 64, 67, 0.3), 0px 1px 3px 1px rgba(60, 64, 67, 0.15);\n",
              "      fill: #174EA6;\n",
              "    }\n",
              "\n",
              "    [theme=dark] .colab-df-convert {\n",
              "      background-color: #3B4455;\n",
              "      fill: #D2E3FC;\n",
              "    }\n",
              "\n",
              "    [theme=dark] .colab-df-convert:hover {\n",
              "      background-color: #434B5C;\n",
              "      box-shadow: 0px 1px 3px 1px rgba(0, 0, 0, 0.15);\n",
              "      filter: drop-shadow(0px 1px 2px rgba(0, 0, 0, 0.3));\n",
              "      fill: #FFFFFF;\n",
              "    }\n",
              "  </style>\n",
              "\n",
              "      <script>\n",
              "        const buttonEl =\n",
              "          document.querySelector('#df-3857126e-064d-4b32-8adf-27578d5a35b6 button.colab-df-convert');\n",
              "        buttonEl.style.display =\n",
              "          google.colab.kernel.accessAllowed ? 'block' : 'none';\n",
              "\n",
              "        async function convertToInteractive(key) {\n",
              "          const element = document.querySelector('#df-3857126e-064d-4b32-8adf-27578d5a35b6');\n",
              "          const dataTable =\n",
              "            await google.colab.kernel.invokeFunction('convertToInteractive',\n",
              "                                                     [key], {});\n",
              "          if (!dataTable) return;\n",
              "\n",
              "          const docLinkHtml = 'Like what you see? Visit the ' +\n",
              "            '<a target=\"_blank\" href=https://colab.research.google.com/notebooks/data_table.ipynb>data table notebook</a>'\n",
              "            + ' to learn more about interactive tables.';\n",
              "          element.innerHTML = '';\n",
              "          dataTable['output_type'] = 'display_data';\n",
              "          await google.colab.output.renderOutput(dataTable, element);\n",
              "          const docLink = document.createElement('div');\n",
              "          docLink.innerHTML = docLinkHtml;\n",
              "          element.appendChild(docLink);\n",
              "        }\n",
              "      </script>\n",
              "    </div>\n",
              "  </div>\n",
              "  "
            ]
          },
          "metadata": {},
          "execution_count": 60
        }
      ],
      "source": [
        "CosEu\n",
        "#CosEu.drop('Ex_prediction',axis=1, inplace=True)\n",
        "CosEu.head()"
      ]
    },
    {
      "cell_type": "code",
      "execution_count": 101,
      "metadata": {
        "id": "Tl1Wbxw1TP67"
      },
      "outputs": [],
      "source": [
        "def inverse_transform(y_pred, min_max_values):\n",
        "  min_value = min_max_values[0]\n",
        "  max_value = min_max_values[1]\n",
        "  return (y_pred * (max_value - min_value)) + min_value"
      ]
    },
    {
      "cell_type": "code",
      "execution_count": 102,
      "metadata": {
        "id": "hfDGYFW0TeYQ"
      },
      "outputs": [],
      "source": [
        "#fUNCTION TO rescale Predicted EC3 values to original value\n",
        "y_pred=pred\n",
        "min_max_values=(0,1)\n",
        "inverse_transformed_value = inverse_transform(y_pred, min_max_values)\n",
        "inverse_pred=inverse_transformed_value"
      ]
    },
    {
      "cell_type": "code",
      "execution_count": 103,
      "metadata": {
        "id": "ahFSXi1hdzXR"
      },
      "outputs": [],
      "source": [
        "#fUNCTION TO rescale orginal prediction EC3 values to original value\n",
        "y_pred=ex_y\n",
        "min_max_values=(0,1)\n",
        "inverse_extransformed_value = inverse_transform(y_pred, min_max_values)\n",
        "inverse_expred=inverse_extransformed_value"
      ]
    },
    {
      "cell_type": "code",
      "execution_count": 104,
      "metadata": {
        "id": "lVlDLvrrVBGA"
      },
      "outputs": [],
      "source": [
        "#Convert to dataframe\n",
        "iv=pd.DataFrame(inverse_pred)\n",
        "ip=pd.DataFrame(inverse_expred)\n",
        "\n"
      ]
    },
    {
      "cell_type": "code",
      "execution_count": 105,
      "metadata": {
        "id": "ZPOfxEmONnF6",
        "colab": {
          "base_uri": "https://localhost:8080/",
          "height": 455
        },
        "outputId": "1e6fa4c0-effd-45e4-d14f-200d237d6d03"
      },
      "outputs": [
        {
          "output_type": "execute_result",
          "data": {
            "text/plain": [
              "            log_DPRA_mean  log_hCLAT_MIT ANNmodel1_Set  test_pred  \\\n",
              "CASRN                                                               \n",
              "35691-65-7       1.808211       0.995635          Test   0.351431   \n",
              "149-30-4         1.687975       2.227887          Test   0.705440   \n",
              "104-55-2         1.755494       1.447158          Test   0.498930   \n",
              "137-26-8         1.725912       1.000000          Test   0.358353   \n",
              "69-72-7          1.089905       3.000000          Test   0.849841   \n",
              "...                   ...            ...           ...        ...   \n",
              "101-39-3         1.292256       2.143015          Test   0.706717   \n",
              "111-80-8         1.712650       2.282622          Test   0.715703   \n",
              "93-51-6          0.759668       2.447158          Test   0.783421   \n",
              "122-78-1         1.619771       1.431364          Test   0.503300   \n",
              "17369-59-4       1.351216       2.053078          Test   0.684283   \n",
              "\n",
              "            Original_pred  \n",
              "CASRN                      \n",
              "35691-65-7       0.397942  \n",
              "149-30-4         0.533533  \n",
              "104-55-2         0.429271  \n",
              "137-26-8         0.548805  \n",
              "69-72-7          0.731119  \n",
              "...                   ...  \n",
              "101-39-3         0.603646  \n",
              "111-80-8         0.528520  \n",
              "93-51-6          0.631597  \n",
              "122-78-1         0.609204  \n",
              "17369-59-4       0.567820  \n",
              "\n",
              "[107 rows x 5 columns]"
            ],
            "text/html": [
              "\n",
              "  <div id=\"df-91cb49a8-aa76-4d7e-9f60-b752a01fa282\">\n",
              "    <div class=\"colab-df-container\">\n",
              "      <div>\n",
              "<style scoped>\n",
              "    .dataframe tbody tr th:only-of-type {\n",
              "        vertical-align: middle;\n",
              "    }\n",
              "\n",
              "    .dataframe tbody tr th {\n",
              "        vertical-align: top;\n",
              "    }\n",
              "\n",
              "    .dataframe thead th {\n",
              "        text-align: right;\n",
              "    }\n",
              "</style>\n",
              "<table border=\"1\" class=\"dataframe\">\n",
              "  <thead>\n",
              "    <tr style=\"text-align: right;\">\n",
              "      <th></th>\n",
              "      <th>log_DPRA_mean</th>\n",
              "      <th>log_hCLAT_MIT</th>\n",
              "      <th>ANNmodel1_Set</th>\n",
              "      <th>test_pred</th>\n",
              "      <th>Original_pred</th>\n",
              "    </tr>\n",
              "    <tr>\n",
              "      <th>CASRN</th>\n",
              "      <th></th>\n",
              "      <th></th>\n",
              "      <th></th>\n",
              "      <th></th>\n",
              "      <th></th>\n",
              "    </tr>\n",
              "  </thead>\n",
              "  <tbody>\n",
              "    <tr>\n",
              "      <th>35691-65-7</th>\n",
              "      <td>1.808211</td>\n",
              "      <td>0.995635</td>\n",
              "      <td>Test</td>\n",
              "      <td>0.351431</td>\n",
              "      <td>0.397942</td>\n",
              "    </tr>\n",
              "    <tr>\n",
              "      <th>149-30-4</th>\n",
              "      <td>1.687975</td>\n",
              "      <td>2.227887</td>\n",
              "      <td>Test</td>\n",
              "      <td>0.705440</td>\n",
              "      <td>0.533533</td>\n",
              "    </tr>\n",
              "    <tr>\n",
              "      <th>104-55-2</th>\n",
              "      <td>1.755494</td>\n",
              "      <td>1.447158</td>\n",
              "      <td>Test</td>\n",
              "      <td>0.498930</td>\n",
              "      <td>0.429271</td>\n",
              "    </tr>\n",
              "    <tr>\n",
              "      <th>137-26-8</th>\n",
              "      <td>1.725912</td>\n",
              "      <td>1.000000</td>\n",
              "      <td>Test</td>\n",
              "      <td>0.358353</td>\n",
              "      <td>0.548805</td>\n",
              "    </tr>\n",
              "    <tr>\n",
              "      <th>69-72-7</th>\n",
              "      <td>1.089905</td>\n",
              "      <td>3.000000</td>\n",
              "      <td>Test</td>\n",
              "      <td>0.849841</td>\n",
              "      <td>0.731119</td>\n",
              "    </tr>\n",
              "    <tr>\n",
              "      <th>...</th>\n",
              "      <td>...</td>\n",
              "      <td>...</td>\n",
              "      <td>...</td>\n",
              "      <td>...</td>\n",
              "      <td>...</td>\n",
              "    </tr>\n",
              "    <tr>\n",
              "      <th>101-39-3</th>\n",
              "      <td>1.292256</td>\n",
              "      <td>2.143015</td>\n",
              "      <td>Test</td>\n",
              "      <td>0.706717</td>\n",
              "      <td>0.603646</td>\n",
              "    </tr>\n",
              "    <tr>\n",
              "      <th>111-80-8</th>\n",
              "      <td>1.712650</td>\n",
              "      <td>2.282622</td>\n",
              "      <td>Test</td>\n",
              "      <td>0.715703</td>\n",
              "      <td>0.528520</td>\n",
              "    </tr>\n",
              "    <tr>\n",
              "      <th>93-51-6</th>\n",
              "      <td>0.759668</td>\n",
              "      <td>2.447158</td>\n",
              "      <td>Test</td>\n",
              "      <td>0.783421</td>\n",
              "      <td>0.631597</td>\n",
              "    </tr>\n",
              "    <tr>\n",
              "      <th>122-78-1</th>\n",
              "      <td>1.619771</td>\n",
              "      <td>1.431364</td>\n",
              "      <td>Test</td>\n",
              "      <td>0.503300</td>\n",
              "      <td>0.609204</td>\n",
              "    </tr>\n",
              "    <tr>\n",
              "      <th>17369-59-4</th>\n",
              "      <td>1.351216</td>\n",
              "      <td>2.053078</td>\n",
              "      <td>Test</td>\n",
              "      <td>0.684283</td>\n",
              "      <td>0.567820</td>\n",
              "    </tr>\n",
              "  </tbody>\n",
              "</table>\n",
              "<p>107 rows × 5 columns</p>\n",
              "</div>\n",
              "      <button class=\"colab-df-convert\" onclick=\"convertToInteractive('df-91cb49a8-aa76-4d7e-9f60-b752a01fa282')\"\n",
              "              title=\"Convert this dataframe to an interactive table.\"\n",
              "              style=\"display:none;\">\n",
              "        \n",
              "  <svg xmlns=\"http://www.w3.org/2000/svg\" height=\"24px\"viewBox=\"0 0 24 24\"\n",
              "       width=\"24px\">\n",
              "    <path d=\"M0 0h24v24H0V0z\" fill=\"none\"/>\n",
              "    <path d=\"M18.56 5.44l.94 2.06.94-2.06 2.06-.94-2.06-.94-.94-2.06-.94 2.06-2.06.94zm-11 1L8.5 8.5l.94-2.06 2.06-.94-2.06-.94L8.5 2.5l-.94 2.06-2.06.94zm10 10l.94 2.06.94-2.06 2.06-.94-2.06-.94-.94-2.06-.94 2.06-2.06.94z\"/><path d=\"M17.41 7.96l-1.37-1.37c-.4-.4-.92-.59-1.43-.59-.52 0-1.04.2-1.43.59L10.3 9.45l-7.72 7.72c-.78.78-.78 2.05 0 2.83L4 21.41c.39.39.9.59 1.41.59.51 0 1.02-.2 1.41-.59l7.78-7.78 2.81-2.81c.8-.78.8-2.07 0-2.86zM5.41 20L4 18.59l7.72-7.72 1.47 1.35L5.41 20z\"/>\n",
              "  </svg>\n",
              "      </button>\n",
              "      \n",
              "  <style>\n",
              "    .colab-df-container {\n",
              "      display:flex;\n",
              "      flex-wrap:wrap;\n",
              "      gap: 12px;\n",
              "    }\n",
              "\n",
              "    .colab-df-convert {\n",
              "      background-color: #E8F0FE;\n",
              "      border: none;\n",
              "      border-radius: 50%;\n",
              "      cursor: pointer;\n",
              "      display: none;\n",
              "      fill: #1967D2;\n",
              "      height: 32px;\n",
              "      padding: 0 0 0 0;\n",
              "      width: 32px;\n",
              "    }\n",
              "\n",
              "    .colab-df-convert:hover {\n",
              "      background-color: #E2EBFA;\n",
              "      box-shadow: 0px 1px 2px rgba(60, 64, 67, 0.3), 0px 1px 3px 1px rgba(60, 64, 67, 0.15);\n",
              "      fill: #174EA6;\n",
              "    }\n",
              "\n",
              "    [theme=dark] .colab-df-convert {\n",
              "      background-color: #3B4455;\n",
              "      fill: #D2E3FC;\n",
              "    }\n",
              "\n",
              "    [theme=dark] .colab-df-convert:hover {\n",
              "      background-color: #434B5C;\n",
              "      box-shadow: 0px 1px 3px 1px rgba(0, 0, 0, 0.15);\n",
              "      filter: drop-shadow(0px 1px 2px rgba(0, 0, 0, 0.3));\n",
              "      fill: #FFFFFF;\n",
              "    }\n",
              "  </style>\n",
              "\n",
              "      <script>\n",
              "        const buttonEl =\n",
              "          document.querySelector('#df-91cb49a8-aa76-4d7e-9f60-b752a01fa282 button.colab-df-convert');\n",
              "        buttonEl.style.display =\n",
              "          google.colab.kernel.accessAllowed ? 'block' : 'none';\n",
              "\n",
              "        async function convertToInteractive(key) {\n",
              "          const element = document.querySelector('#df-91cb49a8-aa76-4d7e-9f60-b752a01fa282');\n",
              "          const dataTable =\n",
              "            await google.colab.kernel.invokeFunction('convertToInteractive',\n",
              "                                                     [key], {});\n",
              "          if (!dataTable) return;\n",
              "\n",
              "          const docLinkHtml = 'Like what you see? Visit the ' +\n",
              "            '<a target=\"_blank\" href=https://colab.research.google.com/notebooks/data_table.ipynb>data table notebook</a>'\n",
              "            + ' to learn more about interactive tables.';\n",
              "          element.innerHTML = '';\n",
              "          dataTable['output_type'] = 'display_data';\n",
              "          await google.colab.output.renderOutput(dataTable, element);\n",
              "          const docLink = document.createElement('div');\n",
              "          docLink.innerHTML = docLinkHtml;\n",
              "          element.appendChild(docLink);\n",
              "        }\n",
              "      </script>\n",
              "    </div>\n",
              "  </div>\n",
              "  "
            ]
          },
          "metadata": {},
          "execution_count": 105
        }
      ],
      "source": [
        "ANN_MODEL1=CosEu1[['CASRN','log_DPRA_mean','log_hCLAT_MIT']]\n",
        "ANN_MODEL1=ANN_MODEL1.set_index('CASRN')\n",
        "ANN_MODEL1['ANNmodel1_Set']=\"Test\"\n",
        "ANN_MODEL1=ANN_MODEL1.reset_index()\n",
        "ANN_MODEL1['test_pred']=iv\n",
        "ANN_MODEL1['Original_pred']=ip\n",
        "ANN_MODEL1=ANN_MODEL1.set_index('CASRN')\n",
        "ANN_MODEL1"
      ]
    },
    {
      "cell_type": "code",
      "source": [],
      "metadata": {
        "id": "ZKWsCouk6j6D"
      },
      "execution_count": null,
      "outputs": []
    },
    {
      "cell_type": "code",
      "execution_count": 106,
      "metadata": {
        "id": "g_-yV5v_SoZk",
        "colab": {
          "base_uri": "https://localhost:8080/",
          "height": 455
        },
        "outputId": "27dc0faf-8b9b-4342-dcea-c1e5372f01bc"
      },
      "outputs": [
        {
          "output_type": "execute_result",
          "data": {
            "text/plain": [
              "            log_DPRA_mean  log_hCLAT_MIT ANNmodel1_Set  test_pred  \\\n",
              "CASRN                                                               \n",
              "35691-65-7       1.808211       0.995635          Test   0.351431   \n",
              "149-30-4         1.687975       2.227887          Test   0.705440   \n",
              "104-55-2         1.755494       1.447158          Test   0.498930   \n",
              "137-26-8         1.725912       1.000000          Test   0.358353   \n",
              "69-72-7          1.089905       3.000000          Test   0.849841   \n",
              "...                   ...            ...           ...        ...   \n",
              "101-39-3         1.292256       2.143015          Test   0.706717   \n",
              "111-80-8         1.712650       2.282622          Test   0.715703   \n",
              "93-51-6          0.759668       2.447158          Test   0.783421   \n",
              "122-78-1         1.619771       1.431364          Test   0.503300   \n",
              "17369-59-4       1.351216       2.053078          Test   0.684283   \n",
              "\n",
              "            Original_pred       Res  \n",
              "CASRN                                \n",
              "35691-65-7       0.397942  0.002163  \n",
              "149-30-4         0.533533  0.029552  \n",
              "104-55-2         0.429271  0.004852  \n",
              "137-26-8         0.548805  0.036272  \n",
              "69-72-7          0.731119  0.014095  \n",
              "...                   ...       ...  \n",
              "101-39-3         0.603646  0.010624  \n",
              "111-80-8         0.528520  0.035037  \n",
              "93-51-6          0.631597  0.023050  \n",
              "122-78-1         0.609204  0.011216  \n",
              "17369-59-4       0.567820  0.013564  \n",
              "\n",
              "[107 rows x 6 columns]"
            ],
            "text/html": [
              "\n",
              "  <div id=\"df-1089d9fa-cf47-4ffc-89a4-3d1b4426ccab\">\n",
              "    <div class=\"colab-df-container\">\n",
              "      <div>\n",
              "<style scoped>\n",
              "    .dataframe tbody tr th:only-of-type {\n",
              "        vertical-align: middle;\n",
              "    }\n",
              "\n",
              "    .dataframe tbody tr th {\n",
              "        vertical-align: top;\n",
              "    }\n",
              "\n",
              "    .dataframe thead th {\n",
              "        text-align: right;\n",
              "    }\n",
              "</style>\n",
              "<table border=\"1\" class=\"dataframe\">\n",
              "  <thead>\n",
              "    <tr style=\"text-align: right;\">\n",
              "      <th></th>\n",
              "      <th>log_DPRA_mean</th>\n",
              "      <th>log_hCLAT_MIT</th>\n",
              "      <th>ANNmodel1_Set</th>\n",
              "      <th>test_pred</th>\n",
              "      <th>Original_pred</th>\n",
              "      <th>Res</th>\n",
              "    </tr>\n",
              "    <tr>\n",
              "      <th>CASRN</th>\n",
              "      <th></th>\n",
              "      <th></th>\n",
              "      <th></th>\n",
              "      <th></th>\n",
              "      <th></th>\n",
              "      <th></th>\n",
              "    </tr>\n",
              "  </thead>\n",
              "  <tbody>\n",
              "    <tr>\n",
              "      <th>35691-65-7</th>\n",
              "      <td>1.808211</td>\n",
              "      <td>0.995635</td>\n",
              "      <td>Test</td>\n",
              "      <td>0.351431</td>\n",
              "      <td>0.397942</td>\n",
              "      <td>0.002163</td>\n",
              "    </tr>\n",
              "    <tr>\n",
              "      <th>149-30-4</th>\n",
              "      <td>1.687975</td>\n",
              "      <td>2.227887</td>\n",
              "      <td>Test</td>\n",
              "      <td>0.705440</td>\n",
              "      <td>0.533533</td>\n",
              "      <td>0.029552</td>\n",
              "    </tr>\n",
              "    <tr>\n",
              "      <th>104-55-2</th>\n",
              "      <td>1.755494</td>\n",
              "      <td>1.447158</td>\n",
              "      <td>Test</td>\n",
              "      <td>0.498930</td>\n",
              "      <td>0.429271</td>\n",
              "      <td>0.004852</td>\n",
              "    </tr>\n",
              "    <tr>\n",
              "      <th>137-26-8</th>\n",
              "      <td>1.725912</td>\n",
              "      <td>1.000000</td>\n",
              "      <td>Test</td>\n",
              "      <td>0.358353</td>\n",
              "      <td>0.548805</td>\n",
              "      <td>0.036272</td>\n",
              "    </tr>\n",
              "    <tr>\n",
              "      <th>69-72-7</th>\n",
              "      <td>1.089905</td>\n",
              "      <td>3.000000</td>\n",
              "      <td>Test</td>\n",
              "      <td>0.849841</td>\n",
              "      <td>0.731119</td>\n",
              "      <td>0.014095</td>\n",
              "    </tr>\n",
              "    <tr>\n",
              "      <th>...</th>\n",
              "      <td>...</td>\n",
              "      <td>...</td>\n",
              "      <td>...</td>\n",
              "      <td>...</td>\n",
              "      <td>...</td>\n",
              "      <td>...</td>\n",
              "    </tr>\n",
              "    <tr>\n",
              "      <th>101-39-3</th>\n",
              "      <td>1.292256</td>\n",
              "      <td>2.143015</td>\n",
              "      <td>Test</td>\n",
              "      <td>0.706717</td>\n",
              "      <td>0.603646</td>\n",
              "      <td>0.010624</td>\n",
              "    </tr>\n",
              "    <tr>\n",
              "      <th>111-80-8</th>\n",
              "      <td>1.712650</td>\n",
              "      <td>2.282622</td>\n",
              "      <td>Test</td>\n",
              "      <td>0.715703</td>\n",
              "      <td>0.528520</td>\n",
              "      <td>0.035037</td>\n",
              "    </tr>\n",
              "    <tr>\n",
              "      <th>93-51-6</th>\n",
              "      <td>0.759668</td>\n",
              "      <td>2.447158</td>\n",
              "      <td>Test</td>\n",
              "      <td>0.783421</td>\n",
              "      <td>0.631597</td>\n",
              "      <td>0.023050</td>\n",
              "    </tr>\n",
              "    <tr>\n",
              "      <th>122-78-1</th>\n",
              "      <td>1.619771</td>\n",
              "      <td>1.431364</td>\n",
              "      <td>Test</td>\n",
              "      <td>0.503300</td>\n",
              "      <td>0.609204</td>\n",
              "      <td>0.011216</td>\n",
              "    </tr>\n",
              "    <tr>\n",
              "      <th>17369-59-4</th>\n",
              "      <td>1.351216</td>\n",
              "      <td>2.053078</td>\n",
              "      <td>Test</td>\n",
              "      <td>0.684283</td>\n",
              "      <td>0.567820</td>\n",
              "      <td>0.013564</td>\n",
              "    </tr>\n",
              "  </tbody>\n",
              "</table>\n",
              "<p>107 rows × 6 columns</p>\n",
              "</div>\n",
              "      <button class=\"colab-df-convert\" onclick=\"convertToInteractive('df-1089d9fa-cf47-4ffc-89a4-3d1b4426ccab')\"\n",
              "              title=\"Convert this dataframe to an interactive table.\"\n",
              "              style=\"display:none;\">\n",
              "        \n",
              "  <svg xmlns=\"http://www.w3.org/2000/svg\" height=\"24px\"viewBox=\"0 0 24 24\"\n",
              "       width=\"24px\">\n",
              "    <path d=\"M0 0h24v24H0V0z\" fill=\"none\"/>\n",
              "    <path d=\"M18.56 5.44l.94 2.06.94-2.06 2.06-.94-2.06-.94-.94-2.06-.94 2.06-2.06.94zm-11 1L8.5 8.5l.94-2.06 2.06-.94-2.06-.94L8.5 2.5l-.94 2.06-2.06.94zm10 10l.94 2.06.94-2.06 2.06-.94-2.06-.94-.94-2.06-.94 2.06-2.06.94z\"/><path d=\"M17.41 7.96l-1.37-1.37c-.4-.4-.92-.59-1.43-.59-.52 0-1.04.2-1.43.59L10.3 9.45l-7.72 7.72c-.78.78-.78 2.05 0 2.83L4 21.41c.39.39.9.59 1.41.59.51 0 1.02-.2 1.41-.59l7.78-7.78 2.81-2.81c.8-.78.8-2.07 0-2.86zM5.41 20L4 18.59l7.72-7.72 1.47 1.35L5.41 20z\"/>\n",
              "  </svg>\n",
              "      </button>\n",
              "      \n",
              "  <style>\n",
              "    .colab-df-container {\n",
              "      display:flex;\n",
              "      flex-wrap:wrap;\n",
              "      gap: 12px;\n",
              "    }\n",
              "\n",
              "    .colab-df-convert {\n",
              "      background-color: #E8F0FE;\n",
              "      border: none;\n",
              "      border-radius: 50%;\n",
              "      cursor: pointer;\n",
              "      display: none;\n",
              "      fill: #1967D2;\n",
              "      height: 32px;\n",
              "      padding: 0 0 0 0;\n",
              "      width: 32px;\n",
              "    }\n",
              "\n",
              "    .colab-df-convert:hover {\n",
              "      background-color: #E2EBFA;\n",
              "      box-shadow: 0px 1px 2px rgba(60, 64, 67, 0.3), 0px 1px 3px 1px rgba(60, 64, 67, 0.15);\n",
              "      fill: #174EA6;\n",
              "    }\n",
              "\n",
              "    [theme=dark] .colab-df-convert {\n",
              "      background-color: #3B4455;\n",
              "      fill: #D2E3FC;\n",
              "    }\n",
              "\n",
              "    [theme=dark] .colab-df-convert:hover {\n",
              "      background-color: #434B5C;\n",
              "      box-shadow: 0px 1px 3px 1px rgba(0, 0, 0, 0.15);\n",
              "      filter: drop-shadow(0px 1px 2px rgba(0, 0, 0, 0.3));\n",
              "      fill: #FFFFFF;\n",
              "    }\n",
              "  </style>\n",
              "\n",
              "      <script>\n",
              "        const buttonEl =\n",
              "          document.querySelector('#df-1089d9fa-cf47-4ffc-89a4-3d1b4426ccab button.colab-df-convert');\n",
              "        buttonEl.style.display =\n",
              "          google.colab.kernel.accessAllowed ? 'block' : 'none';\n",
              "\n",
              "        async function convertToInteractive(key) {\n",
              "          const element = document.querySelector('#df-1089d9fa-cf47-4ffc-89a4-3d1b4426ccab');\n",
              "          const dataTable =\n",
              "            await google.colab.kernel.invokeFunction('convertToInteractive',\n",
              "                                                     [key], {});\n",
              "          if (!dataTable) return;\n",
              "\n",
              "          const docLinkHtml = 'Like what you see? Visit the ' +\n",
              "            '<a target=\"_blank\" href=https://colab.research.google.com/notebooks/data_table.ipynb>data table notebook</a>'\n",
              "            + ' to learn more about interactive tables.';\n",
              "          element.innerHTML = '';\n",
              "          dataTable['output_type'] = 'display_data';\n",
              "          await google.colab.output.renderOutput(dataTable, element);\n",
              "          const docLink = document.createElement('div');\n",
              "          docLink.innerHTML = docLinkHtml;\n",
              "          element.appendChild(docLink);\n",
              "        }\n",
              "      </script>\n",
              "    </div>\n",
              "  </div>\n",
              "  "
            ]
          },
          "metadata": {},
          "execution_count": 106
        }
      ],
      "source": [
        "# Define a function to calculate res\n",
        "def my_calculation(df1, df2):\n",
        "    return (df1 - df2)**2\n",
        "\n",
        "ANN_MODEL1['Res'] = ANN_MODEL1.apply(lambda row: my_calculation(row['Original_pred'], row['test_pred']), axis=1)\n",
        "# Print the result\n",
        "ANN_MODEL1"
      ]
    },
    {
      "cell_type": "code",
      "execution_count": null,
      "metadata": {
        "id": "MLPndLObgf7Y"
      },
      "outputs": [],
      "source": [
        "RES=ANN_MODEL1[ANN_MODEL1['Res'] > 0.5]\n",
        "RES.sort_values(ascending=False,by='Res')"
      ]
    },
    {
      "cell_type": "code",
      "execution_count": 107,
      "metadata": {
        "id": "IvsCnCce-kbL"
      },
      "outputs": [],
      "source": [
        "#Add predictions to main merged dataset\n",
        "merge['Ewc_model_pred']=ANN_MODEL1['test_pred']\n",
        "merge['Ewc_model_pred']=merge['Ewc_model_pred'].replace(np.nan,'Neg')\n",
        "\n"
      ]
    },
    {
      "cell_type": "code",
      "execution_count": 108,
      "metadata": {
        "id": "qBTebzi7Kt3U",
        "colab": {
          "base_uri": "https://localhost:8080/"
        },
        "outputId": "cf01c12c-e535-418c-cd5b-dc3ab088a603"
      },
      "outputs": [
        {
          "output_type": "execute_result",
          "data": {
            "text/plain": [
              "CASRN\n",
              "110-54-3                                             NaN\n",
              "7493-74-5                                            NaN\n",
              "18127-01-0                                      0.616765\n",
              "1885-38-7                                       0.798163\n",
              "103-50-4                                        0.736774\n",
              "1335-66-6                                       0.701328\n",
              "68527-77-5                                      0.842969\n",
              "8022-96-6; 8024-43-9; 90045-94-6; 84776-64-7    0.846924\n",
              "91770-14-8                                      0.865400\n",
              "103694-68-4                                     0.779641\n",
              "68683-20-5                                      0.852915\n",
              "6/6/5462                                        0.734445\n",
              "1205-17-0                                       0.711611\n",
              "1604-28-0                                       0.730400\n",
              "127-51-5                                        0.670085\n",
              "54464-57-2                                      0.529508\n",
              "90028-68-5                                      0.622814\n",
              "90028-67-4                                      0.567804\n",
              "84650-60-2                                      0.731434\n",
              "8006-81-3; 68606-83-7;83863-30-3                0.644197\n",
              "100-51-6                                        0.868231\n",
              "103-41-3                                             NaN\n",
              "6728-26-3                                       0.449553\n",
              "6658-48-6                                       0.794433\n",
              "2111-75-3                                       0.648250\n",
              "101-39-3                                        0.706717\n",
              "111-80-8                                        0.715703\n",
              "93-51-6                                         0.783421\n",
              "122-78-1                                        0.503300\n",
              "17369-59-4                                      0.684283\n",
              "Name: Ewc_model_pred, dtype: float64"
            ]
          },
          "metadata": {},
          "execution_count": 108
        }
      ],
      "source": [
        "merge[\"EWC_Model1_Potency_Pred\"] =np.nan\n",
        "merge[\"EWC_Model1_Potency_Pred.3class\"] = np.nan\n",
        "merge['Ewc_model_pred'] = pd.to_numeric(merge['Ewc_model_pred'],errors='coerce')\n",
        "merge['Ewc_model_pred'].tail(30)"
      ]
    },
    {
      "cell_type": "code",
      "execution_count": 109,
      "metadata": {
        "id": "_ZueeeD7LtIq"
      },
      "outputs": [],
      "source": [
        "# apply the conditions and labels\n",
        "merge.loc[merge['Ewc_model_pred'] < (-1), \"EWC_Model1_Potency_Pred\" ] = 'Extreme'\n",
        "merge.loc[(merge['Ewc_model_pred'] >= (-1)) & (merge['Ewc_model_pred'] < 0), \"EWC_Model1_Potency_Pred\"] = 'Strong'\n",
        "merge.loc[(merge['Ewc_model_pred'] >= 0) & (merge['Ewc_model_pred'] < 1), \"EWC_Model1_Potency_Pred\"] = 'Moderate'\n",
        "merge.loc[merge['Ewc_model_pred'] >= 1, \"EWC_Model1_Potency_Pred\"] = 'Weak'\n",
        "merge.loc[merge['Ewc_model_pred'] >=np.nan, \"EWC_Model1_Potency_Pred\"] = 'Non'"
      ]
    },
    {
      "cell_type": "code",
      "source": [
        "merge[\"EWC_Model1_Potency_Pred\"].isnull().sum()"
      ],
      "metadata": {
        "colab": {
          "base_uri": "https://localhost:8080/"
        },
        "id": "4lrMihKlLjIl",
        "outputId": "b321c83a-f4d8-47be-d97d-570315452e63"
      },
      "execution_count": 110,
      "outputs": [
        {
          "output_type": "execute_result",
          "data": {
            "text/plain": [
              "20"
            ]
          },
          "metadata": {},
          "execution_count": 110
        }
      ]
    },
    {
      "cell_type": "code",
      "source": [
        "merge[\"EWC_Model1_Potency_Pred\"].unique()"
      ],
      "metadata": {
        "colab": {
          "base_uri": "https://localhost:8080/"
        },
        "id": "3G9FQhXnNmx4",
        "outputId": "910668e8-aed2-4192-c340-72b9d8f7337a"
      },
      "execution_count": 111,
      "outputs": [
        {
          "output_type": "execute_result",
          "data": {
            "text/plain": [
              "array(['Moderate', nan], dtype=object)"
            ]
          },
          "metadata": {},
          "execution_count": 111
        }
      ]
    },
    {
      "cell_type": "code",
      "source": [
        "merge[['Ewc_model_pred',\"EWC_Model1_Potency_Pred\"]]"
      ],
      "metadata": {
        "colab": {
          "base_uri": "https://localhost:8080/",
          "height": 455
        },
        "id": "PU6q8weFLA21",
        "outputId": "a142fb8b-88a0-4136-cf12-004cb1ba4182"
      },
      "execution_count": 112,
      "outputs": [
        {
          "output_type": "execute_result",
          "data": {
            "text/plain": [
              "            Ewc_model_pred EWC_Model1_Potency_Pred\n",
              "CASRN                                             \n",
              "35691-65-7        0.351431                Moderate\n",
              "149-30-4          0.705440                Moderate\n",
              "104-55-2          0.498930                Moderate\n",
              "137-26-8          0.358353                Moderate\n",
              "69-72-7           0.849841                Moderate\n",
              "...                    ...                     ...\n",
              "101-39-3          0.706717                Moderate\n",
              "111-80-8          0.715703                Moderate\n",
              "93-51-6           0.783421                Moderate\n",
              "122-78-1          0.503300                Moderate\n",
              "17369-59-4        0.684283                Moderate\n",
              "\n",
              "[127 rows x 2 columns]"
            ],
            "text/html": [
              "\n",
              "  <div id=\"df-3ed5ba00-9324-4087-9604-2c37ca7898f2\">\n",
              "    <div class=\"colab-df-container\">\n",
              "      <div>\n",
              "<style scoped>\n",
              "    .dataframe tbody tr th:only-of-type {\n",
              "        vertical-align: middle;\n",
              "    }\n",
              "\n",
              "    .dataframe tbody tr th {\n",
              "        vertical-align: top;\n",
              "    }\n",
              "\n",
              "    .dataframe thead th {\n",
              "        text-align: right;\n",
              "    }\n",
              "</style>\n",
              "<table border=\"1\" class=\"dataframe\">\n",
              "  <thead>\n",
              "    <tr style=\"text-align: right;\">\n",
              "      <th></th>\n",
              "      <th>Ewc_model_pred</th>\n",
              "      <th>EWC_Model1_Potency_Pred</th>\n",
              "    </tr>\n",
              "    <tr>\n",
              "      <th>CASRN</th>\n",
              "      <th></th>\n",
              "      <th></th>\n",
              "    </tr>\n",
              "  </thead>\n",
              "  <tbody>\n",
              "    <tr>\n",
              "      <th>35691-65-7</th>\n",
              "      <td>0.351431</td>\n",
              "      <td>Moderate</td>\n",
              "    </tr>\n",
              "    <tr>\n",
              "      <th>149-30-4</th>\n",
              "      <td>0.705440</td>\n",
              "      <td>Moderate</td>\n",
              "    </tr>\n",
              "    <tr>\n",
              "      <th>104-55-2</th>\n",
              "      <td>0.498930</td>\n",
              "      <td>Moderate</td>\n",
              "    </tr>\n",
              "    <tr>\n",
              "      <th>137-26-8</th>\n",
              "      <td>0.358353</td>\n",
              "      <td>Moderate</td>\n",
              "    </tr>\n",
              "    <tr>\n",
              "      <th>69-72-7</th>\n",
              "      <td>0.849841</td>\n",
              "      <td>Moderate</td>\n",
              "    </tr>\n",
              "    <tr>\n",
              "      <th>...</th>\n",
              "      <td>...</td>\n",
              "      <td>...</td>\n",
              "    </tr>\n",
              "    <tr>\n",
              "      <th>101-39-3</th>\n",
              "      <td>0.706717</td>\n",
              "      <td>Moderate</td>\n",
              "    </tr>\n",
              "    <tr>\n",
              "      <th>111-80-8</th>\n",
              "      <td>0.715703</td>\n",
              "      <td>Moderate</td>\n",
              "    </tr>\n",
              "    <tr>\n",
              "      <th>93-51-6</th>\n",
              "      <td>0.783421</td>\n",
              "      <td>Moderate</td>\n",
              "    </tr>\n",
              "    <tr>\n",
              "      <th>122-78-1</th>\n",
              "      <td>0.503300</td>\n",
              "      <td>Moderate</td>\n",
              "    </tr>\n",
              "    <tr>\n",
              "      <th>17369-59-4</th>\n",
              "      <td>0.684283</td>\n",
              "      <td>Moderate</td>\n",
              "    </tr>\n",
              "  </tbody>\n",
              "</table>\n",
              "<p>127 rows × 2 columns</p>\n",
              "</div>\n",
              "      <button class=\"colab-df-convert\" onclick=\"convertToInteractive('df-3ed5ba00-9324-4087-9604-2c37ca7898f2')\"\n",
              "              title=\"Convert this dataframe to an interactive table.\"\n",
              "              style=\"display:none;\">\n",
              "        \n",
              "  <svg xmlns=\"http://www.w3.org/2000/svg\" height=\"24px\"viewBox=\"0 0 24 24\"\n",
              "       width=\"24px\">\n",
              "    <path d=\"M0 0h24v24H0V0z\" fill=\"none\"/>\n",
              "    <path d=\"M18.56 5.44l.94 2.06.94-2.06 2.06-.94-2.06-.94-.94-2.06-.94 2.06-2.06.94zm-11 1L8.5 8.5l.94-2.06 2.06-.94-2.06-.94L8.5 2.5l-.94 2.06-2.06.94zm10 10l.94 2.06.94-2.06 2.06-.94-2.06-.94-.94-2.06-.94 2.06-2.06.94z\"/><path d=\"M17.41 7.96l-1.37-1.37c-.4-.4-.92-.59-1.43-.59-.52 0-1.04.2-1.43.59L10.3 9.45l-7.72 7.72c-.78.78-.78 2.05 0 2.83L4 21.41c.39.39.9.59 1.41.59.51 0 1.02-.2 1.41-.59l7.78-7.78 2.81-2.81c.8-.78.8-2.07 0-2.86zM5.41 20L4 18.59l7.72-7.72 1.47 1.35L5.41 20z\"/>\n",
              "  </svg>\n",
              "      </button>\n",
              "      \n",
              "  <style>\n",
              "    .colab-df-container {\n",
              "      display:flex;\n",
              "      flex-wrap:wrap;\n",
              "      gap: 12px;\n",
              "    }\n",
              "\n",
              "    .colab-df-convert {\n",
              "      background-color: #E8F0FE;\n",
              "      border: none;\n",
              "      border-radius: 50%;\n",
              "      cursor: pointer;\n",
              "      display: none;\n",
              "      fill: #1967D2;\n",
              "      height: 32px;\n",
              "      padding: 0 0 0 0;\n",
              "      width: 32px;\n",
              "    }\n",
              "\n",
              "    .colab-df-convert:hover {\n",
              "      background-color: #E2EBFA;\n",
              "      box-shadow: 0px 1px 2px rgba(60, 64, 67, 0.3), 0px 1px 3px 1px rgba(60, 64, 67, 0.15);\n",
              "      fill: #174EA6;\n",
              "    }\n",
              "\n",
              "    [theme=dark] .colab-df-convert {\n",
              "      background-color: #3B4455;\n",
              "      fill: #D2E3FC;\n",
              "    }\n",
              "\n",
              "    [theme=dark] .colab-df-convert:hover {\n",
              "      background-color: #434B5C;\n",
              "      box-shadow: 0px 1px 3px 1px rgba(0, 0, 0, 0.15);\n",
              "      filter: drop-shadow(0px 1px 2px rgba(0, 0, 0, 0.3));\n",
              "      fill: #FFFFFF;\n",
              "    }\n",
              "  </style>\n",
              "\n",
              "      <script>\n",
              "        const buttonEl =\n",
              "          document.querySelector('#df-3ed5ba00-9324-4087-9604-2c37ca7898f2 button.colab-df-convert');\n",
              "        buttonEl.style.display =\n",
              "          google.colab.kernel.accessAllowed ? 'block' : 'none';\n",
              "\n",
              "        async function convertToInteractive(key) {\n",
              "          const element = document.querySelector('#df-3ed5ba00-9324-4087-9604-2c37ca7898f2');\n",
              "          const dataTable =\n",
              "            await google.colab.kernel.invokeFunction('convertToInteractive',\n",
              "                                                     [key], {});\n",
              "          if (!dataTable) return;\n",
              "\n",
              "          const docLinkHtml = 'Like what you see? Visit the ' +\n",
              "            '<a target=\"_blank\" href=https://colab.research.google.com/notebooks/data_table.ipynb>data table notebook</a>'\n",
              "            + ' to learn more about interactive tables.';\n",
              "          element.innerHTML = '';\n",
              "          dataTable['output_type'] = 'display_data';\n",
              "          await google.colab.output.renderOutput(dataTable, element);\n",
              "          const docLink = document.createElement('div');\n",
              "          docLink.innerHTML = docLinkHtml;\n",
              "          element.appendChild(docLink);\n",
              "        }\n",
              "      </script>\n",
              "    </div>\n",
              "  </div>\n",
              "  "
            ]
          },
          "metadata": {},
          "execution_count": 112
        }
      ]
    },
    {
      "cell_type": "code",
      "execution_count": 113,
      "metadata": {
        "id": "rNK0gD9fMQsH"
      },
      "outputs": [],
      "source": [
        "# create the new column and set the initial values\n",
        "merge[\"EWC_Model1_Potency_Pred.3class\"] = merge[\"EWC_Model1_Potency_Pred\"]\n",
        "# apply the conditions and labels\n",
        "merge.loc[merge[\"EWC_Model1_Potency_Pred\"] == \"Extreme\", \"EWC_Model1_Potency_Pred.3class\"] = \"Strong\"\n",
        "merge.loc[merge[\"EWC_Model1_Potency_Pred\"] == \"Moderate\", \"EWC_Model1_Potency_Pred.3class\"] = \"Weak\"\n",
        "\n",
        "# convert the column to a categorical variable with the specified levels\n",
        "merge[\"EWC_Model1_Potency_Pred.3class\"] = pd.Categorical(merge[\"EWC_Model1_Potency_Pred.3class\"], categories=[\"Non\", \"Weak\", \"Strong\"])"
      ]
    },
    {
      "cell_type": "code",
      "execution_count": 114,
      "metadata": {
        "id": "l0OAeB5gNVlg"
      },
      "outputs": [],
      "source": [
        "# create the new column and set the initial values\n",
        "merge['EWC_Model1_Call'] = pd.NA\n",
        "# apply the conditions and labels\n",
        "merge.loc[merge[\"EWC_Model1_Potency_Pred\"].notnull(), 'EWC_Model1_Call'] = 1\n",
        "merge.loc[merge[\"EWC_Model1_Potency_Pred\"].isnull(), 'EWC_Model1_Call'] = 0"
      ]
    },
    {
      "cell_type": "code",
      "source": [
        "merge['EWC_Model1_Call'].head()"
      ],
      "metadata": {
        "colab": {
          "base_uri": "https://localhost:8080/"
        },
        "id": "Kz-tG_CjPYsl",
        "outputId": "be2d26ef-2bfa-4a76-9cde-4f48bd1443de"
      },
      "execution_count": 115,
      "outputs": [
        {
          "output_type": "execute_result",
          "data": {
            "text/plain": [
              "CASRN\n",
              "35691-65-7    1\n",
              "149-30-4      1\n",
              "104-55-2      1\n",
              "137-26-8      1\n",
              "69-72-7       1\n",
              "Name: EWC_Model1_Call, dtype: object"
            ]
          },
          "metadata": {},
          "execution_count": 115
        }
      ]
    },
    {
      "cell_type": "code",
      "execution_count": 116,
      "metadata": {
        "id": "mtEQakuOqZ1A"
      },
      "outputs": [],
      "source": [
        "merge['EWC_Model1_Call'] = pd.factorize(merge['EWC_Model1_Call'])[0]"
      ]
    },
    {
      "cell_type": "code",
      "source": [
        "merge['EWC_Model1_Call'] = merge['EWC_Model1_Call'].astype('int64')"
      ],
      "metadata": {
        "id": "330Oz7r-Su3p"
      },
      "execution_count": 117,
      "outputs": []
    },
    {
      "cell_type": "code",
      "execution_count": 118,
      "metadata": {
        "id": "20MKuInEnnHz"
      },
      "outputs": [],
      "source": [
        "merge['EWC_Model1_Potency_Pred.3class']=merge['EWC_Model1_Potency_Pred.3class'].fillna('Non')"
      ]
    },
    {
      "cell_type": "code",
      "source": [
        "merge['EWC_Model1_Potency_Pred.3class'].unique()"
      ],
      "metadata": {
        "colab": {
          "base_uri": "https://localhost:8080/"
        },
        "id": "T1ih1_CkVdzq",
        "outputId": "6a971b00-25b8-402c-9ede-8cfc3ebe3cf5"
      },
      "execution_count": 119,
      "outputs": [
        {
          "output_type": "execute_result",
          "data": {
            "text/plain": [
              "['Weak', 'Non']\n",
              "Categories (3, object): ['Non', 'Weak', 'Strong']"
            ]
          },
          "metadata": {},
          "execution_count": 119
        }
      ]
    },
    {
      "cell_type": "code",
      "source": [
        "merge['LLNApotency3classMNC'].tail()"
      ],
      "metadata": {
        "colab": {
          "base_uri": "https://localhost:8080/"
        },
        "id": "INpHTQGVVm7U",
        "outputId": "a9eb2026-8961-42d8-8d01-c16769614108"
      },
      "execution_count": 120,
      "outputs": [
        {
          "output_type": "execute_result",
          "data": {
            "text/plain": [
              "CASRN\n",
              "101-39-3      Weak\n",
              "111-80-8      Weak\n",
              "93-51-6       Weak\n",
              "122-78-1      Weak\n",
              "17369-59-4    Weak\n",
              "Name: LLNApotency3classMNC, dtype: category\n",
              "Categories (3, object): ['Non', 'Weak', 'Strong']"
            ]
          },
          "metadata": {},
          "execution_count": 120
        }
      ]
    },
    {
      "cell_type": "code",
      "source": [
        "merge['humanpotency3class'].tail()"
      ],
      "metadata": {
        "colab": {
          "base_uri": "https://localhost:8080/"
        },
        "id": "O5eyvqWeWAin",
        "outputId": "2cf80285-8d9e-480a-c8d9-8cbec40431bc"
      },
      "execution_count": 121,
      "outputs": [
        {
          "output_type": "execute_result",
          "data": {
            "text/plain": [
              "CASRN\n",
              "101-39-3        Weak\n",
              "111-80-8      Strong\n",
              "93-51-6       Strong\n",
              "122-78-1        Weak\n",
              "17369-59-4      Weak\n",
              "Name: humanpotency3class, dtype: object"
            ]
          },
          "metadata": {},
          "execution_count": 121
        }
      ]
    },
    {
      "cell_type": "code",
      "execution_count": 122,
      "metadata": {
        "id": "AOrCceXffguy",
        "colab": {
          "base_uri": "https://localhost:8080/",
          "height": 364
        },
        "outputId": "a3f506fe-6f22-47c7-d971-55811f07fa12"
      },
      "outputs": [
        {
          "output_type": "execute_result",
          "data": {
            "text/plain": [
              "<matplotlib.axes._subplots.AxesSubplot at 0x7fe2cadeb610>"
            ]
          },
          "metadata": {},
          "execution_count": 122
        },
        {
          "output_type": "display_data",
          "data": {
            "text/plain": [
              "<Figure size 576x396 with 2 Axes>"
            ],
            "image/png": "[encoded data removed]"
          },
          "metadata": {}
        }
      ],
      "source": [
        "#binary class accuracy for LLNA data\n",
        "import pandas as pd\n",
        "from sklearn.metrics import confusion_matrix\n",
        "# create the confusion matrix\n",
        "cm=confusion_matrix(merge['EWC_Model1_Call'], merge['LLNACallMNC'], labels=[1,0])\n",
        "import seaborn as sns\n",
        "sns.heatmap(cm, annot=True, fmt='d')"
      ]
    },
    {
      "cell_type": "code",
      "execution_count": 83,
      "metadata": {
        "id": "C-z8N389dQMJ",
        "colab": {
          "base_uri": "https://localhost:8080/",
          "height": 364
        },
        "outputId": "139aae23-1f09-4325-bafc-0bf5a93a90d0"
      },
      "outputs": [
        {
          "output_type": "execute_result",
          "data": {
            "text/plain": [
              "<matplotlib.axes._subplots.AxesSubplot at 0x7fe2caf7caf0>"
            ]
          },
          "metadata": {},
          "execution_count": 83
        },
        {
          "output_type": "display_data",
          "data": {
            "text/plain": [
              "<Figure size 576x396 with 2 Axes>"
            ],
            "image/png": "[encoded data removed]"
          },
          "metadata": {}
        }
      ],
      "source": [
        "\n",
        "# Binary Class accuracy usisng human data\n",
        "hm=confusion_matrix(merge['EWC_Model1_Call'], merge['humanCall'], labels=[1,0])\n",
        "sns.heatmap(hm, annot=True, fmt='d')"
      ]
    },
    {
      "cell_type": "code",
      "execution_count": 84,
      "metadata": {
        "id": "Hq6vw76noUjd",
        "colab": {
          "base_uri": "https://localhost:8080/",
          "height": 364
        },
        "outputId": "80b982cb-a637-44b2-804a-a0f505d48eae"
      },
      "outputs": [
        {
          "output_type": "execute_result",
          "data": {
            "text/plain": [
              "<matplotlib.axes._subplots.AxesSubplot at 0x7fe2cadb67f0>"
            ]
          },
          "metadata": {},
          "execution_count": 84
        },
        {
          "output_type": "display_data",
          "data": {
            "text/plain": [
              "<Figure size 576x396 with 2 Axes>"
            ],
            "image/png": "[encoded data removed]"
          },
          "metadata": {}
        }
      ],
      "source": [
        "#three class accuracy using LLNA data\n",
        "# convert the columns to categorical variables with the specified levels\n",
        "merge['LLNApotency3classMNC'] = pd.Categorical(merge['LLNApotency3classMNC'], categories=[\"Non\", \"Weak\", \"Strong\"])\n",
        "merge['EWC_Model1_Potency_Pred.3class'] = pd.Categorical(merge['EWC_Model1_Potency_Pred.3class'], categories=[\"Non\", \"Weak\", \"Strong\"])\n",
        "\n",
        "# create the confusion matrix\n",
        "cl_llna3=confusion_matrix(merge['EWC_Model1_Potency_Pred.3class'], merge['LLNApotency3classMNC'], labels=[\"Non\", \"Weak\", \"Strong\"])\n",
        "sns.heatmap(cl_llna3, annot=True, fmt='d')"
      ]
    },
    {
      "cell_type": "code",
      "execution_count": 85,
      "metadata": {
        "id": "XgZvuAF4enW0",
        "colab": {
          "base_uri": "https://localhost:8080/",
          "height": 364
        },
        "outputId": "cb58b316-9b22-424d-d325-505d2be5211f"
      },
      "outputs": [
        {
          "output_type": "execute_result",
          "data": {
            "text/plain": [
              "<matplotlib.axes._subplots.AxesSubplot at 0x7fe2cae21a00>"
            ]
          },
          "metadata": {},
          "execution_count": 85
        },
        {
          "output_type": "display_data",
          "data": {
            "text/plain": [
              "<Figure size 576x396 with 2 Axes>"
            ],
            "image/png": "[encoded data removed]"
          },
          "metadata": {}
        }
      ],
      "source": [
        "# create the confusion matrix for 3 class potency and human data \n",
        "cl_hm3=confusion_matrix(merge['EWC_Model1_Potency_Pred.3class'], merge['humanpotency3class'], labels=[\"Non\", \"Weak\", \"Strong\"])\n",
        "sns.heatmap(cl_hm3, annot=True, fmt='d')"
      ]
    },
    {
      "cell_type": "code",
      "source": [
        "import pickle"
      ],
      "metadata": {
        "id": "1WVZaj8sL_pf"
      },
      "execution_count": 99,
      "outputs": []
    },
    {
      "cell_type": "code",
      "execution_count": null,
      "metadata": {
        "id": "ZbpyjAWowzNL"
      },
      "outputs": [],
      "source": [
        "ANN_MODEL1.to_csv('EWC_DPRA_HCLAT.csv')\n"
      ]
    },
    {
      "cell_type": "code",
      "execution_count": null,
      "metadata": {
        "id": "S9X1eyVUZmsm"
      },
      "outputs": [],
      "source": [
        "data_to_excel=pd.ExcelWriter('New_CosEUdata.xlsx')\n",
        "CosEu.to_excel(data_to_excel)\n",
        "data_to_excel.save()"
      ]
    },
    {
      "cell_type": "code",
      "execution_count": null,
      "metadata": {
        "id": "Mptgb4zCeRTK"
      },
      "outputs": [],
      "source": [
        "list(merge.columns)"
      ]
    },
    {
      "cell_type": "code",
      "execution_count": null,
      "metadata": {
        "id": "gMhdzsgXgHY6"
      },
      "outputs": [],
      "source": [
        "# Create a dataframe with ypred and ytest as columns\n",
        "df = pd.DataFrame({'ypred': ypred, 'ytest': ytest})\n",
        "\n",
        "# Calculate the cross-tabulation of ypred and ytest\n",
        "ct = pd.crosstab(df['ypred'], df['ytest'])\n",
        "\n",
        "#  correlation coefficient\n",
        "corr = ct.corr().iloc[0,1]\n",
        "\n",
        "#  covariance\n",
        "cov = ct.cov().iloc[0,1]\n",
        "\n",
        "print(f'Correlation coefficient: {corr}')\n",
        "print(f'Covariance: {cov}')"
      ]
    }
  ],
  "metadata": {
    "colab": {
      "provenance": [],
      "authorship_tag": "ABX9TyPACs6/rkxsRh0D9Dlsl/Ut",
      "include_colab_link": true
    },
    "kernelspec": {
      "display_name": "Python 3",
      "name": "python3"
    },
    "language_info": {
      "name": "python"
    }
  },
  "nbformat": 4,
  "nbformat_minor": 0
}